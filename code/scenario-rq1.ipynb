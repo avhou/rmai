{
  "cells": [
    {
      "cell_type": "markdown",
      "source": [
        "rq 1 : train yolo using dawn images, and evaluate against dawn images"
      ],
      "metadata": {
        "id": "43LsT5eQNTm2"
      },
      "id": "43LsT5eQNTm2"
    },
    {
      "cell_type": "code",
      "execution_count": 1,
      "id": "initial_id",
      "metadata": {
        "collapsed": true,
        "colab": {
          "base_uri": "https://localhost:8080/"
        },
        "id": "initial_id",
        "outputId": "a4e5eb72-b85b-44e0-83ea-571d2e290ef6"
      },
      "outputs": [
        {
          "output_type": "stream",
          "name": "stdout",
          "text": [
            "Fri Dec 22 14:50:34 2023       \n",
            "+---------------------------------------------------------------------------------------+\n",
            "| NVIDIA-SMI 535.104.05             Driver Version: 535.104.05   CUDA Version: 12.2     |\n",
            "|-----------------------------------------+----------------------+----------------------+\n",
            "| GPU  Name                 Persistence-M | Bus-Id        Disp.A | Volatile Uncorr. ECC |\n",
            "| Fan  Temp   Perf          Pwr:Usage/Cap |         Memory-Usage | GPU-Util  Compute M. |\n",
            "|                                         |                      |               MIG M. |\n",
            "|=========================================+======================+======================|\n",
            "|   0  Tesla T4                       Off | 00000000:00:04.0 Off |                    0 |\n",
            "| N/A   55C    P8              10W /  70W |      0MiB / 15360MiB |      0%      Default |\n",
            "|                                         |                      |                  N/A |\n",
            "+-----------------------------------------+----------------------+----------------------+\n",
            "                                                                                         \n",
            "+---------------------------------------------------------------------------------------+\n",
            "| Processes:                                                                            |\n",
            "|  GPU   GI   CI        PID   Type   Process name                            GPU Memory |\n",
            "|        ID   ID                                                             Usage      |\n",
            "|=======================================================================================|\n",
            "|  No running processes found                                                           |\n",
            "+---------------------------------------------------------------------------------------+\n"
          ]
        }
      ],
      "source": [
        "# check if gpu is enabled\n",
        "!nvidia-smi"
      ]
    },
    {
      "cell_type": "code",
      "source": [
        "from google.colab import drive\n",
        "drive.mount('/content/gdrive')\n",
        "!ln -s /content/gdrive/My\\ Drive/datasets /datasets\n",
        "!ls -ahl /datasets\n",
        "!unzip /datasets/dawn.zip -d /datasets\n",
        "!ls -ahl /datasets/dawn"
      ],
      "metadata": {
        "colab": {
          "base_uri": "https://localhost:8080/"
        },
        "id": "YxO1iZ8qNn1B",
        "outputId": "9830682a-0474-422f-f937-014bb4fdc397"
      },
      "id": "YxO1iZ8qNn1B",
      "execution_count": 4,
      "outputs": [
        {
          "output_type": "stream",
          "name": "stdout",
          "text": [
            "Drive already mounted at /content/gdrive; to attempt to forcibly remount, call drive.mount(\"/content/gdrive\", force_remount=True).\n",
            "ln: failed to create symbolic link '/datasets/datasets': File exists\n",
            "lrwxrwxrwx 1 root root 33 Dec 22 14:50 /datasets -> '/content/gdrive/My Drive/datasets'\n",
            "Archive:  /datasets/dawn.zip\n",
            "  inflating: /datasets/dawn/dawn-train-dataset.yml  \n",
            "  inflating: /datasets/dawn/dawn-train-dataset-colab.yml  \n",
            "   creating: /datasets/dawn/test-dataset/\n",
            "  inflating: /datasets/dawn/test-dataset/image0006.txt  \n",
            "  inflating: /datasets/dawn/test-dataset/image0012.txt  \n",
            "  inflating: /datasets/dawn/test-dataset/image0070.jpg  \n",
            "  inflating: /datasets/dawn/test-dataset/image0064.jpg  \n",
            "  inflating: /datasets/dawn/test-dataset/image0058.jpg  \n",
            "  inflating: /datasets/dawn/test-dataset/image0059.jpg  \n",
            "  inflating: /datasets/dawn/test-dataset/image0065.jpg  \n",
            "  inflating: /datasets/dawn/test-dataset/image0071.jpg  \n",
            "  inflating: /datasets/dawn/test-dataset/image0013.txt  \n",
            "  inflating: /datasets/dawn/test-dataset/image0007.txt  \n",
            "  inflating: /datasets/dawn/test-dataset/image0039.txt  \n",
            "  inflating: /datasets/dawn/test-dataset/image0011.txt  \n",
            "  inflating: /datasets/dawn/test-dataset/image0005.txt  \n",
            "  inflating: /datasets/dawn/test-dataset/image0098.jpg  \n",
            "  inflating: /datasets/dawn/test-dataset/image0067.jpg  \n",
            "  inflating: /datasets/dawn/test-dataset/image0073.jpg  \n",
            "  inflating: /datasets/dawn/test-dataset/image0072.jpg  \n",
            "  inflating: /datasets/dawn/test-dataset/image0066.jpg  \n",
            "  inflating: /datasets/dawn/test-dataset/image0004.txt  \n",
            "  inflating: /datasets/dawn/test-dataset/image0010.txt  \n",
            "  inflating: /datasets/dawn/test-dataset/image0038.txt  \n",
            "  inflating: /datasets/dawn/test-dataset/image0014.txt  \n",
            "  inflating: /datasets/dawn/test-dataset/image0028.txt  \n",
            "  inflating: /datasets/dawn/test-dataset/image0089.jpg  \n",
            "  inflating: /datasets/dawn/test-dataset/image0062.jpg  \n",
            "  inflating: /datasets/dawn/test-dataset/image0076.jpg  \n",
            "  inflating: /datasets/dawn/test-dataset/image0077.jpg  \n",
            "  inflating: /datasets/dawn/test-dataset/image0063.jpg  \n",
            "  inflating: /datasets/dawn/test-dataset/image0088.jpg  \n",
            "  inflating: /datasets/dawn/test-dataset/image0029.txt  \n",
            "  inflating: /datasets/dawn/test-dataset/image0001.txt  \n",
            "  inflating: /datasets/dawn/test-dataset/image0015.txt  \n",
            "  inflating: /datasets/dawn/test-dataset/image0003.txt  \n",
            "  inflating: /datasets/dawn/test-dataset/image0017.txt  \n",
            "  inflating: /datasets/dawn/test-dataset/image0049.jpg  \n",
            "  inflating: /datasets/dawn/test-dataset/image0075.jpg  \n",
            "  inflating: /datasets/dawn/test-dataset/image0061.jpg  \n",
            "  inflating: /datasets/dawn/test-dataset/image0060.jpg  \n",
            "  inflating: /datasets/dawn/test-dataset/image0074.jpg  \n",
            "  inflating: /datasets/dawn/test-dataset/image0048.jpg  \n",
            "  inflating: /datasets/dawn/test-dataset/image0016.txt  \n",
            "  inflating: /datasets/dawn/test-dataset/image0002.txt  \n",
            "  inflating: /datasets/dawn/test-dataset/image0059.txt  \n",
            "  inflating: /datasets/dawn/test-dataset/image0065.txt  \n",
            "  inflating: /datasets/dawn/test-dataset/image0071.txt  \n",
            "  inflating: /datasets/dawn/test-dataset/image0013.jpg  \n",
            "  inflating: /datasets/dawn/test-dataset/image0007.jpg  \n",
            "  inflating: /datasets/dawn/test-dataset/image0006.jpg  \n",
            "  inflating: /datasets/dawn/test-dataset/image0012.jpg  \n",
            "  inflating: /datasets/dawn/test-dataset/image0070.txt  \n",
            "  inflating: /datasets/dawn/test-dataset/image0064.txt  \n",
            "  inflating: /datasets/dawn/test-dataset/image0058.txt  \n",
            "  inflating: /datasets/dawn/test-dataset/image0072.txt  \n",
            "  inflating: /datasets/dawn/test-dataset/image0066.txt  \n",
            "  inflating: /datasets/dawn/test-dataset/image0004.jpg  \n",
            "  inflating: /datasets/dawn/test-dataset/image0010.jpg  \n",
            "  inflating: /datasets/dawn/test-dataset/image0038.jpg  \n",
            "  inflating: /datasets/dawn/test-dataset/image0039.jpg  \n",
            "  inflating: /datasets/dawn/test-dataset/image0011.jpg  \n",
            "  inflating: /datasets/dawn/test-dataset/image0005.jpg  \n",
            "  inflating: /datasets/dawn/test-dataset/image0067.txt  \n",
            "  inflating: /datasets/dawn/test-dataset/image0073.txt  \n",
            "  inflating: /datasets/dawn/test-dataset/image0098.txt  \n",
            "  inflating: /datasets/dawn/test-dataset/image0088.txt  \n",
            "  inflating: /datasets/dawn/test-dataset/image0077.txt  \n",
            "  inflating: /datasets/dawn/test-dataset/image0063.txt  \n",
            "  inflating: /datasets/dawn/test-dataset/image0029.jpg  \n",
            "  inflating: /datasets/dawn/test-dataset/image0001.jpg  \n",
            "  inflating: /datasets/dawn/test-dataset/image0015.jpg  \n",
            "  inflating: /datasets/dawn/test-dataset/image0014.jpg  \n",
            "  inflating: /datasets/dawn/test-dataset/image0028.jpg  \n",
            "  inflating: /datasets/dawn/test-dataset/image0062.txt  \n",
            "  inflating: /datasets/dawn/test-dataset/image0076.txt  \n",
            "  inflating: /datasets/dawn/test-dataset/image0089.txt  \n",
            "  inflating: /datasets/dawn/test-dataset/image0060.txt  \n",
            "  inflating: /datasets/dawn/test-dataset/image0074.txt  \n",
            "  inflating: /datasets/dawn/test-dataset/image0048.txt  \n",
            "  inflating: /datasets/dawn/test-dataset/image0016.jpg  \n",
            "  inflating: /datasets/dawn/test-dataset/image0002.jpg  \n",
            "  inflating: /datasets/dawn/test-dataset/image0003.jpg  \n",
            "  inflating: /datasets/dawn/test-dataset/image0017.jpg  \n",
            "  inflating: /datasets/dawn/test-dataset/image0049.txt  \n",
            "  inflating: /datasets/dawn/test-dataset/image0075.txt  \n",
            "  inflating: /datasets/dawn/test-dataset/image0061.txt  \n",
            "  inflating: /datasets/dawn/test-dataset/image0087.txt  \n",
            "  inflating: /datasets/dawn/test-dataset/image0093.txt  \n",
            "  inflating: /datasets/dawn/test-dataset/image0078.txt  \n",
            "  inflating: /datasets/dawn/test-dataset/image0044.txt  \n",
            "  inflating: /datasets/dawn/test-dataset/image0050.txt  \n",
            "  inflating: /datasets/dawn/test-dataset/image0032.jpg  \n",
            "  inflating: /datasets/dawn/test-dataset/image0026.jpg  \n",
            "  inflating: /datasets/dawn/test-dataset/image0027.jpg  \n",
            "  inflating: /datasets/dawn/test-dataset/image0033.jpg  \n",
            "  inflating: /datasets/dawn/test-dataset/image0051.txt  \n",
            "  inflating: /datasets/dawn/test-dataset/image0045.txt  \n",
            "  inflating: /datasets/dawn/test-dataset/image0079.txt  \n",
            "  inflating: /datasets/dawn/test-dataset/image0092.txt  \n",
            "  inflating: /datasets/dawn/test-dataset/image0086.txt  \n",
            "  inflating: /datasets/dawn/test-dataset/image0090.txt  \n",
            "  inflating: /datasets/dawn/test-dataset/image0084.txt  \n",
            "  inflating: /datasets/dawn/test-dataset/image0053.txt  \n",
            "  inflating: /datasets/dawn/test-dataset/image0047.txt  \n",
            "  inflating: /datasets/dawn/test-dataset/image0025.jpg  \n",
            "  inflating: /datasets/dawn/test-dataset/image0031.jpg  \n",
            "  inflating: /datasets/dawn/test-dataset/image0019.jpg  \n",
            "  inflating: /datasets/dawn/test-dataset/image0018.jpg  \n",
            "  inflating: /datasets/dawn/test-dataset/image0030.jpg  \n",
            "  inflating: /datasets/dawn/test-dataset/image0024.jpg  \n",
            "  inflating: /datasets/dawn/test-dataset/image0046.txt  \n",
            "  inflating: /datasets/dawn/test-dataset/image0052.txt  \n",
            "  inflating: /datasets/dawn/test-dataset/image0085.txt  \n",
            "  inflating: /datasets/dawn/test-dataset/image0091.txt  \n",
            "  inflating: /datasets/dawn/test-dataset/image0095.txt  \n",
            "  inflating: /datasets/dawn/test-dataset/image0081.txt  \n",
            "  inflating: /datasets/dawn/test-dataset/image0056.txt  \n",
            "  inflating: /datasets/dawn/test-dataset/image0042.txt  \n",
            "  inflating: /datasets/dawn/test-dataset/image0008.jpg  \n",
            "  inflating: /datasets/dawn/test-dataset/image0020.jpg  \n",
            "  inflating: /datasets/dawn/test-dataset/image0034.jpg  \n",
            "  inflating: /datasets/dawn/test-dataset/image0035.jpg  \n",
            "  inflating: /datasets/dawn/test-dataset/image0021.jpg  \n",
            "  inflating: /datasets/dawn/test-dataset/image0009.jpg  \n",
            "  inflating: /datasets/dawn/test-dataset/image0043.txt  \n",
            "  inflating: /datasets/dawn/test-dataset/image0057.txt  \n",
            "  inflating: /datasets/dawn/test-dataset/image0080.txt  \n",
            "  inflating: /datasets/dawn/test-dataset/image0094.txt  \n",
            "  inflating: /datasets/dawn/test-dataset/image0082.txt  \n",
            "  inflating: /datasets/dawn/test-dataset/image0096.txt  \n",
            "  inflating: /datasets/dawn/test-dataset/image0041.txt  \n",
            "  inflating: /datasets/dawn/test-dataset/image0055.txt  \n",
            "  inflating: /datasets/dawn/test-dataset/image0069.txt  \n",
            "  inflating: /datasets/dawn/test-dataset/image0037.jpg  \n",
            "  inflating: /datasets/dawn/test-dataset/image0023.jpg  \n",
            "  inflating: /datasets/dawn/test-dataset/image0022.jpg  \n",
            "  inflating: /datasets/dawn/test-dataset/image0036.jpg  \n",
            "  inflating: /datasets/dawn/test-dataset/image0068.txt  \n",
            "  inflating: /datasets/dawn/test-dataset/image0054.txt  \n",
            "  inflating: /datasets/dawn/test-dataset/image0040.txt  \n",
            "  inflating: /datasets/dawn/test-dataset/image0097.txt  \n",
            "  inflating: /datasets/dawn/test-dataset/image0083.txt  \n",
            "  inflating: /datasets/dawn/test-dataset/image0027.txt  \n",
            "  inflating: /datasets/dawn/test-dataset/image0033.txt  \n",
            "  inflating: /datasets/dawn/test-dataset/image0092.jpg  \n",
            "  inflating: /datasets/dawn/test-dataset/image0086.jpg  \n",
            "  inflating: /datasets/dawn/test-dataset/image0051.jpg  \n",
            "  inflating: /datasets/dawn/test-dataset/image0045.jpg  \n",
            "  inflating: /datasets/dawn/test-dataset/image0079.jpg  \n",
            "  inflating: /datasets/dawn/test-dataset/image0078.jpg  \n",
            "  inflating: /datasets/dawn/test-dataset/image0044.jpg  \n",
            "  inflating: /datasets/dawn/test-dataset/image0050.jpg  \n",
            "  inflating: /datasets/dawn/test-dataset/image0087.jpg  \n",
            "  inflating: /datasets/dawn/test-dataset/image0093.jpg  \n",
            "  inflating: /datasets/dawn/test-dataset/image0032.txt  \n",
            "  inflating: /datasets/dawn/test-dataset/image0026.txt  \n",
            "  inflating: /datasets/dawn/test-dataset/image0018.txt  \n",
            "  inflating: /datasets/dawn/test-dataset/image0030.txt  \n",
            "  inflating: /datasets/dawn/test-dataset/image0024.txt  \n",
            "  inflating: /datasets/dawn/test-dataset/image0085.jpg  \n",
            "  inflating: /datasets/dawn/test-dataset/image0091.jpg  \n",
            "  inflating: /datasets/dawn/test-dataset/image0046.jpg  \n",
            "  inflating: /datasets/dawn/test-dataset/image0052.jpg  \n",
            "  inflating: /datasets/dawn/test-dataset/image0053.jpg  \n",
            "  inflating: /datasets/dawn/test-dataset/image0047.jpg  \n",
            "  inflating: /datasets/dawn/test-dataset/image0090.jpg  \n",
            "  inflating: /datasets/dawn/test-dataset/image0084.jpg  \n",
            "  inflating: /datasets/dawn/test-dataset/image0025.txt  \n",
            "  inflating: /datasets/dawn/test-dataset/image0031.txt  \n",
            "  inflating: /datasets/dawn/test-dataset/image0019.txt  \n",
            "  inflating: /datasets/dawn/test-dataset/image0035.txt  \n",
            "  inflating: /datasets/dawn/test-dataset/image0021.txt  \n",
            "  inflating: /datasets/dawn/test-dataset/image0009.txt  \n",
            "  inflating: /datasets/dawn/test-dataset/image0080.jpg  \n",
            "  inflating: /datasets/dawn/test-dataset/image0094.jpg  \n",
            "  inflating: /datasets/dawn/test-dataset/image0043.jpg  \n",
            "  inflating: /datasets/dawn/test-dataset/image0057.jpg  \n",
            "  inflating: /datasets/dawn/test-dataset/image0056.jpg  \n",
            "  inflating: /datasets/dawn/test-dataset/image0042.jpg  \n",
            "  inflating: /datasets/dawn/test-dataset/image0095.jpg  \n",
            "  inflating: /datasets/dawn/test-dataset/image0081.jpg  \n",
            "  inflating: /datasets/dawn/test-dataset/image0008.txt  \n",
            "  inflating: /datasets/dawn/test-dataset/image0020.txt  \n",
            "  inflating: /datasets/dawn/test-dataset/image0034.txt  \n",
            "  inflating: /datasets/dawn/test-dataset/image0022.txt  \n",
            "  inflating: /datasets/dawn/test-dataset/image0036.txt  \n",
            "  inflating: /datasets/dawn/test-dataset/image0097.jpg  \n",
            "  inflating: /datasets/dawn/test-dataset/image0083.jpg  \n",
            "  inflating: /datasets/dawn/test-dataset/image0068.jpg  \n",
            "  inflating: /datasets/dawn/test-dataset/image0054.jpg  \n",
            "  inflating: /datasets/dawn/test-dataset/image0040.jpg  \n",
            "  inflating: /datasets/dawn/test-dataset/image0041.jpg  \n",
            "  inflating: /datasets/dawn/test-dataset/image0055.jpg  \n",
            "  inflating: /datasets/dawn/test-dataset/image0069.jpg  \n",
            "  inflating: /datasets/dawn/test-dataset/image0082.jpg  \n",
            "  inflating: /datasets/dawn/test-dataset/image0096.jpg  \n",
            "  inflating: /datasets/dawn/test-dataset/image0037.txt  \n",
            "  inflating: /datasets/dawn/test-dataset/image0023.txt  \n",
            "   creating: /datasets/dawn/train-dataset/\n",
            "  inflating: /datasets/dawn/train-dataset/image0306.jpg  \n",
            "  inflating: /datasets/dawn/train-dataset/image0460.jpg  \n",
            "  inflating: /datasets/dawn/train-dataset/image0474.jpg  \n",
            "  inflating: /datasets/dawn/train-dataset/image0312.jpg  \n",
            "  inflating: /datasets/dawn/train-dataset/image0006.txt  \n",
            "  inflating: /datasets/dawn/train-dataset/image0448.jpg  \n",
            "  inflating: /datasets/dawn/train-dataset/image0012.txt  \n",
            "  inflating: /datasets/dawn/train-dataset/image0238.txt  \n",
            "  inflating: /datasets/dawn/train-dataset/image0104.jpg  \n",
            "  inflating: /datasets/dawn/train-dataset/image0110.jpg  \n",
            "  inflating: /datasets/dawn/train-dataset/image0138.jpg  \n",
            "  inflating: /datasets/dawn/train-dataset/image0204.txt  \n",
            "  inflating: /datasets/dawn/train-dataset/image0210.txt  \n",
            "  inflating: /datasets/dawn/train-dataset/image0070.jpg  \n",
            "  inflating: /datasets/dawn/train-dataset/image0064.jpg  \n",
            "  inflating: /datasets/dawn/train-dataset/image0358.txt  \n",
            "  inflating: /datasets/dawn/train-dataset/image0416.txt  \n",
            "  inflating: /datasets/dawn/train-dataset/image0370.txt  \n",
            "  inflating: /datasets/dawn/train-dataset/image0364.txt  \n",
            "  inflating: /datasets/dawn/train-dataset/image0058.jpg  \n",
            "  inflating: /datasets/dawn/train-dataset/image0402.txt  \n",
            "  inflating: /datasets/dawn/train-dataset/image0199.txt  \n",
            "  inflating: /datasets/dawn/train-dataset/image0299.jpg  \n",
            "  inflating: /datasets/dawn/train-dataset/image0272.jpg  \n",
            "  inflating: /datasets/dawn/train-dataset/image0500.jpg  \n",
            "  inflating: /datasets/dawn/train-dataset/image0266.jpg  \n",
            "  inflating: /datasets/dawn/train-dataset/image0172.txt  \n",
            "  inflating: /datasets/dawn/train-dataset/image0166.txt  \n",
            "  inflating: /datasets/dawn/train-dataset/image0167.txt  \n",
            "  inflating: /datasets/dawn/train-dataset/image0173.txt  \n",
            "  inflating: /datasets/dawn/train-dataset/image0501.jpg  \n",
            "  inflating: /datasets/dawn/train-dataset/image0267.jpg  \n",
            "  inflating: /datasets/dawn/train-dataset/image0273.jpg  \n",
            "  inflating: /datasets/dawn/train-dataset/image0298.jpg  \n",
            "  inflating: /datasets/dawn/train-dataset/image0198.txt  \n",
            "  inflating: /datasets/dawn/train-dataset/image0059.jpg  \n",
            "  inflating: /datasets/dawn/train-dataset/image0365.txt  \n",
            "  inflating: /datasets/dawn/train-dataset/image0403.txt  \n",
            "  inflating: /datasets/dawn/train-dataset/image0417.txt  \n",
            "  inflating: /datasets/dawn/train-dataset/image0371.txt  \n",
            "  inflating: /datasets/dawn/train-dataset/image0359.txt  \n",
            "  inflating: /datasets/dawn/train-dataset/image0065.jpg  \n",
            "  inflating: /datasets/dawn/train-dataset/image0071.jpg  \n",
            "  inflating: /datasets/dawn/train-dataset/image0211.txt  \n",
            "  inflating: /datasets/dawn/train-dataset/image0205.txt  \n",
            "  inflating: /datasets/dawn/train-dataset/image0139.jpg  \n",
            "  inflating: /datasets/dawn/train-dataset/image0111.jpg  \n",
            "  inflating: /datasets/dawn/train-dataset/image0105.jpg  \n",
            "  inflating: /datasets/dawn/train-dataset/image0239.txt  \n",
            "  inflating: /datasets/dawn/train-dataset/image0449.jpg  \n",
            "  inflating: /datasets/dawn/train-dataset/image0013.txt  \n",
            "  inflating: /datasets/dawn/train-dataset/image0007.txt  \n",
            "  inflating: /datasets/dawn/train-dataset/image0475.jpg  \n",
            "  inflating: /datasets/dawn/train-dataset/image0313.jpg  \n",
            "  inflating: /datasets/dawn/train-dataset/image0307.jpg  \n",
            "  inflating: /datasets/dawn/train-dataset/image0461.jpg  \n",
            "  inflating: /datasets/dawn/train-dataset/image0488.jpg  \n",
            "  inflating: /datasets/dawn/train-dataset/image0311.jpg  \n",
            "  inflating: /datasets/dawn/train-dataset/image0477.jpg  \n",
            "  inflating: /datasets/dawn/train-dataset/image0463.jpg  \n",
            "  inflating: /datasets/dawn/train-dataset/image0305.jpg  \n",
            "  inflating: /datasets/dawn/train-dataset/image0039.txt  \n",
            "  inflating: /datasets/dawn/train-dataset/image0011.txt  \n",
            "  inflating: /datasets/dawn/train-dataset/image0005.txt  \n",
            "  inflating: /datasets/dawn/train-dataset/image0339.jpg  \n",
            "  inflating: /datasets/dawn/train-dataset/image0113.jpg  \n",
            "  inflating: /datasets/dawn/train-dataset/image0107.jpg  \n",
            "  inflating: /datasets/dawn/train-dataset/image0213.txt  \n",
            "  inflating: /datasets/dawn/train-dataset/image0207.txt  \n",
            "  inflating: /datasets/dawn/train-dataset/image0398.txt  \n",
            "  inflating: /datasets/dawn/train-dataset/image0098.jpg  \n",
            "  inflating: /datasets/dawn/train-dataset/image0067.jpg  \n",
            "  inflating: /datasets/dawn/train-dataset/image0073.jpg  \n",
            "  inflating: /datasets/dawn/train-dataset/image0429.txt  \n",
            "  inflating: /datasets/dawn/train-dataset/image0401.txt  \n",
            "  inflating: /datasets/dawn/train-dataset/image0367.txt  \n",
            "  inflating: /datasets/dawn/train-dataset/image0373.txt  \n",
            "  inflating: /datasets/dawn/train-dataset/image0415.txt  \n",
            "  inflating: /datasets/dawn/train-dataset/image0159.txt  \n",
            "  inflating: /datasets/dawn/train-dataset/image0265.jpg  \n",
            "  inflating: /datasets/dawn/train-dataset/image0271.jpg  \n",
            "  inflating: /datasets/dawn/train-dataset/image0259.jpg  \n",
            "  inflating: /datasets/dawn/train-dataset/image0165.txt  \n",
            "  inflating: /datasets/dawn/train-dataset/image0171.txt  \n",
            "  inflating: /datasets/dawn/train-dataset/image0170.txt  \n",
            "  inflating: /datasets/dawn/train-dataset/image0164.txt  \n",
            "  inflating: /datasets/dawn/train-dataset/image0258.jpg  \n",
            "  inflating: /datasets/dawn/train-dataset/image0270.jpg  \n",
            "  inflating: /datasets/dawn/train-dataset/image0264.jpg  \n",
            "  inflating: /datasets/dawn/train-dataset/image0158.txt  \n",
            "  inflating: /datasets/dawn/train-dataset/image0372.txt  \n",
            "  inflating: /datasets/dawn/train-dataset/image0414.txt  \n",
            "  inflating: /datasets/dawn/train-dataset/image0400.txt  \n",
            "  inflating: /datasets/dawn/train-dataset/image0366.txt  \n",
            "  inflating: /datasets/dawn/train-dataset/image0072.jpg  \n",
            "  inflating: /datasets/dawn/train-dataset/image0428.txt  \n",
            "  inflating: /datasets/dawn/train-dataset/image0066.jpg  \n",
            "  inflating: /datasets/dawn/train-dataset/image0099.jpg  \n",
            "  inflating: /datasets/dawn/train-dataset/image0399.txt  \n",
            "  inflating: /datasets/dawn/train-dataset/image0206.txt  \n",
            "  inflating: /datasets/dawn/train-dataset/image0212.txt  \n",
            "  inflating: /datasets/dawn/train-dataset/image0106.jpg  \n",
            "  inflating: /datasets/dawn/train-dataset/image0112.jpg  \n",
            "  inflating: /datasets/dawn/train-dataset/image0338.jpg  \n",
            "  inflating: /datasets/dawn/train-dataset/image0004.txt  \n",
            "  inflating: /datasets/dawn/train-dataset/image0010.txt  \n",
            "  inflating: /datasets/dawn/train-dataset/image0462.jpg  \n",
            "  inflating: /datasets/dawn/train-dataset/image0038.txt  \n",
            "  inflating: /datasets/dawn/train-dataset/image0304.jpg  \n",
            "  inflating: /datasets/dawn/train-dataset/image0310.jpg  \n",
            "  inflating: /datasets/dawn/train-dataset/image0476.jpg  \n",
            "  inflating: /datasets/dawn/train-dataset/image0489.jpg  \n",
            "  inflating: /datasets/dawn/train-dataset/image0499.jpg  \n",
            "  inflating: /datasets/dawn/train-dataset/image0328.jpg  \n",
            "  inflating: /datasets/dawn/train-dataset/image0014.txt  \n",
            "  inflating: /datasets/dawn/train-dataset/image0472.jpg  \n",
            "  inflating: /datasets/dawn/train-dataset/image0028.txt  \n",
            "  inflating: /datasets/dawn/train-dataset/image0314.jpg  \n",
            "  inflating: /datasets/dawn/train-dataset/image0300.jpg  \n",
            "  inflating: /datasets/dawn/train-dataset/image0466.jpg  \n",
            "  inflating: /datasets/dawn/train-dataset/image0216.txt  \n",
            "  inflating: /datasets/dawn/train-dataset/image0202.txt  \n",
            "  inflating: /datasets/dawn/train-dataset/image0116.jpg  \n",
            "  inflating: /datasets/dawn/train-dataset/image0102.jpg  \n",
            "  inflating: /datasets/dawn/train-dataset/image0089.jpg  \n",
            "  inflating: /datasets/dawn/train-dataset/image0389.txt  \n",
            "  inflating: /datasets/dawn/train-dataset/image0362.txt  \n",
            "  inflating: /datasets/dawn/train-dataset/image0404.txt  \n",
            "  inflating: /datasets/dawn/train-dataset/image0410.txt  \n",
            "  inflating: /datasets/dawn/train-dataset/image0376.txt  \n",
            "  inflating: /datasets/dawn/train-dataset/image0062.jpg  \n",
            "  inflating: /datasets/dawn/train-dataset/image0438.txt  \n",
            "  inflating: /datasets/dawn/train-dataset/image0076.jpg  \n",
            "  inflating: /datasets/dawn/train-dataset/image0160.txt  \n",
            "  inflating: /datasets/dawn/train-dataset/image0174.txt  \n",
            "  inflating: /datasets/dawn/train-dataset/image0248.jpg  \n",
            "  inflating: /datasets/dawn/train-dataset/image0260.jpg  \n",
            "  inflating: /datasets/dawn/train-dataset/image0274.jpg  \n",
            "  inflating: /datasets/dawn/train-dataset/image0148.txt  \n",
            "  inflating: /datasets/dawn/train-dataset/image0149.txt  \n",
            "  inflating: /datasets/dawn/train-dataset/image0275.jpg  \n",
            "  inflating: /datasets/dawn/train-dataset/image0261.jpg  \n",
            "  inflating: /datasets/dawn/train-dataset/image0249.jpg  \n",
            "  inflating: /datasets/dawn/train-dataset/image0175.txt  \n",
            "  inflating: /datasets/dawn/train-dataset/image0161.txt  \n",
            "  inflating: /datasets/dawn/train-dataset/image0077.jpg  \n",
            "  inflating: /datasets/dawn/train-dataset/image0063.jpg  \n",
            "  inflating: /datasets/dawn/train-dataset/image0439.txt  \n",
            "  inflating: /datasets/dawn/train-dataset/image0411.txt  \n",
            "  inflating: /datasets/dawn/train-dataset/image0377.txt  \n",
            "  inflating: /datasets/dawn/train-dataset/image0363.txt  \n",
            "  inflating: /datasets/dawn/train-dataset/image0405.txt  \n",
            "  inflating: /datasets/dawn/train-dataset/image0388.txt  \n",
            "  inflating: /datasets/dawn/train-dataset/image0088.jpg  \n",
            "  inflating: /datasets/dawn/train-dataset/image0103.jpg  \n",
            "  inflating: /datasets/dawn/train-dataset/image0117.jpg  \n",
            "  inflating: /datasets/dawn/train-dataset/image0203.txt  \n",
            "  inflating: /datasets/dawn/train-dataset/image0217.txt  \n",
            "  inflating: /datasets/dawn/train-dataset/image0301.jpg  \n",
            "  inflating: /datasets/dawn/train-dataset/image0467.jpg  \n",
            "  inflating: /datasets/dawn/train-dataset/image0473.jpg  \n",
            "  inflating: /datasets/dawn/train-dataset/image0315.jpg  \n",
            "  inflating: /datasets/dawn/train-dataset/image0029.txt  \n",
            "  inflating: /datasets/dawn/train-dataset/image0001.txt  \n",
            "  inflating: /datasets/dawn/train-dataset/image0015.txt  \n",
            "  inflating: /datasets/dawn/train-dataset/image0329.jpg  \n",
            "  inflating: /datasets/dawn/train-dataset/image0498.jpg  \n",
            "  inflating: /datasets/dawn/train-dataset/image0459.jpg  \n",
            "  inflating: /datasets/dawn/train-dataset/image0003.txt  \n",
            "  inflating: /datasets/dawn/train-dataset/image0017.txt  \n",
            "  inflating: /datasets/dawn/train-dataset/image0465.jpg  \n",
            "  inflating: /datasets/dawn/train-dataset/image0303.jpg  \n",
            "  inflating: /datasets/dawn/train-dataset/image0317.jpg  \n",
            "  inflating: /datasets/dawn/train-dataset/image0471.jpg  \n",
            "  inflating: /datasets/dawn/train-dataset/image0201.txt  \n",
            "  inflating: /datasets/dawn/train-dataset/image0215.txt  \n",
            "  inflating: /datasets/dawn/train-dataset/image0129.jpg  \n",
            "  inflating: /datasets/dawn/train-dataset/image0101.jpg  \n",
            "  inflating: /datasets/dawn/train-dataset/image0115.jpg  \n",
            "  inflating: /datasets/dawn/train-dataset/image0229.txt  \n",
            "  inflating: /datasets/dawn/train-dataset/image0049.jpg  \n",
            "  inflating: /datasets/dawn/train-dataset/image0375.txt  \n",
            "  inflating: /datasets/dawn/train-dataset/image0413.txt  \n",
            "  inflating: /datasets/dawn/train-dataset/image0407.txt  \n",
            "  inflating: /datasets/dawn/train-dataset/image0361.txt  \n",
            "  inflating: /datasets/dawn/train-dataset/image0349.txt  \n",
            "  inflating: /datasets/dawn/train-dataset/image0075.jpg  \n",
            "  inflating: /datasets/dawn/train-dataset/image0061.jpg  \n",
            "  inflating: /datasets/dawn/train-dataset/image0288.jpg  \n",
            "  inflating: /datasets/dawn/train-dataset/image0188.txt  \n",
            "  inflating: /datasets/dawn/train-dataset/image0177.txt  \n",
            "  inflating: /datasets/dawn/train-dataset/image0163.txt  \n",
            "  inflating: /datasets/dawn/train-dataset/image0277.jpg  \n",
            "  inflating: /datasets/dawn/train-dataset/image0263.jpg  \n",
            "  inflating: /datasets/dawn/train-dataset/image0262.jpg  \n",
            "  inflating: /datasets/dawn/train-dataset/image0276.jpg  \n",
            "  inflating: /datasets/dawn/train-dataset/image0162.txt  \n",
            "  inflating: /datasets/dawn/train-dataset/image0176.txt  \n",
            "  inflating: /datasets/dawn/train-dataset/image0189.txt  \n",
            "  inflating: /datasets/dawn/train-dataset/image0289.jpg  \n",
            "  inflating: /datasets/dawn/train-dataset/image0060.jpg  \n",
            "  inflating: /datasets/dawn/train-dataset/image0074.jpg  \n",
            "  inflating: /datasets/dawn/train-dataset/image0348.txt  \n",
            "  inflating: /datasets/dawn/train-dataset/image0406.txt  \n",
            "  inflating: /datasets/dawn/train-dataset/image0360.txt  \n",
            "  inflating: /datasets/dawn/train-dataset/image0374.txt  \n",
            "  inflating: /datasets/dawn/train-dataset/image0048.jpg  \n",
            "  inflating: /datasets/dawn/train-dataset/image0412.txt  \n",
            "  inflating: /datasets/dawn/train-dataset/image0228.txt  \n",
            "  inflating: /datasets/dawn/train-dataset/image0114.jpg  \n",
            "  inflating: /datasets/dawn/train-dataset/image0100.jpg  \n",
            "  inflating: /datasets/dawn/train-dataset/image0128.jpg  \n",
            "  inflating: /datasets/dawn/train-dataset/image0214.txt  \n",
            "  inflating: /datasets/dawn/train-dataset/image0200.txt  \n",
            "  inflating: /datasets/dawn/train-dataset/image0316.jpg  \n",
            "  inflating: /datasets/dawn/train-dataset/image0470.jpg  \n",
            "  inflating: /datasets/dawn/train-dataset/image0464.jpg  \n",
            "  inflating: /datasets/dawn/train-dataset/image0302.jpg  \n",
            "  inflating: /datasets/dawn/train-dataset/image0016.txt  \n",
            "  inflating: /datasets/dawn/train-dataset/image0458.jpg  \n",
            "  inflating: /datasets/dawn/train-dataset/image0002.txt  \n",
            "  inflating: /datasets/dawn/train-dataset/image0403.jpg  \n",
            "  inflating: /datasets/dawn/train-dataset/image0059.txt  \n",
            "  inflating: /datasets/dawn/train-dataset/image0365.jpg  \n",
            "  inflating: /datasets/dawn/train-dataset/image0371.jpg  \n",
            "  inflating: /datasets/dawn/train-dataset/image0417.jpg  \n",
            "  inflating: /datasets/dawn/train-dataset/image0359.jpg  \n",
            "  inflating: /datasets/dawn/train-dataset/image0065.txt  \n",
            "  inflating: /datasets/dawn/train-dataset/image0071.txt  \n",
            "  inflating: /datasets/dawn/train-dataset/image0298.txt  \n",
            "  inflating: /datasets/dawn/train-dataset/image0198.jpg  \n",
            "  inflating: /datasets/dawn/train-dataset/image0167.jpg  \n",
            "  inflating: /datasets/dawn/train-dataset/image0173.jpg  \n",
            "  inflating: /datasets/dawn/train-dataset/image0267.txt  \n",
            "  inflating: /datasets/dawn/train-dataset/image0501.txt  \n",
            "  inflating: /datasets/dawn/train-dataset/image0273.txt  \n",
            "  inflating: /datasets/dawn/train-dataset/image0013.jpg  \n",
            "  inflating: /datasets/dawn/train-dataset/image0449.txt  \n",
            "  inflating: /datasets/dawn/train-dataset/image0007.jpg  \n",
            "  inflating: /datasets/dawn/train-dataset/image0313.txt  \n",
            "  inflating: /datasets/dawn/train-dataset/image0475.txt  \n",
            "  inflating: /datasets/dawn/train-dataset/image0461.txt  \n",
            "  inflating: /datasets/dawn/train-dataset/image0307.txt  \n",
            "  inflating: /datasets/dawn/train-dataset/image0211.jpg  \n",
            "  inflating: /datasets/dawn/train-dataset/image0205.jpg  \n",
            "  inflating: /datasets/dawn/train-dataset/image0139.txt  \n",
            "  inflating: /datasets/dawn/train-dataset/image0111.txt  \n",
            "  inflating: /datasets/dawn/train-dataset/image0105.txt  \n",
            "  inflating: /datasets/dawn/train-dataset/image0239.jpg  \n",
            "  inflating: /datasets/dawn/train-dataset/image0238.jpg  \n",
            "  inflating: /datasets/dawn/train-dataset/image0104.txt  \n",
            "  inflating: /datasets/dawn/train-dataset/image0110.txt  \n",
            "  inflating: /datasets/dawn/train-dataset/image0138.txt  \n",
            "  inflating: /datasets/dawn/train-dataset/image0204.jpg  \n",
            "  inflating: /datasets/dawn/train-dataset/image0210.jpg  \n",
            "  inflating: /datasets/dawn/train-dataset/image0460.txt  \n",
            "  inflating: /datasets/dawn/train-dataset/image0306.txt  \n",
            "  inflating: /datasets/dawn/train-dataset/image0312.txt  \n",
            "  inflating: /datasets/dawn/train-dataset/image0474.txt  \n",
            "  inflating: /datasets/dawn/train-dataset/image0006.jpg  \n",
            "  inflating: /datasets/dawn/train-dataset/image0012.jpg  \n",
            "  inflating: /datasets/dawn/train-dataset/image0448.txt  \n",
            "  inflating: /datasets/dawn/train-dataset/image0272.txt  \n",
            "  inflating: /datasets/dawn/train-dataset/image0266.txt  \n",
            "  inflating: /datasets/dawn/train-dataset/image0500.txt  \n",
            "  inflating: /datasets/dawn/train-dataset/image0172.jpg  \n",
            "  inflating: /datasets/dawn/train-dataset/image0166.jpg  \n",
            "  inflating: /datasets/dawn/train-dataset/image0199.jpg  \n",
            "  inflating: /datasets/dawn/train-dataset/image0299.txt  \n",
            "  inflating: /datasets/dawn/train-dataset/image0070.txt  \n",
            "  inflating: /datasets/dawn/train-dataset/image0064.txt  \n",
            "  inflating: /datasets/dawn/train-dataset/image0358.jpg  \n",
            "  inflating: /datasets/dawn/train-dataset/image0370.jpg  \n",
            "  inflating: /datasets/dawn/train-dataset/image0416.jpg  \n",
            "  inflating: /datasets/dawn/train-dataset/image0402.jpg  \n",
            "  inflating: /datasets/dawn/train-dataset/image0364.jpg  \n",
            "  inflating: /datasets/dawn/train-dataset/image0058.txt  \n",
            "  inflating: /datasets/dawn/train-dataset/image0099.txt  \n",
            "  inflating: /datasets/dawn/train-dataset/image0399.jpg  \n",
            "  inflating: /datasets/dawn/train-dataset/image0414.jpg  \n",
            "  inflating: /datasets/dawn/train-dataset/image0372.jpg  \n",
            "  inflating: /datasets/dawn/train-dataset/image0366.jpg  \n",
            "  inflating: /datasets/dawn/train-dataset/image0400.jpg  \n",
            "  inflating: /datasets/dawn/train-dataset/image0428.jpg  \n",
            "  inflating: /datasets/dawn/train-dataset/image0072.txt  \n",
            "  inflating: /datasets/dawn/train-dataset/image0066.txt  \n",
            "  inflating: /datasets/dawn/train-dataset/image0170.jpg  \n",
            "  inflating: /datasets/dawn/train-dataset/image0164.jpg  \n",
            "  inflating: /datasets/dawn/train-dataset/image0258.txt  \n",
            "  inflating: /datasets/dawn/train-dataset/image0270.txt  \n",
            "  inflating: /datasets/dawn/train-dataset/image0264.txt  \n",
            "  inflating: /datasets/dawn/train-dataset/image0158.jpg  \n",
            "  inflating: /datasets/dawn/train-dataset/image0489.txt  \n",
            "  inflating: /datasets/dawn/train-dataset/image0338.txt  \n",
            "  inflating: /datasets/dawn/train-dataset/image0004.jpg  \n",
            "  inflating: /datasets/dawn/train-dataset/image0010.jpg  \n",
            "  inflating: /datasets/dawn/train-dataset/image0038.jpg  \n",
            "  inflating: /datasets/dawn/train-dataset/image0304.txt  \n",
            "  inflating: /datasets/dawn/train-dataset/image0462.txt  \n",
            "  inflating: /datasets/dawn/train-dataset/image0476.txt  \n",
            "  inflating: /datasets/dawn/train-dataset/image0310.txt  \n",
            "  inflating: /datasets/dawn/train-dataset/image0206.jpg  \n",
            "  inflating: /datasets/dawn/train-dataset/image0212.jpg  \n",
            "  inflating: /datasets/dawn/train-dataset/image0106.txt  \n",
            "  inflating: /datasets/dawn/train-dataset/image0112.txt  \n",
            "  inflating: /datasets/dawn/train-dataset/image0113.txt  \n",
            "  inflating: /datasets/dawn/train-dataset/image0107.txt  \n",
            "  inflating: /datasets/dawn/train-dataset/image0213.jpg  \n",
            "  inflating: /datasets/dawn/train-dataset/image0207.jpg  \n",
            "  inflating: /datasets/dawn/train-dataset/image0477.txt  \n",
            "  inflating: /datasets/dawn/train-dataset/image0311.txt  \n",
            "  inflating: /datasets/dawn/train-dataset/image0305.txt  \n",
            "  inflating: /datasets/dawn/train-dataset/image0039.jpg  \n",
            "  inflating: /datasets/dawn/train-dataset/image0463.txt  \n",
            "  inflating: /datasets/dawn/train-dataset/image0011.jpg  \n",
            "  inflating: /datasets/dawn/train-dataset/image0005.jpg  \n",
            "  inflating: /datasets/dawn/train-dataset/image0339.txt  \n",
            "  inflating: /datasets/dawn/train-dataset/image0488.txt  \n",
            "  inflating: /datasets/dawn/train-dataset/image0159.jpg  \n",
            "  inflating: /datasets/dawn/train-dataset/image0265.txt  \n",
            "  inflating: /datasets/dawn/train-dataset/image0271.txt  \n",
            "  inflating: /datasets/dawn/train-dataset/image0259.txt  \n",
            "  inflating: /datasets/dawn/train-dataset/image0165.jpg  \n",
            "  inflating: /datasets/dawn/train-dataset/image0171.jpg  \n",
            "  inflating: /datasets/dawn/train-dataset/image0067.txt  \n",
            "  inflating: /datasets/dawn/train-dataset/image0429.jpg  \n",
            "  inflating: /datasets/dawn/train-dataset/image0073.txt  \n",
            "  inflating: /datasets/dawn/train-dataset/image0367.jpg  \n",
            "  inflating: /datasets/dawn/train-dataset/image0401.jpg  \n",
            "  inflating: /datasets/dawn/train-dataset/image0415.jpg  \n",
            "  inflating: /datasets/dawn/train-dataset/image0373.jpg  \n",
            "  inflating: /datasets/dawn/train-dataset/image0398.jpg  \n",
            "  inflating: /datasets/dawn/train-dataset/image0098.txt  \n",
            "  inflating: /datasets/dawn/train-dataset/image0388.jpg  \n",
            "  inflating: /datasets/dawn/train-dataset/image0088.txt  \n",
            "  inflating: /datasets/dawn/train-dataset/image0077.txt  \n",
            "  inflating: /datasets/dawn/train-dataset/image0439.jpg  \n",
            "  inflating: /datasets/dawn/train-dataset/image0063.txt  \n",
            "  inflating: /datasets/dawn/train-dataset/image0377.jpg  \n",
            "  inflating: /datasets/dawn/train-dataset/image0411.jpg  \n",
            "  inflating: /datasets/dawn/train-dataset/image0405.jpg  \n",
            "  inflating: /datasets/dawn/train-dataset/image0363.jpg  \n",
            "  inflating: /datasets/dawn/train-dataset/image0149.jpg  \n",
            "  inflating: /datasets/dawn/train-dataset/image0275.txt  \n",
            "  inflating: /datasets/dawn/train-dataset/image0261.txt  \n",
            "  inflating: /datasets/dawn/train-dataset/image0249.txt  \n",
            "  inflating: /datasets/dawn/train-dataset/image0175.jpg  \n",
            "  inflating: /datasets/dawn/train-dataset/image0161.jpg  \n",
            "  inflating: /datasets/dawn/train-dataset/image0498.txt  \n",
            "  inflating: /datasets/dawn/train-dataset/image0467.txt  \n",
            "  inflating: /datasets/dawn/train-dataset/image0301.txt  \n",
            "  inflating: /datasets/dawn/train-dataset/image0315.txt  \n",
            "  inflating: /datasets/dawn/train-dataset/image0029.jpg  \n",
            "  inflating: /datasets/dawn/train-dataset/image0473.txt  \n",
            "  inflating: /datasets/dawn/train-dataset/image0001.jpg  \n",
            "  inflating: /datasets/dawn/train-dataset/image0015.jpg  \n",
            "  inflating: /datasets/dawn/train-dataset/image0329.txt  \n",
            "  inflating: /datasets/dawn/train-dataset/image0103.txt  \n",
            "  inflating: /datasets/dawn/train-dataset/image0117.txt  \n",
            "  inflating: /datasets/dawn/train-dataset/image0203.jpg  \n",
            "  inflating: /datasets/dawn/train-dataset/image0217.jpg  \n",
            "  inflating: /datasets/dawn/train-dataset/image0216.jpg  \n",
            "  inflating: /datasets/dawn/train-dataset/image0202.jpg  \n",
            "  inflating: /datasets/dawn/train-dataset/image0116.txt  \n",
            "  inflating: /datasets/dawn/train-dataset/image0102.txt  \n",
            "  inflating: /datasets/dawn/train-dataset/image0328.txt  \n",
            "  inflating: /datasets/dawn/train-dataset/image0014.jpg  \n",
            "  inflating: /datasets/dawn/train-dataset/image0028.jpg  \n",
            "  inflating: /datasets/dawn/train-dataset/image0314.txt  \n",
            "  inflating: /datasets/dawn/train-dataset/image0472.txt  \n",
            "  inflating: /datasets/dawn/train-dataset/image0466.txt  \n",
            "  inflating: /datasets/dawn/train-dataset/image0300.txt  \n",
            "  inflating: /datasets/dawn/train-dataset/image0499.txt  \n",
            "  inflating: /datasets/dawn/train-dataset/image0160.jpg  \n",
            "  inflating: /datasets/dawn/train-dataset/image0174.jpg  \n",
            "  inflating: /datasets/dawn/train-dataset/image0248.txt  \n",
            "  inflating: /datasets/dawn/train-dataset/image0260.txt  \n",
            "  inflating: /datasets/dawn/train-dataset/image0274.txt  \n",
            "  inflating: /datasets/dawn/train-dataset/image0148.jpg  \n",
            "  inflating: /datasets/dawn/train-dataset/image0404.jpg  \n",
            "  inflating: /datasets/dawn/train-dataset/image0362.jpg  \n",
            "  inflating: /datasets/dawn/train-dataset/image0376.jpg  \n",
            "  inflating: /datasets/dawn/train-dataset/image0410.jpg  \n",
            "  inflating: /datasets/dawn/train-dataset/image0438.jpg  \n",
            "  inflating: /datasets/dawn/train-dataset/image0062.txt  \n",
            "  inflating: /datasets/dawn/train-dataset/image0076.txt  \n",
            "  inflating: /datasets/dawn/train-dataset/image0089.txt  \n",
            "  inflating: /datasets/dawn/train-dataset/image0389.jpg  \n",
            "  inflating: /datasets/dawn/train-dataset/image0060.txt  \n",
            "  inflating: /datasets/dawn/train-dataset/image0074.txt  \n",
            "  inflating: /datasets/dawn/train-dataset/image0348.jpg  \n",
            "  inflating: /datasets/dawn/train-dataset/image0360.jpg  \n",
            "  inflating: /datasets/dawn/train-dataset/image0406.jpg  \n",
            "  inflating: /datasets/dawn/train-dataset/image0412.jpg  \n",
            "  inflating: /datasets/dawn/train-dataset/image0374.jpg  \n",
            "  inflating: /datasets/dawn/train-dataset/image0048.txt  \n",
            "  inflating: /datasets/dawn/train-dataset/image0189.jpg  \n",
            "  inflating: /datasets/dawn/train-dataset/image0289.txt  \n",
            "  inflating: /datasets/dawn/train-dataset/image0262.txt  \n",
            "  inflating: /datasets/dawn/train-dataset/image0276.txt  \n",
            "  inflating: /datasets/dawn/train-dataset/image0162.jpg  \n",
            "  inflating: /datasets/dawn/train-dataset/image0176.jpg  \n",
            "  inflating: /datasets/dawn/train-dataset/image0470.txt  \n",
            "  inflating: /datasets/dawn/train-dataset/image0316.txt  \n",
            "  inflating: /datasets/dawn/train-dataset/image0302.txt  \n",
            "  inflating: /datasets/dawn/train-dataset/image0464.txt  \n",
            "  inflating: /datasets/dawn/train-dataset/image0016.jpg  \n",
            "  inflating: /datasets/dawn/train-dataset/image0002.jpg  \n",
            "  inflating: /datasets/dawn/train-dataset/image0458.txt  \n",
            "  inflating: /datasets/dawn/train-dataset/image0228.jpg  \n",
            "  inflating: /datasets/dawn/train-dataset/image0114.txt  \n",
            "  inflating: /datasets/dawn/train-dataset/image0100.txt  \n",
            "  inflating: /datasets/dawn/train-dataset/image0128.txt  \n",
            "  inflating: /datasets/dawn/train-dataset/image0214.jpg  \n",
            "  inflating: /datasets/dawn/train-dataset/image0200.jpg  \n",
            "  inflating: /datasets/dawn/train-dataset/image0201.jpg  \n",
            "  inflating: /datasets/dawn/train-dataset/image0215.jpg  \n",
            "  inflating: /datasets/dawn/train-dataset/image0129.txt  \n",
            "  inflating: /datasets/dawn/train-dataset/image0101.txt  \n",
            "  inflating: /datasets/dawn/train-dataset/image0115.txt  \n",
            "  inflating: /datasets/dawn/train-dataset/image0229.jpg  \n",
            "  inflating: /datasets/dawn/train-dataset/image0003.jpg  \n",
            "  inflating: /datasets/dawn/train-dataset/image0459.txt  \n",
            "  inflating: /datasets/dawn/train-dataset/image0017.jpg  \n",
            "  inflating: /datasets/dawn/train-dataset/image0303.txt  \n",
            "  inflating: /datasets/dawn/train-dataset/image0465.txt  \n",
            "  inflating: /datasets/dawn/train-dataset/image0471.txt  \n",
            "  inflating: /datasets/dawn/train-dataset/image0317.txt  \n",
            "  inflating: /datasets/dawn/train-dataset/image0177.jpg  \n",
            "  inflating: /datasets/dawn/train-dataset/image0163.jpg  \n",
            "  inflating: /datasets/dawn/train-dataset/image0277.txt  \n",
            "  inflating: /datasets/dawn/train-dataset/image0263.txt  \n",
            "  inflating: /datasets/dawn/train-dataset/image0288.txt  \n",
            "  inflating: /datasets/dawn/train-dataset/image0188.jpg  \n",
            "  inflating: /datasets/dawn/train-dataset/image0413.jpg  \n",
            "  inflating: /datasets/dawn/train-dataset/image0049.txt  \n",
            "  inflating: /datasets/dawn/train-dataset/image0375.jpg  \n",
            "  inflating: /datasets/dawn/train-dataset/image0361.jpg  \n",
            "  inflating: /datasets/dawn/train-dataset/image0407.jpg  \n",
            "  inflating: /datasets/dawn/train-dataset/image0349.jpg  \n",
            "  inflating: /datasets/dawn/train-dataset/image0075.txt  \n",
            "  inflating: /datasets/dawn/train-dataset/image0061.txt  \n",
            "  inflating: /datasets/dawn/train-dataset/image0387.jpg  \n",
            "  inflating: /datasets/dawn/train-dataset/image0393.jpg  \n",
            "  inflating: /datasets/dawn/train-dataset/image0087.txt  \n",
            "  inflating: /datasets/dawn/train-dataset/image0093.txt  \n",
            "  inflating: /datasets/dawn/train-dataset/image0422.jpg  \n",
            "  inflating: /datasets/dawn/train-dataset/image0344.jpg  \n",
            "  inflating: /datasets/dawn/train-dataset/image0078.txt  \n",
            "  inflating: /datasets/dawn/train-dataset/image0350.jpg  \n",
            "  inflating: /datasets/dawn/train-dataset/image0436.jpg  \n",
            "  inflating: /datasets/dawn/train-dataset/image0044.txt  \n",
            "  inflating: /datasets/dawn/train-dataset/image0378.jpg  \n",
            "  inflating: /datasets/dawn/train-dataset/image0050.txt  \n",
            "  inflating: /datasets/dawn/train-dataset/image0185.jpg  \n",
            "  inflating: /datasets/dawn/train-dataset/image0191.jpg  \n",
            "  inflating: /datasets/dawn/train-dataset/image0285.txt  \n",
            "  inflating: /datasets/dawn/train-dataset/image0291.txt  \n",
            "  inflating: /datasets/dawn/train-dataset/image0146.jpg  \n",
            "  inflating: /datasets/dawn/train-dataset/image0152.jpg  \n",
            "  inflating: /datasets/dawn/train-dataset/image0246.txt  \n",
            "  inflating: /datasets/dawn/train-dataset/image0252.txt  \n",
            "  inflating: /datasets/dawn/train-dataset/image0497.txt  \n",
            "  inflating: /datasets/dawn/train-dataset/image0483.txt  \n",
            "  inflating: /datasets/dawn/train-dataset/image0032.jpg  \n",
            "  inflating: /datasets/dawn/train-dataset/image0468.txt  \n",
            "  inflating: /datasets/dawn/train-dataset/image0026.jpg  \n",
            "  inflating: /datasets/dawn/train-dataset/image0332.txt  \n",
            "  inflating: /datasets/dawn/train-dataset/image0454.txt  \n",
            "  inflating: /datasets/dawn/train-dataset/image0440.txt  \n",
            "  inflating: /datasets/dawn/train-dataset/image0326.txt  \n",
            "  inflating: /datasets/dawn/train-dataset/image0230.jpg  \n",
            "  inflating: /datasets/dawn/train-dataset/image0118.txt  \n",
            "  inflating: /datasets/dawn/train-dataset/image0224.jpg  \n",
            "  inflating: /datasets/dawn/train-dataset/image0130.txt  \n",
            "  inflating: /datasets/dawn/train-dataset/image0218.jpg  \n",
            "  inflating: /datasets/dawn/train-dataset/image0124.txt  \n",
            "  inflating: /datasets/dawn/train-dataset/image0125.txt  \n",
            "  inflating: /datasets/dawn/train-dataset/image0219.jpg  \n",
            "  inflating: /datasets/dawn/train-dataset/image0131.txt  \n",
            "  inflating: /datasets/dawn/train-dataset/image0225.jpg  \n",
            "  inflating: /datasets/dawn/train-dataset/image0119.txt  \n",
            "  inflating: /datasets/dawn/train-dataset/image0231.jpg  \n",
            "  inflating: /datasets/dawn/train-dataset/image0441.txt  \n",
            "  inflating: /datasets/dawn/train-dataset/image0327.txt  \n",
            "  inflating: /datasets/dawn/train-dataset/image0333.txt  \n",
            "  inflating: /datasets/dawn/train-dataset/image0455.txt  \n",
            "  inflating: /datasets/dawn/train-dataset/image0027.jpg  \n",
            "  inflating: /datasets/dawn/train-dataset/image0033.jpg  \n",
            "  inflating: /datasets/dawn/train-dataset/image0469.txt  \n",
            "  inflating: /datasets/dawn/train-dataset/image0482.txt  \n",
            "  inflating: /datasets/dawn/train-dataset/image0496.txt  \n",
            "  inflating: /datasets/dawn/train-dataset/image0253.txt  \n",
            "  inflating: /datasets/dawn/train-dataset/image0247.txt  \n",
            "  inflating: /datasets/dawn/train-dataset/image0153.jpg  \n",
            "  inflating: /datasets/dawn/train-dataset/image0147.jpg  \n",
            "  inflating: /datasets/dawn/train-dataset/image0290.txt  \n",
            "  inflating: /datasets/dawn/train-dataset/image0284.txt  \n",
            "  inflating: /datasets/dawn/train-dataset/image0190.jpg  \n",
            "  inflating: /datasets/dawn/train-dataset/image0184.jpg  \n",
            "  inflating: /datasets/dawn/train-dataset/image0051.txt  \n",
            "  inflating: /datasets/dawn/train-dataset/image0379.jpg  \n",
            "  inflating: /datasets/dawn/train-dataset/image0045.txt  \n",
            "  inflating: /datasets/dawn/train-dataset/image0351.jpg  \n",
            "  inflating: /datasets/dawn/train-dataset/image0437.jpg  \n",
            "  inflating: /datasets/dawn/train-dataset/image0423.jpg  \n",
            "  inflating: /datasets/dawn/train-dataset/image0079.txt  \n",
            "  inflating: /datasets/dawn/train-dataset/image0345.jpg  \n",
            "  inflating: /datasets/dawn/train-dataset/image0092.txt  \n",
            "  inflating: /datasets/dawn/train-dataset/image0086.txt  \n",
            "  inflating: /datasets/dawn/train-dataset/image0392.jpg  \n",
            "  inflating: /datasets/dawn/train-dataset/image0386.jpg  \n",
            "  inflating: /datasets/dawn/train-dataset/image0390.jpg  \n",
            "  inflating: /datasets/dawn/train-dataset/image0384.jpg  \n",
            "  inflating: /datasets/dawn/train-dataset/image0090.txt  \n",
            "  inflating: /datasets/dawn/train-dataset/image0084.txt  \n",
            "  inflating: /datasets/dawn/train-dataset/image0435.jpg  \n",
            "  inflating: /datasets/dawn/train-dataset/image0353.jpg  \n",
            "  inflating: /datasets/dawn/train-dataset/image0347.jpg  \n",
            "  inflating: /datasets/dawn/train-dataset/image0421.jpg  \n",
            "  inflating: /datasets/dawn/train-dataset/image0409.jpg  \n",
            "  inflating: /datasets/dawn/train-dataset/image0053.txt  \n",
            "  inflating: /datasets/dawn/train-dataset/image0047.txt  \n",
            "  inflating: /datasets/dawn/train-dataset/image0192.jpg  \n",
            "  inflating: /datasets/dawn/train-dataset/image0186.jpg  \n",
            "  inflating: /datasets/dawn/train-dataset/image0292.txt  \n",
            "  inflating: /datasets/dawn/train-dataset/image0286.txt  \n",
            "  inflating: /datasets/dawn/train-dataset/image0151.jpg  \n",
            "  inflating: /datasets/dawn/train-dataset/image0279.txt  \n",
            "  inflating: /datasets/dawn/train-dataset/image0145.jpg  \n",
            "  inflating: /datasets/dawn/train-dataset/image0251.txt  \n",
            "  inflating: /datasets/dawn/train-dataset/image0179.jpg  \n",
            "  inflating: /datasets/dawn/train-dataset/image0245.txt  \n",
            "  inflating: /datasets/dawn/train-dataset/image0480.txt  \n",
            "  inflating: /datasets/dawn/train-dataset/image0494.txt  \n",
            "  inflating: /datasets/dawn/train-dataset/image0025.jpg  \n",
            "  inflating: /datasets/dawn/train-dataset/image0319.txt  \n",
            "  inflating: /datasets/dawn/train-dataset/image0031.jpg  \n",
            "  inflating: /datasets/dawn/train-dataset/image0325.txt  \n",
            "  inflating: /datasets/dawn/train-dataset/image0019.jpg  \n",
            "  inflating: /datasets/dawn/train-dataset/image0443.txt  \n",
            "  inflating: /datasets/dawn/train-dataset/image0457.txt  \n",
            "  inflating: /datasets/dawn/train-dataset/image0331.txt  \n",
            "  inflating: /datasets/dawn/train-dataset/image0227.jpg  \n",
            "  inflating: /datasets/dawn/train-dataset/image0233.jpg  \n",
            "  inflating: /datasets/dawn/train-dataset/image0127.txt  \n",
            "  inflating: /datasets/dawn/train-dataset/image0133.txt  \n",
            "  inflating: /datasets/dawn/train-dataset/image0132.txt  \n",
            "  inflating: /datasets/dawn/train-dataset/image0126.txt  \n",
            "  inflating: /datasets/dawn/train-dataset/image0232.jpg  \n",
            "  inflating: /datasets/dawn/train-dataset/image0226.jpg  \n",
            "  inflating: /datasets/dawn/train-dataset/image0456.txt  \n",
            "  inflating: /datasets/dawn/train-dataset/image0330.txt  \n",
            "  inflating: /datasets/dawn/train-dataset/image0018.jpg  \n",
            "  inflating: /datasets/dawn/train-dataset/image0324.txt  \n",
            "  inflating: /datasets/dawn/train-dataset/image0442.txt  \n",
            "  inflating: /datasets/dawn/train-dataset/image0030.jpg  \n",
            "  inflating: /datasets/dawn/train-dataset/image0318.txt  \n",
            "  inflating: /datasets/dawn/train-dataset/image0024.jpg  \n",
            "  inflating: /datasets/dawn/train-dataset/image0495.txt  \n",
            "  inflating: /datasets/dawn/train-dataset/image0481.txt  \n",
            "  inflating: /datasets/dawn/train-dataset/image0244.txt  \n",
            "  inflating: /datasets/dawn/train-dataset/image0178.jpg  \n",
            "  inflating: /datasets/dawn/train-dataset/image0250.txt  \n",
            "  inflating: /datasets/dawn/train-dataset/image0144.jpg  \n",
            "  inflating: /datasets/dawn/train-dataset/image0278.txt  \n",
            "  inflating: /datasets/dawn/train-dataset/image0150.jpg  \n",
            "  inflating: /datasets/dawn/train-dataset/image0287.txt  \n",
            "  inflating: /datasets/dawn/train-dataset/image0293.txt  \n",
            "  inflating: /datasets/dawn/train-dataset/image0187.jpg  \n",
            "  inflating: /datasets/dawn/train-dataset/image0193.jpg  \n",
            "  inflating: /datasets/dawn/train-dataset/image0046.txt  \n",
            "  inflating: /datasets/dawn/train-dataset/image0408.jpg  \n",
            "  inflating: /datasets/dawn/train-dataset/image0052.txt  \n",
            "  inflating: /datasets/dawn/train-dataset/image0346.jpg  \n",
            "  inflating: /datasets/dawn/train-dataset/image0420.jpg  \n",
            "  inflating: /datasets/dawn/train-dataset/image0434.jpg  \n",
            "  inflating: /datasets/dawn/train-dataset/image0352.jpg  \n",
            "  inflating: /datasets/dawn/train-dataset/image0085.txt  \n",
            "  inflating: /datasets/dawn/train-dataset/image0091.txt  \n",
            "  inflating: /datasets/dawn/train-dataset/image0385.jpg  \n",
            "  inflating: /datasets/dawn/train-dataset/image0391.jpg  \n",
            "  inflating: /datasets/dawn/train-dataset/image0095.txt  \n",
            "  inflating: /datasets/dawn/train-dataset/image0081.txt  \n",
            "  inflating: /datasets/dawn/train-dataset/image0395.jpg  \n",
            "  inflating: /datasets/dawn/train-dataset/image0381.jpg  \n",
            "  inflating: /datasets/dawn/train-dataset/image0056.txt  \n",
            "  inflating: /datasets/dawn/train-dataset/image0418.jpg  \n",
            "  inflating: /datasets/dawn/train-dataset/image0042.txt  \n",
            "  inflating: /datasets/dawn/train-dataset/image0356.jpg  \n",
            "  inflating: /datasets/dawn/train-dataset/image0430.jpg  \n",
            "  inflating: /datasets/dawn/train-dataset/image0424.jpg  \n",
            "  inflating: /datasets/dawn/train-dataset/image0342.jpg  \n",
            "  inflating: /datasets/dawn/train-dataset/image0297.txt  \n",
            "  inflating: /datasets/dawn/train-dataset/image0283.txt  \n",
            "  inflating: /datasets/dawn/train-dataset/image0197.jpg  \n",
            "  inflating: /datasets/dawn/train-dataset/image0183.jpg  \n",
            "  inflating: /datasets/dawn/train-dataset/image0254.txt  \n",
            "  inflating: /datasets/dawn/train-dataset/image0168.jpg  \n",
            "  inflating: /datasets/dawn/train-dataset/image0240.txt  \n",
            "  inflating: /datasets/dawn/train-dataset/image0154.jpg  \n",
            "  inflating: /datasets/dawn/train-dataset/image0268.txt  \n",
            "  inflating: /datasets/dawn/train-dataset/image0140.jpg  \n",
            "  inflating: /datasets/dawn/train-dataset/image0485.txt  \n",
            "  inflating: /datasets/dawn/train-dataset/image0491.txt  \n",
            "  inflating: /datasets/dawn/train-dataset/image0446.txt  \n",
            "  inflating: /datasets/dawn/train-dataset/image0320.txt  \n",
            "  inflating: /datasets/dawn/train-dataset/image0008.jpg  \n",
            "  inflating: /datasets/dawn/train-dataset/image0334.txt  \n",
            "  inflating: /datasets/dawn/train-dataset/image0452.txt  \n",
            "  inflating: /datasets/dawn/train-dataset/image0020.jpg  \n",
            "  inflating: /datasets/dawn/train-dataset/image0308.txt  \n",
            "  inflating: /datasets/dawn/train-dataset/image0034.jpg  \n",
            "  inflating: /datasets/dawn/train-dataset/image0122.txt  \n",
            "  inflating: /datasets/dawn/train-dataset/image0136.txt  \n",
            "  inflating: /datasets/dawn/train-dataset/image0222.jpg  \n",
            "  inflating: /datasets/dawn/train-dataset/image0236.jpg  \n",
            "  inflating: /datasets/dawn/train-dataset/image0237.jpg  \n",
            "  inflating: /datasets/dawn/train-dataset/image0223.jpg  \n",
            "  inflating: /datasets/dawn/train-dataset/image0137.txt  \n",
            "  inflating: /datasets/dawn/train-dataset/image0123.txt  \n",
            "  inflating: /datasets/dawn/train-dataset/image0035.jpg  \n",
            "  inflating: /datasets/dawn/train-dataset/image0309.txt  \n",
            "  inflating: /datasets/dawn/train-dataset/image0021.jpg  \n",
            "  inflating: /datasets/dawn/train-dataset/image0335.txt  \n",
            "  inflating: /datasets/dawn/train-dataset/image0009.jpg  \n",
            "  inflating: /datasets/dawn/train-dataset/image0453.txt  \n",
            "  inflating: /datasets/dawn/train-dataset/image0447.txt  \n",
            "  inflating: /datasets/dawn/train-dataset/image0321.txt  \n",
            "  inflating: /datasets/dawn/train-dataset/image0490.txt  \n",
            "  inflating: /datasets/dawn/train-dataset/image0484.txt  \n",
            "  inflating: /datasets/dawn/train-dataset/image0141.jpg  \n",
            "  inflating: /datasets/dawn/train-dataset/image0269.txt  \n",
            "  inflating: /datasets/dawn/train-dataset/image0155.jpg  \n",
            "  inflating: /datasets/dawn/train-dataset/image0241.txt  \n",
            "  inflating: /datasets/dawn/train-dataset/image0169.jpg  \n",
            "  inflating: /datasets/dawn/train-dataset/image0255.txt  \n",
            "  inflating: /datasets/dawn/train-dataset/image0182.jpg  \n",
            "  inflating: /datasets/dawn/train-dataset/image0196.jpg  \n",
            "  inflating: /datasets/dawn/train-dataset/image0282.txt  \n",
            "  inflating: /datasets/dawn/train-dataset/image0296.txt  \n",
            "  inflating: /datasets/dawn/train-dataset/image0425.jpg  \n",
            "  inflating: /datasets/dawn/train-dataset/image0343.jpg  \n",
            "  inflating: /datasets/dawn/train-dataset/image0357.jpg  \n",
            "  inflating: /datasets/dawn/train-dataset/image0431.jpg  \n",
            "  inflating: /datasets/dawn/train-dataset/image0419.jpg  \n",
            "  inflating: /datasets/dawn/train-dataset/image0043.txt  \n",
            "  inflating: /datasets/dawn/train-dataset/image0057.txt  \n",
            "  inflating: /datasets/dawn/train-dataset/image0380.jpg  \n",
            "  inflating: /datasets/dawn/train-dataset/image0394.jpg  \n",
            "  inflating: /datasets/dawn/train-dataset/image0080.txt  \n",
            "  inflating: /datasets/dawn/train-dataset/image0094.txt  \n",
            "  inflating: /datasets/dawn/train-dataset/image0082.txt  \n",
            "  inflating: /datasets/dawn/train-dataset/image0096.txt  \n",
            "  inflating: /datasets/dawn/train-dataset/image0382.jpg  \n",
            "  inflating: /datasets/dawn/train-dataset/image0396.jpg  \n",
            "  inflating: /datasets/dawn/train-dataset/image0041.txt  \n",
            "  inflating: /datasets/dawn/train-dataset/image0369.jpg  \n",
            "  inflating: /datasets/dawn/train-dataset/image0055.txt  \n",
            "  inflating: /datasets/dawn/train-dataset/image0341.jpg  \n",
            "  inflating: /datasets/dawn/train-dataset/image0427.jpg  \n",
            "  inflating: /datasets/dawn/train-dataset/image0433.jpg  \n",
            "  inflating: /datasets/dawn/train-dataset/image0069.txt  \n",
            "  inflating: /datasets/dawn/train-dataset/image0355.jpg  \n",
            "  inflating: /datasets/dawn/train-dataset/image0280.txt  \n",
            "  inflating: /datasets/dawn/train-dataset/image0294.txt  \n",
            "  inflating: /datasets/dawn/train-dataset/image0180.jpg  \n",
            "  inflating: /datasets/dawn/train-dataset/image0194.jpg  \n",
            "  inflating: /datasets/dawn/train-dataset/image0243.txt  \n",
            "  inflating: /datasets/dawn/train-dataset/image0257.txt  \n",
            "  inflating: /datasets/dawn/train-dataset/image0143.jpg  \n",
            "  inflating: /datasets/dawn/train-dataset/image0157.jpg  \n",
            "  inflating: /datasets/dawn/train-dataset/image0492.txt  \n",
            "  inflating: /datasets/dawn/train-dataset/image0486.txt  \n",
            "  inflating: /datasets/dawn/train-dataset/image0451.txt  \n",
            "  inflating: /datasets/dawn/train-dataset/image0337.txt  \n",
            "  inflating: /datasets/dawn/train-dataset/image0323.txt  \n",
            "  inflating: /datasets/dawn/train-dataset/image0445.txt  \n",
            "  inflating: /datasets/dawn/train-dataset/image0037.jpg  \n",
            "  inflating: /datasets/dawn/train-dataset/image0023.jpg  \n",
            "  inflating: /datasets/dawn/train-dataset/image0479.txt  \n",
            "  inflating: /datasets/dawn/train-dataset/image0135.txt  \n",
            "  inflating: /datasets/dawn/train-dataset/image0209.jpg  \n",
            "  inflating: /datasets/dawn/train-dataset/image0121.txt  \n",
            "  inflating: /datasets/dawn/train-dataset/image0235.jpg  \n",
            "  inflating: /datasets/dawn/train-dataset/image0109.txt  \n",
            "  inflating: /datasets/dawn/train-dataset/image0221.jpg  \n",
            "  inflating: /datasets/dawn/train-dataset/image0220.jpg  \n",
            "  inflating: /datasets/dawn/train-dataset/image0108.txt  \n",
            "  inflating: /datasets/dawn/train-dataset/image0234.jpg  \n",
            "  inflating: /datasets/dawn/train-dataset/image0120.txt  \n",
            "  inflating: /datasets/dawn/train-dataset/image0208.jpg  \n",
            "  inflating: /datasets/dawn/train-dataset/image0134.txt  \n",
            "  inflating: /datasets/dawn/train-dataset/image0022.jpg  \n",
            "  inflating: /datasets/dawn/train-dataset/image0478.txt  \n",
            "  inflating: /datasets/dawn/train-dataset/image0036.jpg  \n",
            "  inflating: /datasets/dawn/train-dataset/image0322.txt  \n",
            "  inflating: /datasets/dawn/train-dataset/image0444.txt  \n",
            "  inflating: /datasets/dawn/train-dataset/image0450.txt  \n",
            "  inflating: /datasets/dawn/train-dataset/image0336.txt  \n",
            "  inflating: /datasets/dawn/train-dataset/image0487.txt  \n",
            "  inflating: /datasets/dawn/train-dataset/image0493.txt  \n",
            "  inflating: /datasets/dawn/train-dataset/image0156.jpg  \n",
            "  inflating: /datasets/dawn/train-dataset/image0142.jpg  \n",
            "  inflating: /datasets/dawn/train-dataset/image0256.txt  \n",
            "  inflating: /datasets/dawn/train-dataset/image0242.txt  \n",
            "  inflating: /datasets/dawn/train-dataset/image0195.jpg  \n",
            "  inflating: /datasets/dawn/train-dataset/image0181.jpg  \n",
            "  inflating: /datasets/dawn/train-dataset/image0295.txt  \n",
            "  inflating: /datasets/dawn/train-dataset/image0281.txt  \n",
            "  inflating: /datasets/dawn/train-dataset/image0432.jpg  \n",
            "  inflating: /datasets/dawn/train-dataset/image0354.jpg  \n",
            "  inflating: /datasets/dawn/train-dataset/image0068.txt  \n",
            "  inflating: /datasets/dawn/train-dataset/image0340.jpg  \n",
            "  inflating: /datasets/dawn/train-dataset/image0426.jpg  \n",
            "  inflating: /datasets/dawn/train-dataset/image0054.txt  \n",
            "  inflating: /datasets/dawn/train-dataset/image0368.jpg  \n",
            "  inflating: /datasets/dawn/train-dataset/image0040.txt  \n",
            "  inflating: /datasets/dawn/train-dataset/image0397.jpg  \n",
            "  inflating: /datasets/dawn/train-dataset/image0383.jpg  \n",
            "  inflating: /datasets/dawn/train-dataset/image0097.txt  \n",
            "  inflating: /datasets/dawn/train-dataset/image0083.txt  \n",
            "  inflating: /datasets/dawn/train-dataset/image0482.jpg  \n",
            "  inflating: /datasets/dawn/train-dataset/image0496.jpg  \n",
            "  inflating: /datasets/dawn/train-dataset/image0327.jpg  \n",
            "  inflating: /datasets/dawn/train-dataset/image0441.jpg  \n",
            "  inflating: /datasets/dawn/train-dataset/image0455.jpg  \n",
            "  inflating: /datasets/dawn/train-dataset/image0333.jpg  \n",
            "  inflating: /datasets/dawn/train-dataset/image0027.txt  \n",
            "  inflating: /datasets/dawn/train-dataset/image0469.jpg  \n",
            "  inflating: /datasets/dawn/train-dataset/image0033.txt  \n",
            "  inflating: /datasets/dawn/train-dataset/image0125.jpg  \n",
            "  inflating: /datasets/dawn/train-dataset/image0219.txt  \n",
            "  inflating: /datasets/dawn/train-dataset/image0131.jpg  \n",
            "  inflating: /datasets/dawn/train-dataset/image0225.txt  \n",
            "  inflating: /datasets/dawn/train-dataset/image0119.jpg  \n",
            "  inflating: /datasets/dawn/train-dataset/image0231.txt  \n",
            "  inflating: /datasets/dawn/train-dataset/image0092.jpg  \n",
            "  inflating: /datasets/dawn/train-dataset/image0086.jpg  \n",
            "  inflating: /datasets/dawn/train-dataset/image0392.txt  \n",
            "  inflating: /datasets/dawn/train-dataset/image0386.txt  \n",
            "  inflating: /datasets/dawn/train-dataset/image0051.jpg  \n",
            "  inflating: /datasets/dawn/train-dataset/image0379.txt  \n",
            "  inflating: /datasets/dawn/train-dataset/image0045.jpg  \n",
            "  inflating: /datasets/dawn/train-dataset/image0437.txt  \n",
            "  inflating: /datasets/dawn/train-dataset/image0351.txt  \n",
            "  inflating: /datasets/dawn/train-dataset/image0079.jpg  \n",
            "  inflating: /datasets/dawn/train-dataset/image0345.txt  \n",
            "  inflating: /datasets/dawn/train-dataset/image0423.txt  \n",
            "  inflating: /datasets/dawn/train-dataset/image0290.jpg  \n",
            "  inflating: /datasets/dawn/train-dataset/image0284.jpg  \n",
            "  inflating: /datasets/dawn/train-dataset/image0190.txt  \n",
            "  inflating: /datasets/dawn/train-dataset/image0184.txt  \n",
            "  inflating: /datasets/dawn/train-dataset/image0253.jpg  \n",
            "  inflating: /datasets/dawn/train-dataset/image0247.jpg  \n",
            "  inflating: /datasets/dawn/train-dataset/image0153.txt  \n",
            "  inflating: /datasets/dawn/train-dataset/image0147.txt  \n",
            "  inflating: /datasets/dawn/train-dataset/image0146.txt  \n",
            "  inflating: /datasets/dawn/train-dataset/image0152.txt  \n",
            "  inflating: /datasets/dawn/train-dataset/image0246.jpg  \n",
            "  inflating: /datasets/dawn/train-dataset/image0252.jpg  \n",
            "  inflating: /datasets/dawn/train-dataset/image0185.txt  \n",
            "  inflating: /datasets/dawn/train-dataset/image0191.txt  \n",
            "  inflating: /datasets/dawn/train-dataset/image0285.jpg  \n",
            "  inflating: /datasets/dawn/train-dataset/image0291.jpg  \n",
            "  inflating: /datasets/dawn/train-dataset/image0344.txt  \n",
            "  inflating: /datasets/dawn/train-dataset/image0078.jpg  \n",
            "  inflating: /datasets/dawn/train-dataset/image0422.txt  \n",
            "  inflating: /datasets/dawn/train-dataset/image0436.txt  \n",
            "  inflating: /datasets/dawn/train-dataset/image0350.txt  \n",
            "  inflating: /datasets/dawn/train-dataset/image0044.jpg  \n",
            "  inflating: /datasets/dawn/train-dataset/image0378.txt  \n",
            "  inflating: /datasets/dawn/train-dataset/image0050.jpg  \n",
            "  inflating: /datasets/dawn/train-dataset/image0387.txt  \n",
            "  inflating: /datasets/dawn/train-dataset/image0393.txt  \n",
            "  inflating: /datasets/dawn/train-dataset/image0087.jpg  \n",
            "  inflating: /datasets/dawn/train-dataset/image0093.jpg  \n",
            "  inflating: /datasets/dawn/train-dataset/image0230.txt  \n",
            "  inflating: /datasets/dawn/train-dataset/image0118.jpg  \n",
            "  inflating: /datasets/dawn/train-dataset/image0224.txt  \n",
            "  inflating: /datasets/dawn/train-dataset/image0130.jpg  \n",
            "  inflating: /datasets/dawn/train-dataset/image0218.txt  \n",
            "  inflating: /datasets/dawn/train-dataset/image0124.jpg  \n",
            "  inflating: /datasets/dawn/train-dataset/image0468.jpg  \n",
            "  inflating: /datasets/dawn/train-dataset/image0032.txt  \n",
            "  inflating: /datasets/dawn/train-dataset/image0026.txt  \n",
            "  inflating: /datasets/dawn/train-dataset/image0454.jpg  \n",
            "  inflating: /datasets/dawn/train-dataset/image0332.jpg  \n",
            "  inflating: /datasets/dawn/train-dataset/image0326.jpg  \n",
            "  inflating: /datasets/dawn/train-dataset/image0440.jpg  \n",
            "  inflating: /datasets/dawn/train-dataset/image0497.jpg  \n",
            "  inflating: /datasets/dawn/train-dataset/image0483.jpg  \n",
            "  inflating: /datasets/dawn/train-dataset/image0495.jpg  \n",
            "  inflating: /datasets/dawn/train-dataset/image0481.jpg  \n",
            "  inflating: /datasets/dawn/train-dataset/image0330.jpg  \n",
            "  inflating: /datasets/dawn/train-dataset/image0456.jpg  \n",
            "  inflating: /datasets/dawn/train-dataset/image0442.jpg  \n",
            "  inflating: /datasets/dawn/train-dataset/image0018.txt  \n",
            "  inflating: /datasets/dawn/train-dataset/image0324.jpg  \n",
            "  inflating: /datasets/dawn/train-dataset/image0030.txt  \n",
            "  inflating: /datasets/dawn/train-dataset/image0318.jpg  \n",
            "  inflating: /datasets/dawn/train-dataset/image0024.txt  \n",
            "  inflating: /datasets/dawn/train-dataset/image0132.jpg  \n",
            "  inflating: /datasets/dawn/train-dataset/image0126.jpg  \n",
            "  inflating: /datasets/dawn/train-dataset/image0232.txt  \n",
            "  inflating: /datasets/dawn/train-dataset/image0226.txt  \n",
            "  inflating: /datasets/dawn/train-dataset/image0085.jpg  \n",
            "  inflating: /datasets/dawn/train-dataset/image0091.jpg  \n",
            "  inflating: /datasets/dawn/train-dataset/image0385.txt  \n",
            "  inflating: /datasets/dawn/train-dataset/image0391.txt  \n",
            "  inflating: /datasets/dawn/train-dataset/image0046.jpg  \n",
            "  inflating: /datasets/dawn/train-dataset/image0052.jpg  \n",
            "  inflating: /datasets/dawn/train-dataset/image0408.txt  \n",
            "  inflating: /datasets/dawn/train-dataset/image0420.txt  \n",
            "  inflating: /datasets/dawn/train-dataset/image0346.txt  \n",
            "  inflating: /datasets/dawn/train-dataset/image0352.txt  \n",
            "  inflating: /datasets/dawn/train-dataset/image0434.txt  \n",
            "  inflating: /datasets/dawn/train-dataset/image0287.jpg  \n",
            "  inflating: /datasets/dawn/train-dataset/image0293.jpg  \n",
            "  inflating: /datasets/dawn/train-dataset/image0187.txt  \n",
            "  inflating: /datasets/dawn/train-dataset/image0193.txt  \n",
            "  inflating: /datasets/dawn/train-dataset/image0244.jpg  \n",
            "  inflating: /datasets/dawn/train-dataset/image0178.txt  \n",
            "  inflating: /datasets/dawn/train-dataset/image0250.jpg  \n",
            "  inflating: /datasets/dawn/train-dataset/image0144.txt  \n",
            "  inflating: /datasets/dawn/train-dataset/image0278.jpg  \n",
            "  inflating: /datasets/dawn/train-dataset/image0150.txt  \n",
            "  inflating: /datasets/dawn/train-dataset/image0151.txt  \n",
            "  inflating: /datasets/dawn/train-dataset/image0279.jpg  \n",
            "  inflating: /datasets/dawn/train-dataset/image0145.txt  \n",
            "  inflating: /datasets/dawn/train-dataset/image0251.jpg  \n",
            "  inflating: /datasets/dawn/train-dataset/image0179.txt  \n",
            "  inflating: /datasets/dawn/train-dataset/image0245.jpg  \n",
            "  inflating: /datasets/dawn/train-dataset/image0192.txt  \n",
            "  inflating: /datasets/dawn/train-dataset/image0186.txt  \n",
            "  inflating: /datasets/dawn/train-dataset/image0292.jpg  \n",
            "  inflating: /datasets/dawn/train-dataset/image0286.jpg  \n",
            "  inflating: /datasets/dawn/train-dataset/image0353.txt  \n",
            "  inflating: /datasets/dawn/train-dataset/image0435.txt  \n",
            "  inflating: /datasets/dawn/train-dataset/image0421.txt  \n",
            "  inflating: /datasets/dawn/train-dataset/image0347.txt  \n",
            "  inflating: /datasets/dawn/train-dataset/image0053.jpg  \n",
            "  inflating: /datasets/dawn/train-dataset/image0409.txt  \n",
            "  inflating: /datasets/dawn/train-dataset/image0047.jpg  \n",
            "  inflating: /datasets/dawn/train-dataset/image0390.txt  \n",
            "  inflating: /datasets/dawn/train-dataset/image0384.txt  \n",
            "  inflating: /datasets/dawn/train-dataset/image0090.jpg  \n",
            "  inflating: /datasets/dawn/train-dataset/image0084.jpg  \n",
            "  inflating: /datasets/dawn/train-dataset/image0227.txt  \n",
            "  inflating: /datasets/dawn/train-dataset/image0233.txt  \n",
            "  inflating: /datasets/dawn/train-dataset/image0127.jpg  \n",
            "  inflating: /datasets/dawn/train-dataset/image0133.jpg  \n",
            "  inflating: /datasets/dawn/train-dataset/image0025.txt  \n",
            "  inflating: /datasets/dawn/train-dataset/image0319.jpg  \n",
            "  inflating: /datasets/dawn/train-dataset/image0031.txt  \n",
            "  inflating: /datasets/dawn/train-dataset/image0443.jpg  \n",
            "  inflating: /datasets/dawn/train-dataset/image0325.jpg  \n",
            "  inflating: /datasets/dawn/train-dataset/image0019.txt  \n",
            "  inflating: /datasets/dawn/train-dataset/image0331.jpg  \n",
            "  inflating: /datasets/dawn/train-dataset/image0457.jpg  \n",
            "  inflating: /datasets/dawn/train-dataset/image0480.jpg  \n",
            "  inflating: /datasets/dawn/train-dataset/image0494.jpg  \n",
            "  inflating: /datasets/dawn/train-dataset/image0490.jpg  \n",
            "  inflating: /datasets/dawn/train-dataset/image0484.jpg  \n",
            "  inflating: /datasets/dawn/train-dataset/image0035.txt  \n",
            "  inflating: /datasets/dawn/train-dataset/image0309.jpg  \n",
            "  inflating: /datasets/dawn/train-dataset/image0021.txt  \n",
            "  inflating: /datasets/dawn/train-dataset/image0453.jpg  \n",
            "  inflating: /datasets/dawn/train-dataset/image0335.jpg  \n",
            "  inflating: /datasets/dawn/train-dataset/image0009.txt  \n",
            "  inflating: /datasets/dawn/train-dataset/image0321.jpg  \n",
            "  inflating: /datasets/dawn/train-dataset/image0447.jpg  \n",
            "  inflating: /datasets/dawn/train-dataset/image0237.txt  \n",
            "  inflating: /datasets/dawn/train-dataset/image0223.txt  \n",
            "  inflating: /datasets/dawn/train-dataset/image0137.jpg  \n",
            "  inflating: /datasets/dawn/train-dataset/image0123.jpg  \n",
            "  inflating: /datasets/dawn/train-dataset/image0380.txt  \n",
            "  inflating: /datasets/dawn/train-dataset/image0394.txt  \n",
            "  inflating: /datasets/dawn/train-dataset/image0080.jpg  \n",
            "  inflating: /datasets/dawn/train-dataset/image0094.jpg  \n",
            "  inflating: /datasets/dawn/train-dataset/image0343.txt  \n",
            "  inflating: /datasets/dawn/train-dataset/image0425.txt  \n",
            "  inflating: /datasets/dawn/train-dataset/image0431.txt  \n",
            "  inflating: /datasets/dawn/train-dataset/image0357.txt  \n",
            "  inflating: /datasets/dawn/train-dataset/image0043.jpg  \n",
            "  inflating: /datasets/dawn/train-dataset/image0419.txt  \n",
            "  inflating: /datasets/dawn/train-dataset/image0057.jpg  \n",
            "  inflating: /datasets/dawn/train-dataset/image0182.txt  \n",
            "  inflating: /datasets/dawn/train-dataset/image0196.txt  \n",
            "  inflating: /datasets/dawn/train-dataset/image0282.jpg  \n",
            "  inflating: /datasets/dawn/train-dataset/image0296.jpg  \n",
            "  inflating: /datasets/dawn/train-dataset/image0141.txt  \n",
            "  inflating: /datasets/dawn/train-dataset/image0269.jpg  \n",
            "  inflating: /datasets/dawn/train-dataset/image0155.txt  \n",
            "  inflating: /datasets/dawn/train-dataset/image0241.jpg  \n",
            "  inflating: /datasets/dawn/train-dataset/image0169.txt  \n",
            "  inflating: /datasets/dawn/train-dataset/image0255.jpg  \n",
            "  inflating: /datasets/dawn/train-dataset/image0254.jpg  \n",
            "  inflating: /datasets/dawn/train-dataset/image0168.txt  \n",
            "  inflating: /datasets/dawn/train-dataset/image0240.jpg  \n",
            "  inflating: /datasets/dawn/train-dataset/image0154.txt  \n",
            "  inflating: /datasets/dawn/train-dataset/image0268.jpg  \n",
            "  inflating: /datasets/dawn/train-dataset/image0140.txt  \n",
            "  inflating: /datasets/dawn/train-dataset/image0297.jpg  \n",
            "  inflating: /datasets/dawn/train-dataset/image0283.jpg  \n",
            "  inflating: /datasets/dawn/train-dataset/image0197.txt  \n",
            "  inflating: /datasets/dawn/train-dataset/image0183.txt  \n",
            "  inflating: /datasets/dawn/train-dataset/image0056.jpg  \n",
            "  inflating: /datasets/dawn/train-dataset/image0042.jpg  \n",
            "  inflating: /datasets/dawn/train-dataset/image0418.txt  \n",
            "  inflating: /datasets/dawn/train-dataset/image0430.txt  \n",
            "  inflating: /datasets/dawn/train-dataset/image0356.txt  \n",
            "  inflating: /datasets/dawn/train-dataset/image0342.txt  \n",
            "  inflating: /datasets/dawn/train-dataset/image0424.txt  \n",
            "  inflating: /datasets/dawn/train-dataset/image0095.jpg  \n",
            "  inflating: /datasets/dawn/train-dataset/image0081.jpg  \n",
            "  inflating: /datasets/dawn/train-dataset/image0395.txt  \n",
            "  inflating: /datasets/dawn/train-dataset/image0381.txt  \n",
            "  inflating: /datasets/dawn/train-dataset/image0122.jpg  \n",
            "  inflating: /datasets/dawn/train-dataset/image0136.jpg  \n",
            "  inflating: /datasets/dawn/train-dataset/image0222.txt  \n",
            "  inflating: /datasets/dawn/train-dataset/image0236.txt  \n",
            "  inflating: /datasets/dawn/train-dataset/image0320.jpg  \n",
            "  inflating: /datasets/dawn/train-dataset/image0446.jpg  \n",
            "  inflating: /datasets/dawn/train-dataset/image0452.jpg  \n",
            "  inflating: /datasets/dawn/train-dataset/image0008.txt  \n",
            "  inflating: /datasets/dawn/train-dataset/image0334.jpg  \n",
            "  inflating: /datasets/dawn/train-dataset/image0020.txt  \n",
            "  inflating: /datasets/dawn/train-dataset/image0308.jpg  \n",
            "  inflating: /datasets/dawn/train-dataset/image0034.txt  \n",
            "  inflating: /datasets/dawn/train-dataset/image0485.jpg  \n",
            "  inflating: /datasets/dawn/train-dataset/image0491.jpg  \n",
            "  inflating: /datasets/dawn/train-dataset/image0487.jpg  \n",
            "  inflating: /datasets/dawn/train-dataset/image0493.jpg  \n",
            "  inflating: /datasets/dawn/train-dataset/image0478.jpg  \n",
            "  inflating: /datasets/dawn/train-dataset/image0022.txt  \n",
            "  inflating: /datasets/dawn/train-dataset/image0036.txt  \n",
            "  inflating: /datasets/dawn/train-dataset/image0444.jpg  \n",
            "  inflating: /datasets/dawn/train-dataset/image0322.jpg  \n",
            "  inflating: /datasets/dawn/train-dataset/image0336.jpg  \n",
            "  inflating: /datasets/dawn/train-dataset/image0450.jpg  \n",
            "  inflating: /datasets/dawn/train-dataset/image0220.txt  \n",
            "  inflating: /datasets/dawn/train-dataset/image0108.jpg  \n",
            "  inflating: /datasets/dawn/train-dataset/image0234.txt  \n",
            "  inflating: /datasets/dawn/train-dataset/image0120.jpg  \n",
            "  inflating: /datasets/dawn/train-dataset/image0208.txt  \n",
            "  inflating: /datasets/dawn/train-dataset/image0134.jpg  \n",
            "  inflating: /datasets/dawn/train-dataset/image0397.txt  \n",
            "  inflating: /datasets/dawn/train-dataset/image0383.txt  \n",
            "  inflating: /datasets/dawn/train-dataset/image0097.jpg  \n",
            "  inflating: /datasets/dawn/train-dataset/image0083.jpg  \n",
            "  inflating: /datasets/dawn/train-dataset/image0354.txt  \n",
            "  inflating: /datasets/dawn/train-dataset/image0068.jpg  \n",
            "  inflating: /datasets/dawn/train-dataset/image0432.txt  \n",
            "  inflating: /datasets/dawn/train-dataset/image0426.txt  \n",
            "  inflating: /datasets/dawn/train-dataset/image0340.txt  \n",
            "  inflating: /datasets/dawn/train-dataset/image0054.jpg  \n",
            "  inflating: /datasets/dawn/train-dataset/image0368.txt  \n",
            "  inflating: /datasets/dawn/train-dataset/image0040.jpg  \n",
            "  inflating: /datasets/dawn/train-dataset/image0195.txt  \n",
            "  inflating: /datasets/dawn/train-dataset/image0181.txt  \n",
            "  inflating: /datasets/dawn/train-dataset/image0295.jpg  \n",
            "  inflating: /datasets/dawn/train-dataset/image0281.jpg  \n",
            "  inflating: /datasets/dawn/train-dataset/image0156.txt  \n",
            "  inflating: /datasets/dawn/train-dataset/image0142.txt  \n",
            "  inflating: /datasets/dawn/train-dataset/image0256.jpg  \n",
            "  inflating: /datasets/dawn/train-dataset/image0242.jpg  \n",
            "  inflating: /datasets/dawn/train-dataset/image0243.jpg  \n",
            "  inflating: /datasets/dawn/train-dataset/image0257.jpg  \n",
            "  inflating: /datasets/dawn/train-dataset/image0143.txt  \n",
            "  inflating: /datasets/dawn/train-dataset/image0157.txt  \n",
            "  inflating: /datasets/dawn/train-dataset/image0280.jpg  \n",
            "  inflating: /datasets/dawn/train-dataset/image0294.jpg  \n",
            "  inflating: /datasets/dawn/train-dataset/image0180.txt  \n",
            "  inflating: /datasets/dawn/train-dataset/image0194.txt  \n",
            "  inflating: /datasets/dawn/train-dataset/image0041.jpg  \n",
            "  inflating: /datasets/dawn/train-dataset/image0369.txt  \n",
            "  inflating: /datasets/dawn/train-dataset/image0055.jpg  \n",
            "  inflating: /datasets/dawn/train-dataset/image0427.txt  \n",
            "  inflating: /datasets/dawn/train-dataset/image0341.txt  \n",
            "  inflating: /datasets/dawn/train-dataset/image0069.jpg  \n",
            "  inflating: /datasets/dawn/train-dataset/image0355.txt  \n",
            "  inflating: /datasets/dawn/train-dataset/image0433.txt  \n",
            "  inflating: /datasets/dawn/train-dataset/image0082.jpg  \n",
            "  inflating: /datasets/dawn/train-dataset/image0096.jpg  \n",
            "  inflating: /datasets/dawn/train-dataset/image0382.txt  \n",
            "  inflating: /datasets/dawn/train-dataset/image0396.txt  \n",
            "  inflating: /datasets/dawn/train-dataset/image0135.jpg  \n",
            "  inflating: /datasets/dawn/train-dataset/image0209.txt  \n",
            "  inflating: /datasets/dawn/train-dataset/image0121.jpg  \n",
            "  inflating: /datasets/dawn/train-dataset/image0235.txt  \n",
            "  inflating: /datasets/dawn/train-dataset/image0109.jpg  \n",
            "  inflating: /datasets/dawn/train-dataset/image0221.txt  \n",
            "  inflating: /datasets/dawn/train-dataset/image0337.jpg  \n",
            "  inflating: /datasets/dawn/train-dataset/image0451.jpg  \n",
            "  inflating: /datasets/dawn/train-dataset/image0445.jpg  \n",
            "  inflating: /datasets/dawn/train-dataset/image0323.jpg  \n",
            "  inflating: /datasets/dawn/train-dataset/image0037.txt  \n",
            "  inflating: /datasets/dawn/train-dataset/image0479.jpg  \n",
            "  inflating: /datasets/dawn/train-dataset/image0023.txt  \n",
            "  inflating: /datasets/dawn/train-dataset/image0492.jpg  \n",
            "  inflating: /datasets/dawn/train-dataset/image0486.jpg  \n",
            "   creating: /datasets/dawn/validation-dataset/\n",
            "  inflating: /datasets/dawn/validation-dataset/image0006.txt  \n",
            "  inflating: /datasets/dawn/validation-dataset/image0012.txt  \n",
            "  inflating: /datasets/dawn/validation-dataset/image0070.jpg  \n",
            "  inflating: /datasets/dawn/validation-dataset/image0064.jpg  \n",
            "  inflating: /datasets/dawn/validation-dataset/image0058.jpg  \n",
            "  inflating: /datasets/dawn/validation-dataset/image0059.jpg  \n",
            "  inflating: /datasets/dawn/validation-dataset/image0065.jpg  \n",
            "  inflating: /datasets/dawn/validation-dataset/image0071.jpg  \n",
            "  inflating: /datasets/dawn/validation-dataset/image0013.txt  \n",
            "  inflating: /datasets/dawn/validation-dataset/image0007.txt  \n",
            "  inflating: /datasets/dawn/validation-dataset/image0039.txt  \n",
            "  inflating: /datasets/dawn/validation-dataset/image0011.txt  \n",
            "  inflating: /datasets/dawn/validation-dataset/image0005.txt  \n",
            "  inflating: /datasets/dawn/validation-dataset/image0098.jpg  \n",
            "  inflating: /datasets/dawn/validation-dataset/image0067.jpg  \n",
            "  inflating: /datasets/dawn/validation-dataset/image0073.jpg  \n",
            "  inflating: /datasets/dawn/validation-dataset/image0072.jpg  \n",
            "  inflating: /datasets/dawn/validation-dataset/image0066.jpg  \n",
            "  inflating: /datasets/dawn/validation-dataset/image0099.jpg  \n",
            "  inflating: /datasets/dawn/validation-dataset/image0004.txt  \n",
            "  inflating: /datasets/dawn/validation-dataset/image0010.txt  \n",
            "  inflating: /datasets/dawn/validation-dataset/image0038.txt  \n",
            "  inflating: /datasets/dawn/validation-dataset/image0014.txt  \n",
            "  inflating: /datasets/dawn/validation-dataset/image0028.txt  \n",
            "  inflating: /datasets/dawn/validation-dataset/image0089.jpg  \n",
            "  inflating: /datasets/dawn/validation-dataset/image0062.jpg  \n",
            "  inflating: /datasets/dawn/validation-dataset/image0076.jpg  \n",
            "  inflating: /datasets/dawn/validation-dataset/image0077.jpg  \n",
            "  inflating: /datasets/dawn/validation-dataset/image0063.jpg  \n",
            "  inflating: /datasets/dawn/validation-dataset/image0088.jpg  \n",
            "  inflating: /datasets/dawn/validation-dataset/image0029.txt  \n",
            "  inflating: /datasets/dawn/validation-dataset/image0001.txt  \n",
            "  inflating: /datasets/dawn/validation-dataset/image0015.txt  \n",
            "  inflating: /datasets/dawn/validation-dataset/image0003.txt  \n",
            "  inflating: /datasets/dawn/validation-dataset/image0017.txt  \n",
            "  inflating: /datasets/dawn/validation-dataset/image0049.jpg  \n",
            "  inflating: /datasets/dawn/validation-dataset/image0075.jpg  \n",
            "  inflating: /datasets/dawn/validation-dataset/image0061.jpg  \n",
            "  inflating: /datasets/dawn/validation-dataset/image0060.jpg  \n",
            "  inflating: /datasets/dawn/validation-dataset/image0074.jpg  \n",
            "  inflating: /datasets/dawn/validation-dataset/image0048.jpg  \n",
            "  inflating: /datasets/dawn/validation-dataset/image0016.txt  \n",
            "  inflating: /datasets/dawn/validation-dataset/image0002.txt  \n",
            "  inflating: /datasets/dawn/validation-dataset/image0059.txt  \n",
            "  inflating: /datasets/dawn/validation-dataset/image0065.txt  \n",
            "  inflating: /datasets/dawn/validation-dataset/image0071.txt  \n",
            "  inflating: /datasets/dawn/validation-dataset/image0013.jpg  \n",
            "  inflating: /datasets/dawn/validation-dataset/image0007.jpg  \n",
            "  inflating: /datasets/dawn/validation-dataset/image0006.jpg  \n",
            "  inflating: /datasets/dawn/validation-dataset/image0012.jpg  \n",
            "  inflating: /datasets/dawn/validation-dataset/image0070.txt  \n",
            "  inflating: /datasets/dawn/validation-dataset/image0064.txt  \n",
            "  inflating: /datasets/dawn/validation-dataset/image0058.txt  \n",
            "  inflating: /datasets/dawn/validation-dataset/image0099.txt  \n",
            "  inflating: /datasets/dawn/validation-dataset/image0072.txt  \n",
            "  inflating: /datasets/dawn/validation-dataset/image0066.txt  \n",
            "  inflating: /datasets/dawn/validation-dataset/image0004.jpg  \n",
            "  inflating: /datasets/dawn/validation-dataset/image0010.jpg  \n",
            "  inflating: /datasets/dawn/validation-dataset/image0038.jpg  \n",
            "  inflating: /datasets/dawn/validation-dataset/image0039.jpg  \n",
            "  inflating: /datasets/dawn/validation-dataset/image0011.jpg  \n",
            "  inflating: /datasets/dawn/validation-dataset/image0005.jpg  \n",
            "  inflating: /datasets/dawn/validation-dataset/image0067.txt  \n",
            "  inflating: /datasets/dawn/validation-dataset/image0073.txt  \n",
            "  inflating: /datasets/dawn/validation-dataset/image0098.txt  \n",
            "  inflating: /datasets/dawn/validation-dataset/image0088.txt  \n",
            "  inflating: /datasets/dawn/validation-dataset/image0077.txt  \n",
            "  inflating: /datasets/dawn/validation-dataset/image0063.txt  \n",
            "  inflating: /datasets/dawn/validation-dataset/image0029.jpg  \n",
            "  inflating: /datasets/dawn/validation-dataset/image0001.jpg  \n",
            "  inflating: /datasets/dawn/validation-dataset/image0015.jpg  \n",
            "  inflating: /datasets/dawn/validation-dataset/image0014.jpg  \n",
            "  inflating: /datasets/dawn/validation-dataset/image0028.jpg  \n",
            "  inflating: /datasets/dawn/validation-dataset/image0062.txt  \n",
            "  inflating: /datasets/dawn/validation-dataset/image0076.txt  \n",
            "  inflating: /datasets/dawn/validation-dataset/image0089.txt  \n",
            "  inflating: /datasets/dawn/validation-dataset/image0060.txt  \n",
            "  inflating: /datasets/dawn/validation-dataset/image0074.txt  \n",
            "  inflating: /datasets/dawn/validation-dataset/image0048.txt  \n",
            "  inflating: /datasets/dawn/validation-dataset/image0016.jpg  \n",
            "  inflating: /datasets/dawn/validation-dataset/image0002.jpg  \n",
            "  inflating: /datasets/dawn/validation-dataset/image0003.jpg  \n",
            "  inflating: /datasets/dawn/validation-dataset/image0017.jpg  \n",
            "  inflating: /datasets/dawn/validation-dataset/image0049.txt  \n",
            "  inflating: /datasets/dawn/validation-dataset/image0075.txt  \n",
            "  inflating: /datasets/dawn/validation-dataset/image0061.txt  \n",
            "  inflating: /datasets/dawn/validation-dataset/image0087.txt  \n",
            "  inflating: /datasets/dawn/validation-dataset/image0093.txt  \n",
            "  inflating: /datasets/dawn/validation-dataset/image0078.txt  \n",
            "  inflating: /datasets/dawn/validation-dataset/image0044.txt  \n",
            "  inflating: /datasets/dawn/validation-dataset/image0050.txt  \n",
            "  inflating: /datasets/dawn/validation-dataset/image0032.jpg  \n",
            "  inflating: /datasets/dawn/validation-dataset/image0026.jpg  \n",
            "  inflating: /datasets/dawn/validation-dataset/image0027.jpg  \n",
            "  inflating: /datasets/dawn/validation-dataset/image0033.jpg  \n",
            "  inflating: /datasets/dawn/validation-dataset/image0051.txt  \n",
            "  inflating: /datasets/dawn/validation-dataset/image0045.txt  \n",
            "  inflating: /datasets/dawn/validation-dataset/image0079.txt  \n",
            "  inflating: /datasets/dawn/validation-dataset/image0092.txt  \n",
            "  inflating: /datasets/dawn/validation-dataset/image0086.txt  \n",
            "  inflating: /datasets/dawn/validation-dataset/image0090.txt  \n",
            "  inflating: /datasets/dawn/validation-dataset/image0084.txt  \n",
            "  inflating: /datasets/dawn/validation-dataset/image0053.txt  \n",
            "  inflating: /datasets/dawn/validation-dataset/image0047.txt  \n",
            "  inflating: /datasets/dawn/validation-dataset/image0025.jpg  \n",
            "  inflating: /datasets/dawn/validation-dataset/image0031.jpg  \n",
            "  inflating: /datasets/dawn/validation-dataset/image0019.jpg  \n",
            "  inflating: /datasets/dawn/validation-dataset/image0018.jpg  \n",
            "  inflating: /datasets/dawn/validation-dataset/image0030.jpg  \n",
            "  inflating: /datasets/dawn/validation-dataset/image0024.jpg  \n",
            "  inflating: /datasets/dawn/validation-dataset/image0046.txt  \n",
            "  inflating: /datasets/dawn/validation-dataset/image0052.txt  \n",
            "  inflating: /datasets/dawn/validation-dataset/image0085.txt  \n",
            "  inflating: /datasets/dawn/validation-dataset/image0091.txt  \n",
            "  inflating: /datasets/dawn/validation-dataset/image0095.txt  \n",
            "  inflating: /datasets/dawn/validation-dataset/image0081.txt  \n",
            "  inflating: /datasets/dawn/validation-dataset/image0056.txt  \n",
            "  inflating: /datasets/dawn/validation-dataset/image0042.txt  \n",
            "  inflating: /datasets/dawn/validation-dataset/image0008.jpg  \n",
            "  inflating: /datasets/dawn/validation-dataset/image0020.jpg  \n",
            "  inflating: /datasets/dawn/validation-dataset/image0034.jpg  \n",
            "  inflating: /datasets/dawn/validation-dataset/image0035.jpg  \n",
            "  inflating: /datasets/dawn/validation-dataset/image0021.jpg  \n",
            "  inflating: /datasets/dawn/validation-dataset/image0009.jpg  \n",
            "  inflating: /datasets/dawn/validation-dataset/image0043.txt  \n",
            "  inflating: /datasets/dawn/validation-dataset/image0057.txt  \n",
            "  inflating: /datasets/dawn/validation-dataset/image0080.txt  \n",
            "  inflating: /datasets/dawn/validation-dataset/image0094.txt  \n",
            "  inflating: /datasets/dawn/validation-dataset/image0082.txt  \n",
            "  inflating: /datasets/dawn/validation-dataset/image0096.txt  \n",
            "  inflating: /datasets/dawn/validation-dataset/image0041.txt  \n",
            "  inflating: /datasets/dawn/validation-dataset/image0055.txt  \n",
            "  inflating: /datasets/dawn/validation-dataset/image0069.txt  \n",
            "  inflating: /datasets/dawn/validation-dataset/image0037.jpg  \n",
            "  inflating: /datasets/dawn/validation-dataset/image0023.jpg  \n",
            "  inflating: /datasets/dawn/validation-dataset/image0022.jpg  \n",
            "  inflating: /datasets/dawn/validation-dataset/image0036.jpg  \n",
            "  inflating: /datasets/dawn/validation-dataset/image0068.txt  \n",
            "  inflating: /datasets/dawn/validation-dataset/image0054.txt  \n",
            "  inflating: /datasets/dawn/validation-dataset/image0040.txt  \n",
            "  inflating: /datasets/dawn/validation-dataset/image0097.txt  \n",
            "  inflating: /datasets/dawn/validation-dataset/image0083.txt  \n",
            "  inflating: /datasets/dawn/validation-dataset/image0027.txt  \n",
            "  inflating: /datasets/dawn/validation-dataset/image0033.txt  \n",
            "  inflating: /datasets/dawn/validation-dataset/image0092.jpg  \n",
            "  inflating: /datasets/dawn/validation-dataset/image0086.jpg  \n",
            "  inflating: /datasets/dawn/validation-dataset/image0051.jpg  \n",
            "  inflating: /datasets/dawn/validation-dataset/image0045.jpg  \n",
            "  inflating: /datasets/dawn/validation-dataset/image0079.jpg  \n",
            "  inflating: /datasets/dawn/validation-dataset/image0078.jpg  \n",
            "  inflating: /datasets/dawn/validation-dataset/image0044.jpg  \n",
            "  inflating: /datasets/dawn/validation-dataset/image0050.jpg  \n",
            "  inflating: /datasets/dawn/validation-dataset/image0087.jpg  \n",
            "  inflating: /datasets/dawn/validation-dataset/image0093.jpg  \n",
            "  inflating: /datasets/dawn/validation-dataset/image0032.txt  \n",
            "  inflating: /datasets/dawn/validation-dataset/image0026.txt  \n",
            "  inflating: /datasets/dawn/validation-dataset/image0018.txt  \n",
            "  inflating: /datasets/dawn/validation-dataset/image0030.txt  \n",
            "  inflating: /datasets/dawn/validation-dataset/image0024.txt  \n",
            "  inflating: /datasets/dawn/validation-dataset/image0085.jpg  \n",
            "  inflating: /datasets/dawn/validation-dataset/image0091.jpg  \n",
            "  inflating: /datasets/dawn/validation-dataset/image0046.jpg  \n",
            "  inflating: /datasets/dawn/validation-dataset/image0052.jpg  \n",
            "  inflating: /datasets/dawn/validation-dataset/image0053.jpg  \n",
            "  inflating: /datasets/dawn/validation-dataset/image0047.jpg  \n",
            "  inflating: /datasets/dawn/validation-dataset/image0090.jpg  \n",
            "  inflating: /datasets/dawn/validation-dataset/image0084.jpg  \n",
            "  inflating: /datasets/dawn/validation-dataset/image0025.txt  \n",
            "  inflating: /datasets/dawn/validation-dataset/image0031.txt  \n",
            "  inflating: /datasets/dawn/validation-dataset/image0019.txt  \n",
            "  inflating: /datasets/dawn/validation-dataset/image0035.txt  \n",
            "  inflating: /datasets/dawn/validation-dataset/image0021.txt  \n",
            "  inflating: /datasets/dawn/validation-dataset/image0009.txt  \n",
            "  inflating: /datasets/dawn/validation-dataset/image0080.jpg  \n",
            "  inflating: /datasets/dawn/validation-dataset/image0094.jpg  \n",
            "  inflating: /datasets/dawn/validation-dataset/image0043.jpg  \n",
            "  inflating: /datasets/dawn/validation-dataset/image0057.jpg  \n",
            "  inflating: /datasets/dawn/validation-dataset/image0056.jpg  \n",
            "  inflating: /datasets/dawn/validation-dataset/image0042.jpg  \n",
            "  inflating: /datasets/dawn/validation-dataset/image0095.jpg  \n",
            "  inflating: /datasets/dawn/validation-dataset/image0081.jpg  \n",
            "  inflating: /datasets/dawn/validation-dataset/image0008.txt  \n",
            "  inflating: /datasets/dawn/validation-dataset/image0020.txt  \n",
            "  inflating: /datasets/dawn/validation-dataset/image0034.txt  \n",
            "  inflating: /datasets/dawn/validation-dataset/image0022.txt  \n",
            "  inflating: /datasets/dawn/validation-dataset/image0036.txt  \n",
            "  inflating: /datasets/dawn/validation-dataset/image0097.jpg  \n",
            "  inflating: /datasets/dawn/validation-dataset/image0083.jpg  \n",
            "  inflating: /datasets/dawn/validation-dataset/image0068.jpg  \n",
            "  inflating: /datasets/dawn/validation-dataset/image0054.jpg  \n",
            "  inflating: /datasets/dawn/validation-dataset/image0040.jpg  \n",
            "  inflating: /datasets/dawn/validation-dataset/image0041.jpg  \n",
            "  inflating: /datasets/dawn/validation-dataset/image0055.jpg  \n",
            "  inflating: /datasets/dawn/validation-dataset/image0069.jpg  \n",
            "  inflating: /datasets/dawn/validation-dataset/image0082.jpg  \n",
            "  inflating: /datasets/dawn/validation-dataset/image0096.jpg  \n",
            "  inflating: /datasets/dawn/validation-dataset/image0037.txt  \n",
            "  inflating: /datasets/dawn/validation-dataset/image0023.txt  \n",
            "total 13K\n",
            "-rw------- 1 root root  155 Dec 22 14:06 dawn-train-dataset-colab.yml\n",
            "-rw------- 1 root root  471 Dec 22 14:06 dawn-train-dataset.yml\n",
            "drwx------ 2 root root 4.0K Dec 22 14:06 test-dataset\n",
            "drwx------ 2 root root 4.0K Dec 22 14:06 train-dataset\n",
            "drwx------ 2 root root 4.0K Dec 22 14:06 validation-dataset\n"
          ]
        }
      ]
    },
    {
      "cell_type": "code",
      "source": [
        "!pip install ultralytics"
      ],
      "metadata": {
        "colab": {
          "base_uri": "https://localhost:8080/"
        },
        "id": "xw19KzSmN_JP",
        "outputId": "60548bb1-044c-4245-a911-09aae03fd21c"
      },
      "id": "xw19KzSmN_JP",
      "execution_count": 5,
      "outputs": [
        {
          "output_type": "stream",
          "name": "stdout",
          "text": [
            "Collecting ultralytics\n",
            "  Downloading ultralytics-8.0.229-py3-none-any.whl (663 kB)\n",
            "\u001b[2K     \u001b[90m━━━━━━━━━━━━━━━━━━━━━━━━━━━━━━━━━━━━━━━━\u001b[0m \u001b[32m663.2/663.2 kB\u001b[0m \u001b[31m3.8 MB/s\u001b[0m eta \u001b[36m0:00:00\u001b[0m\n",
            "\u001b[?25hRequirement already satisfied: matplotlib>=3.3.0 in /usr/local/lib/python3.10/dist-packages (from ultralytics) (3.7.1)\n",
            "Requirement already satisfied: numpy>=1.22.2 in /usr/local/lib/python3.10/dist-packages (from ultralytics) (1.23.5)\n",
            "Requirement already satisfied: opencv-python>=4.6.0 in /usr/local/lib/python3.10/dist-packages (from ultralytics) (4.8.0.76)\n",
            "Requirement already satisfied: pillow>=7.1.2 in /usr/local/lib/python3.10/dist-packages (from ultralytics) (9.4.0)\n",
            "Requirement already satisfied: pyyaml>=5.3.1 in /usr/local/lib/python3.10/dist-packages (from ultralytics) (6.0.1)\n",
            "Requirement already satisfied: requests>=2.23.0 in /usr/local/lib/python3.10/dist-packages (from ultralytics) (2.31.0)\n",
            "Requirement already satisfied: scipy>=1.4.1 in /usr/local/lib/python3.10/dist-packages (from ultralytics) (1.11.4)\n",
            "Requirement already satisfied: torch>=1.8.0 in /usr/local/lib/python3.10/dist-packages (from ultralytics) (2.1.0+cu121)\n",
            "Requirement already satisfied: torchvision>=0.9.0 in /usr/local/lib/python3.10/dist-packages (from ultralytics) (0.16.0+cu121)\n",
            "Requirement already satisfied: tqdm>=4.64.0 in /usr/local/lib/python3.10/dist-packages (from ultralytics) (4.66.1)\n",
            "Requirement already satisfied: pandas>=1.1.4 in /usr/local/lib/python3.10/dist-packages (from ultralytics) (1.5.3)\n",
            "Requirement already satisfied: seaborn>=0.11.0 in /usr/local/lib/python3.10/dist-packages (from ultralytics) (0.12.2)\n",
            "Requirement already satisfied: psutil in /usr/local/lib/python3.10/dist-packages (from ultralytics) (5.9.5)\n",
            "Requirement already satisfied: py-cpuinfo in /usr/local/lib/python3.10/dist-packages (from ultralytics) (9.0.0)\n",
            "Collecting thop>=0.1.1 (from ultralytics)\n",
            "  Downloading thop-0.1.1.post2209072238-py3-none-any.whl (15 kB)\n",
            "Requirement already satisfied: contourpy>=1.0.1 in /usr/local/lib/python3.10/dist-packages (from matplotlib>=3.3.0->ultralytics) (1.2.0)\n",
            "Requirement already satisfied: cycler>=0.10 in /usr/local/lib/python3.10/dist-packages (from matplotlib>=3.3.0->ultralytics) (0.12.1)\n",
            "Requirement already satisfied: fonttools>=4.22.0 in /usr/local/lib/python3.10/dist-packages (from matplotlib>=3.3.0->ultralytics) (4.46.0)\n",
            "Requirement already satisfied: kiwisolver>=1.0.1 in /usr/local/lib/python3.10/dist-packages (from matplotlib>=3.3.0->ultralytics) (1.4.5)\n",
            "Requirement already satisfied: packaging>=20.0 in /usr/local/lib/python3.10/dist-packages (from matplotlib>=3.3.0->ultralytics) (23.2)\n",
            "Requirement already satisfied: pyparsing>=2.3.1 in /usr/local/lib/python3.10/dist-packages (from matplotlib>=3.3.0->ultralytics) (3.1.1)\n",
            "Requirement already satisfied: python-dateutil>=2.7 in /usr/local/lib/python3.10/dist-packages (from matplotlib>=3.3.0->ultralytics) (2.8.2)\n",
            "Requirement already satisfied: pytz>=2020.1 in /usr/local/lib/python3.10/dist-packages (from pandas>=1.1.4->ultralytics) (2023.3.post1)\n",
            "Requirement already satisfied: charset-normalizer<4,>=2 in /usr/local/lib/python3.10/dist-packages (from requests>=2.23.0->ultralytics) (3.3.2)\n",
            "Requirement already satisfied: idna<4,>=2.5 in /usr/local/lib/python3.10/dist-packages (from requests>=2.23.0->ultralytics) (3.6)\n",
            "Requirement already satisfied: urllib3<3,>=1.21.1 in /usr/local/lib/python3.10/dist-packages (from requests>=2.23.0->ultralytics) (2.0.7)\n",
            "Requirement already satisfied: certifi>=2017.4.17 in /usr/local/lib/python3.10/dist-packages (from requests>=2.23.0->ultralytics) (2023.11.17)\n",
            "Requirement already satisfied: filelock in /usr/local/lib/python3.10/dist-packages (from torch>=1.8.0->ultralytics) (3.13.1)\n",
            "Requirement already satisfied: typing-extensions in /usr/local/lib/python3.10/dist-packages (from torch>=1.8.0->ultralytics) (4.5.0)\n",
            "Requirement already satisfied: sympy in /usr/local/lib/python3.10/dist-packages (from torch>=1.8.0->ultralytics) (1.12)\n",
            "Requirement already satisfied: networkx in /usr/local/lib/python3.10/dist-packages (from torch>=1.8.0->ultralytics) (3.2.1)\n",
            "Requirement already satisfied: jinja2 in /usr/local/lib/python3.10/dist-packages (from torch>=1.8.0->ultralytics) (3.1.2)\n",
            "Requirement already satisfied: fsspec in /usr/local/lib/python3.10/dist-packages (from torch>=1.8.0->ultralytics) (2023.6.0)\n",
            "Requirement already satisfied: triton==2.1.0 in /usr/local/lib/python3.10/dist-packages (from torch>=1.8.0->ultralytics) (2.1.0)\n",
            "Requirement already satisfied: six>=1.5 in /usr/local/lib/python3.10/dist-packages (from python-dateutil>=2.7->matplotlib>=3.3.0->ultralytics) (1.16.0)\n",
            "Requirement already satisfied: MarkupSafe>=2.0 in /usr/local/lib/python3.10/dist-packages (from jinja2->torch>=1.8.0->ultralytics) (2.1.3)\n",
            "Requirement already satisfied: mpmath>=0.19 in /usr/local/lib/python3.10/dist-packages (from sympy->torch>=1.8.0->ultralytics) (1.3.0)\n",
            "Installing collected packages: thop, ultralytics\n",
            "Successfully installed thop-0.1.1.post2209072238 ultralytics-8.0.229\n"
          ]
        }
      ]
    },
    {
      "cell_type": "code",
      "source": [
        "from ultralytics import YOLO\n",
        "\n",
        "print(\"training scenario1\")\n",
        "# the yaml describes the config of the yolo model (which backbone to use, ...), the pt are the pretrained weights\n",
        "model = YOLO(\"yolov8.yaml\").load(\"yolov8n.pt\")\n",
        "# the data yaml describes training and validation datasets\n",
        "results = model.train(data=\"/datasets/dawn/dawn-train-dataset-colab.yml\", epochs=100, imgsz=640, verbose=True, plots=True)\n",
        "print(results)\n"
      ],
      "metadata": {
        "colab": {
          "base_uri": "https://localhost:8080/"
        },
        "id": "u70LrNtNOEOr",
        "outputId": "93977fea-d086-4443-9146-2725427a31f0"
      },
      "id": "u70LrNtNOEOr",
      "execution_count": 7,
      "outputs": [
        {
          "output_type": "stream",
          "name": "stdout",
          "text": [
            "training scenario1\n",
            "WARNING ⚠️ no model scale passed. Assuming scale='n'.\n",
            "\n",
            "                   from  n    params  module                                       arguments                     \n",
            "  0                  -1  1       464  ultralytics.nn.modules.conv.Conv             [3, 16, 3, 2]                 \n",
            "  1                  -1  1      4672  ultralytics.nn.modules.conv.Conv             [16, 32, 3, 2]                \n",
            "  2                  -1  1      7360  ultralytics.nn.modules.block.C2f             [32, 32, 1, True]             \n",
            "  3                  -1  1     18560  ultralytics.nn.modules.conv.Conv             [32, 64, 3, 2]                \n",
            "  4                  -1  2     49664  ultralytics.nn.modules.block.C2f             [64, 64, 2, True]             \n",
            "  5                  -1  1     73984  ultralytics.nn.modules.conv.Conv             [64, 128, 3, 2]               \n",
            "  6                  -1  2    197632  ultralytics.nn.modules.block.C2f             [128, 128, 2, True]           \n",
            "  7                  -1  1    295424  ultralytics.nn.modules.conv.Conv             [128, 256, 3, 2]              \n",
            "  8                  -1  1    460288  ultralytics.nn.modules.block.C2f             [256, 256, 1, True]           \n",
            "  9                  -1  1    164608  ultralytics.nn.modules.block.SPPF            [256, 256, 5]                 \n",
            " 10                  -1  1         0  torch.nn.modules.upsampling.Upsample         [None, 2, 'nearest']          \n",
            " 11             [-1, 6]  1         0  ultralytics.nn.modules.conv.Concat           [1]                           \n",
            " 12                  -1  1    148224  ultralytics.nn.modules.block.C2f             [384, 128, 1]                 \n",
            " 13                  -1  1         0  torch.nn.modules.upsampling.Upsample         [None, 2, 'nearest']          \n",
            " 14             [-1, 4]  1         0  ultralytics.nn.modules.conv.Concat           [1]                           \n",
            " 15                  -1  1     37248  ultralytics.nn.modules.block.C2f             [192, 64, 1]                  \n",
            " 16                  -1  1     36992  ultralytics.nn.modules.conv.Conv             [64, 64, 3, 2]                \n",
            " 17            [-1, 12]  1         0  ultralytics.nn.modules.conv.Concat           [1]                           \n",
            " 18                  -1  1    123648  ultralytics.nn.modules.block.C2f             [192, 128, 1]                 \n",
            " 19                  -1  1    147712  ultralytics.nn.modules.conv.Conv             [128, 128, 3, 2]              \n",
            " 20             [-1, 9]  1         0  ultralytics.nn.modules.conv.Concat           [1]                           \n",
            " 21                  -1  1    493056  ultralytics.nn.modules.block.C2f             [384, 256, 1]                 \n",
            " 22        [15, 18, 21]  1    897664  ultralytics.nn.modules.head.Detect           [80, [64, 128, 256]]          \n",
            "YOLOv8 summary: 225 layers, 3157200 parameters, 3157184 gradients, 8.9 GFLOPs\n",
            "\n",
            "Transferred 355/355 items from pretrained weights\n",
            "Ultralytics YOLOv8.0.229 🚀 Python-3.10.12 torch-2.1.0+cu121 CUDA:0 (Tesla T4, 15102MiB)\n",
            "\u001b[34m\u001b[1mengine/trainer: \u001b[0mtask=detect, mode=train, model=yolov8.yaml, data=/datasets/dawn/dawn-train-dataset-colab.yml, epochs=100, time=None, patience=50, batch=16, imgsz=640, save=True, save_period=-1, cache=False, device=None, workers=8, project=None, name=train2, exist_ok=False, pretrained=True, optimizer=auto, verbose=True, seed=0, deterministic=True, single_cls=False, rect=False, cos_lr=False, close_mosaic=10, resume=False, amp=True, fraction=1.0, profile=False, freeze=None, overlap_mask=True, mask_ratio=4, dropout=0.0, val=True, split=val, save_json=False, save_hybrid=False, conf=None, iou=0.7, max_det=300, half=False, dnn=False, plots=True, source=None, vid_stride=1, stream_buffer=False, visualize=False, augment=False, agnostic_nms=False, classes=None, retina_masks=False, embed=None, show=False, save_frames=False, save_txt=False, save_conf=False, save_crop=False, show_labels=True, show_conf=True, show_boxes=True, line_width=None, format=torchscript, keras=False, optimize=False, int8=False, dynamic=False, simplify=False, opset=None, workspace=4, nms=False, lr0=0.01, lrf=0.01, momentum=0.937, weight_decay=0.0005, warmup_epochs=3.0, warmup_momentum=0.8, warmup_bias_lr=0.1, box=7.5, cls=0.5, dfl=1.5, pose=12.0, kobj=1.0, label_smoothing=0.0, nbs=64, hsv_h=0.015, hsv_s=0.7, hsv_v=0.4, degrees=0.0, translate=0.1, scale=0.5, shear=0.0, perspective=0.0, flipud=0.0, fliplr=0.5, mosaic=1.0, mixup=0.0, copy_paste=0.0, cfg=None, tracker=botsort.yaml, save_dir=runs/detect/train2\n",
            "Downloading https://ultralytics.com/assets/Arial.ttf to '/root/.config/Ultralytics/Arial.ttf'...\n"
          ]
        },
        {
          "output_type": "stream",
          "name": "stderr",
          "text": [
            "100%|██████████| 755k/755k [00:00<00:00, 16.7MB/s]\n"
          ]
        },
        {
          "output_type": "stream",
          "name": "stdout",
          "text": [
            "Overriding model.yaml nc=80 with nc=2\n",
            "WARNING ⚠️ no model scale passed. Assuming scale='n'.\n",
            "\n",
            "                   from  n    params  module                                       arguments                     \n",
            "  0                  -1  1       464  ultralytics.nn.modules.conv.Conv             [3, 16, 3, 2]                 \n",
            "  1                  -1  1      4672  ultralytics.nn.modules.conv.Conv             [16, 32, 3, 2]                \n",
            "  2                  -1  1      7360  ultralytics.nn.modules.block.C2f             [32, 32, 1, True]             \n",
            "  3                  -1  1     18560  ultralytics.nn.modules.conv.Conv             [32, 64, 3, 2]                \n",
            "  4                  -1  2     49664  ultralytics.nn.modules.block.C2f             [64, 64, 2, True]             \n",
            "  5                  -1  1     73984  ultralytics.nn.modules.conv.Conv             [64, 128, 3, 2]               \n",
            "  6                  -1  2    197632  ultralytics.nn.modules.block.C2f             [128, 128, 2, True]           \n",
            "  7                  -1  1    295424  ultralytics.nn.modules.conv.Conv             [128, 256, 3, 2]              \n",
            "  8                  -1  1    460288  ultralytics.nn.modules.block.C2f             [256, 256, 1, True]           \n",
            "  9                  -1  1    164608  ultralytics.nn.modules.block.SPPF            [256, 256, 5]                 \n",
            " 10                  -1  1         0  torch.nn.modules.upsampling.Upsample         [None, 2, 'nearest']          \n",
            " 11             [-1, 6]  1         0  ultralytics.nn.modules.conv.Concat           [1]                           \n",
            " 12                  -1  1    148224  ultralytics.nn.modules.block.C2f             [384, 128, 1]                 \n",
            " 13                  -1  1         0  torch.nn.modules.upsampling.Upsample         [None, 2, 'nearest']          \n",
            " 14             [-1, 4]  1         0  ultralytics.nn.modules.conv.Concat           [1]                           \n",
            " 15                  -1  1     37248  ultralytics.nn.modules.block.C2f             [192, 64, 1]                  \n",
            " 16                  -1  1     36992  ultralytics.nn.modules.conv.Conv             [64, 64, 3, 2]                \n",
            " 17            [-1, 12]  1         0  ultralytics.nn.modules.conv.Concat           [1]                           \n",
            " 18                  -1  1    123648  ultralytics.nn.modules.block.C2f             [192, 128, 1]                 \n",
            " 19                  -1  1    147712  ultralytics.nn.modules.conv.Conv             [128, 128, 3, 2]              \n",
            " 20             [-1, 9]  1         0  ultralytics.nn.modules.conv.Concat           [1]                           \n",
            " 21                  -1  1    493056  ultralytics.nn.modules.block.C2f             [384, 256, 1]                 \n",
            " 22        [15, 18, 21]  1    751702  ultralytics.nn.modules.head.Detect           [2, [64, 128, 256]]           \n",
            "YOLOv8 summary: 225 layers, 3011238 parameters, 3011222 gradients, 8.2 GFLOPs\n",
            "\n",
            "Transferred 319/355 items from pretrained weights\n",
            "\u001b[34m\u001b[1mTensorBoard: \u001b[0mStart with 'tensorboard --logdir runs/detect/train2', view at http://localhost:6006/\n",
            "Freezing layer 'model.22.dfl.conv.weight'\n",
            "\u001b[34m\u001b[1mAMP: \u001b[0mrunning Automatic Mixed Precision (AMP) checks with YOLOv8n...\n",
            "WARNING ⚠️ NMS time limit 0.550s exceeded\n",
            "\u001b[34m\u001b[1mAMP: \u001b[0mchecks passed ✅\n"
          ]
        },
        {
          "output_type": "stream",
          "name": "stderr",
          "text": [
            "\u001b[34m\u001b[1mtrain: \u001b[0mScanning /content/gdrive/My Drive/datasets/dawn/train-dataset... 501 images, 0 backgrounds, 0 corrupt: 100%|██████████| 501/501 [00:02<00:00, 220.27it/s]\n"
          ]
        },
        {
          "output_type": "stream",
          "name": "stdout",
          "text": [
            "\u001b[34m\u001b[1mtrain: \u001b[0mNew cache created: /content/gdrive/My Drive/datasets/dawn/train-dataset.cache\n",
            "\u001b[34m\u001b[1malbumentations: \u001b[0mBlur(p=0.01, blur_limit=(3, 7)), MedianBlur(p=0.01, blur_limit=(3, 7)), ToGray(p=0.01), CLAHE(p=0.01, clip_limit=(1, 4.0), tile_grid_size=(8, 8))\n"
          ]
        },
        {
          "output_type": "stream",
          "name": "stderr",
          "text": [
            "\u001b[34m\u001b[1mval: \u001b[0mScanning /content/gdrive/My Drive/datasets/dawn/validation-dataset... 99 images, 0 backgrounds, 0 corrupt: 100%|██████████| 99/99 [00:00<00:00, 139.54it/s]\n"
          ]
        },
        {
          "output_type": "stream",
          "name": "stdout",
          "text": [
            "\u001b[34m\u001b[1mval: \u001b[0mNew cache created: /content/gdrive/My Drive/datasets/dawn/validation-dataset.cache\n",
            "Plotting labels to runs/detect/train2/labels.jpg... \n",
            "\u001b[34m\u001b[1moptimizer:\u001b[0m 'optimizer=auto' found, ignoring 'lr0=0.01' and 'momentum=0.937' and determining best 'optimizer', 'lr0' and 'momentum' automatically... \n",
            "\u001b[34m\u001b[1moptimizer:\u001b[0m AdamW(lr=0.001667, momentum=0.9) with parameter groups 57 weight(decay=0.0), 64 weight(decay=0.0005), 63 bias(decay=0.0)\n",
            "100 epochs...\n",
            "\n",
            "      Epoch    GPU_mem   box_loss   cls_loss   dfl_loss  Instances       Size\n"
          ]
        },
        {
          "output_type": "stream",
          "name": "stderr",
          "text": [
            "      1/100      2.85G      1.401      2.234      1.123         33        640: 100%|██████████| 32/32 [00:24<00:00,  1.32it/s]\n",
            "                 Class     Images  Instances      Box(P          R      mAP50  mAP50-95): 100%|██████████| 4/4 [00:04<00:00,  1.01s/it]"
          ]
        },
        {
          "output_type": "stream",
          "name": "stdout",
          "text": [
            "                   all         99        572       0.98      0.108      0.269      0.177\n"
          ]
        },
        {
          "output_type": "stream",
          "name": "stderr",
          "text": [
            "\n"
          ]
        },
        {
          "output_type": "stream",
          "name": "stdout",
          "text": [
            "\n",
            "      Epoch    GPU_mem   box_loss   cls_loss   dfl_loss  Instances       Size\n"
          ]
        },
        {
          "output_type": "stream",
          "name": "stderr",
          "text": [
            "      2/100      2.68G      1.301      1.294      1.111         32        640: 100%|██████████| 32/32 [00:15<00:00,  2.01it/s]\n",
            "                 Class     Images  Instances      Box(P          R      mAP50  mAP50-95): 100%|██████████| 4/4 [00:02<00:00,  1.75it/s]"
          ]
        },
        {
          "output_type": "stream",
          "name": "stdout",
          "text": [
            "                   all         99        572      0.789      0.143       0.19      0.111\n"
          ]
        },
        {
          "output_type": "stream",
          "name": "stderr",
          "text": [
            "\n"
          ]
        },
        {
          "output_type": "stream",
          "name": "stdout",
          "text": [
            "\n",
            "      Epoch    GPU_mem   box_loss   cls_loss   dfl_loss  Instances       Size\n"
          ]
        },
        {
          "output_type": "stream",
          "name": "stderr",
          "text": [
            "      3/100      2.62G      1.346      1.254      1.132         28        640: 100%|██████████| 32/32 [00:15<00:00,  2.05it/s]\n",
            "                 Class     Images  Instances      Box(P          R      mAP50  mAP50-95): 100%|██████████| 4/4 [00:03<00:00,  1.15it/s]"
          ]
        },
        {
          "output_type": "stream",
          "name": "stdout",
          "text": [
            "                   all         99        572      0.907      0.216      0.303      0.184\n"
          ]
        },
        {
          "output_type": "stream",
          "name": "stderr",
          "text": [
            "\n"
          ]
        },
        {
          "output_type": "stream",
          "name": "stdout",
          "text": [
            "\n",
            "      Epoch    GPU_mem   box_loss   cls_loss   dfl_loss  Instances       Size\n"
          ]
        },
        {
          "output_type": "stream",
          "name": "stderr",
          "text": [
            "      4/100      2.55G      1.331      1.179      1.141         74        640: 100%|██████████| 32/32 [00:16<00:00,  1.99it/s]\n",
            "                 Class     Images  Instances      Box(P          R      mAP50  mAP50-95): 100%|██████████| 4/4 [00:01<00:00,  2.23it/s]\n"
          ]
        },
        {
          "output_type": "stream",
          "name": "stdout",
          "text": [
            "                   all         99        572      0.387      0.318      0.376      0.234\n",
            "\n",
            "      Epoch    GPU_mem   box_loss   cls_loss   dfl_loss  Instances       Size\n"
          ]
        },
        {
          "output_type": "stream",
          "name": "stderr",
          "text": [
            "      5/100      2.88G      1.315      1.141      1.115         93        640: 100%|██████████| 32/32 [00:15<00:00,  2.01it/s]\n",
            "                 Class     Images  Instances      Box(P          R      mAP50  mAP50-95): 100%|██████████| 4/4 [00:01<00:00,  2.22it/s]"
          ]
        },
        {
          "output_type": "stream",
          "name": "stdout",
          "text": [
            "                   all         99        572      0.693      0.371      0.407      0.268\n"
          ]
        },
        {
          "output_type": "stream",
          "name": "stderr",
          "text": [
            "\n"
          ]
        },
        {
          "output_type": "stream",
          "name": "stdout",
          "text": [
            "\n",
            "      Epoch    GPU_mem   box_loss   cls_loss   dfl_loss  Instances       Size\n"
          ]
        },
        {
          "output_type": "stream",
          "name": "stderr",
          "text": [
            "      6/100      2.93G      1.292      1.126       1.12         72        640: 100%|██████████| 32/32 [00:15<00:00,  2.03it/s]\n",
            "                 Class     Images  Instances      Box(P          R      mAP50  mAP50-95): 100%|██████████| 4/4 [00:01<00:00,  2.15it/s]"
          ]
        },
        {
          "output_type": "stream",
          "name": "stdout",
          "text": [
            "                   all         99        572       0.41      0.369      0.443      0.285\n"
          ]
        },
        {
          "output_type": "stream",
          "name": "stderr",
          "text": [
            "\n"
          ]
        },
        {
          "output_type": "stream",
          "name": "stdout",
          "text": [
            "\n",
            "      Epoch    GPU_mem   box_loss   cls_loss   dfl_loss  Instances       Size\n"
          ]
        },
        {
          "output_type": "stream",
          "name": "stderr",
          "text": [
            "      7/100      2.61G      1.274      1.024      1.093         35        640: 100%|██████████| 32/32 [00:16<00:00,  2.00it/s]\n",
            "                 Class     Images  Instances      Box(P          R      mAP50  mAP50-95): 100%|██████████| 4/4 [00:03<00:00,  1.28it/s]"
          ]
        },
        {
          "output_type": "stream",
          "name": "stdout",
          "text": [
            "                   all         99        572      0.528      0.478      0.445      0.282\n"
          ]
        },
        {
          "output_type": "stream",
          "name": "stderr",
          "text": [
            "\n"
          ]
        },
        {
          "output_type": "stream",
          "name": "stdout",
          "text": [
            "\n",
            "      Epoch    GPU_mem   box_loss   cls_loss   dfl_loss  Instances       Size\n"
          ]
        },
        {
          "output_type": "stream",
          "name": "stderr",
          "text": [
            "      8/100      2.56G       1.25     0.9868      1.079         88        640: 100%|██████████| 32/32 [00:16<00:00,  1.93it/s]\n",
            "                 Class     Images  Instances      Box(P          R      mAP50  mAP50-95): 100%|██████████| 4/4 [00:02<00:00,  1.84it/s]\n"
          ]
        },
        {
          "output_type": "stream",
          "name": "stdout",
          "text": [
            "                   all         99        572      0.408      0.366      0.435      0.274\n",
            "\n",
            "      Epoch    GPU_mem   box_loss   cls_loss   dfl_loss  Instances       Size\n"
          ]
        },
        {
          "output_type": "stream",
          "name": "stderr",
          "text": [
            "      9/100      2.42G      1.223       0.95      1.084         87        640: 100%|██████████| 32/32 [00:16<00:00,  1.95it/s]\n",
            "                 Class     Images  Instances      Box(P          R      mAP50  mAP50-95): 100%|██████████| 4/4 [00:01<00:00,  2.17it/s]"
          ]
        },
        {
          "output_type": "stream",
          "name": "stdout",
          "text": [
            "                   all         99        572      0.514      0.476      0.489      0.316\n"
          ]
        },
        {
          "output_type": "stream",
          "name": "stderr",
          "text": [
            "\n"
          ]
        },
        {
          "output_type": "stream",
          "name": "stdout",
          "text": [
            "\n",
            "      Epoch    GPU_mem   box_loss   cls_loss   dfl_loss  Instances       Size\n"
          ]
        },
        {
          "output_type": "stream",
          "name": "stderr",
          "text": [
            "     10/100      2.76G       1.25     0.9539      1.091         60        640: 100%|██████████| 32/32 [00:15<00:00,  2.02it/s]\n",
            "                 Class     Images  Instances      Box(P          R      mAP50  mAP50-95): 100%|██████████| 4/4 [00:01<00:00,  2.23it/s]"
          ]
        },
        {
          "output_type": "stream",
          "name": "stdout",
          "text": [
            "                   all         99        572      0.489      0.456      0.481      0.308\n"
          ]
        },
        {
          "output_type": "stream",
          "name": "stderr",
          "text": [
            "\n"
          ]
        },
        {
          "output_type": "stream",
          "name": "stdout",
          "text": [
            "\n",
            "      Epoch    GPU_mem   box_loss   cls_loss   dfl_loss  Instances       Size\n"
          ]
        },
        {
          "output_type": "stream",
          "name": "stderr",
          "text": [
            "     11/100      2.73G      1.216      0.904      1.066         76        640: 100%|██████████| 32/32 [00:16<00:00,  1.98it/s]\n",
            "                 Class     Images  Instances      Box(P          R      mAP50  mAP50-95): 100%|██████████| 4/4 [00:01<00:00,  2.11it/s]\n"
          ]
        },
        {
          "output_type": "stream",
          "name": "stdout",
          "text": [
            "                   all         99        572      0.933      0.359       0.49      0.316\n",
            "\n",
            "      Epoch    GPU_mem   box_loss   cls_loss   dfl_loss  Instances       Size\n"
          ]
        },
        {
          "output_type": "stream",
          "name": "stderr",
          "text": [
            "     12/100       2.6G      1.218     0.9161      1.079         42        640: 100%|██████████| 32/32 [00:15<00:00,  2.06it/s]\n",
            "                 Class     Images  Instances      Box(P          R      mAP50  mAP50-95): 100%|██████████| 4/4 [00:02<00:00,  1.37it/s]"
          ]
        },
        {
          "output_type": "stream",
          "name": "stdout",
          "text": [
            "                   all         99        572      0.555      0.449      0.504      0.335\n"
          ]
        },
        {
          "output_type": "stream",
          "name": "stderr",
          "text": [
            "\n"
          ]
        },
        {
          "output_type": "stream",
          "name": "stdout",
          "text": [
            "\n",
            "      Epoch    GPU_mem   box_loss   cls_loss   dfl_loss  Instances       Size\n"
          ]
        },
        {
          "output_type": "stream",
          "name": "stderr",
          "text": [
            "     13/100      2.94G      1.221     0.9152      1.078         56        640: 100%|██████████| 32/32 [00:15<00:00,  2.00it/s]\n",
            "                 Class     Images  Instances      Box(P          R      mAP50  mAP50-95): 100%|██████████| 4/4 [00:01<00:00,  2.41it/s]\n"
          ]
        },
        {
          "output_type": "stream",
          "name": "stdout",
          "text": [
            "                   all         99        572      0.478      0.445       0.54      0.338\n",
            "\n",
            "      Epoch    GPU_mem   box_loss   cls_loss   dfl_loss  Instances       Size\n"
          ]
        },
        {
          "output_type": "stream",
          "name": "stderr",
          "text": [
            "     14/100      2.55G      1.204     0.8722      1.059         43        640: 100%|██████████| 32/32 [00:15<00:00,  2.03it/s]\n",
            "                 Class     Images  Instances      Box(P          R      mAP50  mAP50-95): 100%|██████████| 4/4 [00:01<00:00,  2.12it/s]\n"
          ]
        },
        {
          "output_type": "stream",
          "name": "stdout",
          "text": [
            "                   all         99        572      0.554      0.618      0.599      0.394\n",
            "\n",
            "      Epoch    GPU_mem   box_loss   cls_loss   dfl_loss  Instances       Size\n"
          ]
        },
        {
          "output_type": "stream",
          "name": "stderr",
          "text": [
            "     15/100      2.41G      1.181     0.8579      1.059        125        640: 100%|██████████| 32/32 [00:15<00:00,  2.03it/s]\n",
            "                 Class     Images  Instances      Box(P          R      mAP50  mAP50-95): 100%|██████████| 4/4 [00:01<00:00,  2.23it/s]\n"
          ]
        },
        {
          "output_type": "stream",
          "name": "stdout",
          "text": [
            "                   all         99        572      0.593      0.565       0.54       0.35\n",
            "\n",
            "      Epoch    GPU_mem   box_loss   cls_loss   dfl_loss  Instances       Size\n"
          ]
        },
        {
          "output_type": "stream",
          "name": "stderr",
          "text": [
            "     16/100      2.56G      1.153     0.8352      1.057         34        640: 100%|██████████| 32/32 [00:15<00:00,  2.03it/s]\n",
            "                 Class     Images  Instances      Box(P          R      mAP50  mAP50-95): 100%|██████████| 4/4 [00:01<00:00,  2.25it/s]\n"
          ]
        },
        {
          "output_type": "stream",
          "name": "stdout",
          "text": [
            "                   all         99        572       0.54      0.566      0.563      0.369\n",
            "\n",
            "      Epoch    GPU_mem   box_loss   cls_loss   dfl_loss  Instances       Size\n"
          ]
        },
        {
          "output_type": "stream",
          "name": "stderr",
          "text": [
            "     17/100      2.41G      1.193     0.8468      1.062         76        640: 100%|██████████| 32/32 [00:20<00:00,  1.54it/s]\n",
            "                 Class     Images  Instances      Box(P          R      mAP50  mAP50-95): 100%|██████████| 4/4 [00:01<00:00,  2.23it/s]\n"
          ]
        },
        {
          "output_type": "stream",
          "name": "stdout",
          "text": [
            "                   all         99        572      0.834      0.445      0.526      0.336\n",
            "\n",
            "      Epoch    GPU_mem   box_loss   cls_loss   dfl_loss  Instances       Size\n"
          ]
        },
        {
          "output_type": "stream",
          "name": "stderr",
          "text": [
            "     18/100      2.75G      1.148     0.8081      1.041         47        640: 100%|██████████| 32/32 [00:15<00:00,  2.02it/s]\n",
            "                 Class     Images  Instances      Box(P          R      mAP50  mAP50-95): 100%|██████████| 4/4 [00:01<00:00,  2.26it/s]"
          ]
        },
        {
          "output_type": "stream",
          "name": "stdout",
          "text": [
            "                   all         99        572      0.911       0.37      0.449      0.287\n"
          ]
        },
        {
          "output_type": "stream",
          "name": "stderr",
          "text": [
            "\n"
          ]
        },
        {
          "output_type": "stream",
          "name": "stdout",
          "text": [
            "\n",
            "      Epoch    GPU_mem   box_loss   cls_loss   dfl_loss  Instances       Size\n"
          ]
        },
        {
          "output_type": "stream",
          "name": "stderr",
          "text": [
            "     19/100      2.85G      1.178     0.8267      1.059         53        640: 100%|██████████| 32/32 [00:15<00:00,  2.01it/s]\n",
            "                 Class     Images  Instances      Box(P          R      mAP50  mAP50-95): 100%|██████████| 4/4 [00:01<00:00,  2.09it/s]"
          ]
        },
        {
          "output_type": "stream",
          "name": "stdout",
          "text": [
            "                   all         99        572      0.551      0.496      0.503      0.334\n"
          ]
        },
        {
          "output_type": "stream",
          "name": "stderr",
          "text": [
            "\n"
          ]
        },
        {
          "output_type": "stream",
          "name": "stdout",
          "text": [
            "\n",
            "      Epoch    GPU_mem   box_loss   cls_loss   dfl_loss  Instances       Size\n"
          ]
        },
        {
          "output_type": "stream",
          "name": "stderr",
          "text": [
            "     20/100      2.52G      1.168     0.8323      1.068         18        640: 100%|██████████| 32/32 [00:15<00:00,  2.02it/s]\n",
            "                 Class     Images  Instances      Box(P          R      mAP50  mAP50-95): 100%|██████████| 4/4 [00:02<00:00,  1.67it/s]"
          ]
        },
        {
          "output_type": "stream",
          "name": "stdout",
          "text": [
            "                   all         99        572      0.547      0.609       0.58      0.374\n"
          ]
        },
        {
          "output_type": "stream",
          "name": "stderr",
          "text": [
            "\n"
          ]
        },
        {
          "output_type": "stream",
          "name": "stdout",
          "text": [
            "\n",
            "      Epoch    GPU_mem   box_loss   cls_loss   dfl_loss  Instances       Size\n"
          ]
        },
        {
          "output_type": "stream",
          "name": "stderr",
          "text": [
            "     21/100      2.65G      1.179     0.7971      1.057         74        640: 100%|██████████| 32/32 [00:15<00:00,  2.03it/s]\n",
            "                 Class     Images  Instances      Box(P          R      mAP50  mAP50-95): 100%|██████████| 4/4 [00:02<00:00,  1.38it/s]\n"
          ]
        },
        {
          "output_type": "stream",
          "name": "stdout",
          "text": [
            "                   all         99        572      0.536       0.59      0.504      0.322\n",
            "\n",
            "      Epoch    GPU_mem   box_loss   cls_loss   dfl_loss  Instances       Size\n"
          ]
        },
        {
          "output_type": "stream",
          "name": "stderr",
          "text": [
            "     22/100      2.45G      1.125     0.7748      1.038         41        640: 100%|██████████| 32/32 [00:15<00:00,  2.06it/s]\n",
            "                 Class     Images  Instances      Box(P          R      mAP50  mAP50-95): 100%|██████████| 4/4 [00:01<00:00,  2.29it/s]\n"
          ]
        },
        {
          "output_type": "stream",
          "name": "stdout",
          "text": [
            "                   all         99        572      0.545      0.536      0.531      0.337\n",
            "\n",
            "      Epoch    GPU_mem   box_loss   cls_loss   dfl_loss  Instances       Size\n"
          ]
        },
        {
          "output_type": "stream",
          "name": "stderr",
          "text": [
            "     23/100      2.43G      1.158     0.7724      1.044         54        640: 100%|██████████| 32/32 [00:15<00:00,  2.01it/s]\n",
            "                 Class     Images  Instances      Box(P          R      mAP50  mAP50-95): 100%|██████████| 4/4 [00:01<00:00,  2.20it/s]\n"
          ]
        },
        {
          "output_type": "stream",
          "name": "stdout",
          "text": [
            "                   all         99        572      0.615      0.492      0.549      0.368\n",
            "\n",
            "      Epoch    GPU_mem   box_loss   cls_loss   dfl_loss  Instances       Size\n"
          ]
        },
        {
          "output_type": "stream",
          "name": "stderr",
          "text": [
            "     24/100      2.67G      1.124     0.7721      1.046         81        640: 100%|██████████| 32/32 [00:15<00:00,  2.02it/s]\n",
            "                 Class     Images  Instances      Box(P          R      mAP50  mAP50-95): 100%|██████████| 4/4 [00:01<00:00,  2.14it/s]"
          ]
        },
        {
          "output_type": "stream",
          "name": "stdout",
          "text": [
            "                   all         99        572      0.451      0.502       0.54      0.355\n"
          ]
        },
        {
          "output_type": "stream",
          "name": "stderr",
          "text": [
            "\n"
          ]
        },
        {
          "output_type": "stream",
          "name": "stdout",
          "text": [
            "\n",
            "      Epoch    GPU_mem   box_loss   cls_loss   dfl_loss  Instances       Size\n"
          ]
        },
        {
          "output_type": "stream",
          "name": "stderr",
          "text": [
            "     25/100      2.58G      1.125     0.7566      1.041         85        640: 100%|██████████| 32/32 [00:15<00:00,  2.02it/s]\n",
            "                 Class     Images  Instances      Box(P          R      mAP50  mAP50-95): 100%|██████████| 4/4 [00:01<00:00,  2.20it/s]"
          ]
        },
        {
          "output_type": "stream",
          "name": "stdout",
          "text": [
            "                   all         99        572      0.752      0.421      0.544      0.359\n"
          ]
        },
        {
          "output_type": "stream",
          "name": "stderr",
          "text": [
            "\n"
          ]
        },
        {
          "output_type": "stream",
          "name": "stdout",
          "text": [
            "\n",
            "      Epoch    GPU_mem   box_loss   cls_loss   dfl_loss  Instances       Size\n"
          ]
        },
        {
          "output_type": "stream",
          "name": "stderr",
          "text": [
            "     26/100      2.56G      1.137     0.7675      1.045         62        640: 100%|██████████| 32/32 [00:15<00:00,  2.08it/s]\n",
            "                 Class     Images  Instances      Box(P          R      mAP50  mAP50-95): 100%|██████████| 4/4 [00:03<00:00,  1.30it/s]"
          ]
        },
        {
          "output_type": "stream",
          "name": "stdout",
          "text": [
            "                   all         99        572      0.646      0.512      0.581      0.389\n"
          ]
        },
        {
          "output_type": "stream",
          "name": "stderr",
          "text": [
            "\n"
          ]
        },
        {
          "output_type": "stream",
          "name": "stdout",
          "text": [
            "\n",
            "      Epoch    GPU_mem   box_loss   cls_loss   dfl_loss  Instances       Size\n"
          ]
        },
        {
          "output_type": "stream",
          "name": "stderr",
          "text": [
            "     27/100      2.76G      1.086     0.7133      1.015         60        640: 100%|██████████| 32/32 [00:16<00:00,  1.93it/s]\n",
            "                 Class     Images  Instances      Box(P          R      mAP50  mAP50-95): 100%|██████████| 4/4 [00:01<00:00,  2.62it/s]"
          ]
        },
        {
          "output_type": "stream",
          "name": "stdout",
          "text": [
            "                   all         99        572      0.554       0.52      0.559      0.376\n"
          ]
        },
        {
          "output_type": "stream",
          "name": "stderr",
          "text": [
            "\n"
          ]
        },
        {
          "output_type": "stream",
          "name": "stdout",
          "text": [
            "\n",
            "      Epoch    GPU_mem   box_loss   cls_loss   dfl_loss  Instances       Size\n"
          ]
        },
        {
          "output_type": "stream",
          "name": "stderr",
          "text": [
            "     28/100      2.51G      1.122     0.7498      1.034         70        640: 100%|██████████| 32/32 [00:15<00:00,  2.05it/s]\n",
            "                 Class     Images  Instances      Box(P          R      mAP50  mAP50-95): 100%|██████████| 4/4 [00:01<00:00,  2.12it/s]\n"
          ]
        },
        {
          "output_type": "stream",
          "name": "stdout",
          "text": [
            "                   all         99        572      0.712      0.473      0.588      0.385\n",
            "\n",
            "      Epoch    GPU_mem   box_loss   cls_loss   dfl_loss  Instances       Size\n"
          ]
        },
        {
          "output_type": "stream",
          "name": "stderr",
          "text": [
            "     29/100      2.55G      1.115     0.7355      1.025         78        640: 100%|██████████| 32/32 [00:15<00:00,  2.01it/s]\n",
            "                 Class     Images  Instances      Box(P          R      mAP50  mAP50-95): 100%|██████████| 4/4 [00:02<00:00,  1.96it/s]"
          ]
        },
        {
          "output_type": "stream",
          "name": "stdout",
          "text": [
            "                   all         99        572      0.675       0.58      0.598      0.392\n"
          ]
        },
        {
          "output_type": "stream",
          "name": "stderr",
          "text": [
            "\n"
          ]
        },
        {
          "output_type": "stream",
          "name": "stdout",
          "text": [
            "\n",
            "      Epoch    GPU_mem   box_loss   cls_loss   dfl_loss  Instances       Size\n"
          ]
        },
        {
          "output_type": "stream",
          "name": "stderr",
          "text": [
            "     30/100       2.5G      1.122      0.743      1.033         32        640: 100%|██████████| 32/32 [00:15<00:00,  2.00it/s]\n",
            "                 Class     Images  Instances      Box(P          R      mAP50  mAP50-95): 100%|██████████| 4/4 [00:01<00:00,  2.33it/s]"
          ]
        },
        {
          "output_type": "stream",
          "name": "stdout",
          "text": [
            "                   all         99        572      0.664      0.581      0.616      0.407\n"
          ]
        },
        {
          "output_type": "stream",
          "name": "stderr",
          "text": [
            "\n"
          ]
        },
        {
          "output_type": "stream",
          "name": "stdout",
          "text": [
            "\n",
            "      Epoch    GPU_mem   box_loss   cls_loss   dfl_loss  Instances       Size\n"
          ]
        },
        {
          "output_type": "stream",
          "name": "stderr",
          "text": [
            "     31/100       2.9G      1.096      0.738      1.037         66        640: 100%|██████████| 32/32 [00:15<00:00,  2.09it/s]\n",
            "                 Class     Images  Instances      Box(P          R      mAP50  mAP50-95): 100%|██████████| 4/4 [00:03<00:00,  1.30it/s]"
          ]
        },
        {
          "output_type": "stream",
          "name": "stdout",
          "text": [
            "                   all         99        572      0.547      0.561      0.572      0.381\n"
          ]
        },
        {
          "output_type": "stream",
          "name": "stderr",
          "text": [
            "\n"
          ]
        },
        {
          "output_type": "stream",
          "name": "stdout",
          "text": [
            "\n",
            "      Epoch    GPU_mem   box_loss   cls_loss   dfl_loss  Instances       Size\n"
          ]
        },
        {
          "output_type": "stream",
          "name": "stderr",
          "text": [
            "     32/100      2.62G       1.09     0.7212      1.027         77        640: 100%|██████████| 32/32 [00:15<00:00,  2.08it/s]\n",
            "                 Class     Images  Instances      Box(P          R      mAP50  mAP50-95): 100%|██████████| 4/4 [00:02<00:00,  1.84it/s]\n"
          ]
        },
        {
          "output_type": "stream",
          "name": "stdout",
          "text": [
            "                   all         99        572      0.615      0.582      0.588      0.384\n",
            "\n",
            "      Epoch    GPU_mem   box_loss   cls_loss   dfl_loss  Instances       Size\n"
          ]
        },
        {
          "output_type": "stream",
          "name": "stderr",
          "text": [
            "     33/100      2.56G      1.092      0.709      1.021         97        640: 100%|██████████| 32/32 [00:15<00:00,  2.01it/s]\n",
            "                 Class     Images  Instances      Box(P          R      mAP50  mAP50-95): 100%|██████████| 4/4 [00:01<00:00,  2.47it/s]"
          ]
        },
        {
          "output_type": "stream",
          "name": "stdout",
          "text": [
            "                   all         99        572      0.607      0.601      0.589      0.398\n"
          ]
        },
        {
          "output_type": "stream",
          "name": "stderr",
          "text": [
            "\n"
          ]
        },
        {
          "output_type": "stream",
          "name": "stdout",
          "text": [
            "\n",
            "      Epoch    GPU_mem   box_loss   cls_loss   dfl_loss  Instances       Size\n"
          ]
        },
        {
          "output_type": "stream",
          "name": "stderr",
          "text": [
            "     34/100      2.82G      1.075     0.6946      1.013         58        640: 100%|██████████| 32/32 [00:16<00:00,  1.99it/s]\n",
            "                 Class     Images  Instances      Box(P          R      mAP50  mAP50-95): 100%|██████████| 4/4 [00:01<00:00,  2.32it/s]"
          ]
        },
        {
          "output_type": "stream",
          "name": "stdout",
          "text": [
            "                   all         99        572      0.628      0.648      0.625      0.412\n"
          ]
        },
        {
          "output_type": "stream",
          "name": "stderr",
          "text": [
            "\n"
          ]
        },
        {
          "output_type": "stream",
          "name": "stdout",
          "text": [
            "\n",
            "      Epoch    GPU_mem   box_loss   cls_loss   dfl_loss  Instances       Size\n"
          ]
        },
        {
          "output_type": "stream",
          "name": "stderr",
          "text": [
            "     35/100      2.61G      1.099     0.7056       1.02         91        640: 100%|██████████| 32/32 [00:15<00:00,  2.08it/s]\n",
            "                 Class     Images  Instances      Box(P          R      mAP50  mAP50-95): 100%|██████████| 4/4 [00:01<00:00,  2.09it/s]"
          ]
        },
        {
          "output_type": "stream",
          "name": "stdout",
          "text": [
            "                   all         99        572      0.719      0.501      0.582      0.378\n"
          ]
        },
        {
          "output_type": "stream",
          "name": "stderr",
          "text": [
            "\n"
          ]
        },
        {
          "output_type": "stream",
          "name": "stdout",
          "text": [
            "\n",
            "      Epoch    GPU_mem   box_loss   cls_loss   dfl_loss  Instances       Size\n"
          ]
        },
        {
          "output_type": "stream",
          "name": "stderr",
          "text": [
            "     36/100      2.69G      1.067     0.6902      1.017         32        640: 100%|██████████| 32/32 [00:15<00:00,  2.06it/s]\n",
            "                 Class     Images  Instances      Box(P          R      mAP50  mAP50-95): 100%|██████████| 4/4 [00:02<00:00,  1.35it/s]"
          ]
        },
        {
          "output_type": "stream",
          "name": "stdout",
          "text": [
            "                   all         99        572      0.493      0.576      0.586      0.394\n"
          ]
        },
        {
          "output_type": "stream",
          "name": "stderr",
          "text": [
            "\n"
          ]
        },
        {
          "output_type": "stream",
          "name": "stdout",
          "text": [
            "\n",
            "      Epoch    GPU_mem   box_loss   cls_loss   dfl_loss  Instances       Size\n"
          ]
        },
        {
          "output_type": "stream",
          "name": "stderr",
          "text": [
            "     37/100      2.81G       1.05     0.6752      1.015         30        640: 100%|██████████| 32/32 [00:16<00:00,  1.96it/s]\n",
            "                 Class     Images  Instances      Box(P          R      mAP50  mAP50-95): 100%|██████████| 4/4 [00:01<00:00,  2.28it/s]"
          ]
        },
        {
          "output_type": "stream",
          "name": "stdout",
          "text": [
            "                   all         99        572      0.519       0.54      0.571      0.381\n"
          ]
        },
        {
          "output_type": "stream",
          "name": "stderr",
          "text": [
            "\n"
          ]
        },
        {
          "output_type": "stream",
          "name": "stdout",
          "text": [
            "\n",
            "      Epoch    GPU_mem   box_loss   cls_loss   dfl_loss  Instances       Size\n"
          ]
        },
        {
          "output_type": "stream",
          "name": "stderr",
          "text": [
            "     38/100      2.66G      1.061     0.6805      1.012        105        640: 100%|██████████| 32/32 [00:15<00:00,  2.02it/s]\n",
            "                 Class     Images  Instances      Box(P          R      mAP50  mAP50-95): 100%|██████████| 4/4 [00:01<00:00,  2.16it/s]"
          ]
        },
        {
          "output_type": "stream",
          "name": "stdout",
          "text": [
            "                   all         99        572      0.652      0.469      0.537      0.356\n"
          ]
        },
        {
          "output_type": "stream",
          "name": "stderr",
          "text": [
            "\n"
          ]
        },
        {
          "output_type": "stream",
          "name": "stdout",
          "text": [
            "\n",
            "      Epoch    GPU_mem   box_loss   cls_loss   dfl_loss  Instances       Size\n"
          ]
        },
        {
          "output_type": "stream",
          "name": "stderr",
          "text": [
            "     39/100      2.75G       1.08     0.6953      1.017         45        640: 100%|██████████| 32/32 [00:15<00:00,  2.01it/s]\n",
            "                 Class     Images  Instances      Box(P          R      mAP50  mAP50-95): 100%|██████████| 4/4 [00:02<00:00,  1.93it/s]"
          ]
        },
        {
          "output_type": "stream",
          "name": "stdout",
          "text": [
            "                   all         99        572      0.534      0.557      0.573      0.387\n"
          ]
        },
        {
          "output_type": "stream",
          "name": "stderr",
          "text": [
            "\n"
          ]
        },
        {
          "output_type": "stream",
          "name": "stdout",
          "text": [
            "\n",
            "      Epoch    GPU_mem   box_loss   cls_loss   dfl_loss  Instances       Size\n"
          ]
        },
        {
          "output_type": "stream",
          "name": "stderr",
          "text": [
            "     40/100      2.75G      1.063     0.6844      1.014         61        640: 100%|██████████| 32/32 [00:16<00:00,  1.99it/s]\n",
            "                 Class     Images  Instances      Box(P          R      mAP50  mAP50-95): 100%|██████████| 4/4 [00:02<00:00,  1.94it/s]"
          ]
        },
        {
          "output_type": "stream",
          "name": "stdout",
          "text": [
            "                   all         99        572       0.66      0.578      0.575      0.393\n"
          ]
        },
        {
          "output_type": "stream",
          "name": "stderr",
          "text": [
            "\n"
          ]
        },
        {
          "output_type": "stream",
          "name": "stdout",
          "text": [
            "\n",
            "      Epoch    GPU_mem   box_loss   cls_loss   dfl_loss  Instances       Size\n"
          ]
        },
        {
          "output_type": "stream",
          "name": "stderr",
          "text": [
            "     41/100      2.66G       1.06     0.6717      1.016         76        640: 100%|██████████| 32/32 [00:15<00:00,  2.02it/s]\n",
            "                 Class     Images  Instances      Box(P          R      mAP50  mAP50-95): 100%|██████████| 4/4 [00:02<00:00,  1.40it/s]"
          ]
        },
        {
          "output_type": "stream",
          "name": "stdout",
          "text": [
            "                   all         99        572      0.709      0.511      0.584      0.394\n"
          ]
        },
        {
          "output_type": "stream",
          "name": "stderr",
          "text": [
            "\n"
          ]
        },
        {
          "output_type": "stream",
          "name": "stdout",
          "text": [
            "\n",
            "      Epoch    GPU_mem   box_loss   cls_loss   dfl_loss  Instances       Size\n"
          ]
        },
        {
          "output_type": "stream",
          "name": "stderr",
          "text": [
            "     42/100      2.71G      1.062     0.6561       1.01         41        640: 100%|██████████| 32/32 [00:19<00:00,  1.66it/s]\n",
            "                 Class     Images  Instances      Box(P          R      mAP50  mAP50-95): 100%|██████████| 4/4 [00:01<00:00,  2.05it/s]"
          ]
        },
        {
          "output_type": "stream",
          "name": "stdout",
          "text": [
            "                   all         99        572      0.633      0.441      0.529      0.355\n"
          ]
        },
        {
          "output_type": "stream",
          "name": "stderr",
          "text": [
            "\n"
          ]
        },
        {
          "output_type": "stream",
          "name": "stdout",
          "text": [
            "\n",
            "      Epoch    GPU_mem   box_loss   cls_loss   dfl_loss  Instances       Size\n"
          ]
        },
        {
          "output_type": "stream",
          "name": "stderr",
          "text": [
            "     43/100      2.59G      1.039     0.6564      1.001         58        640: 100%|██████████| 32/32 [00:15<00:00,  2.04it/s]\n",
            "                 Class     Images  Instances      Box(P          R      mAP50  mAP50-95): 100%|██████████| 4/4 [00:01<00:00,  2.22it/s]"
          ]
        },
        {
          "output_type": "stream",
          "name": "stdout",
          "text": [
            "                   all         99        572      0.631      0.473      0.526      0.359\n"
          ]
        },
        {
          "output_type": "stream",
          "name": "stderr",
          "text": [
            "\n"
          ]
        },
        {
          "output_type": "stream",
          "name": "stdout",
          "text": [
            "\n",
            "      Epoch    GPU_mem   box_loss   cls_loss   dfl_loss  Instances       Size\n"
          ]
        },
        {
          "output_type": "stream",
          "name": "stderr",
          "text": [
            "     44/100      2.66G      1.053     0.6557     0.9989         38        640: 100%|██████████| 32/32 [00:15<00:00,  2.02it/s]\n",
            "                 Class     Images  Instances      Box(P          R      mAP50  mAP50-95): 100%|██████████| 4/4 [00:01<00:00,  2.44it/s]\n"
          ]
        },
        {
          "output_type": "stream",
          "name": "stdout",
          "text": [
            "                   all         99        572      0.534       0.62      0.563      0.383\n",
            "\n",
            "      Epoch    GPU_mem   box_loss   cls_loss   dfl_loss  Instances       Size\n"
          ]
        },
        {
          "output_type": "stream",
          "name": "stderr",
          "text": [
            "     45/100      2.44G      1.045     0.6471      1.006         58        640: 100%|██████████| 32/32 [00:16<00:00,  2.00it/s]\n",
            "                 Class     Images  Instances      Box(P          R      mAP50  mAP50-95): 100%|██████████| 4/4 [00:02<00:00,  1.35it/s]"
          ]
        },
        {
          "output_type": "stream",
          "name": "stdout",
          "text": [
            "                   all         99        572      0.551      0.623       0.55      0.381\n"
          ]
        },
        {
          "output_type": "stream",
          "name": "stderr",
          "text": [
            "\n"
          ]
        },
        {
          "output_type": "stream",
          "name": "stdout",
          "text": [
            "\n",
            "      Epoch    GPU_mem   box_loss   cls_loss   dfl_loss  Instances       Size\n"
          ]
        },
        {
          "output_type": "stream",
          "name": "stderr",
          "text": [
            "     46/100      2.37G       1.04     0.6479     0.9935         41        640: 100%|██████████| 32/32 [00:15<00:00,  2.00it/s]\n",
            "                 Class     Images  Instances      Box(P          R      mAP50  mAP50-95): 100%|██████████| 4/4 [00:02<00:00,  1.86it/s]"
          ]
        },
        {
          "output_type": "stream",
          "name": "stdout",
          "text": [
            "                   all         99        572      0.634      0.685      0.604      0.418\n"
          ]
        },
        {
          "output_type": "stream",
          "name": "stderr",
          "text": [
            "\n"
          ]
        },
        {
          "output_type": "stream",
          "name": "stdout",
          "text": [
            "\n",
            "      Epoch    GPU_mem   box_loss   cls_loss   dfl_loss  Instances       Size\n"
          ]
        },
        {
          "output_type": "stream",
          "name": "stderr",
          "text": [
            "     47/100      2.52G      1.038     0.6502      0.996         31        640: 100%|██████████| 32/32 [00:16<00:00,  1.99it/s]\n",
            "                 Class     Images  Instances      Box(P          R      mAP50  mAP50-95): 100%|██████████| 4/4 [00:01<00:00,  2.14it/s]"
          ]
        },
        {
          "output_type": "stream",
          "name": "stdout",
          "text": [
            "                   all         99        572      0.702      0.427      0.531      0.356\n"
          ]
        },
        {
          "output_type": "stream",
          "name": "stderr",
          "text": [
            "\n"
          ]
        },
        {
          "output_type": "stream",
          "name": "stdout",
          "text": [
            "\n",
            "      Epoch    GPU_mem   box_loss   cls_loss   dfl_loss  Instances       Size\n"
          ]
        },
        {
          "output_type": "stream",
          "name": "stderr",
          "text": [
            "     48/100       2.5G      1.046     0.6398     0.9995         75        640: 100%|██████████| 32/32 [00:15<00:00,  2.05it/s]\n",
            "                 Class     Images  Instances      Box(P          R      mAP50  mAP50-95): 100%|██████████| 4/4 [00:01<00:00,  2.28it/s]"
          ]
        },
        {
          "output_type": "stream",
          "name": "stdout",
          "text": [
            "                   all         99        572      0.566      0.669      0.578      0.398\n"
          ]
        },
        {
          "output_type": "stream",
          "name": "stderr",
          "text": [
            "\n"
          ]
        },
        {
          "output_type": "stream",
          "name": "stdout",
          "text": [
            "\n",
            "      Epoch    GPU_mem   box_loss   cls_loss   dfl_loss  Instances       Size\n"
          ]
        },
        {
          "output_type": "stream",
          "name": "stderr",
          "text": [
            "     49/100      2.48G      1.026     0.6437     0.9966         49        640: 100%|██████████| 32/32 [00:16<00:00,  1.99it/s]\n",
            "                 Class     Images  Instances      Box(P          R      mAP50  mAP50-95): 100%|██████████| 4/4 [00:01<00:00,  2.16it/s]"
          ]
        },
        {
          "output_type": "stream",
          "name": "stdout",
          "text": [
            "                   all         99        572      0.761      0.517      0.601      0.406\n"
          ]
        },
        {
          "output_type": "stream",
          "name": "stderr",
          "text": [
            "\n"
          ]
        },
        {
          "output_type": "stream",
          "name": "stdout",
          "text": [
            "\n",
            "      Epoch    GPU_mem   box_loss   cls_loss   dfl_loss  Instances       Size\n"
          ]
        },
        {
          "output_type": "stream",
          "name": "stderr",
          "text": [
            "     50/100      2.83G      1.025     0.6262     0.9958         81        640: 100%|██████████| 32/32 [00:16<00:00,  2.00it/s]\n",
            "                 Class     Images  Instances      Box(P          R      mAP50  mAP50-95): 100%|██████████| 4/4 [00:02<00:00,  1.37it/s]"
          ]
        },
        {
          "output_type": "stream",
          "name": "stdout",
          "text": [
            "                   all         99        572       0.59      0.496      0.542      0.363\n"
          ]
        },
        {
          "output_type": "stream",
          "name": "stderr",
          "text": [
            "\n"
          ]
        },
        {
          "output_type": "stream",
          "name": "stdout",
          "text": [
            "\n",
            "      Epoch    GPU_mem   box_loss   cls_loss   dfl_loss  Instances       Size\n"
          ]
        },
        {
          "output_type": "stream",
          "name": "stderr",
          "text": [
            "     51/100      2.65G      1.012     0.6141     0.9888         45        640: 100%|██████████| 32/32 [00:15<00:00,  2.03it/s]\n",
            "                 Class     Images  Instances      Box(P          R      mAP50  mAP50-95): 100%|██████████| 4/4 [00:02<00:00,  1.90it/s]\n"
          ]
        },
        {
          "output_type": "stream",
          "name": "stdout",
          "text": [
            "                   all         99        572      0.626      0.448      0.536      0.369\n",
            "\n",
            "      Epoch    GPU_mem   box_loss   cls_loss   dfl_loss  Instances       Size\n"
          ]
        },
        {
          "output_type": "stream",
          "name": "stderr",
          "text": [
            "     52/100      2.61G       1.02     0.6256     0.9905         90        640: 100%|██████████| 32/32 [00:16<00:00,  1.99it/s]\n",
            "                 Class     Images  Instances      Box(P          R      mAP50  mAP50-95): 100%|██████████| 4/4 [00:01<00:00,  2.26it/s]"
          ]
        },
        {
          "output_type": "stream",
          "name": "stdout",
          "text": [
            "                   all         99        572      0.582      0.577       0.57      0.398\n"
          ]
        },
        {
          "output_type": "stream",
          "name": "stderr",
          "text": [
            "\n"
          ]
        },
        {
          "output_type": "stream",
          "name": "stdout",
          "text": [
            "\n",
            "      Epoch    GPU_mem   box_loss   cls_loss   dfl_loss  Instances       Size\n"
          ]
        },
        {
          "output_type": "stream",
          "name": "stderr",
          "text": [
            "     53/100      2.46G      1.013     0.6332     0.9934         15        640: 100%|██████████| 32/32 [00:15<00:00,  2.02it/s]\n",
            "                 Class     Images  Instances      Box(P          R      mAP50  mAP50-95): 100%|██████████| 4/4 [00:01<00:00,  2.35it/s]\n"
          ]
        },
        {
          "output_type": "stream",
          "name": "stdout",
          "text": [
            "                   all         99        572      0.629      0.459      0.535      0.368\n",
            "\n",
            "      Epoch    GPU_mem   box_loss   cls_loss   dfl_loss  Instances       Size\n"
          ]
        },
        {
          "output_type": "stream",
          "name": "stderr",
          "text": [
            "     54/100      2.65G      1.013     0.6253     0.9815         36        640: 100%|██████████| 32/32 [00:16<00:00,  1.98it/s]\n",
            "                 Class     Images  Instances      Box(P          R      mAP50  mAP50-95): 100%|██████████| 4/4 [00:02<00:00,  1.86it/s]"
          ]
        },
        {
          "output_type": "stream",
          "name": "stdout",
          "text": [
            "                   all         99        572      0.661      0.588      0.616      0.429\n"
          ]
        },
        {
          "output_type": "stream",
          "name": "stderr",
          "text": [
            "\n"
          ]
        },
        {
          "output_type": "stream",
          "name": "stdout",
          "text": [
            "\n",
            "      Epoch    GPU_mem   box_loss   cls_loss   dfl_loss  Instances       Size\n"
          ]
        },
        {
          "output_type": "stream",
          "name": "stderr",
          "text": [
            "     55/100      2.48G      1.014     0.6292     0.9817         75        640: 100%|██████████| 32/32 [00:16<00:00,  1.96it/s]\n",
            "                 Class     Images  Instances      Box(P          R      mAP50  mAP50-95): 100%|██████████| 4/4 [00:02<00:00,  1.54it/s]\n"
          ]
        },
        {
          "output_type": "stream",
          "name": "stdout",
          "text": [
            "                   all         99        572      0.663      0.627      0.635      0.439\n",
            "\n",
            "      Epoch    GPU_mem   box_loss   cls_loss   dfl_loss  Instances       Size\n"
          ]
        },
        {
          "output_type": "stream",
          "name": "stderr",
          "text": [
            "     56/100      2.66G      0.991     0.5991     0.9883         47        640: 100%|██████████| 32/32 [00:15<00:00,  2.01it/s]\n",
            "                 Class     Images  Instances      Box(P          R      mAP50  mAP50-95): 100%|██████████| 4/4 [00:01<00:00,  2.26it/s]"
          ]
        },
        {
          "output_type": "stream",
          "name": "stdout",
          "text": [
            "                   all         99        572      0.634      0.452      0.539      0.377\n"
          ]
        },
        {
          "output_type": "stream",
          "name": "stderr",
          "text": [
            "\n"
          ]
        },
        {
          "output_type": "stream",
          "name": "stdout",
          "text": [
            "\n",
            "      Epoch    GPU_mem   box_loss   cls_loss   dfl_loss  Instances       Size\n"
          ]
        },
        {
          "output_type": "stream",
          "name": "stderr",
          "text": [
            "     57/100      2.62G      1.006     0.6037     0.9795         45        640: 100%|██████████| 32/32 [00:15<00:00,  2.03it/s]\n",
            "                 Class     Images  Instances      Box(P          R      mAP50  mAP50-95): 100%|██████████| 4/4 [00:01<00:00,  2.27it/s]"
          ]
        },
        {
          "output_type": "stream",
          "name": "stdout",
          "text": [
            "                   all         99        572      0.639      0.625      0.609       0.43\n"
          ]
        },
        {
          "output_type": "stream",
          "name": "stderr",
          "text": [
            "\n"
          ]
        },
        {
          "output_type": "stream",
          "name": "stdout",
          "text": [
            "\n",
            "      Epoch    GPU_mem   box_loss   cls_loss   dfl_loss  Instances       Size\n"
          ]
        },
        {
          "output_type": "stream",
          "name": "stderr",
          "text": [
            "     58/100      2.63G          1     0.6065     0.9822         61        640: 100%|██████████| 32/32 [00:16<00:00,  2.00it/s]\n",
            "                 Class     Images  Instances      Box(P          R      mAP50  mAP50-95): 100%|██████████| 4/4 [00:01<00:00,  2.14it/s]"
          ]
        },
        {
          "output_type": "stream",
          "name": "stdout",
          "text": [
            "                   all         99        572      0.651      0.434      0.552      0.375\n"
          ]
        },
        {
          "output_type": "stream",
          "name": "stderr",
          "text": [
            "\n"
          ]
        },
        {
          "output_type": "stream",
          "name": "stdout",
          "text": [
            "\n",
            "      Epoch    GPU_mem   box_loss   cls_loss   dfl_loss  Instances       Size\n"
          ]
        },
        {
          "output_type": "stream",
          "name": "stderr",
          "text": [
            "     59/100      2.48G     0.9887     0.5968     0.9789         90        640: 100%|██████████| 32/32 [00:16<00:00,  1.97it/s]\n",
            "                 Class     Images  Instances      Box(P          R      mAP50  mAP50-95): 100%|██████████| 4/4 [00:02<00:00,  1.98it/s]"
          ]
        },
        {
          "output_type": "stream",
          "name": "stdout",
          "text": [
            "                   all         99        572      0.746      0.547      0.628      0.411\n"
          ]
        },
        {
          "output_type": "stream",
          "name": "stderr",
          "text": [
            "\n"
          ]
        },
        {
          "output_type": "stream",
          "name": "stdout",
          "text": [
            "\n",
            "      Epoch    GPU_mem   box_loss   cls_loss   dfl_loss  Instances       Size\n"
          ]
        },
        {
          "output_type": "stream",
          "name": "stderr",
          "text": [
            "     60/100      2.61G     0.9851     0.5794     0.9703         51        640: 100%|██████████| 32/32 [00:15<00:00,  2.06it/s]\n",
            "                 Class     Images  Instances      Box(P          R      mAP50  mAP50-95): 100%|██████████| 4/4 [00:02<00:00,  1.34it/s]"
          ]
        },
        {
          "output_type": "stream",
          "name": "stdout",
          "text": [
            "                   all         99        572       0.63      0.717      0.653      0.456\n"
          ]
        },
        {
          "output_type": "stream",
          "name": "stderr",
          "text": [
            "\n"
          ]
        },
        {
          "output_type": "stream",
          "name": "stdout",
          "text": [
            "\n",
            "      Epoch    GPU_mem   box_loss   cls_loss   dfl_loss  Instances       Size\n"
          ]
        },
        {
          "output_type": "stream",
          "name": "stderr",
          "text": [
            "     61/100      2.43G     0.9785     0.5808     0.9722        109        640: 100%|██████████| 32/32 [00:15<00:00,  2.07it/s]\n",
            "                 Class     Images  Instances      Box(P          R      mAP50  mAP50-95): 100%|██████████| 4/4 [00:01<00:00,  2.42it/s]"
          ]
        },
        {
          "output_type": "stream",
          "name": "stdout",
          "text": [
            "                   all         99        572      0.728      0.498      0.624      0.436\n"
          ]
        },
        {
          "output_type": "stream",
          "name": "stderr",
          "text": [
            "\n"
          ]
        },
        {
          "output_type": "stream",
          "name": "stdout",
          "text": [
            "\n",
            "      Epoch    GPU_mem   box_loss   cls_loss   dfl_loss  Instances       Size\n"
          ]
        },
        {
          "output_type": "stream",
          "name": "stderr",
          "text": [
            "     62/100      2.59G      0.972     0.5839     0.9719         88        640: 100%|██████████| 32/32 [00:16<00:00,  1.99it/s]\n",
            "                 Class     Images  Instances      Box(P          R      mAP50  mAP50-95): 100%|██████████| 4/4 [00:01<00:00,  2.04it/s]"
          ]
        },
        {
          "output_type": "stream",
          "name": "stdout",
          "text": [
            "                   all         99        572      0.655      0.606       0.64      0.445\n"
          ]
        },
        {
          "output_type": "stream",
          "name": "stderr",
          "text": [
            "\n"
          ]
        },
        {
          "output_type": "stream",
          "name": "stdout",
          "text": [
            "\n",
            "      Epoch    GPU_mem   box_loss   cls_loss   dfl_loss  Instances       Size\n"
          ]
        },
        {
          "output_type": "stream",
          "name": "stderr",
          "text": [
            "     63/100      2.64G     0.9843     0.5806     0.9721         45        640: 100%|██████████| 32/32 [00:15<00:00,  2.04it/s]\n",
            "                 Class     Images  Instances      Box(P          R      mAP50  mAP50-95): 100%|██████████| 4/4 [00:01<00:00,  2.60it/s]"
          ]
        },
        {
          "output_type": "stream",
          "name": "stdout",
          "text": [
            "                   all         99        572      0.621      0.645      0.592      0.418\n"
          ]
        },
        {
          "output_type": "stream",
          "name": "stderr",
          "text": [
            "\n"
          ]
        },
        {
          "output_type": "stream",
          "name": "stdout",
          "text": [
            "\n",
            "      Epoch    GPU_mem   box_loss   cls_loss   dfl_loss  Instances       Size\n"
          ]
        },
        {
          "output_type": "stream",
          "name": "stderr",
          "text": [
            "     64/100       2.6G     0.9749     0.5749     0.9722         80        640: 100%|██████████| 32/32 [00:15<00:00,  2.03it/s]\n",
            "                 Class     Images  Instances      Box(P          R      mAP50  mAP50-95): 100%|██████████| 4/4 [00:01<00:00,  2.75it/s]"
          ]
        },
        {
          "output_type": "stream",
          "name": "stdout",
          "text": [
            "                   all         99        572      0.785      0.533      0.598      0.415\n"
          ]
        },
        {
          "output_type": "stream",
          "name": "stderr",
          "text": [
            "\n"
          ]
        },
        {
          "output_type": "stream",
          "name": "stdout",
          "text": [
            "\n",
            "      Epoch    GPU_mem   box_loss   cls_loss   dfl_loss  Instances       Size\n"
          ]
        },
        {
          "output_type": "stream",
          "name": "stderr",
          "text": [
            "     65/100      2.52G     0.9772      0.576     0.9739         47        640: 100%|██████████| 32/32 [00:16<00:00,  1.91it/s]\n",
            "                 Class     Images  Instances      Box(P          R      mAP50  mAP50-95): 100%|██████████| 4/4 [00:03<00:00,  1.32it/s]"
          ]
        },
        {
          "output_type": "stream",
          "name": "stdout",
          "text": [
            "                   all         99        572       0.58      0.688      0.621      0.418\n"
          ]
        },
        {
          "output_type": "stream",
          "name": "stderr",
          "text": [
            "\n"
          ]
        },
        {
          "output_type": "stream",
          "name": "stdout",
          "text": [
            "\n",
            "      Epoch    GPU_mem   box_loss   cls_loss   dfl_loss  Instances       Size\n"
          ]
        },
        {
          "output_type": "stream",
          "name": "stderr",
          "text": [
            "     66/100      2.63G     0.9674     0.5801     0.9765         30        640: 100%|██████████| 32/32 [00:17<00:00,  1.83it/s]\n",
            "                 Class     Images  Instances      Box(P          R      mAP50  mAP50-95): 100%|██████████| 4/4 [00:03<00:00,  1.20it/s]"
          ]
        },
        {
          "output_type": "stream",
          "name": "stdout",
          "text": [
            "                   all         99        572      0.706       0.61      0.632       0.44\n"
          ]
        },
        {
          "output_type": "stream",
          "name": "stderr",
          "text": [
            "\n"
          ]
        },
        {
          "output_type": "stream",
          "name": "stdout",
          "text": [
            "\n",
            "      Epoch    GPU_mem   box_loss   cls_loss   dfl_loss  Instances       Size\n"
          ]
        },
        {
          "output_type": "stream",
          "name": "stderr",
          "text": [
            "     67/100      2.62G     0.9662     0.5638     0.9749         65        640: 100%|██████████| 32/32 [00:16<00:00,  1.96it/s]\n",
            "                 Class     Images  Instances      Box(P          R      mAP50  mAP50-95): 100%|██████████| 4/4 [00:01<00:00,  2.34it/s]"
          ]
        },
        {
          "output_type": "stream",
          "name": "stdout",
          "text": [
            "                   all         99        572      0.621      0.582      0.581      0.402\n"
          ]
        },
        {
          "output_type": "stream",
          "name": "stderr",
          "text": [
            "\n"
          ]
        },
        {
          "output_type": "stream",
          "name": "stdout",
          "text": [
            "\n",
            "      Epoch    GPU_mem   box_loss   cls_loss   dfl_loss  Instances       Size\n"
          ]
        },
        {
          "output_type": "stream",
          "name": "stderr",
          "text": [
            "     68/100      2.55G     0.9424     0.5583      0.962         50        640: 100%|██████████| 32/32 [00:15<00:00,  2.01it/s]\n",
            "                 Class     Images  Instances      Box(P          R      mAP50  mAP50-95): 100%|██████████| 4/4 [00:01<00:00,  2.17it/s]"
          ]
        },
        {
          "output_type": "stream",
          "name": "stdout",
          "text": [
            "                   all         99        572      0.664      0.614      0.618      0.435\n"
          ]
        },
        {
          "output_type": "stream",
          "name": "stderr",
          "text": [
            "\n"
          ]
        },
        {
          "output_type": "stream",
          "name": "stdout",
          "text": [
            "\n",
            "      Epoch    GPU_mem   box_loss   cls_loss   dfl_loss  Instances       Size\n"
          ]
        },
        {
          "output_type": "stream",
          "name": "stderr",
          "text": [
            "     69/100       2.5G     0.9509     0.5506     0.9654         46        640: 100%|██████████| 32/32 [00:15<00:00,  2.03it/s]\n",
            "                 Class     Images  Instances      Box(P          R      mAP50  mAP50-95): 100%|██████████| 4/4 [00:01<00:00,  2.36it/s]\n"
          ]
        },
        {
          "output_type": "stream",
          "name": "stdout",
          "text": [
            "                   all         99        572      0.721      0.512      0.582       0.41\n",
            "\n",
            "      Epoch    GPU_mem   box_loss   cls_loss   dfl_loss  Instances       Size\n"
          ]
        },
        {
          "output_type": "stream",
          "name": "stderr",
          "text": [
            "     70/100      2.68G     0.9474     0.5589      0.965         92        640: 100%|██████████| 32/32 [00:16<00:00,  1.98it/s]\n",
            "                 Class     Images  Instances      Box(P          R      mAP50  mAP50-95): 100%|██████████| 4/4 [00:02<00:00,  1.87it/s]"
          ]
        },
        {
          "output_type": "stream",
          "name": "stdout",
          "text": [
            "                   all         99        572      0.658      0.587      0.604      0.424\n"
          ]
        },
        {
          "output_type": "stream",
          "name": "stderr",
          "text": [
            "\n"
          ]
        },
        {
          "output_type": "stream",
          "name": "stdout",
          "text": [
            "\n",
            "      Epoch    GPU_mem   box_loss   cls_loss   dfl_loss  Instances       Size\n"
          ]
        },
        {
          "output_type": "stream",
          "name": "stderr",
          "text": [
            "     71/100      2.67G     0.9381     0.5482     0.9596         30        640: 100%|██████████| 32/32 [00:15<00:00,  2.02it/s]\n",
            "                 Class     Images  Instances      Box(P          R      mAP50  mAP50-95): 100%|██████████| 4/4 [00:03<00:00,  1.33it/s]"
          ]
        },
        {
          "output_type": "stream",
          "name": "stdout",
          "text": [
            "                   all         99        572      0.616      0.642       0.59       0.41\n"
          ]
        },
        {
          "output_type": "stream",
          "name": "stderr",
          "text": [
            "\n"
          ]
        },
        {
          "output_type": "stream",
          "name": "stdout",
          "text": [
            "\n",
            "      Epoch    GPU_mem   box_loss   cls_loss   dfl_loss  Instances       Size\n"
          ]
        },
        {
          "output_type": "stream",
          "name": "stderr",
          "text": [
            "     72/100      2.47G     0.9596     0.5576     0.9677         88        640: 100%|██████████| 32/32 [00:15<00:00,  2.05it/s]\n",
            "                 Class     Images  Instances      Box(P          R      mAP50  mAP50-95): 100%|██████████| 4/4 [00:01<00:00,  2.37it/s]"
          ]
        },
        {
          "output_type": "stream",
          "name": "stdout",
          "text": [
            "                   all         99        572      0.538      0.611      0.589      0.407\n"
          ]
        },
        {
          "output_type": "stream",
          "name": "stderr",
          "text": [
            "\n"
          ]
        },
        {
          "output_type": "stream",
          "name": "stdout",
          "text": [
            "\n",
            "      Epoch    GPU_mem   box_loss   cls_loss   dfl_loss  Instances       Size\n"
          ]
        },
        {
          "output_type": "stream",
          "name": "stderr",
          "text": [
            "     73/100      2.47G     0.9665     0.5567     0.9683        111        640: 100%|██████████| 32/32 [00:16<00:00,  1.98it/s]\n",
            "                 Class     Images  Instances      Box(P          R      mAP50  mAP50-95): 100%|██████████| 4/4 [00:01<00:00,  2.14it/s]"
          ]
        },
        {
          "output_type": "stream",
          "name": "stdout",
          "text": [
            "                   all         99        572      0.576      0.645      0.599      0.414\n"
          ]
        },
        {
          "output_type": "stream",
          "name": "stderr",
          "text": [
            "\n"
          ]
        },
        {
          "output_type": "stream",
          "name": "stdout",
          "text": [
            "\n",
            "      Epoch    GPU_mem   box_loss   cls_loss   dfl_loss  Instances       Size\n"
          ]
        },
        {
          "output_type": "stream",
          "name": "stderr",
          "text": [
            "     74/100      2.89G     0.9265     0.5506     0.9526         43        640: 100%|██████████| 32/32 [00:15<00:00,  2.02it/s]\n",
            "                 Class     Images  Instances      Box(P          R      mAP50  mAP50-95): 100%|██████████| 4/4 [00:01<00:00,  2.04it/s]"
          ]
        },
        {
          "output_type": "stream",
          "name": "stdout",
          "text": [
            "                   all         99        572      0.434      0.571      0.597      0.404\n"
          ]
        },
        {
          "output_type": "stream",
          "name": "stderr",
          "text": [
            "\n"
          ]
        },
        {
          "output_type": "stream",
          "name": "stdout",
          "text": [
            "\n",
            "      Epoch    GPU_mem   box_loss   cls_loss   dfl_loss  Instances       Size\n"
          ]
        },
        {
          "output_type": "stream",
          "name": "stderr",
          "text": [
            "     75/100      2.55G     0.9262     0.5398     0.9599         66        640: 100%|██████████| 32/32 [00:15<00:00,  2.01it/s]\n",
            "                 Class     Images  Instances      Box(P          R      mAP50  mAP50-95): 100%|██████████| 4/4 [00:02<00:00,  1.83it/s]"
          ]
        },
        {
          "output_type": "stream",
          "name": "stdout",
          "text": [
            "                   all         99        572      0.626      0.525      0.577      0.399\n"
          ]
        },
        {
          "output_type": "stream",
          "name": "stderr",
          "text": [
            "\n"
          ]
        },
        {
          "output_type": "stream",
          "name": "stdout",
          "text": [
            "\n",
            "      Epoch    GPU_mem   box_loss   cls_loss   dfl_loss  Instances       Size\n"
          ]
        },
        {
          "output_type": "stream",
          "name": "stderr",
          "text": [
            "     76/100      2.38G     0.9205       0.54     0.9584         37        640: 100%|██████████| 32/32 [00:16<00:00,  1.98it/s]\n",
            "                 Class     Images  Instances      Box(P          R      mAP50  mAP50-95): 100%|██████████| 4/4 [00:02<00:00,  1.47it/s]"
          ]
        },
        {
          "output_type": "stream",
          "name": "stdout",
          "text": [
            "                   all         99        572      0.557      0.548      0.574      0.403\n"
          ]
        },
        {
          "output_type": "stream",
          "name": "stderr",
          "text": [
            "\n"
          ]
        },
        {
          "output_type": "stream",
          "name": "stdout",
          "text": [
            "\n",
            "      Epoch    GPU_mem   box_loss   cls_loss   dfl_loss  Instances       Size\n"
          ]
        },
        {
          "output_type": "stream",
          "name": "stderr",
          "text": [
            "     77/100      2.58G     0.9303     0.5335     0.9581         52        640: 100%|██████████| 32/32 [00:15<00:00,  2.01it/s]\n",
            "                 Class     Images  Instances      Box(P          R      mAP50  mAP50-95): 100%|██████████| 4/4 [00:01<00:00,  2.25it/s]"
          ]
        },
        {
          "output_type": "stream",
          "name": "stdout",
          "text": [
            "                   all         99        572      0.597       0.55      0.566        0.4\n"
          ]
        },
        {
          "output_type": "stream",
          "name": "stderr",
          "text": [
            "\n"
          ]
        },
        {
          "output_type": "stream",
          "name": "stdout",
          "text": [
            "\n",
            "      Epoch    GPU_mem   box_loss   cls_loss   dfl_loss  Instances       Size\n"
          ]
        },
        {
          "output_type": "stream",
          "name": "stderr",
          "text": [
            "     78/100      2.38G     0.9196     0.5288     0.9474        151        640: 100%|██████████| 32/32 [00:16<00:00,  1.99it/s]\n",
            "                 Class     Images  Instances      Box(P          R      mAP50  mAP50-95): 100%|██████████| 4/4 [00:01<00:00,  2.15it/s]\n"
          ]
        },
        {
          "output_type": "stream",
          "name": "stdout",
          "text": [
            "                   all         99        572      0.613      0.512      0.556      0.389\n",
            "\n",
            "      Epoch    GPU_mem   box_loss   cls_loss   dfl_loss  Instances       Size\n"
          ]
        },
        {
          "output_type": "stream",
          "name": "stderr",
          "text": [
            "     79/100      2.68G     0.9184     0.5315     0.9481         79        640: 100%|██████████| 32/32 [00:15<00:00,  2.03it/s]\n",
            "                 Class     Images  Instances      Box(P          R      mAP50  mAP50-95): 100%|██████████| 4/4 [00:01<00:00,  2.13it/s]"
          ]
        },
        {
          "output_type": "stream",
          "name": "stdout",
          "text": [
            "                   all         99        572      0.524      0.498      0.554      0.378\n"
          ]
        },
        {
          "output_type": "stream",
          "name": "stderr",
          "text": [
            "\n"
          ]
        },
        {
          "output_type": "stream",
          "name": "stdout",
          "text": [
            "\n",
            "      Epoch    GPU_mem   box_loss   cls_loss   dfl_loss  Instances       Size\n"
          ]
        },
        {
          "output_type": "stream",
          "name": "stderr",
          "text": [
            "     80/100      2.51G      0.924      0.539     0.9572         46        640: 100%|██████████| 32/32 [00:15<00:00,  2.01it/s]\n",
            "                 Class     Images  Instances      Box(P          R      mAP50  mAP50-95): 100%|██████████| 4/4 [00:01<00:00,  2.51it/s]"
          ]
        },
        {
          "output_type": "stream",
          "name": "stdout",
          "text": [
            "                   all         99        572      0.583      0.522      0.563      0.394\n"
          ]
        },
        {
          "output_type": "stream",
          "name": "stderr",
          "text": [
            "\n"
          ]
        },
        {
          "output_type": "stream",
          "name": "stdout",
          "text": [
            "\n",
            "      Epoch    GPU_mem   box_loss   cls_loss   dfl_loss  Instances       Size\n"
          ]
        },
        {
          "output_type": "stream",
          "name": "stderr",
          "text": [
            "     81/100      2.77G     0.9165     0.5266     0.9517         85        640: 100%|██████████| 32/32 [00:16<00:00,  1.96it/s]\n",
            "                 Class     Images  Instances      Box(P          R      mAP50  mAP50-95): 100%|██████████| 4/4 [00:02<00:00,  1.48it/s]"
          ]
        },
        {
          "output_type": "stream",
          "name": "stdout",
          "text": [
            "                   all         99        572      0.528      0.593      0.562      0.384\n"
          ]
        },
        {
          "output_type": "stream",
          "name": "stderr",
          "text": [
            "\n"
          ]
        },
        {
          "output_type": "stream",
          "name": "stdout",
          "text": [
            "\n",
            "      Epoch    GPU_mem   box_loss   cls_loss   dfl_loss  Instances       Size\n"
          ]
        },
        {
          "output_type": "stream",
          "name": "stderr",
          "text": [
            "     82/100       2.6G     0.9018     0.5229     0.9495         40        640: 100%|██████████| 32/32 [00:15<00:00,  2.00it/s]\n",
            "                 Class     Images  Instances      Box(P          R      mAP50  mAP50-95): 100%|██████████| 4/4 [00:01<00:00,  2.22it/s]\n"
          ]
        },
        {
          "output_type": "stream",
          "name": "stdout",
          "text": [
            "                   all         99        572      0.647      0.563      0.596      0.402\n",
            "\n",
            "      Epoch    GPU_mem   box_loss   cls_loss   dfl_loss  Instances       Size\n"
          ]
        },
        {
          "output_type": "stream",
          "name": "stderr",
          "text": [
            "     83/100      2.62G     0.8763     0.5106     0.9366         78        640: 100%|██████████| 32/32 [00:15<00:00,  2.01it/s]\n",
            "                 Class     Images  Instances      Box(P          R      mAP50  mAP50-95): 100%|██████████| 4/4 [00:01<00:00,  2.28it/s]\n"
          ]
        },
        {
          "output_type": "stream",
          "name": "stdout",
          "text": [
            "                   all         99        572      0.678       0.54      0.584      0.407\n",
            "\n",
            "      Epoch    GPU_mem   box_loss   cls_loss   dfl_loss  Instances       Size\n"
          ]
        },
        {
          "output_type": "stream",
          "name": "stderr",
          "text": [
            "     84/100      2.78G     0.9107     0.5271     0.9533         46        640: 100%|██████████| 32/32 [00:15<00:00,  2.05it/s]\n",
            "                 Class     Images  Instances      Box(P          R      mAP50  mAP50-95): 100%|██████████| 4/4 [00:01<00:00,  2.35it/s]"
          ]
        },
        {
          "output_type": "stream",
          "name": "stdout",
          "text": [
            "                   all         99        572      0.571      0.566      0.565      0.391\n"
          ]
        },
        {
          "output_type": "stream",
          "name": "stderr",
          "text": [
            "\n"
          ]
        },
        {
          "output_type": "stream",
          "name": "stdout",
          "text": [
            "\n",
            "      Epoch    GPU_mem   box_loss   cls_loss   dfl_loss  Instances       Size\n"
          ]
        },
        {
          "output_type": "stream",
          "name": "stderr",
          "text": [
            "     85/100      2.72G     0.9172      0.527     0.9483         59        640: 100%|██████████| 32/32 [00:16<00:00,  1.94it/s]\n",
            "                 Class     Images  Instances      Box(P          R      mAP50  mAP50-95): 100%|██████████| 4/4 [00:01<00:00,  2.25it/s]\n"
          ]
        },
        {
          "output_type": "stream",
          "name": "stdout",
          "text": [
            "                   all         99        572      0.565       0.58      0.587      0.405\n",
            "\n",
            "      Epoch    GPU_mem   box_loss   cls_loss   dfl_loss  Instances       Size\n"
          ]
        },
        {
          "output_type": "stream",
          "name": "stderr",
          "text": [
            "     86/100      2.58G     0.8827      0.512     0.9409         64        640: 100%|██████████| 32/32 [00:16<00:00,  1.98it/s]\n",
            "                 Class     Images  Instances      Box(P          R      mAP50  mAP50-95): 100%|██████████| 4/4 [00:03<00:00,  1.32it/s]"
          ]
        },
        {
          "output_type": "stream",
          "name": "stdout",
          "text": [
            "                   all         99        572      0.587      0.607      0.591      0.406\n"
          ]
        },
        {
          "output_type": "stream",
          "name": "stderr",
          "text": [
            "\n"
          ]
        },
        {
          "output_type": "stream",
          "name": "stdout",
          "text": [
            "\n",
            "      Epoch    GPU_mem   box_loss   cls_loss   dfl_loss  Instances       Size\n"
          ]
        },
        {
          "output_type": "stream",
          "name": "stderr",
          "text": [
            "     87/100      2.39G     0.8942     0.5233     0.9431         50        640: 100%|██████████| 32/32 [00:15<00:00,  2.01it/s]\n",
            "                 Class     Images  Instances      Box(P          R      mAP50  mAP50-95): 100%|██████████| 4/4 [00:01<00:00,  2.40it/s]"
          ]
        },
        {
          "output_type": "stream",
          "name": "stdout",
          "text": [
            "                   all         99        572      0.554       0.67      0.594      0.415\n"
          ]
        },
        {
          "output_type": "stream",
          "name": "stderr",
          "text": [
            "\n"
          ]
        },
        {
          "output_type": "stream",
          "name": "stdout",
          "text": [
            "\n",
            "      Epoch    GPU_mem   box_loss   cls_loss   dfl_loss  Instances       Size\n"
          ]
        },
        {
          "output_type": "stream",
          "name": "stderr",
          "text": [
            "     88/100      2.53G     0.9001      0.518     0.9473         64        640: 100%|██████████| 32/32 [00:16<00:00,  2.00it/s]\n",
            "                 Class     Images  Instances      Box(P          R      mAP50  mAP50-95): 100%|██████████| 4/4 [00:01<00:00,  2.28it/s]"
          ]
        },
        {
          "output_type": "stream",
          "name": "stdout",
          "text": [
            "                   all         99        572      0.614      0.638      0.598      0.412\n"
          ]
        },
        {
          "output_type": "stream",
          "name": "stderr",
          "text": [
            "\n"
          ]
        },
        {
          "output_type": "stream",
          "name": "stdout",
          "text": [
            "\n",
            "      Epoch    GPU_mem   box_loss   cls_loss   dfl_loss  Instances       Size\n"
          ]
        },
        {
          "output_type": "stream",
          "name": "stderr",
          "text": [
            "     89/100      2.37G     0.8627     0.5088     0.9371         46        640: 100%|██████████| 32/32 [00:15<00:00,  2.05it/s]\n",
            "                 Class     Images  Instances      Box(P          R      mAP50  mAP50-95): 100%|██████████| 4/4 [00:01<00:00,  2.48it/s]"
          ]
        },
        {
          "output_type": "stream",
          "name": "stdout",
          "text": [
            "                   all         99        572      0.532      0.649       0.58      0.397\n"
          ]
        },
        {
          "output_type": "stream",
          "name": "stderr",
          "text": [
            "\n"
          ]
        },
        {
          "output_type": "stream",
          "name": "stdout",
          "text": [
            "\n",
            "      Epoch    GPU_mem   box_loss   cls_loss   dfl_loss  Instances       Size\n"
          ]
        },
        {
          "output_type": "stream",
          "name": "stderr",
          "text": [
            "     90/100      2.59G     0.8702     0.5019     0.9414         59        640: 100%|██████████| 32/32 [00:15<00:00,  2.00it/s]\n",
            "                 Class     Images  Instances      Box(P          R      mAP50  mAP50-95): 100%|██████████| 4/4 [00:01<00:00,  2.31it/s]"
          ]
        },
        {
          "output_type": "stream",
          "name": "stdout",
          "text": [
            "                   all         99        572      0.569       0.58      0.581      0.407\n"
          ]
        },
        {
          "output_type": "stream",
          "name": "stderr",
          "text": [
            "\n"
          ]
        },
        {
          "output_type": "stream",
          "name": "stdout",
          "text": [
            "Closing dataloader mosaic\n",
            "\u001b[34m\u001b[1malbumentations: \u001b[0mBlur(p=0.01, blur_limit=(3, 7)), MedianBlur(p=0.01, blur_limit=(3, 7)), ToGray(p=0.01), CLAHE(p=0.01, clip_limit=(1, 4.0), tile_grid_size=(8, 8))\n",
            "\n",
            "      Epoch    GPU_mem   box_loss   cls_loss   dfl_loss  Instances       Size\n"
          ]
        },
        {
          "output_type": "stream",
          "name": "stderr",
          "text": [
            "     91/100      2.55G     0.8921     0.5116     0.9361         34        640: 100%|██████████| 32/32 [00:24<00:00,  1.31it/s]\n",
            "                 Class     Images  Instances      Box(P          R      mAP50  mAP50-95): 100%|██████████| 4/4 [00:01<00:00,  2.39it/s]"
          ]
        },
        {
          "output_type": "stream",
          "name": "stdout",
          "text": [
            "                   all         99        572      0.598      0.611      0.607      0.431\n"
          ]
        },
        {
          "output_type": "stream",
          "name": "stderr",
          "text": [
            "\n"
          ]
        },
        {
          "output_type": "stream",
          "name": "stdout",
          "text": [
            "\n",
            "      Epoch    GPU_mem   box_loss   cls_loss   dfl_loss  Instances       Size\n"
          ]
        },
        {
          "output_type": "stream",
          "name": "stderr",
          "text": [
            "     92/100      2.47G     0.8801     0.4773     0.9358         12        640: 100%|██████████| 32/32 [00:15<00:00,  2.11it/s]\n",
            "                 Class     Images  Instances      Box(P          R      mAP50  mAP50-95): 100%|██████████| 4/4 [00:01<00:00,  2.36it/s]"
          ]
        },
        {
          "output_type": "stream",
          "name": "stdout",
          "text": [
            "                   all         99        572      0.665       0.56      0.583      0.408\n"
          ]
        },
        {
          "output_type": "stream",
          "name": "stderr",
          "text": [
            "\n"
          ]
        },
        {
          "output_type": "stream",
          "name": "stdout",
          "text": [
            "\n",
            "      Epoch    GPU_mem   box_loss   cls_loss   dfl_loss  Instances       Size\n"
          ]
        },
        {
          "output_type": "stream",
          "name": "stderr",
          "text": [
            "     93/100      2.34G     0.8868     0.4854     0.9318         70        640: 100%|██████████| 32/32 [00:14<00:00,  2.14it/s]\n",
            "                 Class     Images  Instances      Box(P          R      mAP50  mAP50-95): 100%|██████████| 4/4 [00:01<00:00,  2.27it/s]"
          ]
        },
        {
          "output_type": "stream",
          "name": "stdout",
          "text": [
            "                   all         99        572      0.633      0.633      0.606      0.426\n"
          ]
        },
        {
          "output_type": "stream",
          "name": "stderr",
          "text": [
            "\n"
          ]
        },
        {
          "output_type": "stream",
          "name": "stdout",
          "text": [
            "\n",
            "      Epoch    GPU_mem   box_loss   cls_loss   dfl_loss  Instances       Size\n"
          ]
        },
        {
          "output_type": "stream",
          "name": "stderr",
          "text": [
            "     94/100      2.45G     0.8727     0.4808     0.9275         32        640: 100%|██████████| 32/32 [00:15<00:00,  2.11it/s]\n",
            "                 Class     Images  Instances      Box(P          R      mAP50  mAP50-95): 100%|██████████| 4/4 [00:01<00:00,  2.40it/s]\n"
          ]
        },
        {
          "output_type": "stream",
          "name": "stdout",
          "text": [
            "                   all         99        572      0.625      0.617      0.612      0.433\n",
            "\n",
            "      Epoch    GPU_mem   box_loss   cls_loss   dfl_loss  Instances       Size\n"
          ]
        },
        {
          "output_type": "stream",
          "name": "stderr",
          "text": [
            "     95/100      2.36G     0.8533     0.4671     0.9272         21        640: 100%|██████████| 32/32 [00:15<00:00,  2.03it/s]\n",
            "                 Class     Images  Instances      Box(P          R      mAP50  mAP50-95): 100%|██████████| 4/4 [00:01<00:00,  2.03it/s]"
          ]
        },
        {
          "output_type": "stream",
          "name": "stdout",
          "text": [
            "                   all         99        572       0.59      0.672      0.602      0.424\n"
          ]
        },
        {
          "output_type": "stream",
          "name": "stderr",
          "text": [
            "\n"
          ]
        },
        {
          "output_type": "stream",
          "name": "stdout",
          "text": [
            "\n",
            "      Epoch    GPU_mem   box_loss   cls_loss   dfl_loss  Instances       Size\n"
          ]
        },
        {
          "output_type": "stream",
          "name": "stderr",
          "text": [
            "     96/100      2.37G     0.8346       0.46     0.9209         51        640: 100%|██████████| 32/32 [00:14<00:00,  2.15it/s]\n",
            "                 Class     Images  Instances      Box(P          R      mAP50  mAP50-95): 100%|██████████| 4/4 [00:02<00:00,  1.52it/s]"
          ]
        },
        {
          "output_type": "stream",
          "name": "stdout",
          "text": [
            "                   all         99        572      0.624      0.669      0.609      0.425\n"
          ]
        },
        {
          "output_type": "stream",
          "name": "stderr",
          "text": [
            "\n"
          ]
        },
        {
          "output_type": "stream",
          "name": "stdout",
          "text": [
            "\n",
            "      Epoch    GPU_mem   box_loss   cls_loss   dfl_loss  Instances       Size\n"
          ]
        },
        {
          "output_type": "stream",
          "name": "stderr",
          "text": [
            "     97/100      2.51G     0.8384     0.4572     0.9133         22        640: 100%|██████████| 32/32 [00:14<00:00,  2.23it/s]\n",
            "                 Class     Images  Instances      Box(P          R      mAP50  mAP50-95): 100%|██████████| 4/4 [00:02<00:00,  1.45it/s]"
          ]
        },
        {
          "output_type": "stream",
          "name": "stdout",
          "text": [
            "                   all         99        572       0.68      0.645      0.606      0.422\n"
          ]
        },
        {
          "output_type": "stream",
          "name": "stderr",
          "text": [
            "\n"
          ]
        },
        {
          "output_type": "stream",
          "name": "stdout",
          "text": [
            "\n",
            "      Epoch    GPU_mem   box_loss   cls_loss   dfl_loss  Instances       Size\n"
          ]
        },
        {
          "output_type": "stream",
          "name": "stderr",
          "text": [
            "     98/100      2.48G     0.8392     0.4537     0.9225         25        640: 100%|██████████| 32/32 [00:14<00:00,  2.19it/s]\n",
            "                 Class     Images  Instances      Box(P          R      mAP50  mAP50-95): 100%|██████████| 4/4 [00:02<00:00,  1.83it/s]"
          ]
        },
        {
          "output_type": "stream",
          "name": "stdout",
          "text": [
            "                   all         99        572      0.656      0.655      0.606      0.427\n"
          ]
        },
        {
          "output_type": "stream",
          "name": "stderr",
          "text": [
            "\n"
          ]
        },
        {
          "output_type": "stream",
          "name": "stdout",
          "text": [
            "\n",
            "      Epoch    GPU_mem   box_loss   cls_loss   dfl_loss  Instances       Size\n"
          ]
        },
        {
          "output_type": "stream",
          "name": "stderr",
          "text": [
            "     99/100      2.34G     0.8444     0.4535     0.9211         45        640: 100%|██████████| 32/32 [00:15<00:00,  2.05it/s]\n",
            "                 Class     Images  Instances      Box(P          R      mAP50  mAP50-95): 100%|██████████| 4/4 [00:01<00:00,  2.18it/s]"
          ]
        },
        {
          "output_type": "stream",
          "name": "stdout",
          "text": [
            "                   all         99        572      0.702      0.623      0.626      0.434\n"
          ]
        },
        {
          "output_type": "stream",
          "name": "stderr",
          "text": [
            "\n"
          ]
        },
        {
          "output_type": "stream",
          "name": "stdout",
          "text": [
            "\n",
            "      Epoch    GPU_mem   box_loss   cls_loss   dfl_loss  Instances       Size\n"
          ]
        },
        {
          "output_type": "stream",
          "name": "stderr",
          "text": [
            "    100/100      2.51G     0.8346     0.4505     0.9117         13        640: 100%|██████████| 32/32 [00:14<00:00,  2.14it/s]\n",
            "                 Class     Images  Instances      Box(P          R      mAP50  mAP50-95): 100%|██████████| 4/4 [00:01<00:00,  2.33it/s]"
          ]
        },
        {
          "output_type": "stream",
          "name": "stdout",
          "text": [
            "                   all         99        572      0.716      0.599      0.615      0.426\n"
          ]
        },
        {
          "output_type": "stream",
          "name": "stderr",
          "text": [
            "\n"
          ]
        },
        {
          "output_type": "stream",
          "name": "stdout",
          "text": [
            "\n",
            "100 epochs completed in 0.545 hours.\n",
            "Optimizer stripped from runs/detect/train2/weights/last.pt, 6.3MB\n",
            "Optimizer stripped from runs/detect/train2/weights/best.pt, 6.3MB\n",
            "\n",
            "Validating runs/detect/train2/weights/best.pt...\n",
            "Ultralytics YOLOv8.0.229 🚀 Python-3.10.12 torch-2.1.0+cu121 CUDA:0 (Tesla T4, 15102MiB)\n",
            "YOLOv8 summary (fused): 168 layers, 3006038 parameters, 0 gradients, 8.1 GFLOPs\n"
          ]
        },
        {
          "output_type": "stream",
          "name": "stderr",
          "text": [
            "                 Class     Images  Instances      Box(P          R      mAP50  mAP50-95): 100%|██████████| 4/4 [00:04<00:00,  1.14s/it]\n"
          ]
        },
        {
          "output_type": "stream",
          "name": "stdout",
          "text": [
            "                   all         99        572      0.628      0.711      0.654      0.455\n",
            "                   car         99        549      0.786      0.882      0.903      0.615\n",
            "                   bus         99         23       0.47       0.54      0.404      0.296\n",
            "Speed: 0.2ms preprocess, 4.6ms inference, 0.0ms loss, 6.3ms postprocess per image\n",
            "Results saved to \u001b[1mruns/detect/train2\u001b[0m\n",
            "ultralytics.utils.metrics.DetMetrics object with attributes:\n",
            "\n",
            "ap_class_index: array([0, 1])\n",
            "box: ultralytics.utils.metrics.Metric object\n",
            "confusion_matrix: <ultralytics.utils.metrics.ConfusionMatrix object at 0x7c5b426e7d00>\n",
            "curves: ['Precision-Recall(B)', 'F1-Confidence(B)', 'Precision-Confidence(B)', 'Recall-Confidence(B)']\n",
            "curves_results: [[array([          0,    0.001001,    0.002002,    0.003003,    0.004004,    0.005005,    0.006006,    0.007007,    0.008008,    0.009009,     0.01001,    0.011011,    0.012012,    0.013013,    0.014014,    0.015015,    0.016016,    0.017017,    0.018018,    0.019019,     0.02002,    0.021021,    0.022022,    0.023023,\n",
            "          0.024024,    0.025025,    0.026026,    0.027027,    0.028028,    0.029029,     0.03003,    0.031031,    0.032032,    0.033033,    0.034034,    0.035035,    0.036036,    0.037037,    0.038038,    0.039039,     0.04004,    0.041041,    0.042042,    0.043043,    0.044044,    0.045045,    0.046046,    0.047047,\n",
            "          0.048048,    0.049049,     0.05005,    0.051051,    0.052052,    0.053053,    0.054054,    0.055055,    0.056056,    0.057057,    0.058058,    0.059059,     0.06006,    0.061061,    0.062062,    0.063063,    0.064064,    0.065065,    0.066066,    0.067067,    0.068068,    0.069069,     0.07007,    0.071071,\n",
            "          0.072072,    0.073073,    0.074074,    0.075075,    0.076076,    0.077077,    0.078078,    0.079079,     0.08008,    0.081081,    0.082082,    0.083083,    0.084084,    0.085085,    0.086086,    0.087087,    0.088088,    0.089089,     0.09009,    0.091091,    0.092092,    0.093093,    0.094094,    0.095095,\n",
            "          0.096096,    0.097097,    0.098098,    0.099099,      0.1001,      0.1011,      0.1021,      0.1031,      0.1041,     0.10511,     0.10611,     0.10711,     0.10811,     0.10911,     0.11011,     0.11111,     0.11211,     0.11311,     0.11411,     0.11512,     0.11612,     0.11712,     0.11812,     0.11912,\n",
            "           0.12012,     0.12112,     0.12212,     0.12312,     0.12412,     0.12513,     0.12613,     0.12713,     0.12813,     0.12913,     0.13013,     0.13113,     0.13213,     0.13313,     0.13413,     0.13514,     0.13614,     0.13714,     0.13814,     0.13914,     0.14014,     0.14114,     0.14214,     0.14314,\n",
            "           0.14414,     0.14515,     0.14615,     0.14715,     0.14815,     0.14915,     0.15015,     0.15115,     0.15215,     0.15315,     0.15415,     0.15516,     0.15616,     0.15716,     0.15816,     0.15916,     0.16016,     0.16116,     0.16216,     0.16316,     0.16416,     0.16517,     0.16617,     0.16717,\n",
            "           0.16817,     0.16917,     0.17017,     0.17117,     0.17217,     0.17317,     0.17417,     0.17518,     0.17618,     0.17718,     0.17818,     0.17918,     0.18018,     0.18118,     0.18218,     0.18318,     0.18418,     0.18519,     0.18619,     0.18719,     0.18819,     0.18919,     0.19019,     0.19119,\n",
            "           0.19219,     0.19319,     0.19419,      0.1952,      0.1962,      0.1972,      0.1982,      0.1992,      0.2002,      0.2012,      0.2022,      0.2032,      0.2042,     0.20521,     0.20621,     0.20721,     0.20821,     0.20921,     0.21021,     0.21121,     0.21221,     0.21321,     0.21421,     0.21522,\n",
            "           0.21622,     0.21722,     0.21822,     0.21922,     0.22022,     0.22122,     0.22222,     0.22322,     0.22422,     0.22523,     0.22623,     0.22723,     0.22823,     0.22923,     0.23023,     0.23123,     0.23223,     0.23323,     0.23423,     0.23524,     0.23624,     0.23724,     0.23824,     0.23924,\n",
            "           0.24024,     0.24124,     0.24224,     0.24324,     0.24424,     0.24525,     0.24625,     0.24725,     0.24825,     0.24925,     0.25025,     0.25125,     0.25225,     0.25325,     0.25425,     0.25526,     0.25626,     0.25726,     0.25826,     0.25926,     0.26026,     0.26126,     0.26226,     0.26326,\n",
            "           0.26426,     0.26527,     0.26627,     0.26727,     0.26827,     0.26927,     0.27027,     0.27127,     0.27227,     0.27327,     0.27427,     0.27528,     0.27628,     0.27728,     0.27828,     0.27928,     0.28028,     0.28128,     0.28228,     0.28328,     0.28428,     0.28529,     0.28629,     0.28729,\n",
            "           0.28829,     0.28929,     0.29029,     0.29129,     0.29229,     0.29329,     0.29429,      0.2953,      0.2963,      0.2973,      0.2983,      0.2993,      0.3003,      0.3013,      0.3023,      0.3033,      0.3043,     0.30531,     0.30631,     0.30731,     0.30831,     0.30931,     0.31031,     0.31131,\n",
            "           0.31231,     0.31331,     0.31431,     0.31532,     0.31632,     0.31732,     0.31832,     0.31932,     0.32032,     0.32132,     0.32232,     0.32332,     0.32432,     0.32533,     0.32633,     0.32733,     0.32833,     0.32933,     0.33033,     0.33133,     0.33233,     0.33333,     0.33433,     0.33534,\n",
            "           0.33634,     0.33734,     0.33834,     0.33934,     0.34034,     0.34134,     0.34234,     0.34334,     0.34434,     0.34535,     0.34635,     0.34735,     0.34835,     0.34935,     0.35035,     0.35135,     0.35235,     0.35335,     0.35435,     0.35536,     0.35636,     0.35736,     0.35836,     0.35936,\n",
            "           0.36036,     0.36136,     0.36236,     0.36336,     0.36436,     0.36537,     0.36637,     0.36737,     0.36837,     0.36937,     0.37037,     0.37137,     0.37237,     0.37337,     0.37437,     0.37538,     0.37638,     0.37738,     0.37838,     0.37938,     0.38038,     0.38138,     0.38238,     0.38338,\n",
            "           0.38438,     0.38539,     0.38639,     0.38739,     0.38839,     0.38939,     0.39039,     0.39139,     0.39239,     0.39339,     0.39439,      0.3954,      0.3964,      0.3974,      0.3984,      0.3994,      0.4004,      0.4014,      0.4024,      0.4034,      0.4044,     0.40541,     0.40641,     0.40741,\n",
            "           0.40841,     0.40941,     0.41041,     0.41141,     0.41241,     0.41341,     0.41441,     0.41542,     0.41642,     0.41742,     0.41842,     0.41942,     0.42042,     0.42142,     0.42242,     0.42342,     0.42442,     0.42543,     0.42643,     0.42743,     0.42843,     0.42943,     0.43043,     0.43143,\n",
            "           0.43243,     0.43343,     0.43443,     0.43544,     0.43644,     0.43744,     0.43844,     0.43944,     0.44044,     0.44144,     0.44244,     0.44344,     0.44444,     0.44545,     0.44645,     0.44745,     0.44845,     0.44945,     0.45045,     0.45145,     0.45245,     0.45345,     0.45445,     0.45546,\n",
            "           0.45646,     0.45746,     0.45846,     0.45946,     0.46046,     0.46146,     0.46246,     0.46346,     0.46446,     0.46547,     0.46647,     0.46747,     0.46847,     0.46947,     0.47047,     0.47147,     0.47247,     0.47347,     0.47447,     0.47548,     0.47648,     0.47748,     0.47848,     0.47948,\n",
            "           0.48048,     0.48148,     0.48248,     0.48348,     0.48448,     0.48549,     0.48649,     0.48749,     0.48849,     0.48949,     0.49049,     0.49149,     0.49249,     0.49349,     0.49449,      0.4955,      0.4965,      0.4975,      0.4985,      0.4995,      0.5005,      0.5015,      0.5025,      0.5035,\n",
            "            0.5045,     0.50551,     0.50651,     0.50751,     0.50851,     0.50951,     0.51051,     0.51151,     0.51251,     0.51351,     0.51451,     0.51552,     0.51652,     0.51752,     0.51852,     0.51952,     0.52052,     0.52152,     0.52252,     0.52352,     0.52452,     0.52553,     0.52653,     0.52753,\n",
            "           0.52853,     0.52953,     0.53053,     0.53153,     0.53253,     0.53353,     0.53453,     0.53554,     0.53654,     0.53754,     0.53854,     0.53954,     0.54054,     0.54154,     0.54254,     0.54354,     0.54454,     0.54555,     0.54655,     0.54755,     0.54855,     0.54955,     0.55055,     0.55155,\n",
            "           0.55255,     0.55355,     0.55455,     0.55556,     0.55656,     0.55756,     0.55856,     0.55956,     0.56056,     0.56156,     0.56256,     0.56356,     0.56456,     0.56557,     0.56657,     0.56757,     0.56857,     0.56957,     0.57057,     0.57157,     0.57257,     0.57357,     0.57457,     0.57558,\n",
            "           0.57658,     0.57758,     0.57858,     0.57958,     0.58058,     0.58158,     0.58258,     0.58358,     0.58458,     0.58559,     0.58659,     0.58759,     0.58859,     0.58959,     0.59059,     0.59159,     0.59259,     0.59359,     0.59459,      0.5956,      0.5966,      0.5976,      0.5986,      0.5996,\n",
            "            0.6006,      0.6016,      0.6026,      0.6036,      0.6046,     0.60561,     0.60661,     0.60761,     0.60861,     0.60961,     0.61061,     0.61161,     0.61261,     0.61361,     0.61461,     0.61562,     0.61662,     0.61762,     0.61862,     0.61962,     0.62062,     0.62162,     0.62262,     0.62362,\n",
            "           0.62462,     0.62563,     0.62663,     0.62763,     0.62863,     0.62963,     0.63063,     0.63163,     0.63263,     0.63363,     0.63463,     0.63564,     0.63664,     0.63764,     0.63864,     0.63964,     0.64064,     0.64164,     0.64264,     0.64364,     0.64464,     0.64565,     0.64665,     0.64765,\n",
            "           0.64865,     0.64965,     0.65065,     0.65165,     0.65265,     0.65365,     0.65465,     0.65566,     0.65666,     0.65766,     0.65866,     0.65966,     0.66066,     0.66166,     0.66266,     0.66366,     0.66466,     0.66567,     0.66667,     0.66767,     0.66867,     0.66967,     0.67067,     0.67167,\n",
            "           0.67267,     0.67367,     0.67467,     0.67568,     0.67668,     0.67768,     0.67868,     0.67968,     0.68068,     0.68168,     0.68268,     0.68368,     0.68468,     0.68569,     0.68669,     0.68769,     0.68869,     0.68969,     0.69069,     0.69169,     0.69269,     0.69369,     0.69469,      0.6957,\n",
            "            0.6967,      0.6977,      0.6987,      0.6997,      0.7007,      0.7017,      0.7027,      0.7037,      0.7047,     0.70571,     0.70671,     0.70771,     0.70871,     0.70971,     0.71071,     0.71171,     0.71271,     0.71371,     0.71471,     0.71572,     0.71672,     0.71772,     0.71872,     0.71972,\n",
            "           0.72072,     0.72172,     0.72272,     0.72372,     0.72472,     0.72573,     0.72673,     0.72773,     0.72873,     0.72973,     0.73073,     0.73173,     0.73273,     0.73373,     0.73473,     0.73574,     0.73674,     0.73774,     0.73874,     0.73974,     0.74074,     0.74174,     0.74274,     0.74374,\n",
            "           0.74474,     0.74575,     0.74675,     0.74775,     0.74875,     0.74975,     0.75075,     0.75175,     0.75275,     0.75375,     0.75475,     0.75576,     0.75676,     0.75776,     0.75876,     0.75976,     0.76076,     0.76176,     0.76276,     0.76376,     0.76476,     0.76577,     0.76677,     0.76777,\n",
            "           0.76877,     0.76977,     0.77077,     0.77177,     0.77277,     0.77377,     0.77477,     0.77578,     0.77678,     0.77778,     0.77878,     0.77978,     0.78078,     0.78178,     0.78278,     0.78378,     0.78478,     0.78579,     0.78679,     0.78779,     0.78879,     0.78979,     0.79079,     0.79179,\n",
            "           0.79279,     0.79379,     0.79479,      0.7958,      0.7968,      0.7978,      0.7988,      0.7998,      0.8008,      0.8018,      0.8028,      0.8038,      0.8048,     0.80581,     0.80681,     0.80781,     0.80881,     0.80981,     0.81081,     0.81181,     0.81281,     0.81381,     0.81481,     0.81582,\n",
            "           0.81682,     0.81782,     0.81882,     0.81982,     0.82082,     0.82182,     0.82282,     0.82382,     0.82482,     0.82583,     0.82683,     0.82783,     0.82883,     0.82983,     0.83083,     0.83183,     0.83283,     0.83383,     0.83483,     0.83584,     0.83684,     0.83784,     0.83884,     0.83984,\n",
            "           0.84084,     0.84184,     0.84284,     0.84384,     0.84484,     0.84585,     0.84685,     0.84785,     0.84885,     0.84985,     0.85085,     0.85185,     0.85285,     0.85385,     0.85485,     0.85586,     0.85686,     0.85786,     0.85886,     0.85986,     0.86086,     0.86186,     0.86286,     0.86386,\n",
            "           0.86486,     0.86587,     0.86687,     0.86787,     0.86887,     0.86987,     0.87087,     0.87187,     0.87287,     0.87387,     0.87487,     0.87588,     0.87688,     0.87788,     0.87888,     0.87988,     0.88088,     0.88188,     0.88288,     0.88388,     0.88488,     0.88589,     0.88689,     0.88789,\n",
            "           0.88889,     0.88989,     0.89089,     0.89189,     0.89289,     0.89389,     0.89489,      0.8959,      0.8969,      0.8979,      0.8989,      0.8999,      0.9009,      0.9019,      0.9029,      0.9039,      0.9049,     0.90591,     0.90691,     0.90791,     0.90891,     0.90991,     0.91091,     0.91191,\n",
            "           0.91291,     0.91391,     0.91491,     0.91592,     0.91692,     0.91792,     0.91892,     0.91992,     0.92092,     0.92192,     0.92292,     0.92392,     0.92492,     0.92593,     0.92693,     0.92793,     0.92893,     0.92993,     0.93093,     0.93193,     0.93293,     0.93393,     0.93493,     0.93594,\n",
            "           0.93694,     0.93794,     0.93894,     0.93994,     0.94094,     0.94194,     0.94294,     0.94394,     0.94494,     0.94595,     0.94695,     0.94795,     0.94895,     0.94995,     0.95095,     0.95195,     0.95295,     0.95395,     0.95495,     0.95596,     0.95696,     0.95796,     0.95896,     0.95996,\n",
            "           0.96096,     0.96196,     0.96296,     0.96396,     0.96496,     0.96597,     0.96697,     0.96797,     0.96897,     0.96997,     0.97097,     0.97197,     0.97297,     0.97397,     0.97497,     0.97598,     0.97698,     0.97798,     0.97898,     0.97998,     0.98098,     0.98198,     0.98298,     0.98398,\n",
            "           0.98498,     0.98599,     0.98699,     0.98799,     0.98899,     0.98999,     0.99099,     0.99199,     0.99299,     0.99399,     0.99499,       0.996,       0.997,       0.998,       0.999,           1]), array([[          1,           1,           1, ...,   0.0083403,   0.0041701,           0],\n",
            "       [          1,           1,           1, ...,  0.00040654,  0.00020327,           0]]), 'Recall', 'Precision'], [array([          0,    0.001001,    0.002002,    0.003003,    0.004004,    0.005005,    0.006006,    0.007007,    0.008008,    0.009009,     0.01001,    0.011011,    0.012012,    0.013013,    0.014014,    0.015015,    0.016016,    0.017017,    0.018018,    0.019019,     0.02002,    0.021021,    0.022022,    0.023023,\n",
            "          0.024024,    0.025025,    0.026026,    0.027027,    0.028028,    0.029029,     0.03003,    0.031031,    0.032032,    0.033033,    0.034034,    0.035035,    0.036036,    0.037037,    0.038038,    0.039039,     0.04004,    0.041041,    0.042042,    0.043043,    0.044044,    0.045045,    0.046046,    0.047047,\n",
            "          0.048048,    0.049049,     0.05005,    0.051051,    0.052052,    0.053053,    0.054054,    0.055055,    0.056056,    0.057057,    0.058058,    0.059059,     0.06006,    0.061061,    0.062062,    0.063063,    0.064064,    0.065065,    0.066066,    0.067067,    0.068068,    0.069069,     0.07007,    0.071071,\n",
            "          0.072072,    0.073073,    0.074074,    0.075075,    0.076076,    0.077077,    0.078078,    0.079079,     0.08008,    0.081081,    0.082082,    0.083083,    0.084084,    0.085085,    0.086086,    0.087087,    0.088088,    0.089089,     0.09009,    0.091091,    0.092092,    0.093093,    0.094094,    0.095095,\n",
            "          0.096096,    0.097097,    0.098098,    0.099099,      0.1001,      0.1011,      0.1021,      0.1031,      0.1041,     0.10511,     0.10611,     0.10711,     0.10811,     0.10911,     0.11011,     0.11111,     0.11211,     0.11311,     0.11411,     0.11512,     0.11612,     0.11712,     0.11812,     0.11912,\n",
            "           0.12012,     0.12112,     0.12212,     0.12312,     0.12412,     0.12513,     0.12613,     0.12713,     0.12813,     0.12913,     0.13013,     0.13113,     0.13213,     0.13313,     0.13413,     0.13514,     0.13614,     0.13714,     0.13814,     0.13914,     0.14014,     0.14114,     0.14214,     0.14314,\n",
            "           0.14414,     0.14515,     0.14615,     0.14715,     0.14815,     0.14915,     0.15015,     0.15115,     0.15215,     0.15315,     0.15415,     0.15516,     0.15616,     0.15716,     0.15816,     0.15916,     0.16016,     0.16116,     0.16216,     0.16316,     0.16416,     0.16517,     0.16617,     0.16717,\n",
            "           0.16817,     0.16917,     0.17017,     0.17117,     0.17217,     0.17317,     0.17417,     0.17518,     0.17618,     0.17718,     0.17818,     0.17918,     0.18018,     0.18118,     0.18218,     0.18318,     0.18418,     0.18519,     0.18619,     0.18719,     0.18819,     0.18919,     0.19019,     0.19119,\n",
            "           0.19219,     0.19319,     0.19419,      0.1952,      0.1962,      0.1972,      0.1982,      0.1992,      0.2002,      0.2012,      0.2022,      0.2032,      0.2042,     0.20521,     0.20621,     0.20721,     0.20821,     0.20921,     0.21021,     0.21121,     0.21221,     0.21321,     0.21421,     0.21522,\n",
            "           0.21622,     0.21722,     0.21822,     0.21922,     0.22022,     0.22122,     0.22222,     0.22322,     0.22422,     0.22523,     0.22623,     0.22723,     0.22823,     0.22923,     0.23023,     0.23123,     0.23223,     0.23323,     0.23423,     0.23524,     0.23624,     0.23724,     0.23824,     0.23924,\n",
            "           0.24024,     0.24124,     0.24224,     0.24324,     0.24424,     0.24525,     0.24625,     0.24725,     0.24825,     0.24925,     0.25025,     0.25125,     0.25225,     0.25325,     0.25425,     0.25526,     0.25626,     0.25726,     0.25826,     0.25926,     0.26026,     0.26126,     0.26226,     0.26326,\n",
            "           0.26426,     0.26527,     0.26627,     0.26727,     0.26827,     0.26927,     0.27027,     0.27127,     0.27227,     0.27327,     0.27427,     0.27528,     0.27628,     0.27728,     0.27828,     0.27928,     0.28028,     0.28128,     0.28228,     0.28328,     0.28428,     0.28529,     0.28629,     0.28729,\n",
            "           0.28829,     0.28929,     0.29029,     0.29129,     0.29229,     0.29329,     0.29429,      0.2953,      0.2963,      0.2973,      0.2983,      0.2993,      0.3003,      0.3013,      0.3023,      0.3033,      0.3043,     0.30531,     0.30631,     0.30731,     0.30831,     0.30931,     0.31031,     0.31131,\n",
            "           0.31231,     0.31331,     0.31431,     0.31532,     0.31632,     0.31732,     0.31832,     0.31932,     0.32032,     0.32132,     0.32232,     0.32332,     0.32432,     0.32533,     0.32633,     0.32733,     0.32833,     0.32933,     0.33033,     0.33133,     0.33233,     0.33333,     0.33433,     0.33534,\n",
            "           0.33634,     0.33734,     0.33834,     0.33934,     0.34034,     0.34134,     0.34234,     0.34334,     0.34434,     0.34535,     0.34635,     0.34735,     0.34835,     0.34935,     0.35035,     0.35135,     0.35235,     0.35335,     0.35435,     0.35536,     0.35636,     0.35736,     0.35836,     0.35936,\n",
            "           0.36036,     0.36136,     0.36236,     0.36336,     0.36436,     0.36537,     0.36637,     0.36737,     0.36837,     0.36937,     0.37037,     0.37137,     0.37237,     0.37337,     0.37437,     0.37538,     0.37638,     0.37738,     0.37838,     0.37938,     0.38038,     0.38138,     0.38238,     0.38338,\n",
            "           0.38438,     0.38539,     0.38639,     0.38739,     0.38839,     0.38939,     0.39039,     0.39139,     0.39239,     0.39339,     0.39439,      0.3954,      0.3964,      0.3974,      0.3984,      0.3994,      0.4004,      0.4014,      0.4024,      0.4034,      0.4044,     0.40541,     0.40641,     0.40741,\n",
            "           0.40841,     0.40941,     0.41041,     0.41141,     0.41241,     0.41341,     0.41441,     0.41542,     0.41642,     0.41742,     0.41842,     0.41942,     0.42042,     0.42142,     0.42242,     0.42342,     0.42442,     0.42543,     0.42643,     0.42743,     0.42843,     0.42943,     0.43043,     0.43143,\n",
            "           0.43243,     0.43343,     0.43443,     0.43544,     0.43644,     0.43744,     0.43844,     0.43944,     0.44044,     0.44144,     0.44244,     0.44344,     0.44444,     0.44545,     0.44645,     0.44745,     0.44845,     0.44945,     0.45045,     0.45145,     0.45245,     0.45345,     0.45445,     0.45546,\n",
            "           0.45646,     0.45746,     0.45846,     0.45946,     0.46046,     0.46146,     0.46246,     0.46346,     0.46446,     0.46547,     0.46647,     0.46747,     0.46847,     0.46947,     0.47047,     0.47147,     0.47247,     0.47347,     0.47447,     0.47548,     0.47648,     0.47748,     0.47848,     0.47948,\n",
            "           0.48048,     0.48148,     0.48248,     0.48348,     0.48448,     0.48549,     0.48649,     0.48749,     0.48849,     0.48949,     0.49049,     0.49149,     0.49249,     0.49349,     0.49449,      0.4955,      0.4965,      0.4975,      0.4985,      0.4995,      0.5005,      0.5015,      0.5025,      0.5035,\n",
            "            0.5045,     0.50551,     0.50651,     0.50751,     0.50851,     0.50951,     0.51051,     0.51151,     0.51251,     0.51351,     0.51451,     0.51552,     0.51652,     0.51752,     0.51852,     0.51952,     0.52052,     0.52152,     0.52252,     0.52352,     0.52452,     0.52553,     0.52653,     0.52753,\n",
            "           0.52853,     0.52953,     0.53053,     0.53153,     0.53253,     0.53353,     0.53453,     0.53554,     0.53654,     0.53754,     0.53854,     0.53954,     0.54054,     0.54154,     0.54254,     0.54354,     0.54454,     0.54555,     0.54655,     0.54755,     0.54855,     0.54955,     0.55055,     0.55155,\n",
            "           0.55255,     0.55355,     0.55455,     0.55556,     0.55656,     0.55756,     0.55856,     0.55956,     0.56056,     0.56156,     0.56256,     0.56356,     0.56456,     0.56557,     0.56657,     0.56757,     0.56857,     0.56957,     0.57057,     0.57157,     0.57257,     0.57357,     0.57457,     0.57558,\n",
            "           0.57658,     0.57758,     0.57858,     0.57958,     0.58058,     0.58158,     0.58258,     0.58358,     0.58458,     0.58559,     0.58659,     0.58759,     0.58859,     0.58959,     0.59059,     0.59159,     0.59259,     0.59359,     0.59459,      0.5956,      0.5966,      0.5976,      0.5986,      0.5996,\n",
            "            0.6006,      0.6016,      0.6026,      0.6036,      0.6046,     0.60561,     0.60661,     0.60761,     0.60861,     0.60961,     0.61061,     0.61161,     0.61261,     0.61361,     0.61461,     0.61562,     0.61662,     0.61762,     0.61862,     0.61962,     0.62062,     0.62162,     0.62262,     0.62362,\n",
            "           0.62462,     0.62563,     0.62663,     0.62763,     0.62863,     0.62963,     0.63063,     0.63163,     0.63263,     0.63363,     0.63463,     0.63564,     0.63664,     0.63764,     0.63864,     0.63964,     0.64064,     0.64164,     0.64264,     0.64364,     0.64464,     0.64565,     0.64665,     0.64765,\n",
            "           0.64865,     0.64965,     0.65065,     0.65165,     0.65265,     0.65365,     0.65465,     0.65566,     0.65666,     0.65766,     0.65866,     0.65966,     0.66066,     0.66166,     0.66266,     0.66366,     0.66466,     0.66567,     0.66667,     0.66767,     0.66867,     0.66967,     0.67067,     0.67167,\n",
            "           0.67267,     0.67367,     0.67467,     0.67568,     0.67668,     0.67768,     0.67868,     0.67968,     0.68068,     0.68168,     0.68268,     0.68368,     0.68468,     0.68569,     0.68669,     0.68769,     0.68869,     0.68969,     0.69069,     0.69169,     0.69269,     0.69369,     0.69469,      0.6957,\n",
            "            0.6967,      0.6977,      0.6987,      0.6997,      0.7007,      0.7017,      0.7027,      0.7037,      0.7047,     0.70571,     0.70671,     0.70771,     0.70871,     0.70971,     0.71071,     0.71171,     0.71271,     0.71371,     0.71471,     0.71572,     0.71672,     0.71772,     0.71872,     0.71972,\n",
            "           0.72072,     0.72172,     0.72272,     0.72372,     0.72472,     0.72573,     0.72673,     0.72773,     0.72873,     0.72973,     0.73073,     0.73173,     0.73273,     0.73373,     0.73473,     0.73574,     0.73674,     0.73774,     0.73874,     0.73974,     0.74074,     0.74174,     0.74274,     0.74374,\n",
            "           0.74474,     0.74575,     0.74675,     0.74775,     0.74875,     0.74975,     0.75075,     0.75175,     0.75275,     0.75375,     0.75475,     0.75576,     0.75676,     0.75776,     0.75876,     0.75976,     0.76076,     0.76176,     0.76276,     0.76376,     0.76476,     0.76577,     0.76677,     0.76777,\n",
            "           0.76877,     0.76977,     0.77077,     0.77177,     0.77277,     0.77377,     0.77477,     0.77578,     0.77678,     0.77778,     0.77878,     0.77978,     0.78078,     0.78178,     0.78278,     0.78378,     0.78478,     0.78579,     0.78679,     0.78779,     0.78879,     0.78979,     0.79079,     0.79179,\n",
            "           0.79279,     0.79379,     0.79479,      0.7958,      0.7968,      0.7978,      0.7988,      0.7998,      0.8008,      0.8018,      0.8028,      0.8038,      0.8048,     0.80581,     0.80681,     0.80781,     0.80881,     0.80981,     0.81081,     0.81181,     0.81281,     0.81381,     0.81481,     0.81582,\n",
            "           0.81682,     0.81782,     0.81882,     0.81982,     0.82082,     0.82182,     0.82282,     0.82382,     0.82482,     0.82583,     0.82683,     0.82783,     0.82883,     0.82983,     0.83083,     0.83183,     0.83283,     0.83383,     0.83483,     0.83584,     0.83684,     0.83784,     0.83884,     0.83984,\n",
            "           0.84084,     0.84184,     0.84284,     0.84384,     0.84484,     0.84585,     0.84685,     0.84785,     0.84885,     0.84985,     0.85085,     0.85185,     0.85285,     0.85385,     0.85485,     0.85586,     0.85686,     0.85786,     0.85886,     0.85986,     0.86086,     0.86186,     0.86286,     0.86386,\n",
            "           0.86486,     0.86587,     0.86687,     0.86787,     0.86887,     0.86987,     0.87087,     0.87187,     0.87287,     0.87387,     0.87487,     0.87588,     0.87688,     0.87788,     0.87888,     0.87988,     0.88088,     0.88188,     0.88288,     0.88388,     0.88488,     0.88589,     0.88689,     0.88789,\n",
            "           0.88889,     0.88989,     0.89089,     0.89189,     0.89289,     0.89389,     0.89489,      0.8959,      0.8969,      0.8979,      0.8989,      0.8999,      0.9009,      0.9019,      0.9029,      0.9039,      0.9049,     0.90591,     0.90691,     0.90791,     0.90891,     0.90991,     0.91091,     0.91191,\n",
            "           0.91291,     0.91391,     0.91491,     0.91592,     0.91692,     0.91792,     0.91892,     0.91992,     0.92092,     0.92192,     0.92292,     0.92392,     0.92492,     0.92593,     0.92693,     0.92793,     0.92893,     0.92993,     0.93093,     0.93193,     0.93293,     0.93393,     0.93493,     0.93594,\n",
            "           0.93694,     0.93794,     0.93894,     0.93994,     0.94094,     0.94194,     0.94294,     0.94394,     0.94494,     0.94595,     0.94695,     0.94795,     0.94895,     0.94995,     0.95095,     0.95195,     0.95295,     0.95395,     0.95495,     0.95596,     0.95696,     0.95796,     0.95896,     0.95996,\n",
            "           0.96096,     0.96196,     0.96296,     0.96396,     0.96496,     0.96597,     0.96697,     0.96797,     0.96897,     0.96997,     0.97097,     0.97197,     0.97297,     0.97397,     0.97497,     0.97598,     0.97698,     0.97798,     0.97898,     0.97998,     0.98098,     0.98198,     0.98298,     0.98398,\n",
            "           0.98498,     0.98599,     0.98699,     0.98799,     0.98899,     0.98999,     0.99099,     0.99199,     0.99299,     0.99399,     0.99499,       0.996,       0.997,       0.998,       0.999,           1]), array([[    0.22769,     0.22769,     0.29889, ...,           0,           0,           0],\n",
            "       [   0.067736,    0.067736,     0.10206, ...,           0,           0,           0]]), 'Confidence', 'F1'], [array([          0,    0.001001,    0.002002,    0.003003,    0.004004,    0.005005,    0.006006,    0.007007,    0.008008,    0.009009,     0.01001,    0.011011,    0.012012,    0.013013,    0.014014,    0.015015,    0.016016,    0.017017,    0.018018,    0.019019,     0.02002,    0.021021,    0.022022,    0.023023,\n",
            "          0.024024,    0.025025,    0.026026,    0.027027,    0.028028,    0.029029,     0.03003,    0.031031,    0.032032,    0.033033,    0.034034,    0.035035,    0.036036,    0.037037,    0.038038,    0.039039,     0.04004,    0.041041,    0.042042,    0.043043,    0.044044,    0.045045,    0.046046,    0.047047,\n",
            "          0.048048,    0.049049,     0.05005,    0.051051,    0.052052,    0.053053,    0.054054,    0.055055,    0.056056,    0.057057,    0.058058,    0.059059,     0.06006,    0.061061,    0.062062,    0.063063,    0.064064,    0.065065,    0.066066,    0.067067,    0.068068,    0.069069,     0.07007,    0.071071,\n",
            "          0.072072,    0.073073,    0.074074,    0.075075,    0.076076,    0.077077,    0.078078,    0.079079,     0.08008,    0.081081,    0.082082,    0.083083,    0.084084,    0.085085,    0.086086,    0.087087,    0.088088,    0.089089,     0.09009,    0.091091,    0.092092,    0.093093,    0.094094,    0.095095,\n",
            "          0.096096,    0.097097,    0.098098,    0.099099,      0.1001,      0.1011,      0.1021,      0.1031,      0.1041,     0.10511,     0.10611,     0.10711,     0.10811,     0.10911,     0.11011,     0.11111,     0.11211,     0.11311,     0.11411,     0.11512,     0.11612,     0.11712,     0.11812,     0.11912,\n",
            "           0.12012,     0.12112,     0.12212,     0.12312,     0.12412,     0.12513,     0.12613,     0.12713,     0.12813,     0.12913,     0.13013,     0.13113,     0.13213,     0.13313,     0.13413,     0.13514,     0.13614,     0.13714,     0.13814,     0.13914,     0.14014,     0.14114,     0.14214,     0.14314,\n",
            "           0.14414,     0.14515,     0.14615,     0.14715,     0.14815,     0.14915,     0.15015,     0.15115,     0.15215,     0.15315,     0.15415,     0.15516,     0.15616,     0.15716,     0.15816,     0.15916,     0.16016,     0.16116,     0.16216,     0.16316,     0.16416,     0.16517,     0.16617,     0.16717,\n",
            "           0.16817,     0.16917,     0.17017,     0.17117,     0.17217,     0.17317,     0.17417,     0.17518,     0.17618,     0.17718,     0.17818,     0.17918,     0.18018,     0.18118,     0.18218,     0.18318,     0.18418,     0.18519,     0.18619,     0.18719,     0.18819,     0.18919,     0.19019,     0.19119,\n",
            "           0.19219,     0.19319,     0.19419,      0.1952,      0.1962,      0.1972,      0.1982,      0.1992,      0.2002,      0.2012,      0.2022,      0.2032,      0.2042,     0.20521,     0.20621,     0.20721,     0.20821,     0.20921,     0.21021,     0.21121,     0.21221,     0.21321,     0.21421,     0.21522,\n",
            "           0.21622,     0.21722,     0.21822,     0.21922,     0.22022,     0.22122,     0.22222,     0.22322,     0.22422,     0.22523,     0.22623,     0.22723,     0.22823,     0.22923,     0.23023,     0.23123,     0.23223,     0.23323,     0.23423,     0.23524,     0.23624,     0.23724,     0.23824,     0.23924,\n",
            "           0.24024,     0.24124,     0.24224,     0.24324,     0.24424,     0.24525,     0.24625,     0.24725,     0.24825,     0.24925,     0.25025,     0.25125,     0.25225,     0.25325,     0.25425,     0.25526,     0.25626,     0.25726,     0.25826,     0.25926,     0.26026,     0.26126,     0.26226,     0.26326,\n",
            "           0.26426,     0.26527,     0.26627,     0.26727,     0.26827,     0.26927,     0.27027,     0.27127,     0.27227,     0.27327,     0.27427,     0.27528,     0.27628,     0.27728,     0.27828,     0.27928,     0.28028,     0.28128,     0.28228,     0.28328,     0.28428,     0.28529,     0.28629,     0.28729,\n",
            "           0.28829,     0.28929,     0.29029,     0.29129,     0.29229,     0.29329,     0.29429,      0.2953,      0.2963,      0.2973,      0.2983,      0.2993,      0.3003,      0.3013,      0.3023,      0.3033,      0.3043,     0.30531,     0.30631,     0.30731,     0.30831,     0.30931,     0.31031,     0.31131,\n",
            "           0.31231,     0.31331,     0.31431,     0.31532,     0.31632,     0.31732,     0.31832,     0.31932,     0.32032,     0.32132,     0.32232,     0.32332,     0.32432,     0.32533,     0.32633,     0.32733,     0.32833,     0.32933,     0.33033,     0.33133,     0.33233,     0.33333,     0.33433,     0.33534,\n",
            "           0.33634,     0.33734,     0.33834,     0.33934,     0.34034,     0.34134,     0.34234,     0.34334,     0.34434,     0.34535,     0.34635,     0.34735,     0.34835,     0.34935,     0.35035,     0.35135,     0.35235,     0.35335,     0.35435,     0.35536,     0.35636,     0.35736,     0.35836,     0.35936,\n",
            "           0.36036,     0.36136,     0.36236,     0.36336,     0.36436,     0.36537,     0.36637,     0.36737,     0.36837,     0.36937,     0.37037,     0.37137,     0.37237,     0.37337,     0.37437,     0.37538,     0.37638,     0.37738,     0.37838,     0.37938,     0.38038,     0.38138,     0.38238,     0.38338,\n",
            "           0.38438,     0.38539,     0.38639,     0.38739,     0.38839,     0.38939,     0.39039,     0.39139,     0.39239,     0.39339,     0.39439,      0.3954,      0.3964,      0.3974,      0.3984,      0.3994,      0.4004,      0.4014,      0.4024,      0.4034,      0.4044,     0.40541,     0.40641,     0.40741,\n",
            "           0.40841,     0.40941,     0.41041,     0.41141,     0.41241,     0.41341,     0.41441,     0.41542,     0.41642,     0.41742,     0.41842,     0.41942,     0.42042,     0.42142,     0.42242,     0.42342,     0.42442,     0.42543,     0.42643,     0.42743,     0.42843,     0.42943,     0.43043,     0.43143,\n",
            "           0.43243,     0.43343,     0.43443,     0.43544,     0.43644,     0.43744,     0.43844,     0.43944,     0.44044,     0.44144,     0.44244,     0.44344,     0.44444,     0.44545,     0.44645,     0.44745,     0.44845,     0.44945,     0.45045,     0.45145,     0.45245,     0.45345,     0.45445,     0.45546,\n",
            "           0.45646,     0.45746,     0.45846,     0.45946,     0.46046,     0.46146,     0.46246,     0.46346,     0.46446,     0.46547,     0.46647,     0.46747,     0.46847,     0.46947,     0.47047,     0.47147,     0.47247,     0.47347,     0.47447,     0.47548,     0.47648,     0.47748,     0.47848,     0.47948,\n",
            "           0.48048,     0.48148,     0.48248,     0.48348,     0.48448,     0.48549,     0.48649,     0.48749,     0.48849,     0.48949,     0.49049,     0.49149,     0.49249,     0.49349,     0.49449,      0.4955,      0.4965,      0.4975,      0.4985,      0.4995,      0.5005,      0.5015,      0.5025,      0.5035,\n",
            "            0.5045,     0.50551,     0.50651,     0.50751,     0.50851,     0.50951,     0.51051,     0.51151,     0.51251,     0.51351,     0.51451,     0.51552,     0.51652,     0.51752,     0.51852,     0.51952,     0.52052,     0.52152,     0.52252,     0.52352,     0.52452,     0.52553,     0.52653,     0.52753,\n",
            "           0.52853,     0.52953,     0.53053,     0.53153,     0.53253,     0.53353,     0.53453,     0.53554,     0.53654,     0.53754,     0.53854,     0.53954,     0.54054,     0.54154,     0.54254,     0.54354,     0.54454,     0.54555,     0.54655,     0.54755,     0.54855,     0.54955,     0.55055,     0.55155,\n",
            "           0.55255,     0.55355,     0.55455,     0.55556,     0.55656,     0.55756,     0.55856,     0.55956,     0.56056,     0.56156,     0.56256,     0.56356,     0.56456,     0.56557,     0.56657,     0.56757,     0.56857,     0.56957,     0.57057,     0.57157,     0.57257,     0.57357,     0.57457,     0.57558,\n",
            "           0.57658,     0.57758,     0.57858,     0.57958,     0.58058,     0.58158,     0.58258,     0.58358,     0.58458,     0.58559,     0.58659,     0.58759,     0.58859,     0.58959,     0.59059,     0.59159,     0.59259,     0.59359,     0.59459,      0.5956,      0.5966,      0.5976,      0.5986,      0.5996,\n",
            "            0.6006,      0.6016,      0.6026,      0.6036,      0.6046,     0.60561,     0.60661,     0.60761,     0.60861,     0.60961,     0.61061,     0.61161,     0.61261,     0.61361,     0.61461,     0.61562,     0.61662,     0.61762,     0.61862,     0.61962,     0.62062,     0.62162,     0.62262,     0.62362,\n",
            "           0.62462,     0.62563,     0.62663,     0.62763,     0.62863,     0.62963,     0.63063,     0.63163,     0.63263,     0.63363,     0.63463,     0.63564,     0.63664,     0.63764,     0.63864,     0.63964,     0.64064,     0.64164,     0.64264,     0.64364,     0.64464,     0.64565,     0.64665,     0.64765,\n",
            "           0.64865,     0.64965,     0.65065,     0.65165,     0.65265,     0.65365,     0.65465,     0.65566,     0.65666,     0.65766,     0.65866,     0.65966,     0.66066,     0.66166,     0.66266,     0.66366,     0.66466,     0.66567,     0.66667,     0.66767,     0.66867,     0.66967,     0.67067,     0.67167,\n",
            "           0.67267,     0.67367,     0.67467,     0.67568,     0.67668,     0.67768,     0.67868,     0.67968,     0.68068,     0.68168,     0.68268,     0.68368,     0.68468,     0.68569,     0.68669,     0.68769,     0.68869,     0.68969,     0.69069,     0.69169,     0.69269,     0.69369,     0.69469,      0.6957,\n",
            "            0.6967,      0.6977,      0.6987,      0.6997,      0.7007,      0.7017,      0.7027,      0.7037,      0.7047,     0.70571,     0.70671,     0.70771,     0.70871,     0.70971,     0.71071,     0.71171,     0.71271,     0.71371,     0.71471,     0.71572,     0.71672,     0.71772,     0.71872,     0.71972,\n",
            "           0.72072,     0.72172,     0.72272,     0.72372,     0.72472,     0.72573,     0.72673,     0.72773,     0.72873,     0.72973,     0.73073,     0.73173,     0.73273,     0.73373,     0.73473,     0.73574,     0.73674,     0.73774,     0.73874,     0.73974,     0.74074,     0.74174,     0.74274,     0.74374,\n",
            "           0.74474,     0.74575,     0.74675,     0.74775,     0.74875,     0.74975,     0.75075,     0.75175,     0.75275,     0.75375,     0.75475,     0.75576,     0.75676,     0.75776,     0.75876,     0.75976,     0.76076,     0.76176,     0.76276,     0.76376,     0.76476,     0.76577,     0.76677,     0.76777,\n",
            "           0.76877,     0.76977,     0.77077,     0.77177,     0.77277,     0.77377,     0.77477,     0.77578,     0.77678,     0.77778,     0.77878,     0.77978,     0.78078,     0.78178,     0.78278,     0.78378,     0.78478,     0.78579,     0.78679,     0.78779,     0.78879,     0.78979,     0.79079,     0.79179,\n",
            "           0.79279,     0.79379,     0.79479,      0.7958,      0.7968,      0.7978,      0.7988,      0.7998,      0.8008,      0.8018,      0.8028,      0.8038,      0.8048,     0.80581,     0.80681,     0.80781,     0.80881,     0.80981,     0.81081,     0.81181,     0.81281,     0.81381,     0.81481,     0.81582,\n",
            "           0.81682,     0.81782,     0.81882,     0.81982,     0.82082,     0.82182,     0.82282,     0.82382,     0.82482,     0.82583,     0.82683,     0.82783,     0.82883,     0.82983,     0.83083,     0.83183,     0.83283,     0.83383,     0.83483,     0.83584,     0.83684,     0.83784,     0.83884,     0.83984,\n",
            "           0.84084,     0.84184,     0.84284,     0.84384,     0.84484,     0.84585,     0.84685,     0.84785,     0.84885,     0.84985,     0.85085,     0.85185,     0.85285,     0.85385,     0.85485,     0.85586,     0.85686,     0.85786,     0.85886,     0.85986,     0.86086,     0.86186,     0.86286,     0.86386,\n",
            "           0.86486,     0.86587,     0.86687,     0.86787,     0.86887,     0.86987,     0.87087,     0.87187,     0.87287,     0.87387,     0.87487,     0.87588,     0.87688,     0.87788,     0.87888,     0.87988,     0.88088,     0.88188,     0.88288,     0.88388,     0.88488,     0.88589,     0.88689,     0.88789,\n",
            "           0.88889,     0.88989,     0.89089,     0.89189,     0.89289,     0.89389,     0.89489,      0.8959,      0.8969,      0.8979,      0.8989,      0.8999,      0.9009,      0.9019,      0.9029,      0.9039,      0.9049,     0.90591,     0.90691,     0.90791,     0.90891,     0.90991,     0.91091,     0.91191,\n",
            "           0.91291,     0.91391,     0.91491,     0.91592,     0.91692,     0.91792,     0.91892,     0.91992,     0.92092,     0.92192,     0.92292,     0.92392,     0.92492,     0.92593,     0.92693,     0.92793,     0.92893,     0.92993,     0.93093,     0.93193,     0.93293,     0.93393,     0.93493,     0.93594,\n",
            "           0.93694,     0.93794,     0.93894,     0.93994,     0.94094,     0.94194,     0.94294,     0.94394,     0.94494,     0.94595,     0.94695,     0.94795,     0.94895,     0.94995,     0.95095,     0.95195,     0.95295,     0.95395,     0.95495,     0.95596,     0.95696,     0.95796,     0.95896,     0.95996,\n",
            "           0.96096,     0.96196,     0.96296,     0.96396,     0.96496,     0.96597,     0.96697,     0.96797,     0.96897,     0.96997,     0.97097,     0.97197,     0.97297,     0.97397,     0.97497,     0.97598,     0.97698,     0.97798,     0.97898,     0.97998,     0.98098,     0.98198,     0.98298,     0.98398,\n",
            "           0.98498,     0.98599,     0.98699,     0.98799,     0.98899,     0.98999,     0.99099,     0.99199,     0.99299,     0.99399,     0.99499,       0.996,       0.997,       0.998,       0.999,           1]), array([[      0.129,       0.129,     0.17694, ...,           1,           1,           1],\n",
            "       [   0.035316,    0.035316,    0.054592, ...,           1,           1,           1]]), 'Confidence', 'Precision'], [array([          0,    0.001001,    0.002002,    0.003003,    0.004004,    0.005005,    0.006006,    0.007007,    0.008008,    0.009009,     0.01001,    0.011011,    0.012012,    0.013013,    0.014014,    0.015015,    0.016016,    0.017017,    0.018018,    0.019019,     0.02002,    0.021021,    0.022022,    0.023023,\n",
            "          0.024024,    0.025025,    0.026026,    0.027027,    0.028028,    0.029029,     0.03003,    0.031031,    0.032032,    0.033033,    0.034034,    0.035035,    0.036036,    0.037037,    0.038038,    0.039039,     0.04004,    0.041041,    0.042042,    0.043043,    0.044044,    0.045045,    0.046046,    0.047047,\n",
            "          0.048048,    0.049049,     0.05005,    0.051051,    0.052052,    0.053053,    0.054054,    0.055055,    0.056056,    0.057057,    0.058058,    0.059059,     0.06006,    0.061061,    0.062062,    0.063063,    0.064064,    0.065065,    0.066066,    0.067067,    0.068068,    0.069069,     0.07007,    0.071071,\n",
            "          0.072072,    0.073073,    0.074074,    0.075075,    0.076076,    0.077077,    0.078078,    0.079079,     0.08008,    0.081081,    0.082082,    0.083083,    0.084084,    0.085085,    0.086086,    0.087087,    0.088088,    0.089089,     0.09009,    0.091091,    0.092092,    0.093093,    0.094094,    0.095095,\n",
            "          0.096096,    0.097097,    0.098098,    0.099099,      0.1001,      0.1011,      0.1021,      0.1031,      0.1041,     0.10511,     0.10611,     0.10711,     0.10811,     0.10911,     0.11011,     0.11111,     0.11211,     0.11311,     0.11411,     0.11512,     0.11612,     0.11712,     0.11812,     0.11912,\n",
            "           0.12012,     0.12112,     0.12212,     0.12312,     0.12412,     0.12513,     0.12613,     0.12713,     0.12813,     0.12913,     0.13013,     0.13113,     0.13213,     0.13313,     0.13413,     0.13514,     0.13614,     0.13714,     0.13814,     0.13914,     0.14014,     0.14114,     0.14214,     0.14314,\n",
            "           0.14414,     0.14515,     0.14615,     0.14715,     0.14815,     0.14915,     0.15015,     0.15115,     0.15215,     0.15315,     0.15415,     0.15516,     0.15616,     0.15716,     0.15816,     0.15916,     0.16016,     0.16116,     0.16216,     0.16316,     0.16416,     0.16517,     0.16617,     0.16717,\n",
            "           0.16817,     0.16917,     0.17017,     0.17117,     0.17217,     0.17317,     0.17417,     0.17518,     0.17618,     0.17718,     0.17818,     0.17918,     0.18018,     0.18118,     0.18218,     0.18318,     0.18418,     0.18519,     0.18619,     0.18719,     0.18819,     0.18919,     0.19019,     0.19119,\n",
            "           0.19219,     0.19319,     0.19419,      0.1952,      0.1962,      0.1972,      0.1982,      0.1992,      0.2002,      0.2012,      0.2022,      0.2032,      0.2042,     0.20521,     0.20621,     0.20721,     0.20821,     0.20921,     0.21021,     0.21121,     0.21221,     0.21321,     0.21421,     0.21522,\n",
            "           0.21622,     0.21722,     0.21822,     0.21922,     0.22022,     0.22122,     0.22222,     0.22322,     0.22422,     0.22523,     0.22623,     0.22723,     0.22823,     0.22923,     0.23023,     0.23123,     0.23223,     0.23323,     0.23423,     0.23524,     0.23624,     0.23724,     0.23824,     0.23924,\n",
            "           0.24024,     0.24124,     0.24224,     0.24324,     0.24424,     0.24525,     0.24625,     0.24725,     0.24825,     0.24925,     0.25025,     0.25125,     0.25225,     0.25325,     0.25425,     0.25526,     0.25626,     0.25726,     0.25826,     0.25926,     0.26026,     0.26126,     0.26226,     0.26326,\n",
            "           0.26426,     0.26527,     0.26627,     0.26727,     0.26827,     0.26927,     0.27027,     0.27127,     0.27227,     0.27327,     0.27427,     0.27528,     0.27628,     0.27728,     0.27828,     0.27928,     0.28028,     0.28128,     0.28228,     0.28328,     0.28428,     0.28529,     0.28629,     0.28729,\n",
            "           0.28829,     0.28929,     0.29029,     0.29129,     0.29229,     0.29329,     0.29429,      0.2953,      0.2963,      0.2973,      0.2983,      0.2993,      0.3003,      0.3013,      0.3023,      0.3033,      0.3043,     0.30531,     0.30631,     0.30731,     0.30831,     0.30931,     0.31031,     0.31131,\n",
            "           0.31231,     0.31331,     0.31431,     0.31532,     0.31632,     0.31732,     0.31832,     0.31932,     0.32032,     0.32132,     0.32232,     0.32332,     0.32432,     0.32533,     0.32633,     0.32733,     0.32833,     0.32933,     0.33033,     0.33133,     0.33233,     0.33333,     0.33433,     0.33534,\n",
            "           0.33634,     0.33734,     0.33834,     0.33934,     0.34034,     0.34134,     0.34234,     0.34334,     0.34434,     0.34535,     0.34635,     0.34735,     0.34835,     0.34935,     0.35035,     0.35135,     0.35235,     0.35335,     0.35435,     0.35536,     0.35636,     0.35736,     0.35836,     0.35936,\n",
            "           0.36036,     0.36136,     0.36236,     0.36336,     0.36436,     0.36537,     0.36637,     0.36737,     0.36837,     0.36937,     0.37037,     0.37137,     0.37237,     0.37337,     0.37437,     0.37538,     0.37638,     0.37738,     0.37838,     0.37938,     0.38038,     0.38138,     0.38238,     0.38338,\n",
            "           0.38438,     0.38539,     0.38639,     0.38739,     0.38839,     0.38939,     0.39039,     0.39139,     0.39239,     0.39339,     0.39439,      0.3954,      0.3964,      0.3974,      0.3984,      0.3994,      0.4004,      0.4014,      0.4024,      0.4034,      0.4044,     0.40541,     0.40641,     0.40741,\n",
            "           0.40841,     0.40941,     0.41041,     0.41141,     0.41241,     0.41341,     0.41441,     0.41542,     0.41642,     0.41742,     0.41842,     0.41942,     0.42042,     0.42142,     0.42242,     0.42342,     0.42442,     0.42543,     0.42643,     0.42743,     0.42843,     0.42943,     0.43043,     0.43143,\n",
            "           0.43243,     0.43343,     0.43443,     0.43544,     0.43644,     0.43744,     0.43844,     0.43944,     0.44044,     0.44144,     0.44244,     0.44344,     0.44444,     0.44545,     0.44645,     0.44745,     0.44845,     0.44945,     0.45045,     0.45145,     0.45245,     0.45345,     0.45445,     0.45546,\n",
            "           0.45646,     0.45746,     0.45846,     0.45946,     0.46046,     0.46146,     0.46246,     0.46346,     0.46446,     0.46547,     0.46647,     0.46747,     0.46847,     0.46947,     0.47047,     0.47147,     0.47247,     0.47347,     0.47447,     0.47548,     0.47648,     0.47748,     0.47848,     0.47948,\n",
            "           0.48048,     0.48148,     0.48248,     0.48348,     0.48448,     0.48549,     0.48649,     0.48749,     0.48849,     0.48949,     0.49049,     0.49149,     0.49249,     0.49349,     0.49449,      0.4955,      0.4965,      0.4975,      0.4985,      0.4995,      0.5005,      0.5015,      0.5025,      0.5035,\n",
            "            0.5045,     0.50551,     0.50651,     0.50751,     0.50851,     0.50951,     0.51051,     0.51151,     0.51251,     0.51351,     0.51451,     0.51552,     0.51652,     0.51752,     0.51852,     0.51952,     0.52052,     0.52152,     0.52252,     0.52352,     0.52452,     0.52553,     0.52653,     0.52753,\n",
            "           0.52853,     0.52953,     0.53053,     0.53153,     0.53253,     0.53353,     0.53453,     0.53554,     0.53654,     0.53754,     0.53854,     0.53954,     0.54054,     0.54154,     0.54254,     0.54354,     0.54454,     0.54555,     0.54655,     0.54755,     0.54855,     0.54955,     0.55055,     0.55155,\n",
            "           0.55255,     0.55355,     0.55455,     0.55556,     0.55656,     0.55756,     0.55856,     0.55956,     0.56056,     0.56156,     0.56256,     0.56356,     0.56456,     0.56557,     0.56657,     0.56757,     0.56857,     0.56957,     0.57057,     0.57157,     0.57257,     0.57357,     0.57457,     0.57558,\n",
            "           0.57658,     0.57758,     0.57858,     0.57958,     0.58058,     0.58158,     0.58258,     0.58358,     0.58458,     0.58559,     0.58659,     0.58759,     0.58859,     0.58959,     0.59059,     0.59159,     0.59259,     0.59359,     0.59459,      0.5956,      0.5966,      0.5976,      0.5986,      0.5996,\n",
            "            0.6006,      0.6016,      0.6026,      0.6036,      0.6046,     0.60561,     0.60661,     0.60761,     0.60861,     0.60961,     0.61061,     0.61161,     0.61261,     0.61361,     0.61461,     0.61562,     0.61662,     0.61762,     0.61862,     0.61962,     0.62062,     0.62162,     0.62262,     0.62362,\n",
            "           0.62462,     0.62563,     0.62663,     0.62763,     0.62863,     0.62963,     0.63063,     0.63163,     0.63263,     0.63363,     0.63463,     0.63564,     0.63664,     0.63764,     0.63864,     0.63964,     0.64064,     0.64164,     0.64264,     0.64364,     0.64464,     0.64565,     0.64665,     0.64765,\n",
            "           0.64865,     0.64965,     0.65065,     0.65165,     0.65265,     0.65365,     0.65465,     0.65566,     0.65666,     0.65766,     0.65866,     0.65966,     0.66066,     0.66166,     0.66266,     0.66366,     0.66466,     0.66567,     0.66667,     0.66767,     0.66867,     0.66967,     0.67067,     0.67167,\n",
            "           0.67267,     0.67367,     0.67467,     0.67568,     0.67668,     0.67768,     0.67868,     0.67968,     0.68068,     0.68168,     0.68268,     0.68368,     0.68468,     0.68569,     0.68669,     0.68769,     0.68869,     0.68969,     0.69069,     0.69169,     0.69269,     0.69369,     0.69469,      0.6957,\n",
            "            0.6967,      0.6977,      0.6987,      0.6997,      0.7007,      0.7017,      0.7027,      0.7037,      0.7047,     0.70571,     0.70671,     0.70771,     0.70871,     0.70971,     0.71071,     0.71171,     0.71271,     0.71371,     0.71471,     0.71572,     0.71672,     0.71772,     0.71872,     0.71972,\n",
            "           0.72072,     0.72172,     0.72272,     0.72372,     0.72472,     0.72573,     0.72673,     0.72773,     0.72873,     0.72973,     0.73073,     0.73173,     0.73273,     0.73373,     0.73473,     0.73574,     0.73674,     0.73774,     0.73874,     0.73974,     0.74074,     0.74174,     0.74274,     0.74374,\n",
            "           0.74474,     0.74575,     0.74675,     0.74775,     0.74875,     0.74975,     0.75075,     0.75175,     0.75275,     0.75375,     0.75475,     0.75576,     0.75676,     0.75776,     0.75876,     0.75976,     0.76076,     0.76176,     0.76276,     0.76376,     0.76476,     0.76577,     0.76677,     0.76777,\n",
            "           0.76877,     0.76977,     0.77077,     0.77177,     0.77277,     0.77377,     0.77477,     0.77578,     0.77678,     0.77778,     0.77878,     0.77978,     0.78078,     0.78178,     0.78278,     0.78378,     0.78478,     0.78579,     0.78679,     0.78779,     0.78879,     0.78979,     0.79079,     0.79179,\n",
            "           0.79279,     0.79379,     0.79479,      0.7958,      0.7968,      0.7978,      0.7988,      0.7998,      0.8008,      0.8018,      0.8028,      0.8038,      0.8048,     0.80581,     0.80681,     0.80781,     0.80881,     0.80981,     0.81081,     0.81181,     0.81281,     0.81381,     0.81481,     0.81582,\n",
            "           0.81682,     0.81782,     0.81882,     0.81982,     0.82082,     0.82182,     0.82282,     0.82382,     0.82482,     0.82583,     0.82683,     0.82783,     0.82883,     0.82983,     0.83083,     0.83183,     0.83283,     0.83383,     0.83483,     0.83584,     0.83684,     0.83784,     0.83884,     0.83984,\n",
            "           0.84084,     0.84184,     0.84284,     0.84384,     0.84484,     0.84585,     0.84685,     0.84785,     0.84885,     0.84985,     0.85085,     0.85185,     0.85285,     0.85385,     0.85485,     0.85586,     0.85686,     0.85786,     0.85886,     0.85986,     0.86086,     0.86186,     0.86286,     0.86386,\n",
            "           0.86486,     0.86587,     0.86687,     0.86787,     0.86887,     0.86987,     0.87087,     0.87187,     0.87287,     0.87387,     0.87487,     0.87588,     0.87688,     0.87788,     0.87888,     0.87988,     0.88088,     0.88188,     0.88288,     0.88388,     0.88488,     0.88589,     0.88689,     0.88789,\n",
            "           0.88889,     0.88989,     0.89089,     0.89189,     0.89289,     0.89389,     0.89489,      0.8959,      0.8969,      0.8979,      0.8989,      0.8999,      0.9009,      0.9019,      0.9029,      0.9039,      0.9049,     0.90591,     0.90691,     0.90791,     0.90891,     0.90991,     0.91091,     0.91191,\n",
            "           0.91291,     0.91391,     0.91491,     0.91592,     0.91692,     0.91792,     0.91892,     0.91992,     0.92092,     0.92192,     0.92292,     0.92392,     0.92492,     0.92593,     0.92693,     0.92793,     0.92893,     0.92993,     0.93093,     0.93193,     0.93293,     0.93393,     0.93493,     0.93594,\n",
            "           0.93694,     0.93794,     0.93894,     0.93994,     0.94094,     0.94194,     0.94294,     0.94394,     0.94494,     0.94595,     0.94695,     0.94795,     0.94895,     0.94995,     0.95095,     0.95195,     0.95295,     0.95395,     0.95495,     0.95596,     0.95696,     0.95796,     0.95896,     0.95996,\n",
            "           0.96096,     0.96196,     0.96296,     0.96396,     0.96496,     0.96597,     0.96697,     0.96797,     0.96897,     0.96997,     0.97097,     0.97197,     0.97297,     0.97397,     0.97497,     0.97598,     0.97698,     0.97798,     0.97898,     0.97998,     0.98098,     0.98198,     0.98298,     0.98398,\n",
            "           0.98498,     0.98599,     0.98699,     0.98799,     0.98899,     0.98999,     0.99099,     0.99199,     0.99299,     0.99399,     0.99499,       0.996,       0.997,       0.998,       0.999,           1]), array([[    0.96903,     0.96903,     0.96175, ...,           0,           0,           0],\n",
            "       [    0.82609,     0.82609,     0.78261, ...,           0,           0,           0]]), 'Confidence', 'Recall']]\n",
            "fitness: 0.47530556835549814\n",
            "keys: ['metrics/precision(B)', 'metrics/recall(B)', 'metrics/mAP50(B)', 'metrics/mAP50-95(B)']\n",
            "maps: array([    0.61544,     0.29555])\n",
            "names: {0: 'car', 1: 'bus'}\n",
            "plot: True\n",
            "results_dict: {'metrics/precision(B)': 0.6280747858028608, 'metrics/recall(B)': 0.7107426371602343, 'metrics/mAP50(B)': 0.6536069317595701, 'metrics/mAP50-95(B)': 0.45549430575504574, 'fitness': 0.47530556835549814}\n",
            "save_dir: PosixPath('runs/detect/train2')\n",
            "speed: {'preprocess': 0.244321245135683, 'inference': 4.603299227627841, 'loss': 0.0007947285970052084, 'postprocess': 6.318720904263583}\n",
            "task: 'detect'\n"
          ]
        }
      ]
    },
    {
      "cell_type": "code",
      "source": [
        "import locale\n",
        "locale.getpreferredencoding = lambda: \"UTF-8\"\n",
        "!cp -r runs/ /datasets"
      ],
      "metadata": {
        "id": "33qi5PBjSAz8"
      },
      "id": "33qi5PBjSAz8",
      "execution_count": 8,
      "outputs": []
    }
  ],
  "metadata": {
    "kernelspec": {
      "display_name": "Python 3",
      "name": "python3"
    },
    "language_info": {
      "codemirror_mode": {
        "name": "ipython",
        "version": 2
      },
      "file_extension": ".py",
      "mimetype": "text/x-python",
      "name": "python",
      "nbconvert_exporter": "python",
      "pygments_lexer": "ipython2",
      "version": "2.7.6"
    },
    "colab": {
      "provenance": [],
      "gpuType": "T4"
    },
    "accelerator": "GPU"
  },
  "nbformat": 4,
  "nbformat_minor": 5
}