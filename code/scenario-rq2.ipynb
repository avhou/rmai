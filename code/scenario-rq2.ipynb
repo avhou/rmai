{
  "cells": [
    {
      "cell_type": "markdown",
      "source": [
        "rq 2 : train yolo using augmented images, and evaluate against dawn images"
      ],
      "metadata": {
        "id": "43LsT5eQNTm2"
      },
      "id": "43LsT5eQNTm2"
    },
    {
      "cell_type": "code",
      "execution_count": 1,
      "id": "initial_id",
      "metadata": {
        "collapsed": true,
        "colab": {
          "base_uri": "https://localhost:8080/"
        },
        "id": "initial_id",
        "outputId": "11555436-1986-4559-81cb-0b27ecd5d849"
      },
      "outputs": [
        {
          "output_type": "stream",
          "name": "stdout",
          "text": [
            "Fri Dec 22 15:31:34 2023       \n",
            "+---------------------------------------------------------------------------------------+\n",
            "| NVIDIA-SMI 535.104.05             Driver Version: 535.104.05   CUDA Version: 12.2     |\n",
            "|-----------------------------------------+----------------------+----------------------+\n",
            "| GPU  Name                 Persistence-M | Bus-Id        Disp.A | Volatile Uncorr. ECC |\n",
            "| Fan  Temp   Perf          Pwr:Usage/Cap |         Memory-Usage | GPU-Util  Compute M. |\n",
            "|                                         |                      |               MIG M. |\n",
            "|=========================================+======================+======================|\n",
            "|   0  Tesla T4                       Off | 00000000:00:04.0 Off |                    0 |\n",
            "| N/A   33C    P8               8W /  70W |      0MiB / 15360MiB |      0%      Default |\n",
            "|                                         |                      |                  N/A |\n",
            "+-----------------------------------------+----------------------+----------------------+\n",
            "                                                                                         \n",
            "+---------------------------------------------------------------------------------------+\n",
            "| Processes:                                                                            |\n",
            "|  GPU   GI   CI        PID   Type   Process name                            GPU Memory |\n",
            "|        ID   ID                                                             Usage      |\n",
            "|=======================================================================================|\n",
            "|  No running processes found                                                           |\n",
            "+---------------------------------------------------------------------------------------+\n"
          ]
        }
      ],
      "source": [
        "# check if gpu is enabled\n",
        "!nvidia-smi"
      ]
    },
    {
      "cell_type": "code",
      "source": [
        "from google.colab import drive\n",
        "drive.mount('/content/gdrive')\n",
        "!ln -s /content/gdrive/My\\ Drive/datasets /datasets\n",
        "!ls -ahl /datasets\n",
        "!unzip /datasets/detrac.zip -d /datasets\n",
        "!ls -ahl /datasets/detrac"
      ],
      "metadata": {
        "colab": {
          "base_uri": "https://localhost:8080/"
        },
        "id": "YxO1iZ8qNn1B",
        "outputId": "0b9dc24b-6731-4fde-e00e-88cb8f98d43e"
      },
      "id": "YxO1iZ8qNn1B",
      "execution_count": 2,
      "outputs": [
        {
          "output_type": "stream",
          "name": "stdout",
          "text": [
            "Mounted at /content/gdrive\n",
            "lrwxrwxrwx 1 root root 33 Dec 22 15:32 /datasets -> '/content/gdrive/My Drive/datasets'\n",
            "Archive:  /datasets/detrac.zip\n",
            "   creating: /datasets/detrac/train-dataset-augmented/\n",
            "  inflating: /datasets/detrac/train-dataset-augmented/image0306.jpg  \n",
            "  inflating: /datasets/detrac/train-dataset-augmented/image0460.jpg  \n",
            "  inflating: /datasets/detrac/train-dataset-augmented/image0474.jpg  \n",
            "  inflating: /datasets/detrac/train-dataset-augmented/image0312.jpg  \n",
            "  inflating: /datasets/detrac/train-dataset-augmented/image0006.txt  \n",
            "  inflating: /datasets/detrac/train-dataset-augmented/image0448.jpg  \n",
            "  inflating: /datasets/detrac/train-dataset-augmented/image0012.txt  \n",
            "  inflating: /datasets/detrac/train-dataset-augmented/image0238.txt  \n",
            "  inflating: /datasets/detrac/train-dataset-augmented/image0104.jpg  \n",
            "  inflating: /datasets/detrac/train-dataset-augmented/image0110.jpg  \n",
            "  inflating: /datasets/detrac/train-dataset-augmented/image0138.jpg  \n",
            "  inflating: /datasets/detrac/train-dataset-augmented/image0204.txt  \n",
            "  inflating: /datasets/detrac/train-dataset-augmented/image0210.txt  \n",
            "  inflating: /datasets/detrac/train-dataset-augmented/image0070.jpg  \n",
            "  inflating: /datasets/detrac/train-dataset-augmented/image0064.jpg  \n",
            "  inflating: /datasets/detrac/train-dataset-augmented/image0358.txt  \n",
            "  inflating: /datasets/detrac/train-dataset-augmented/image0416.txt  \n",
            "  inflating: /datasets/detrac/train-dataset-augmented/image0370.txt  \n",
            "  inflating: /datasets/detrac/train-dataset-augmented/image0364.txt  \n",
            "  inflating: /datasets/detrac/train-dataset-augmented/image0058.jpg  \n",
            "  inflating: /datasets/detrac/train-dataset-augmented/image0402.txt  \n",
            "  inflating: /datasets/detrac/train-dataset-augmented/image0199.txt  \n",
            "  inflating: /datasets/detrac/train-dataset-augmented/image0299.jpg  \n",
            "  inflating: /datasets/detrac/train-dataset-augmented/image0272.jpg  \n",
            "  inflating: /datasets/detrac/train-dataset-augmented/image0500.jpg  \n",
            "  inflating: /datasets/detrac/train-dataset-augmented/image0266.jpg  \n",
            "  inflating: /datasets/detrac/train-dataset-augmented/image0172.txt  \n",
            "  inflating: /datasets/detrac/train-dataset-augmented/image0166.txt  \n",
            "  inflating: /datasets/detrac/train-dataset-augmented/image0167.txt  \n",
            "  inflating: /datasets/detrac/train-dataset-augmented/image0173.txt  \n",
            "  inflating: /datasets/detrac/train-dataset-augmented/image0501.jpg  \n",
            "  inflating: /datasets/detrac/train-dataset-augmented/image0267.jpg  \n",
            "  inflating: /datasets/detrac/train-dataset-augmented/image0273.jpg  \n",
            "  inflating: /datasets/detrac/train-dataset-augmented/image0298.jpg  \n",
            "  inflating: /datasets/detrac/train-dataset-augmented/image0198.txt  \n",
            "  inflating: /datasets/detrac/train-dataset-augmented/image0059.jpg  \n",
            "  inflating: /datasets/detrac/train-dataset-augmented/image0365.txt  \n",
            "  inflating: /datasets/detrac/train-dataset-augmented/image0403.txt  \n",
            "  inflating: /datasets/detrac/train-dataset-augmented/image0417.txt  \n",
            "  inflating: /datasets/detrac/train-dataset-augmented/image0371.txt  \n",
            "  inflating: /datasets/detrac/train-dataset-augmented/image0359.txt  \n",
            "  inflating: /datasets/detrac/train-dataset-augmented/image0065.jpg  \n",
            "  inflating: /datasets/detrac/train-dataset-augmented/image0071.jpg  \n",
            "  inflating: /datasets/detrac/train-dataset-augmented/image0211.txt  \n",
            "  inflating: /datasets/detrac/train-dataset-augmented/image0205.txt  \n",
            "  inflating: /datasets/detrac/train-dataset-augmented/image0139.jpg  \n",
            "  inflating: /datasets/detrac/train-dataset-augmented/image0111.jpg  \n",
            "  inflating: /datasets/detrac/train-dataset-augmented/image0105.jpg  \n",
            "  inflating: /datasets/detrac/train-dataset-augmented/image0239.txt  \n",
            "  inflating: /datasets/detrac/train-dataset-augmented/image0449.jpg  \n",
            "  inflating: /datasets/detrac/train-dataset-augmented/image0013.txt  \n",
            "  inflating: /datasets/detrac/train-dataset-augmented/image0007.txt  \n",
            "  inflating: /datasets/detrac/train-dataset-augmented/image0475.jpg  \n",
            "  inflating: /datasets/detrac/train-dataset-augmented/image0313.jpg  \n",
            "  inflating: /datasets/detrac/train-dataset-augmented/image0307.jpg  \n",
            "  inflating: /datasets/detrac/train-dataset-augmented/image0461.jpg  \n",
            "  inflating: /datasets/detrac/train-dataset-augmented/image0488.jpg  \n",
            "  inflating: /datasets/detrac/train-dataset-augmented/image0311.jpg  \n",
            "  inflating: /datasets/detrac/train-dataset-augmented/image0477.jpg  \n",
            "  inflating: /datasets/detrac/train-dataset-augmented/image0463.jpg  \n",
            "  inflating: /datasets/detrac/train-dataset-augmented/image0305.jpg  \n",
            "  inflating: /datasets/detrac/train-dataset-augmented/image0039.txt  \n",
            "  inflating: /datasets/detrac/train-dataset-augmented/image0011.txt  \n",
            "  inflating: /datasets/detrac/train-dataset-augmented/image0005.txt  \n",
            "  inflating: /datasets/detrac/train-dataset-augmented/image0339.jpg  \n",
            "  inflating: /datasets/detrac/train-dataset-augmented/image0113.jpg  \n",
            "  inflating: /datasets/detrac/train-dataset-augmented/image0107.jpg  \n",
            "  inflating: /datasets/detrac/train-dataset-augmented/image0213.txt  \n",
            "  inflating: /datasets/detrac/train-dataset-augmented/image0207.txt  \n",
            "  inflating: /datasets/detrac/train-dataset-augmented/image0398.txt  \n",
            "  inflating: /datasets/detrac/train-dataset-augmented/image0098.jpg  \n",
            "  inflating: /datasets/detrac/train-dataset-augmented/image0067.jpg  \n",
            "  inflating: /datasets/detrac/train-dataset-augmented/image0073.jpg  \n",
            "  inflating: /datasets/detrac/train-dataset-augmented/image0429.txt  \n",
            "  inflating: /datasets/detrac/train-dataset-augmented/image0401.txt  \n",
            "  inflating: /datasets/detrac/train-dataset-augmented/image0367.txt  \n",
            "  inflating: /datasets/detrac/train-dataset-augmented/image0373.txt  \n",
            "  inflating: /datasets/detrac/train-dataset-augmented/image0415.txt  \n",
            "  inflating: /datasets/detrac/train-dataset-augmented/image0159.txt  \n",
            "  inflating: /datasets/detrac/train-dataset-augmented/image0265.jpg  \n",
            "  inflating: /datasets/detrac/train-dataset-augmented/image0271.jpg  \n",
            "  inflating: /datasets/detrac/train-dataset-augmented/image0259.jpg  \n",
            "  inflating: /datasets/detrac/train-dataset-augmented/image0165.txt  \n",
            "  inflating: /datasets/detrac/train-dataset-augmented/image0171.txt  \n",
            "  inflating: /datasets/detrac/train-dataset-augmented/image0170.txt  \n",
            "  inflating: /datasets/detrac/train-dataset-augmented/image0164.txt  \n",
            "  inflating: /datasets/detrac/train-dataset-augmented/image0258.jpg  \n",
            "  inflating: /datasets/detrac/train-dataset-augmented/image0270.jpg  \n",
            "  inflating: /datasets/detrac/train-dataset-augmented/image0264.jpg  \n",
            "  inflating: /datasets/detrac/train-dataset-augmented/image0158.txt  \n",
            "  inflating: /datasets/detrac/train-dataset-augmented/image0372.txt  \n",
            "  inflating: /datasets/detrac/train-dataset-augmented/image0414.txt  \n",
            "  inflating: /datasets/detrac/train-dataset-augmented/image0400.txt  \n",
            "  inflating: /datasets/detrac/train-dataset-augmented/image0366.txt  \n",
            "  inflating: /datasets/detrac/train-dataset-augmented/image0072.jpg  \n",
            "  inflating: /datasets/detrac/train-dataset-augmented/image0428.txt  \n",
            "  inflating: /datasets/detrac/train-dataset-augmented/image0066.jpg  \n",
            "  inflating: /datasets/detrac/train-dataset-augmented/image0099.jpg  \n",
            "  inflating: /datasets/detrac/train-dataset-augmented/image0399.txt  \n",
            "  inflating: /datasets/detrac/train-dataset-augmented/image0206.txt  \n",
            "  inflating: /datasets/detrac/train-dataset-augmented/image0212.txt  \n",
            "  inflating: /datasets/detrac/train-dataset-augmented/image0106.jpg  \n",
            "  inflating: /datasets/detrac/train-dataset-augmented/image0112.jpg  \n",
            "  inflating: /datasets/detrac/train-dataset-augmented/image0338.jpg  \n",
            "  inflating: /datasets/detrac/train-dataset-augmented/image0004.txt  \n",
            "  inflating: /datasets/detrac/train-dataset-augmented/image0010.txt  \n",
            "  inflating: /datasets/detrac/train-dataset-augmented/image0462.jpg  \n",
            "  inflating: /datasets/detrac/train-dataset-augmented/image0038.txt  \n",
            "  inflating: /datasets/detrac/train-dataset-augmented/image0304.jpg  \n",
            "  inflating: /datasets/detrac/train-dataset-augmented/image0310.jpg  \n",
            "  inflating: /datasets/detrac/train-dataset-augmented/image0476.jpg  \n",
            "  inflating: /datasets/detrac/train-dataset-augmented/image0489.jpg  \n",
            "  inflating: /datasets/detrac/train-dataset-augmented/image0499.jpg  \n",
            "  inflating: /datasets/detrac/train-dataset-augmented/image0328.jpg  \n",
            "  inflating: /datasets/detrac/train-dataset-augmented/image0014.txt  \n",
            "  inflating: /datasets/detrac/train-dataset-augmented/image0472.jpg  \n",
            "  inflating: /datasets/detrac/train-dataset-augmented/image0028.txt  \n",
            "  inflating: /datasets/detrac/train-dataset-augmented/image0314.jpg  \n",
            "  inflating: /datasets/detrac/train-dataset-augmented/image0300.jpg  \n",
            "  inflating: /datasets/detrac/train-dataset-augmented/image0466.jpg  \n",
            "  inflating: /datasets/detrac/train-dataset-augmented/image0216.txt  \n",
            "  inflating: /datasets/detrac/train-dataset-augmented/image0202.txt  \n",
            "  inflating: /datasets/detrac/train-dataset-augmented/image0116.jpg  \n",
            "  inflating: /datasets/detrac/train-dataset-augmented/image0102.jpg  \n",
            "  inflating: /datasets/detrac/train-dataset-augmented/image0089.jpg  \n",
            "  inflating: /datasets/detrac/train-dataset-augmented/image0389.txt  \n",
            "  inflating: /datasets/detrac/train-dataset-augmented/image0362.txt  \n",
            "  inflating: /datasets/detrac/train-dataset-augmented/image0404.txt  \n",
            "  inflating: /datasets/detrac/train-dataset-augmented/image0410.txt  \n",
            "  inflating: /datasets/detrac/train-dataset-augmented/image0376.txt  \n",
            "  inflating: /datasets/detrac/train-dataset-augmented/image0062.jpg  \n",
            "  inflating: /datasets/detrac/train-dataset-augmented/image0438.txt  \n",
            "  inflating: /datasets/detrac/train-dataset-augmented/image0076.jpg  \n",
            "  inflating: /datasets/detrac/train-dataset-augmented/image0160.txt  \n",
            "  inflating: /datasets/detrac/train-dataset-augmented/image0174.txt  \n",
            "  inflating: /datasets/detrac/train-dataset-augmented/image0248.jpg  \n",
            "  inflating: /datasets/detrac/train-dataset-augmented/image0260.jpg  \n",
            "  inflating: /datasets/detrac/train-dataset-augmented/image0274.jpg  \n",
            "  inflating: /datasets/detrac/train-dataset-augmented/image0148.txt  \n",
            "  inflating: /datasets/detrac/train-dataset-augmented/image0149.txt  \n",
            "  inflating: /datasets/detrac/train-dataset-augmented/image0275.jpg  \n",
            "  inflating: /datasets/detrac/train-dataset-augmented/image0261.jpg  \n",
            "  inflating: /datasets/detrac/train-dataset-augmented/image0249.jpg  \n",
            "  inflating: /datasets/detrac/train-dataset-augmented/image0175.txt  \n",
            "  inflating: /datasets/detrac/train-dataset-augmented/image0161.txt  \n",
            "  inflating: /datasets/detrac/train-dataset-augmented/image0077.jpg  \n",
            "  inflating: /datasets/detrac/train-dataset-augmented/image0063.jpg  \n",
            "  inflating: /datasets/detrac/train-dataset-augmented/image0439.txt  \n",
            "  inflating: /datasets/detrac/train-dataset-augmented/image0411.txt  \n",
            "  inflating: /datasets/detrac/train-dataset-augmented/image0377.txt  \n",
            "  inflating: /datasets/detrac/train-dataset-augmented/image0363.txt  \n",
            "  inflating: /datasets/detrac/train-dataset-augmented/image0405.txt  \n",
            "  inflating: /datasets/detrac/train-dataset-augmented/image0388.txt  \n",
            "  inflating: /datasets/detrac/train-dataset-augmented/image0088.jpg  \n",
            "  inflating: /datasets/detrac/train-dataset-augmented/image0103.jpg  \n",
            "  inflating: /datasets/detrac/train-dataset-augmented/image0117.jpg  \n",
            "  inflating: /datasets/detrac/train-dataset-augmented/image0203.txt  \n",
            "  inflating: /datasets/detrac/train-dataset-augmented/image0217.txt  \n",
            "  inflating: /datasets/detrac/train-dataset-augmented/image0301.jpg  \n",
            "  inflating: /datasets/detrac/train-dataset-augmented/image0467.jpg  \n",
            "  inflating: /datasets/detrac/train-dataset-augmented/image0473.jpg  \n",
            "  inflating: /datasets/detrac/train-dataset-augmented/image0315.jpg  \n",
            "  inflating: /datasets/detrac/train-dataset-augmented/image0029.txt  \n",
            "  inflating: /datasets/detrac/train-dataset-augmented/image0001.txt  \n",
            "  inflating: /datasets/detrac/train-dataset-augmented/image0015.txt  \n",
            "  inflating: /datasets/detrac/train-dataset-augmented/image0329.jpg  \n",
            "  inflating: /datasets/detrac/train-dataset-augmented/image0498.jpg  \n",
            "  inflating: /datasets/detrac/train-dataset-augmented/image0459.jpg  \n",
            "  inflating: /datasets/detrac/train-dataset-augmented/image0003.txt  \n",
            "  inflating: /datasets/detrac/train-dataset-augmented/image0017.txt  \n",
            "  inflating: /datasets/detrac/train-dataset-augmented/image0465.jpg  \n",
            "  inflating: /datasets/detrac/train-dataset-augmented/image0303.jpg  \n",
            "  inflating: /datasets/detrac/train-dataset-augmented/image0317.jpg  \n",
            "  inflating: /datasets/detrac/train-dataset-augmented/image0471.jpg  \n",
            "  inflating: /datasets/detrac/train-dataset-augmented/image0201.txt  \n",
            "  inflating: /datasets/detrac/train-dataset-augmented/image0215.txt  \n",
            "  inflating: /datasets/detrac/train-dataset-augmented/image0129.jpg  \n",
            "  inflating: /datasets/detrac/train-dataset-augmented/image0101.jpg  \n",
            "  inflating: /datasets/detrac/train-dataset-augmented/image0115.jpg  \n",
            "  inflating: /datasets/detrac/train-dataset-augmented/image0229.txt  \n",
            "  inflating: /datasets/detrac/train-dataset-augmented/image0049.jpg  \n",
            "  inflating: /datasets/detrac/train-dataset-augmented/image0375.txt  \n",
            "  inflating: /datasets/detrac/train-dataset-augmented/image0413.txt  \n",
            "  inflating: /datasets/detrac/train-dataset-augmented/image0407.txt  \n",
            "  inflating: /datasets/detrac/train-dataset-augmented/image0361.txt  \n",
            "  inflating: /datasets/detrac/train-dataset-augmented/image0349.txt  \n",
            "  inflating: /datasets/detrac/train-dataset-augmented/image0075.jpg  \n",
            "  inflating: /datasets/detrac/train-dataset-augmented/image0061.jpg  \n",
            "  inflating: /datasets/detrac/train-dataset-augmented/image0288.jpg  \n",
            "  inflating: /datasets/detrac/train-dataset-augmented/image0188.txt  \n",
            "  inflating: /datasets/detrac/train-dataset-augmented/image0177.txt  \n",
            "  inflating: /datasets/detrac/train-dataset-augmented/image0163.txt  \n",
            "  inflating: /datasets/detrac/train-dataset-augmented/image0277.jpg  \n",
            "  inflating: /datasets/detrac/train-dataset-augmented/image0263.jpg  \n",
            "  inflating: /datasets/detrac/train-dataset-augmented/image0262.jpg  \n",
            "  inflating: /datasets/detrac/train-dataset-augmented/image0276.jpg  \n",
            "  inflating: /datasets/detrac/train-dataset-augmented/image0162.txt  \n",
            "  inflating: /datasets/detrac/train-dataset-augmented/image0176.txt  \n",
            "  inflating: /datasets/detrac/train-dataset-augmented/image0189.txt  \n",
            "  inflating: /datasets/detrac/train-dataset-augmented/image0289.jpg  \n",
            "  inflating: /datasets/detrac/train-dataset-augmented/image0060.jpg  \n",
            "  inflating: /datasets/detrac/train-dataset-augmented/image0074.jpg  \n",
            "  inflating: /datasets/detrac/train-dataset-augmented/image0348.txt  \n",
            "  inflating: /datasets/detrac/train-dataset-augmented/image0406.txt  \n",
            "  inflating: /datasets/detrac/train-dataset-augmented/image0360.txt  \n",
            "  inflating: /datasets/detrac/train-dataset-augmented/image0374.txt  \n",
            "  inflating: /datasets/detrac/train-dataset-augmented/image0048.jpg  \n",
            "  inflating: /datasets/detrac/train-dataset-augmented/image0412.txt  \n",
            "  inflating: /datasets/detrac/train-dataset-augmented/image0228.txt  \n",
            "  inflating: /datasets/detrac/train-dataset-augmented/image0114.jpg  \n",
            "  inflating: /datasets/detrac/train-dataset-augmented/image0100.jpg  \n",
            "  inflating: /datasets/detrac/train-dataset-augmented/image0128.jpg  \n",
            "  inflating: /datasets/detrac/train-dataset-augmented/image0214.txt  \n",
            "  inflating: /datasets/detrac/train-dataset-augmented/image0200.txt  \n",
            "  inflating: /datasets/detrac/train-dataset-augmented/image0316.jpg  \n",
            "  inflating: /datasets/detrac/train-dataset-augmented/image0470.jpg  \n",
            "  inflating: /datasets/detrac/train-dataset-augmented/image0464.jpg  \n",
            "  inflating: /datasets/detrac/train-dataset-augmented/image0302.jpg  \n",
            "  inflating: /datasets/detrac/train-dataset-augmented/image0016.txt  \n",
            "  inflating: /datasets/detrac/train-dataset-augmented/image0458.jpg  \n",
            "  inflating: /datasets/detrac/train-dataset-augmented/image0002.txt  \n",
            "  inflating: /datasets/detrac/train-dataset-augmented/image0403.jpg  \n",
            "  inflating: /datasets/detrac/train-dataset-augmented/image0059.txt  \n",
            "  inflating: /datasets/detrac/train-dataset-augmented/image0365.jpg  \n",
            "  inflating: /datasets/detrac/train-dataset-augmented/image0371.jpg  \n",
            "  inflating: /datasets/detrac/train-dataset-augmented/image0417.jpg  \n",
            "  inflating: /datasets/detrac/train-dataset-augmented/image0359.jpg  \n",
            "  inflating: /datasets/detrac/train-dataset-augmented/image0065.txt  \n",
            "  inflating: /datasets/detrac/train-dataset-augmented/image0071.txt  \n",
            "  inflating: /datasets/detrac/train-dataset-augmented/image0298.txt  \n",
            "  inflating: /datasets/detrac/train-dataset-augmented/image0198.jpg  \n",
            "  inflating: /datasets/detrac/train-dataset-augmented/image0167.jpg  \n",
            "  inflating: /datasets/detrac/train-dataset-augmented/image0173.jpg  \n",
            "  inflating: /datasets/detrac/train-dataset-augmented/image0267.txt  \n",
            "  inflating: /datasets/detrac/train-dataset-augmented/image0501.txt  \n",
            "  inflating: /datasets/detrac/train-dataset-augmented/image0273.txt  \n",
            "  inflating: /datasets/detrac/train-dataset-augmented/image0013.jpg  \n",
            "  inflating: /datasets/detrac/train-dataset-augmented/image0449.txt  \n",
            "  inflating: /datasets/detrac/train-dataset-augmented/image0007.jpg  \n",
            "  inflating: /datasets/detrac/train-dataset-augmented/image0313.txt  \n",
            "  inflating: /datasets/detrac/train-dataset-augmented/image0475.txt  \n",
            "  inflating: /datasets/detrac/train-dataset-augmented/image0461.txt  \n",
            "  inflating: /datasets/detrac/train-dataset-augmented/image0307.txt  \n",
            "  inflating: /datasets/detrac/train-dataset-augmented/image0211.jpg  \n",
            "  inflating: /datasets/detrac/train-dataset-augmented/image0205.jpg  \n",
            "  inflating: /datasets/detrac/train-dataset-augmented/image0139.txt  \n",
            "  inflating: /datasets/detrac/train-dataset-augmented/image0111.txt  \n",
            "  inflating: /datasets/detrac/train-dataset-augmented/image0105.txt  \n",
            "  inflating: /datasets/detrac/train-dataset-augmented/image0239.jpg  \n",
            "  inflating: /datasets/detrac/train-dataset-augmented/image0238.jpg  \n",
            "  inflating: /datasets/detrac/train-dataset-augmented/image0104.txt  \n",
            "  inflating: /datasets/detrac/train-dataset-augmented/image0110.txt  \n",
            "  inflating: /datasets/detrac/train-dataset-augmented/image0138.txt  \n",
            "  inflating: /datasets/detrac/train-dataset-augmented/image0204.jpg  \n",
            "  inflating: /datasets/detrac/train-dataset-augmented/image0210.jpg  \n",
            "  inflating: /datasets/detrac/train-dataset-augmented/image0460.txt  \n",
            "  inflating: /datasets/detrac/train-dataset-augmented/image0306.txt  \n",
            "  inflating: /datasets/detrac/train-dataset-augmented/image0312.txt  \n",
            "  inflating: /datasets/detrac/train-dataset-augmented/image0474.txt  \n",
            "  inflating: /datasets/detrac/train-dataset-augmented/image0006.jpg  \n",
            "  inflating: /datasets/detrac/train-dataset-augmented/image0012.jpg  \n",
            "  inflating: /datasets/detrac/train-dataset-augmented/image0448.txt  \n",
            "  inflating: /datasets/detrac/train-dataset-augmented/image0272.txt  \n",
            "  inflating: /datasets/detrac/train-dataset-augmented/image0266.txt  \n",
            "  inflating: /datasets/detrac/train-dataset-augmented/image0500.txt  \n",
            "  inflating: /datasets/detrac/train-dataset-augmented/image0172.jpg  \n",
            "  inflating: /datasets/detrac/train-dataset-augmented/image0166.jpg  \n",
            "  inflating: /datasets/detrac/train-dataset-augmented/image0199.jpg  \n",
            "  inflating: /datasets/detrac/train-dataset-augmented/image0299.txt  \n",
            "  inflating: /datasets/detrac/train-dataset-augmented/image0070.txt  \n",
            "  inflating: /datasets/detrac/train-dataset-augmented/image0064.txt  \n",
            "  inflating: /datasets/detrac/train-dataset-augmented/image0358.jpg  \n",
            "  inflating: /datasets/detrac/train-dataset-augmented/image0370.jpg  \n",
            "  inflating: /datasets/detrac/train-dataset-augmented/image0416.jpg  \n",
            "  inflating: /datasets/detrac/train-dataset-augmented/image0402.jpg  \n",
            "  inflating: /datasets/detrac/train-dataset-augmented/image0364.jpg  \n",
            "  inflating: /datasets/detrac/train-dataset-augmented/image0058.txt  \n",
            "  inflating: /datasets/detrac/train-dataset-augmented/image0099.txt  \n",
            "  inflating: /datasets/detrac/train-dataset-augmented/image0399.jpg  \n",
            "  inflating: /datasets/detrac/train-dataset-augmented/image0414.jpg  \n",
            "  inflating: /datasets/detrac/train-dataset-augmented/image0372.jpg  \n",
            "  inflating: /datasets/detrac/train-dataset-augmented/image0366.jpg  \n",
            "  inflating: /datasets/detrac/train-dataset-augmented/image0400.jpg  \n",
            "  inflating: /datasets/detrac/train-dataset-augmented/image0428.jpg  \n",
            "  inflating: /datasets/detrac/train-dataset-augmented/image0072.txt  \n",
            "  inflating: /datasets/detrac/train-dataset-augmented/image0066.txt  \n",
            "  inflating: /datasets/detrac/train-dataset-augmented/image0170.jpg  \n",
            "  inflating: /datasets/detrac/train-dataset-augmented/image0164.jpg  \n",
            "  inflating: /datasets/detrac/train-dataset-augmented/image0258.txt  \n",
            "  inflating: /datasets/detrac/train-dataset-augmented/image0270.txt  \n",
            "  inflating: /datasets/detrac/train-dataset-augmented/image0264.txt  \n",
            "  inflating: /datasets/detrac/train-dataset-augmented/image0158.jpg  \n",
            "  inflating: /datasets/detrac/train-dataset-augmented/image0489.txt  \n",
            "  inflating: /datasets/detrac/train-dataset-augmented/image0338.txt  \n",
            "  inflating: /datasets/detrac/train-dataset-augmented/image0004.jpg  \n",
            "  inflating: /datasets/detrac/train-dataset-augmented/image0010.jpg  \n",
            "  inflating: /datasets/detrac/train-dataset-augmented/image0038.jpg  \n",
            "  inflating: /datasets/detrac/train-dataset-augmented/image0304.txt  \n",
            "  inflating: /datasets/detrac/train-dataset-augmented/image0462.txt  \n",
            "  inflating: /datasets/detrac/train-dataset-augmented/image0476.txt  \n",
            "  inflating: /datasets/detrac/train-dataset-augmented/image0310.txt  \n",
            "  inflating: /datasets/detrac/train-dataset-augmented/image0206.jpg  \n",
            "  inflating: /datasets/detrac/train-dataset-augmented/image0212.jpg  \n",
            "  inflating: /datasets/detrac/train-dataset-augmented/image0106.txt  \n",
            "  inflating: /datasets/detrac/train-dataset-augmented/image0112.txt  \n",
            "  inflating: /datasets/detrac/train-dataset-augmented/image0113.txt  \n",
            "  inflating: /datasets/detrac/train-dataset-augmented/image0107.txt  \n",
            "  inflating: /datasets/detrac/train-dataset-augmented/image0213.jpg  \n",
            "  inflating: /datasets/detrac/train-dataset-augmented/image0207.jpg  \n",
            "  inflating: /datasets/detrac/train-dataset-augmented/image0477.txt  \n",
            "  inflating: /datasets/detrac/train-dataset-augmented/image0311.txt  \n",
            "  inflating: /datasets/detrac/train-dataset-augmented/image0305.txt  \n",
            "  inflating: /datasets/detrac/train-dataset-augmented/image0039.jpg  \n",
            "  inflating: /datasets/detrac/train-dataset-augmented/image0463.txt  \n",
            "  inflating: /datasets/detrac/train-dataset-augmented/image0011.jpg  \n",
            "  inflating: /datasets/detrac/train-dataset-augmented/image0005.jpg  \n",
            "  inflating: /datasets/detrac/train-dataset-augmented/image0339.txt  \n",
            "  inflating: /datasets/detrac/train-dataset-augmented/image0488.txt  \n",
            "  inflating: /datasets/detrac/train-dataset-augmented/image0159.jpg  \n",
            "  inflating: /datasets/detrac/train-dataset-augmented/image0265.txt  \n",
            "  inflating: /datasets/detrac/train-dataset-augmented/image0271.txt  \n",
            "  inflating: /datasets/detrac/train-dataset-augmented/image0259.txt  \n",
            "  inflating: /datasets/detrac/train-dataset-augmented/image0165.jpg  \n",
            "  inflating: /datasets/detrac/train-dataset-augmented/image0171.jpg  \n",
            "  inflating: /datasets/detrac/train-dataset-augmented/image0067.txt  \n",
            "  inflating: /datasets/detrac/train-dataset-augmented/image0429.jpg  \n",
            "  inflating: /datasets/detrac/train-dataset-augmented/image0073.txt  \n",
            "  inflating: /datasets/detrac/train-dataset-augmented/image0367.jpg  \n",
            "  inflating: /datasets/detrac/train-dataset-augmented/image0401.jpg  \n",
            "  inflating: /datasets/detrac/train-dataset-augmented/image0415.jpg  \n",
            "  inflating: /datasets/detrac/train-dataset-augmented/image0373.jpg  \n",
            "  inflating: /datasets/detrac/train-dataset-augmented/image0398.jpg  \n",
            "  inflating: /datasets/detrac/train-dataset-augmented/image0098.txt  \n",
            "  inflating: /datasets/detrac/train-dataset-augmented/image0388.jpg  \n",
            "  inflating: /datasets/detrac/train-dataset-augmented/image0088.txt  \n",
            "  inflating: /datasets/detrac/train-dataset-augmented/image0077.txt  \n",
            "  inflating: /datasets/detrac/train-dataset-augmented/image0439.jpg  \n",
            "  inflating: /datasets/detrac/train-dataset-augmented/image0063.txt  \n",
            "  inflating: /datasets/detrac/train-dataset-augmented/image0377.jpg  \n",
            "  inflating: /datasets/detrac/train-dataset-augmented/image0411.jpg  \n",
            "  inflating: /datasets/detrac/train-dataset-augmented/image0405.jpg  \n",
            "  inflating: /datasets/detrac/train-dataset-augmented/image0363.jpg  \n",
            "  inflating: /datasets/detrac/train-dataset-augmented/image0149.jpg  \n",
            "  inflating: /datasets/detrac/train-dataset-augmented/image0275.txt  \n",
            "  inflating: /datasets/detrac/train-dataset-augmented/image0261.txt  \n",
            "  inflating: /datasets/detrac/train-dataset-augmented/image0249.txt  \n",
            "  inflating: /datasets/detrac/train-dataset-augmented/image0175.jpg  \n",
            "  inflating: /datasets/detrac/train-dataset-augmented/image0161.jpg  \n",
            "  inflating: /datasets/detrac/train-dataset-augmented/image0498.txt  \n",
            "  inflating: /datasets/detrac/train-dataset-augmented/image0467.txt  \n",
            "  inflating: /datasets/detrac/train-dataset-augmented/image0301.txt  \n",
            "  inflating: /datasets/detrac/train-dataset-augmented/image0315.txt  \n",
            "  inflating: /datasets/detrac/train-dataset-augmented/image0029.jpg  \n",
            "  inflating: /datasets/detrac/train-dataset-augmented/image0473.txt  \n",
            "  inflating: /datasets/detrac/train-dataset-augmented/image0001.jpg  \n",
            "  inflating: /datasets/detrac/train-dataset-augmented/image0015.jpg  \n",
            "  inflating: /datasets/detrac/train-dataset-augmented/image0329.txt  \n",
            "  inflating: /datasets/detrac/train-dataset-augmented/image0103.txt  \n",
            "  inflating: /datasets/detrac/train-dataset-augmented/image0117.txt  \n",
            "  inflating: /datasets/detrac/train-dataset-augmented/image0203.jpg  \n",
            "  inflating: /datasets/detrac/train-dataset-augmented/image0217.jpg  \n",
            "  inflating: /datasets/detrac/train-dataset-augmented/image0216.jpg  \n",
            "  inflating: /datasets/detrac/train-dataset-augmented/image0202.jpg  \n",
            "  inflating: /datasets/detrac/train-dataset-augmented/image0116.txt  \n",
            "  inflating: /datasets/detrac/train-dataset-augmented/image0102.txt  \n",
            "  inflating: /datasets/detrac/train-dataset-augmented/image0328.txt  \n",
            "  inflating: /datasets/detrac/train-dataset-augmented/image0014.jpg  \n",
            "  inflating: /datasets/detrac/train-dataset-augmented/image0028.jpg  \n",
            "  inflating: /datasets/detrac/train-dataset-augmented/image0314.txt  \n",
            "  inflating: /datasets/detrac/train-dataset-augmented/image0472.txt  \n",
            "  inflating: /datasets/detrac/train-dataset-augmented/image0466.txt  \n",
            "  inflating: /datasets/detrac/train-dataset-augmented/image0300.txt  \n",
            "  inflating: /datasets/detrac/train-dataset-augmented/image0499.txt  \n",
            "  inflating: /datasets/detrac/train-dataset-augmented/image0160.jpg  \n",
            "  inflating: /datasets/detrac/train-dataset-augmented/image0174.jpg  \n",
            "  inflating: /datasets/detrac/train-dataset-augmented/image0248.txt  \n",
            "  inflating: /datasets/detrac/train-dataset-augmented/image0260.txt  \n",
            "  inflating: /datasets/detrac/train-dataset-augmented/image0274.txt  \n",
            "  inflating: /datasets/detrac/train-dataset-augmented/image0148.jpg  \n",
            "  inflating: /datasets/detrac/train-dataset-augmented/image0404.jpg  \n",
            "  inflating: /datasets/detrac/train-dataset-augmented/image0362.jpg  \n",
            "  inflating: /datasets/detrac/train-dataset-augmented/image0376.jpg  \n",
            "  inflating: /datasets/detrac/train-dataset-augmented/image0410.jpg  \n",
            "  inflating: /datasets/detrac/train-dataset-augmented/image0438.jpg  \n",
            "  inflating: /datasets/detrac/train-dataset-augmented/image0062.txt  \n",
            "  inflating: /datasets/detrac/train-dataset-augmented/image0076.txt  \n",
            "  inflating: /datasets/detrac/train-dataset-augmented/image0089.txt  \n",
            "  inflating: /datasets/detrac/train-dataset-augmented/image0389.jpg  \n",
            "  inflating: /datasets/detrac/train-dataset-augmented/image0060.txt  \n",
            "  inflating: /datasets/detrac/train-dataset-augmented/image0074.txt  \n",
            "  inflating: /datasets/detrac/train-dataset-augmented/image0348.jpg  \n",
            "  inflating: /datasets/detrac/train-dataset-augmented/image0360.jpg  \n",
            "  inflating: /datasets/detrac/train-dataset-augmented/image0406.jpg  \n",
            "  inflating: /datasets/detrac/train-dataset-augmented/image0412.jpg  \n",
            "  inflating: /datasets/detrac/train-dataset-augmented/image0374.jpg  \n",
            "  inflating: /datasets/detrac/train-dataset-augmented/image0048.txt  \n",
            "  inflating: /datasets/detrac/train-dataset-augmented/image0189.jpg  \n",
            "  inflating: /datasets/detrac/train-dataset-augmented/image0289.txt  \n",
            "  inflating: /datasets/detrac/train-dataset-augmented/image0262.txt  \n",
            "  inflating: /datasets/detrac/train-dataset-augmented/image0276.txt  \n",
            "  inflating: /datasets/detrac/train-dataset-augmented/image0162.jpg  \n",
            "  inflating: /datasets/detrac/train-dataset-augmented/image0176.jpg  \n",
            "  inflating: /datasets/detrac/train-dataset-augmented/image0470.txt  \n",
            "  inflating: /datasets/detrac/train-dataset-augmented/image0316.txt  \n",
            "  inflating: /datasets/detrac/train-dataset-augmented/image0302.txt  \n",
            "  inflating: /datasets/detrac/train-dataset-augmented/image0464.txt  \n",
            "  inflating: /datasets/detrac/train-dataset-augmented/image0016.jpg  \n",
            "  inflating: /datasets/detrac/train-dataset-augmented/image0002.jpg  \n",
            "  inflating: /datasets/detrac/train-dataset-augmented/image0458.txt  \n",
            "  inflating: /datasets/detrac/train-dataset-augmented/image0228.jpg  \n",
            "  inflating: /datasets/detrac/train-dataset-augmented/image0114.txt  \n",
            "  inflating: /datasets/detrac/train-dataset-augmented/image0100.txt  \n",
            "  inflating: /datasets/detrac/train-dataset-augmented/image0128.txt  \n",
            "  inflating: /datasets/detrac/train-dataset-augmented/image0214.jpg  \n",
            "  inflating: /datasets/detrac/train-dataset-augmented/image0200.jpg  \n",
            "  inflating: /datasets/detrac/train-dataset-augmented/image0201.jpg  \n",
            "  inflating: /datasets/detrac/train-dataset-augmented/image0215.jpg  \n",
            "  inflating: /datasets/detrac/train-dataset-augmented/image0129.txt  \n",
            "  inflating: /datasets/detrac/train-dataset-augmented/image0101.txt  \n",
            "  inflating: /datasets/detrac/train-dataset-augmented/image0115.txt  \n",
            "  inflating: /datasets/detrac/train-dataset-augmented/image0229.jpg  \n",
            "  inflating: /datasets/detrac/train-dataset-augmented/image0003.jpg  \n",
            "  inflating: /datasets/detrac/train-dataset-augmented/image0459.txt  \n",
            "  inflating: /datasets/detrac/train-dataset-augmented/image0017.jpg  \n",
            "  inflating: /datasets/detrac/train-dataset-augmented/image0303.txt  \n",
            "  inflating: /datasets/detrac/train-dataset-augmented/image0465.txt  \n",
            "  inflating: /datasets/detrac/train-dataset-augmented/image0471.txt  \n",
            "  inflating: /datasets/detrac/train-dataset-augmented/image0317.txt  \n",
            "  inflating: /datasets/detrac/train-dataset-augmented/image0177.jpg  \n",
            "  inflating: /datasets/detrac/train-dataset-augmented/image0163.jpg  \n",
            "  inflating: /datasets/detrac/train-dataset-augmented/image0277.txt  \n",
            "  inflating: /datasets/detrac/train-dataset-augmented/image0263.txt  \n",
            "  inflating: /datasets/detrac/train-dataset-augmented/image0288.txt  \n",
            "  inflating: /datasets/detrac/train-dataset-augmented/image0188.jpg  \n",
            "  inflating: /datasets/detrac/train-dataset-augmented/image0413.jpg  \n",
            "  inflating: /datasets/detrac/train-dataset-augmented/image0049.txt  \n",
            "  inflating: /datasets/detrac/train-dataset-augmented/image0375.jpg  \n",
            "  inflating: /datasets/detrac/train-dataset-augmented/image0361.jpg  \n",
            "  inflating: /datasets/detrac/train-dataset-augmented/image0407.jpg  \n",
            "  inflating: /datasets/detrac/train-dataset-augmented/image0349.jpg  \n",
            "  inflating: /datasets/detrac/train-dataset-augmented/image0075.txt  \n",
            "  inflating: /datasets/detrac/train-dataset-augmented/image0061.txt  \n",
            "  inflating: /datasets/detrac/train-dataset-augmented/image0387.jpg  \n",
            "  inflating: /datasets/detrac/train-dataset-augmented/image0393.jpg  \n",
            "  inflating: /datasets/detrac/train-dataset-augmented/image0087.txt  \n",
            "  inflating: /datasets/detrac/train-dataset-augmented/image0093.txt  \n",
            "  inflating: /datasets/detrac/train-dataset-augmented/image0422.jpg  \n",
            "  inflating: /datasets/detrac/train-dataset-augmented/image0344.jpg  \n",
            "  inflating: /datasets/detrac/train-dataset-augmented/image0078.txt  \n",
            "  inflating: /datasets/detrac/train-dataset-augmented/image0350.jpg  \n",
            "  inflating: /datasets/detrac/train-dataset-augmented/image0436.jpg  \n",
            "  inflating: /datasets/detrac/train-dataset-augmented/image0044.txt  \n",
            "  inflating: /datasets/detrac/train-dataset-augmented/image0378.jpg  \n",
            "  inflating: /datasets/detrac/train-dataset-augmented/image0050.txt  \n",
            "  inflating: /datasets/detrac/train-dataset-augmented/image0185.jpg  \n",
            "  inflating: /datasets/detrac/train-dataset-augmented/image0191.jpg  \n",
            "  inflating: /datasets/detrac/train-dataset-augmented/image0285.txt  \n",
            "  inflating: /datasets/detrac/train-dataset-augmented/image0291.txt  \n",
            "  inflating: /datasets/detrac/train-dataset-augmented/image0146.jpg  \n",
            "  inflating: /datasets/detrac/train-dataset-augmented/image0152.jpg  \n",
            "  inflating: /datasets/detrac/train-dataset-augmented/image0246.txt  \n",
            "  inflating: /datasets/detrac/train-dataset-augmented/image0252.txt  \n",
            "  inflating: /datasets/detrac/train-dataset-augmented/image0497.txt  \n",
            "  inflating: /datasets/detrac/train-dataset-augmented/image0483.txt  \n",
            "  inflating: /datasets/detrac/train-dataset-augmented/image0032.jpg  \n",
            "  inflating: /datasets/detrac/train-dataset-augmented/image0468.txt  \n",
            "  inflating: /datasets/detrac/train-dataset-augmented/image0026.jpg  \n",
            "  inflating: /datasets/detrac/train-dataset-augmented/image0332.txt  \n",
            "  inflating: /datasets/detrac/train-dataset-augmented/image0454.txt  \n",
            "  inflating: /datasets/detrac/train-dataset-augmented/image0440.txt  \n",
            "  inflating: /datasets/detrac/train-dataset-augmented/image0326.txt  \n",
            "  inflating: /datasets/detrac/train-dataset-augmented/image0230.jpg  \n",
            "  inflating: /datasets/detrac/train-dataset-augmented/image0118.txt  \n",
            "  inflating: /datasets/detrac/train-dataset-augmented/image0224.jpg  \n",
            "  inflating: /datasets/detrac/train-dataset-augmented/image0130.txt  \n",
            "  inflating: /datasets/detrac/train-dataset-augmented/image0218.jpg  \n",
            "  inflating: /datasets/detrac/train-dataset-augmented/image0124.txt  \n",
            "  inflating: /datasets/detrac/train-dataset-augmented/image0125.txt  \n",
            "  inflating: /datasets/detrac/train-dataset-augmented/image0219.jpg  \n",
            "  inflating: /datasets/detrac/train-dataset-augmented/image0131.txt  \n",
            "  inflating: /datasets/detrac/train-dataset-augmented/image0225.jpg  \n",
            "  inflating: /datasets/detrac/train-dataset-augmented/image0119.txt  \n",
            "  inflating: /datasets/detrac/train-dataset-augmented/image0231.jpg  \n",
            "  inflating: /datasets/detrac/train-dataset-augmented/image0441.txt  \n",
            "  inflating: /datasets/detrac/train-dataset-augmented/image0327.txt  \n",
            "  inflating: /datasets/detrac/train-dataset-augmented/image0333.txt  \n",
            "  inflating: /datasets/detrac/train-dataset-augmented/image0455.txt  \n",
            "  inflating: /datasets/detrac/train-dataset-augmented/image0027.jpg  \n",
            "  inflating: /datasets/detrac/train-dataset-augmented/image0033.jpg  \n",
            "  inflating: /datasets/detrac/train-dataset-augmented/image0469.txt  \n",
            "  inflating: /datasets/detrac/train-dataset-augmented/image0482.txt  \n",
            "  inflating: /datasets/detrac/train-dataset-augmented/image0496.txt  \n",
            "  inflating: /datasets/detrac/train-dataset-augmented/image0253.txt  \n",
            "  inflating: /datasets/detrac/train-dataset-augmented/image0247.txt  \n",
            "  inflating: /datasets/detrac/train-dataset-augmented/image0153.jpg  \n",
            "  inflating: /datasets/detrac/train-dataset-augmented/image0147.jpg  \n",
            "  inflating: /datasets/detrac/train-dataset-augmented/image0290.txt  \n",
            "  inflating: /datasets/detrac/train-dataset-augmented/image0284.txt  \n",
            "  inflating: /datasets/detrac/train-dataset-augmented/image0190.jpg  \n",
            "  inflating: /datasets/detrac/train-dataset-augmented/image0184.jpg  \n",
            "  inflating: /datasets/detrac/train-dataset-augmented/image0051.txt  \n",
            "  inflating: /datasets/detrac/train-dataset-augmented/image0379.jpg  \n",
            "  inflating: /datasets/detrac/train-dataset-augmented/image0045.txt  \n",
            "  inflating: /datasets/detrac/train-dataset-augmented/image0351.jpg  \n",
            "  inflating: /datasets/detrac/train-dataset-augmented/image0437.jpg  \n",
            "  inflating: /datasets/detrac/train-dataset-augmented/image0423.jpg  \n",
            "  inflating: /datasets/detrac/train-dataset-augmented/image0079.txt  \n",
            "  inflating: /datasets/detrac/train-dataset-augmented/image0345.jpg  \n",
            "  inflating: /datasets/detrac/train-dataset-augmented/image0092.txt  \n",
            "  inflating: /datasets/detrac/train-dataset-augmented/image0086.txt  \n",
            "  inflating: /datasets/detrac/train-dataset-augmented/image0392.jpg  \n",
            "  inflating: /datasets/detrac/train-dataset-augmented/image0386.jpg  \n",
            "  inflating: /datasets/detrac/train-dataset-augmented/image0390.jpg  \n",
            "  inflating: /datasets/detrac/train-dataset-augmented/image0384.jpg  \n",
            "  inflating: /datasets/detrac/train-dataset-augmented/image0090.txt  \n",
            "  inflating: /datasets/detrac/train-dataset-augmented/image0084.txt  \n",
            "  inflating: /datasets/detrac/train-dataset-augmented/image0435.jpg  \n",
            "  inflating: /datasets/detrac/train-dataset-augmented/image0353.jpg  \n",
            "  inflating: /datasets/detrac/train-dataset-augmented/image0347.jpg  \n",
            "  inflating: /datasets/detrac/train-dataset-augmented/image0421.jpg  \n",
            "  inflating: /datasets/detrac/train-dataset-augmented/image0409.jpg  \n",
            "  inflating: /datasets/detrac/train-dataset-augmented/image0053.txt  \n",
            "  inflating: /datasets/detrac/train-dataset-augmented/image0047.txt  \n",
            "  inflating: /datasets/detrac/train-dataset-augmented/image0192.jpg  \n",
            "  inflating: /datasets/detrac/train-dataset-augmented/image0186.jpg  \n",
            "  inflating: /datasets/detrac/train-dataset-augmented/image0292.txt  \n",
            "  inflating: /datasets/detrac/train-dataset-augmented/image0286.txt  \n",
            "  inflating: /datasets/detrac/train-dataset-augmented/image0151.jpg  \n",
            "  inflating: /datasets/detrac/train-dataset-augmented/image0279.txt  \n",
            "  inflating: /datasets/detrac/train-dataset-augmented/image0145.jpg  \n",
            "  inflating: /datasets/detrac/train-dataset-augmented/image0251.txt  \n",
            "  inflating: /datasets/detrac/train-dataset-augmented/image0179.jpg  \n",
            "  inflating: /datasets/detrac/train-dataset-augmented/image0245.txt  \n",
            "  inflating: /datasets/detrac/train-dataset-augmented/image0480.txt  \n",
            "  inflating: /datasets/detrac/train-dataset-augmented/image0494.txt  \n",
            "  inflating: /datasets/detrac/train-dataset-augmented/image0025.jpg  \n",
            "  inflating: /datasets/detrac/train-dataset-augmented/image0319.txt  \n",
            "  inflating: /datasets/detrac/train-dataset-augmented/image0031.jpg  \n",
            "  inflating: /datasets/detrac/train-dataset-augmented/image0325.txt  \n",
            "  inflating: /datasets/detrac/train-dataset-augmented/image0019.jpg  \n",
            "  inflating: /datasets/detrac/train-dataset-augmented/image0443.txt  \n",
            "  inflating: /datasets/detrac/train-dataset-augmented/image0457.txt  \n",
            "  inflating: /datasets/detrac/train-dataset-augmented/image0331.txt  \n",
            "  inflating: /datasets/detrac/train-dataset-augmented/image0227.jpg  \n",
            "  inflating: /datasets/detrac/train-dataset-augmented/image0233.jpg  \n",
            "  inflating: /datasets/detrac/train-dataset-augmented/image0127.txt  \n",
            "  inflating: /datasets/detrac/train-dataset-augmented/image0133.txt  \n",
            "  inflating: /datasets/detrac/train-dataset-augmented/image0132.txt  \n",
            "  inflating: /datasets/detrac/train-dataset-augmented/image0126.txt  \n",
            "  inflating: /datasets/detrac/train-dataset-augmented/image0232.jpg  \n",
            "  inflating: /datasets/detrac/train-dataset-augmented/image0226.jpg  \n",
            "  inflating: /datasets/detrac/train-dataset-augmented/image0456.txt  \n",
            "  inflating: /datasets/detrac/train-dataset-augmented/image0330.txt  \n",
            "  inflating: /datasets/detrac/train-dataset-augmented/image0018.jpg  \n",
            "  inflating: /datasets/detrac/train-dataset-augmented/image0324.txt  \n",
            "  inflating: /datasets/detrac/train-dataset-augmented/image0442.txt  \n",
            "  inflating: /datasets/detrac/train-dataset-augmented/image0030.jpg  \n",
            "  inflating: /datasets/detrac/train-dataset-augmented/image0318.txt  \n",
            "  inflating: /datasets/detrac/train-dataset-augmented/image0024.jpg  \n",
            "  inflating: /datasets/detrac/train-dataset-augmented/image0495.txt  \n",
            "  inflating: /datasets/detrac/train-dataset-augmented/image0481.txt  \n",
            "  inflating: /datasets/detrac/train-dataset-augmented/image0244.txt  \n",
            "  inflating: /datasets/detrac/train-dataset-augmented/image0178.jpg  \n",
            "  inflating: /datasets/detrac/train-dataset-augmented/image0250.txt  \n",
            "  inflating: /datasets/detrac/train-dataset-augmented/image0144.jpg  \n",
            "  inflating: /datasets/detrac/train-dataset-augmented/image0278.txt  \n",
            "  inflating: /datasets/detrac/train-dataset-augmented/image0150.jpg  \n",
            "  inflating: /datasets/detrac/train-dataset-augmented/image0287.txt  \n",
            "  inflating: /datasets/detrac/train-dataset-augmented/image0293.txt  \n",
            "  inflating: /datasets/detrac/train-dataset-augmented/image0187.jpg  \n",
            "  inflating: /datasets/detrac/train-dataset-augmented/image0193.jpg  \n",
            "  inflating: /datasets/detrac/train-dataset-augmented/image0046.txt  \n",
            "  inflating: /datasets/detrac/train-dataset-augmented/image0408.jpg  \n",
            "  inflating: /datasets/detrac/train-dataset-augmented/image0052.txt  \n",
            "  inflating: /datasets/detrac/train-dataset-augmented/image0346.jpg  \n",
            "  inflating: /datasets/detrac/train-dataset-augmented/image0420.jpg  \n",
            "  inflating: /datasets/detrac/train-dataset-augmented/image0434.jpg  \n",
            "  inflating: /datasets/detrac/train-dataset-augmented/image0352.jpg  \n",
            "  inflating: /datasets/detrac/train-dataset-augmented/image0085.txt  \n",
            "  inflating: /datasets/detrac/train-dataset-augmented/image0091.txt  \n",
            "  inflating: /datasets/detrac/train-dataset-augmented/image0385.jpg  \n",
            "  inflating: /datasets/detrac/train-dataset-augmented/image0391.jpg  \n",
            "  inflating: /datasets/detrac/train-dataset-augmented/image0095.txt  \n",
            "  inflating: /datasets/detrac/train-dataset-augmented/image0081.txt  \n",
            "  inflating: /datasets/detrac/train-dataset-augmented/image0395.jpg  \n",
            "  inflating: /datasets/detrac/train-dataset-augmented/image0381.jpg  \n",
            "  inflating: /datasets/detrac/train-dataset-augmented/image0056.txt  \n",
            "  inflating: /datasets/detrac/train-dataset-augmented/image0418.jpg  \n",
            "  inflating: /datasets/detrac/train-dataset-augmented/image0042.txt  \n",
            "  inflating: /datasets/detrac/train-dataset-augmented/image0356.jpg  \n",
            "  inflating: /datasets/detrac/train-dataset-augmented/image0430.jpg  \n",
            "  inflating: /datasets/detrac/train-dataset-augmented/image0424.jpg  \n",
            "  inflating: /datasets/detrac/train-dataset-augmented/image0342.jpg  \n",
            "  inflating: /datasets/detrac/train-dataset-augmented/image0297.txt  \n",
            "  inflating: /datasets/detrac/train-dataset-augmented/image0283.txt  \n",
            "  inflating: /datasets/detrac/train-dataset-augmented/image0197.jpg  \n",
            "  inflating: /datasets/detrac/train-dataset-augmented/image0183.jpg  \n",
            "  inflating: /datasets/detrac/train-dataset-augmented/image0254.txt  \n",
            "  inflating: /datasets/detrac/train-dataset-augmented/image0168.jpg  \n",
            "  inflating: /datasets/detrac/train-dataset-augmented/image0240.txt  \n",
            "  inflating: /datasets/detrac/train-dataset-augmented/image0154.jpg  \n",
            "  inflating: /datasets/detrac/train-dataset-augmented/image0268.txt  \n",
            "  inflating: /datasets/detrac/train-dataset-augmented/image0140.jpg  \n",
            "  inflating: /datasets/detrac/train-dataset-augmented/image0485.txt  \n",
            "  inflating: /datasets/detrac/train-dataset-augmented/image0491.txt  \n",
            "  inflating: /datasets/detrac/train-dataset-augmented/image0446.txt  \n",
            "  inflating: /datasets/detrac/train-dataset-augmented/image0320.txt  \n",
            "  inflating: /datasets/detrac/train-dataset-augmented/image0008.jpg  \n",
            "  inflating: /datasets/detrac/train-dataset-augmented/image0334.txt  \n",
            "  inflating: /datasets/detrac/train-dataset-augmented/image0452.txt  \n",
            "  inflating: /datasets/detrac/train-dataset-augmented/image0020.jpg  \n",
            "  inflating: /datasets/detrac/train-dataset-augmented/image0308.txt  \n",
            "  inflating: /datasets/detrac/train-dataset-augmented/image0034.jpg  \n",
            "  inflating: /datasets/detrac/train-dataset-augmented/image0122.txt  \n",
            "  inflating: /datasets/detrac/train-dataset-augmented/image0136.txt  \n",
            "  inflating: /datasets/detrac/train-dataset-augmented/image0222.jpg  \n",
            "  inflating: /datasets/detrac/train-dataset-augmented/image0236.jpg  \n",
            "  inflating: /datasets/detrac/train-dataset-augmented/image0237.jpg  \n",
            "  inflating: /datasets/detrac/train-dataset-augmented/image0223.jpg  \n",
            "  inflating: /datasets/detrac/train-dataset-augmented/image0137.txt  \n",
            "  inflating: /datasets/detrac/train-dataset-augmented/image0123.txt  \n",
            "  inflating: /datasets/detrac/train-dataset-augmented/image0035.jpg  \n",
            "  inflating: /datasets/detrac/train-dataset-augmented/image0309.txt  \n",
            "  inflating: /datasets/detrac/train-dataset-augmented/image0021.jpg  \n",
            "  inflating: /datasets/detrac/train-dataset-augmented/image0335.txt  \n",
            "  inflating: /datasets/detrac/train-dataset-augmented/image0009.jpg  \n",
            "  inflating: /datasets/detrac/train-dataset-augmented/image0453.txt  \n",
            "  inflating: /datasets/detrac/train-dataset-augmented/image0447.txt  \n",
            "  inflating: /datasets/detrac/train-dataset-augmented/image0321.txt  \n",
            "  inflating: /datasets/detrac/train-dataset-augmented/image0490.txt  \n",
            "  inflating: /datasets/detrac/train-dataset-augmented/image0484.txt  \n",
            "  inflating: /datasets/detrac/train-dataset-augmented/image0141.jpg  \n",
            "  inflating: /datasets/detrac/train-dataset-augmented/image0269.txt  \n",
            "  inflating: /datasets/detrac/train-dataset-augmented/image0155.jpg  \n",
            "  inflating: /datasets/detrac/train-dataset-augmented/image0241.txt  \n",
            "  inflating: /datasets/detrac/train-dataset-augmented/image0169.jpg  \n",
            "  inflating: /datasets/detrac/train-dataset-augmented/image0255.txt  \n",
            "  inflating: /datasets/detrac/train-dataset-augmented/image0182.jpg  \n",
            "  inflating: /datasets/detrac/train-dataset-augmented/image0196.jpg  \n",
            "  inflating: /datasets/detrac/train-dataset-augmented/image0282.txt  \n",
            "  inflating: /datasets/detrac/train-dataset-augmented/image0296.txt  \n",
            "  inflating: /datasets/detrac/train-dataset-augmented/image0425.jpg  \n",
            "  inflating: /datasets/detrac/train-dataset-augmented/image0343.jpg  \n",
            "  inflating: /datasets/detrac/train-dataset-augmented/image0357.jpg  \n",
            "  inflating: /datasets/detrac/train-dataset-augmented/image0431.jpg  \n",
            "  inflating: /datasets/detrac/train-dataset-augmented/image0419.jpg  \n",
            "  inflating: /datasets/detrac/train-dataset-augmented/image0043.txt  \n",
            "  inflating: /datasets/detrac/train-dataset-augmented/image0057.txt  \n",
            "  inflating: /datasets/detrac/train-dataset-augmented/image0380.jpg  \n",
            "  inflating: /datasets/detrac/train-dataset-augmented/image0394.jpg  \n",
            "  inflating: /datasets/detrac/train-dataset-augmented/image0080.txt  \n",
            "  inflating: /datasets/detrac/train-dataset-augmented/image0094.txt  \n",
            "  inflating: /datasets/detrac/train-dataset-augmented/image0082.txt  \n",
            "  inflating: /datasets/detrac/train-dataset-augmented/image0096.txt  \n",
            "  inflating: /datasets/detrac/train-dataset-augmented/image0382.jpg  \n",
            "  inflating: /datasets/detrac/train-dataset-augmented/image0396.jpg  \n",
            "  inflating: /datasets/detrac/train-dataset-augmented/image0041.txt  \n",
            "  inflating: /datasets/detrac/train-dataset-augmented/image0369.jpg  \n",
            "  inflating: /datasets/detrac/train-dataset-augmented/image0055.txt  \n",
            "  inflating: /datasets/detrac/train-dataset-augmented/image0341.jpg  \n",
            "  inflating: /datasets/detrac/train-dataset-augmented/image0427.jpg  \n",
            "  inflating: /datasets/detrac/train-dataset-augmented/image0433.jpg  \n",
            "  inflating: /datasets/detrac/train-dataset-augmented/image0069.txt  \n",
            "  inflating: /datasets/detrac/train-dataset-augmented/image0355.jpg  \n",
            "  inflating: /datasets/detrac/train-dataset-augmented/image0280.txt  \n",
            "  inflating: /datasets/detrac/train-dataset-augmented/image0294.txt  \n",
            "  inflating: /datasets/detrac/train-dataset-augmented/image0180.jpg  \n",
            "  inflating: /datasets/detrac/train-dataset-augmented/image0194.jpg  \n",
            "  inflating: /datasets/detrac/train-dataset-augmented/image0243.txt  \n",
            "  inflating: /datasets/detrac/train-dataset-augmented/image0257.txt  \n",
            "  inflating: /datasets/detrac/train-dataset-augmented/image0143.jpg  \n",
            "  inflating: /datasets/detrac/train-dataset-augmented/image0157.jpg  \n",
            "  inflating: /datasets/detrac/train-dataset-augmented/image0492.txt  \n",
            "  inflating: /datasets/detrac/train-dataset-augmented/image0486.txt  \n",
            "  inflating: /datasets/detrac/train-dataset-augmented/image0451.txt  \n",
            "  inflating: /datasets/detrac/train-dataset-augmented/image0337.txt  \n",
            "  inflating: /datasets/detrac/train-dataset-augmented/image0323.txt  \n",
            "  inflating: /datasets/detrac/train-dataset-augmented/image0445.txt  \n",
            "  inflating: /datasets/detrac/train-dataset-augmented/image0037.jpg  \n",
            "  inflating: /datasets/detrac/train-dataset-augmented/image0023.jpg  \n",
            "  inflating: /datasets/detrac/train-dataset-augmented/image0479.txt  \n",
            "  inflating: /datasets/detrac/train-dataset-augmented/image0135.txt  \n",
            "  inflating: /datasets/detrac/train-dataset-augmented/image0209.jpg  \n",
            "  inflating: /datasets/detrac/train-dataset-augmented/image0121.txt  \n",
            "  inflating: /datasets/detrac/train-dataset-augmented/image0235.jpg  \n",
            "  inflating: /datasets/detrac/train-dataset-augmented/image0109.txt  \n",
            "  inflating: /datasets/detrac/train-dataset-augmented/image0221.jpg  \n",
            "  inflating: /datasets/detrac/train-dataset-augmented/image0220.jpg  \n",
            "  inflating: /datasets/detrac/train-dataset-augmented/image0108.txt  \n",
            "  inflating: /datasets/detrac/train-dataset-augmented/image0234.jpg  \n",
            "  inflating: /datasets/detrac/train-dataset-augmented/image0120.txt  \n",
            "  inflating: /datasets/detrac/train-dataset-augmented/image0208.jpg  \n",
            "  inflating: /datasets/detrac/train-dataset-augmented/image0134.txt  \n",
            "  inflating: /datasets/detrac/train-dataset-augmented/image0022.jpg  \n",
            "  inflating: /datasets/detrac/train-dataset-augmented/image0478.txt  \n",
            "  inflating: /datasets/detrac/train-dataset-augmented/image0036.jpg  \n",
            "  inflating: /datasets/detrac/train-dataset-augmented/image0322.txt  \n",
            "  inflating: /datasets/detrac/train-dataset-augmented/image0444.txt  \n",
            "  inflating: /datasets/detrac/train-dataset-augmented/image0450.txt  \n",
            "  inflating: /datasets/detrac/train-dataset-augmented/image0336.txt  \n",
            "  inflating: /datasets/detrac/train-dataset-augmented/image0487.txt  \n",
            "  inflating: /datasets/detrac/train-dataset-augmented/image0493.txt  \n",
            "  inflating: /datasets/detrac/train-dataset-augmented/image0156.jpg  \n",
            "  inflating: /datasets/detrac/train-dataset-augmented/image0142.jpg  \n",
            "  inflating: /datasets/detrac/train-dataset-augmented/image0256.txt  \n",
            "  inflating: /datasets/detrac/train-dataset-augmented/image0242.txt  \n",
            "  inflating: /datasets/detrac/train-dataset-augmented/image0195.jpg  \n",
            "  inflating: /datasets/detrac/train-dataset-augmented/image0181.jpg  \n",
            "  inflating: /datasets/detrac/train-dataset-augmented/image0295.txt  \n",
            "  inflating: /datasets/detrac/train-dataset-augmented/image0281.txt  \n",
            "  inflating: /datasets/detrac/train-dataset-augmented/image0432.jpg  \n",
            "  inflating: /datasets/detrac/train-dataset-augmented/image0354.jpg  \n",
            "  inflating: /datasets/detrac/train-dataset-augmented/image0068.txt  \n",
            "  inflating: /datasets/detrac/train-dataset-augmented/image0340.jpg  \n",
            "  inflating: /datasets/detrac/train-dataset-augmented/image0426.jpg  \n",
            "  inflating: /datasets/detrac/train-dataset-augmented/image0054.txt  \n",
            "  inflating: /datasets/detrac/train-dataset-augmented/image0368.jpg  \n",
            "  inflating: /datasets/detrac/train-dataset-augmented/image0040.txt  \n",
            "  inflating: /datasets/detrac/train-dataset-augmented/image0397.jpg  \n",
            "  inflating: /datasets/detrac/train-dataset-augmented/image0383.jpg  \n",
            "  inflating: /datasets/detrac/train-dataset-augmented/image0097.txt  \n",
            "  inflating: /datasets/detrac/train-dataset-augmented/image0083.txt  \n",
            "  inflating: /datasets/detrac/train-dataset-augmented/image0482.jpg  \n",
            "  inflating: /datasets/detrac/train-dataset-augmented/image0496.jpg  \n",
            "  inflating: /datasets/detrac/train-dataset-augmented/image0327.jpg  \n",
            "  inflating: /datasets/detrac/train-dataset-augmented/image0441.jpg  \n",
            "  inflating: /datasets/detrac/train-dataset-augmented/image0455.jpg  \n",
            "  inflating: /datasets/detrac/train-dataset-augmented/image0333.jpg  \n",
            "  inflating: /datasets/detrac/train-dataset-augmented/image0027.txt  \n",
            "  inflating: /datasets/detrac/train-dataset-augmented/image0469.jpg  \n",
            "  inflating: /datasets/detrac/train-dataset-augmented/image0033.txt  \n",
            "  inflating: /datasets/detrac/train-dataset-augmented/image0125.jpg  \n",
            "  inflating: /datasets/detrac/train-dataset-augmented/image0219.txt  \n",
            "  inflating: /datasets/detrac/train-dataset-augmented/image0131.jpg  \n",
            "  inflating: /datasets/detrac/train-dataset-augmented/image0225.txt  \n",
            "  inflating: /datasets/detrac/train-dataset-augmented/image0119.jpg  \n",
            "  inflating: /datasets/detrac/train-dataset-augmented/image0231.txt  \n",
            "  inflating: /datasets/detrac/train-dataset-augmented/image0092.jpg  \n",
            "  inflating: /datasets/detrac/train-dataset-augmented/image0086.jpg  \n",
            "  inflating: /datasets/detrac/train-dataset-augmented/image0392.txt  \n",
            "  inflating: /datasets/detrac/train-dataset-augmented/image0386.txt  \n",
            "  inflating: /datasets/detrac/train-dataset-augmented/image0051.jpg  \n",
            "  inflating: /datasets/detrac/train-dataset-augmented/image0379.txt  \n",
            "  inflating: /datasets/detrac/train-dataset-augmented/image0045.jpg  \n",
            "  inflating: /datasets/detrac/train-dataset-augmented/image0437.txt  \n",
            "  inflating: /datasets/detrac/train-dataset-augmented/image0351.txt  \n",
            "  inflating: /datasets/detrac/train-dataset-augmented/image0079.jpg  \n",
            "  inflating: /datasets/detrac/train-dataset-augmented/image0345.txt  \n",
            "  inflating: /datasets/detrac/train-dataset-augmented/image0423.txt  \n",
            "  inflating: /datasets/detrac/train-dataset-augmented/image0290.jpg  \n",
            "  inflating: /datasets/detrac/train-dataset-augmented/image0284.jpg  \n",
            "  inflating: /datasets/detrac/train-dataset-augmented/image0190.txt  \n",
            "  inflating: /datasets/detrac/train-dataset-augmented/image0184.txt  \n",
            "  inflating: /datasets/detrac/train-dataset-augmented/image0253.jpg  \n",
            "  inflating: /datasets/detrac/train-dataset-augmented/image0247.jpg  \n",
            "  inflating: /datasets/detrac/train-dataset-augmented/image0153.txt  \n",
            "  inflating: /datasets/detrac/train-dataset-augmented/image0147.txt  \n",
            "  inflating: /datasets/detrac/train-dataset-augmented/image0146.txt  \n",
            "  inflating: /datasets/detrac/train-dataset-augmented/image0152.txt  \n",
            "  inflating: /datasets/detrac/train-dataset-augmented/image0246.jpg  \n",
            "  inflating: /datasets/detrac/train-dataset-augmented/image0252.jpg  \n",
            "  inflating: /datasets/detrac/train-dataset-augmented/image0185.txt  \n",
            "  inflating: /datasets/detrac/train-dataset-augmented/image0191.txt  \n",
            "  inflating: /datasets/detrac/train-dataset-augmented/image0285.jpg  \n",
            "  inflating: /datasets/detrac/train-dataset-augmented/image0291.jpg  \n",
            "  inflating: /datasets/detrac/train-dataset-augmented/image0344.txt  \n",
            "  inflating: /datasets/detrac/train-dataset-augmented/image0078.jpg  \n",
            "  inflating: /datasets/detrac/train-dataset-augmented/image0422.txt  \n",
            "  inflating: /datasets/detrac/train-dataset-augmented/image0436.txt  \n",
            "  inflating: /datasets/detrac/train-dataset-augmented/image0350.txt  \n",
            "  inflating: /datasets/detrac/train-dataset-augmented/image0044.jpg  \n",
            "  inflating: /datasets/detrac/train-dataset-augmented/image0378.txt  \n",
            "  inflating: /datasets/detrac/train-dataset-augmented/image0050.jpg  \n",
            "  inflating: /datasets/detrac/train-dataset-augmented/image0387.txt  \n",
            "  inflating: /datasets/detrac/train-dataset-augmented/image0393.txt  \n",
            "  inflating: /datasets/detrac/train-dataset-augmented/image0087.jpg  \n",
            "  inflating: /datasets/detrac/train-dataset-augmented/image0093.jpg  \n",
            "  inflating: /datasets/detrac/train-dataset-augmented/image0230.txt  \n",
            "  inflating: /datasets/detrac/train-dataset-augmented/image0118.jpg  \n",
            "  inflating: /datasets/detrac/train-dataset-augmented/image0224.txt  \n",
            "  inflating: /datasets/detrac/train-dataset-augmented/image0130.jpg  \n",
            "  inflating: /datasets/detrac/train-dataset-augmented/image0218.txt  \n",
            "  inflating: /datasets/detrac/train-dataset-augmented/image0124.jpg  \n",
            "  inflating: /datasets/detrac/train-dataset-augmented/image0468.jpg  \n",
            "  inflating: /datasets/detrac/train-dataset-augmented/image0032.txt  \n",
            "  inflating: /datasets/detrac/train-dataset-augmented/image0026.txt  \n",
            "  inflating: /datasets/detrac/train-dataset-augmented/image0454.jpg  \n",
            "  inflating: /datasets/detrac/train-dataset-augmented/image0332.jpg  \n",
            "  inflating: /datasets/detrac/train-dataset-augmented/image0326.jpg  \n",
            "  inflating: /datasets/detrac/train-dataset-augmented/image0440.jpg  \n",
            "  inflating: /datasets/detrac/train-dataset-augmented/image0497.jpg  \n",
            "  inflating: /datasets/detrac/train-dataset-augmented/image0483.jpg  \n",
            "  inflating: /datasets/detrac/train-dataset-augmented/image0495.jpg  \n",
            "  inflating: /datasets/detrac/train-dataset-augmented/image0481.jpg  \n",
            "  inflating: /datasets/detrac/train-dataset-augmented/image0330.jpg  \n",
            "  inflating: /datasets/detrac/train-dataset-augmented/image0456.jpg  \n",
            "  inflating: /datasets/detrac/train-dataset-augmented/image0442.jpg  \n",
            "  inflating: /datasets/detrac/train-dataset-augmented/image0018.txt  \n",
            "  inflating: /datasets/detrac/train-dataset-augmented/image0324.jpg  \n",
            "  inflating: /datasets/detrac/train-dataset-augmented/image0030.txt  \n",
            "  inflating: /datasets/detrac/train-dataset-augmented/image0318.jpg  \n",
            "  inflating: /datasets/detrac/train-dataset-augmented/image0024.txt  \n",
            "  inflating: /datasets/detrac/train-dataset-augmented/image0132.jpg  \n",
            "  inflating: /datasets/detrac/train-dataset-augmented/image0126.jpg  \n",
            "  inflating: /datasets/detrac/train-dataset-augmented/image0232.txt  \n",
            "  inflating: /datasets/detrac/train-dataset-augmented/image0226.txt  \n",
            "  inflating: /datasets/detrac/train-dataset-augmented/image0085.jpg  \n",
            "  inflating: /datasets/detrac/train-dataset-augmented/image0091.jpg  \n",
            "  inflating: /datasets/detrac/train-dataset-augmented/image0385.txt  \n",
            "  inflating: /datasets/detrac/train-dataset-augmented/image0391.txt  \n",
            "  inflating: /datasets/detrac/train-dataset-augmented/image0046.jpg  \n",
            "  inflating: /datasets/detrac/train-dataset-augmented/image0052.jpg  \n",
            "  inflating: /datasets/detrac/train-dataset-augmented/image0408.txt  \n",
            "  inflating: /datasets/detrac/train-dataset-augmented/image0420.txt  \n",
            "  inflating: /datasets/detrac/train-dataset-augmented/image0346.txt  \n",
            "  inflating: /datasets/detrac/train-dataset-augmented/image0352.txt  \n",
            "  inflating: /datasets/detrac/train-dataset-augmented/image0434.txt  \n",
            "  inflating: /datasets/detrac/train-dataset-augmented/image0287.jpg  \n",
            "  inflating: /datasets/detrac/train-dataset-augmented/image0293.jpg  \n",
            "  inflating: /datasets/detrac/train-dataset-augmented/image0187.txt  \n",
            "  inflating: /datasets/detrac/train-dataset-augmented/image0193.txt  \n",
            "  inflating: /datasets/detrac/train-dataset-augmented/image0244.jpg  \n",
            "  inflating: /datasets/detrac/train-dataset-augmented/image0178.txt  \n",
            "  inflating: /datasets/detrac/train-dataset-augmented/image0250.jpg  \n",
            "  inflating: /datasets/detrac/train-dataset-augmented/image0144.txt  \n",
            "  inflating: /datasets/detrac/train-dataset-augmented/image0278.jpg  \n",
            "  inflating: /datasets/detrac/train-dataset-augmented/image0150.txt  \n",
            "  inflating: /datasets/detrac/train-dataset-augmented/image0151.txt  \n",
            "  inflating: /datasets/detrac/train-dataset-augmented/image0279.jpg  \n",
            "  inflating: /datasets/detrac/train-dataset-augmented/image0145.txt  \n",
            "  inflating: /datasets/detrac/train-dataset-augmented/image0251.jpg  \n",
            "  inflating: /datasets/detrac/train-dataset-augmented/image0179.txt  \n",
            "  inflating: /datasets/detrac/train-dataset-augmented/image0245.jpg  \n",
            "  inflating: /datasets/detrac/train-dataset-augmented/image0192.txt  \n",
            "  inflating: /datasets/detrac/train-dataset-augmented/image0186.txt  \n",
            "  inflating: /datasets/detrac/train-dataset-augmented/image0292.jpg  \n",
            "  inflating: /datasets/detrac/train-dataset-augmented/image0286.jpg  \n",
            "  inflating: /datasets/detrac/train-dataset-augmented/image0353.txt  \n",
            "  inflating: /datasets/detrac/train-dataset-augmented/image0435.txt  \n",
            "  inflating: /datasets/detrac/train-dataset-augmented/image0421.txt  \n",
            "  inflating: /datasets/detrac/train-dataset-augmented/image0347.txt  \n",
            "  inflating: /datasets/detrac/train-dataset-augmented/image0053.jpg  \n",
            "  inflating: /datasets/detrac/train-dataset-augmented/image0409.txt  \n",
            "  inflating: /datasets/detrac/train-dataset-augmented/image0047.jpg  \n",
            "  inflating: /datasets/detrac/train-dataset-augmented/image0390.txt  \n",
            "  inflating: /datasets/detrac/train-dataset-augmented/image0384.txt  \n",
            "  inflating: /datasets/detrac/train-dataset-augmented/image0090.jpg  \n",
            "  inflating: /datasets/detrac/train-dataset-augmented/image0084.jpg  \n",
            "  inflating: /datasets/detrac/train-dataset-augmented/image0227.txt  \n",
            "  inflating: /datasets/detrac/train-dataset-augmented/image0233.txt  \n",
            "  inflating: /datasets/detrac/train-dataset-augmented/image0127.jpg  \n",
            "  inflating: /datasets/detrac/train-dataset-augmented/image0133.jpg  \n",
            "  inflating: /datasets/detrac/train-dataset-augmented/image0025.txt  \n",
            "  inflating: /datasets/detrac/train-dataset-augmented/image0319.jpg  \n",
            "  inflating: /datasets/detrac/train-dataset-augmented/image0031.txt  \n",
            "  inflating: /datasets/detrac/train-dataset-augmented/image0443.jpg  \n",
            "  inflating: /datasets/detrac/train-dataset-augmented/image0325.jpg  \n",
            "  inflating: /datasets/detrac/train-dataset-augmented/image0019.txt  \n",
            "  inflating: /datasets/detrac/train-dataset-augmented/image0331.jpg  \n",
            "  inflating: /datasets/detrac/train-dataset-augmented/image0457.jpg  \n",
            "  inflating: /datasets/detrac/train-dataset-augmented/image0480.jpg  \n",
            "  inflating: /datasets/detrac/train-dataset-augmented/image0494.jpg  \n",
            "  inflating: /datasets/detrac/train-dataset-augmented/image0490.jpg  \n",
            "  inflating: /datasets/detrac/train-dataset-augmented/image0484.jpg  \n",
            "  inflating: /datasets/detrac/train-dataset-augmented/image0035.txt  \n",
            "  inflating: /datasets/detrac/train-dataset-augmented/image0309.jpg  \n",
            "  inflating: /datasets/detrac/train-dataset-augmented/image0021.txt  \n",
            "  inflating: /datasets/detrac/train-dataset-augmented/image0453.jpg  \n",
            "  inflating: /datasets/detrac/train-dataset-augmented/image0335.jpg  \n",
            "  inflating: /datasets/detrac/train-dataset-augmented/image0009.txt  \n",
            "  inflating: /datasets/detrac/train-dataset-augmented/image0321.jpg  \n",
            "  inflating: /datasets/detrac/train-dataset-augmented/image0447.jpg  \n",
            "  inflating: /datasets/detrac/train-dataset-augmented/image0237.txt  \n",
            "  inflating: /datasets/detrac/train-dataset-augmented/image0223.txt  \n",
            "  inflating: /datasets/detrac/train-dataset-augmented/image0137.jpg  \n",
            "  inflating: /datasets/detrac/train-dataset-augmented/image0123.jpg  \n",
            "  inflating: /datasets/detrac/train-dataset-augmented/image0380.txt  \n",
            "  inflating: /datasets/detrac/train-dataset-augmented/image0394.txt  \n",
            "  inflating: /datasets/detrac/train-dataset-augmented/image0080.jpg  \n",
            "  inflating: /datasets/detrac/train-dataset-augmented/image0094.jpg  \n",
            "  inflating: /datasets/detrac/train-dataset-augmented/image0343.txt  \n",
            "  inflating: /datasets/detrac/train-dataset-augmented/image0425.txt  \n",
            "  inflating: /datasets/detrac/train-dataset-augmented/image0431.txt  \n",
            "  inflating: /datasets/detrac/train-dataset-augmented/image0357.txt  \n",
            "  inflating: /datasets/detrac/train-dataset-augmented/image0043.jpg  \n",
            "  inflating: /datasets/detrac/train-dataset-augmented/image0419.txt  \n",
            "  inflating: /datasets/detrac/train-dataset-augmented/image0057.jpg  \n",
            "  inflating: /datasets/detrac/train-dataset-augmented/image0182.txt  \n",
            "  inflating: /datasets/detrac/train-dataset-augmented/image0196.txt  \n",
            "  inflating: /datasets/detrac/train-dataset-augmented/image0282.jpg  \n",
            "  inflating: /datasets/detrac/train-dataset-augmented/image0296.jpg  \n",
            "  inflating: /datasets/detrac/train-dataset-augmented/image0141.txt  \n",
            "  inflating: /datasets/detrac/train-dataset-augmented/image0269.jpg  \n",
            "  inflating: /datasets/detrac/train-dataset-augmented/image0155.txt  \n",
            "  inflating: /datasets/detrac/train-dataset-augmented/image0241.jpg  \n",
            "  inflating: /datasets/detrac/train-dataset-augmented/image0169.txt  \n",
            "  inflating: /datasets/detrac/train-dataset-augmented/image0255.jpg  \n",
            "  inflating: /datasets/detrac/train-dataset-augmented/image0254.jpg  \n",
            "  inflating: /datasets/detrac/train-dataset-augmented/image0168.txt  \n",
            "  inflating: /datasets/detrac/train-dataset-augmented/image0240.jpg  \n",
            "  inflating: /datasets/detrac/train-dataset-augmented/image0154.txt  \n",
            "  inflating: /datasets/detrac/train-dataset-augmented/image0268.jpg  \n",
            "  inflating: /datasets/detrac/train-dataset-augmented/image0140.txt  \n",
            "  inflating: /datasets/detrac/train-dataset-augmented/image0297.jpg  \n",
            "  inflating: /datasets/detrac/train-dataset-augmented/image0283.jpg  \n",
            "  inflating: /datasets/detrac/train-dataset-augmented/image0197.txt  \n",
            "  inflating: /datasets/detrac/train-dataset-augmented/image0183.txt  \n",
            "  inflating: /datasets/detrac/train-dataset-augmented/image0056.jpg  \n",
            "  inflating: /datasets/detrac/train-dataset-augmented/image0042.jpg  \n",
            "  inflating: /datasets/detrac/train-dataset-augmented/image0418.txt  \n",
            "  inflating: /datasets/detrac/train-dataset-augmented/image0430.txt  \n",
            "  inflating: /datasets/detrac/train-dataset-augmented/image0356.txt  \n",
            "  inflating: /datasets/detrac/train-dataset-augmented/image0342.txt  \n",
            "  inflating: /datasets/detrac/train-dataset-augmented/image0424.txt  \n",
            "  inflating: /datasets/detrac/train-dataset-augmented/image0095.jpg  \n",
            "  inflating: /datasets/detrac/train-dataset-augmented/image0081.jpg  \n",
            "  inflating: /datasets/detrac/train-dataset-augmented/image0395.txt  \n",
            "  inflating: /datasets/detrac/train-dataset-augmented/image0381.txt  \n",
            "  inflating: /datasets/detrac/train-dataset-augmented/image0122.jpg  \n",
            "  inflating: /datasets/detrac/train-dataset-augmented/image0136.jpg  \n",
            "  inflating: /datasets/detrac/train-dataset-augmented/image0222.txt  \n",
            "  inflating: /datasets/detrac/train-dataset-augmented/image0236.txt  \n",
            "  inflating: /datasets/detrac/train-dataset-augmented/image0320.jpg  \n",
            "  inflating: /datasets/detrac/train-dataset-augmented/image0446.jpg  \n",
            "  inflating: /datasets/detrac/train-dataset-augmented/image0452.jpg  \n",
            "  inflating: /datasets/detrac/train-dataset-augmented/image0008.txt  \n",
            "  inflating: /datasets/detrac/train-dataset-augmented/image0334.jpg  \n",
            "  inflating: /datasets/detrac/train-dataset-augmented/image0020.txt  \n",
            "  inflating: /datasets/detrac/train-dataset-augmented/image0308.jpg  \n",
            "  inflating: /datasets/detrac/train-dataset-augmented/image0034.txt  \n",
            "  inflating: /datasets/detrac/train-dataset-augmented/image0485.jpg  \n",
            "  inflating: /datasets/detrac/train-dataset-augmented/image0491.jpg  \n",
            "  inflating: /datasets/detrac/train-dataset-augmented/image0487.jpg  \n",
            "  inflating: /datasets/detrac/train-dataset-augmented/image0493.jpg  \n",
            "  inflating: /datasets/detrac/train-dataset-augmented/image0478.jpg  \n",
            "  inflating: /datasets/detrac/train-dataset-augmented/image0022.txt  \n",
            "  inflating: /datasets/detrac/train-dataset-augmented/image0036.txt  \n",
            "  inflating: /datasets/detrac/train-dataset-augmented/image0444.jpg  \n",
            "  inflating: /datasets/detrac/train-dataset-augmented/image0322.jpg  \n",
            "  inflating: /datasets/detrac/train-dataset-augmented/image0336.jpg  \n",
            "  inflating: /datasets/detrac/train-dataset-augmented/image0450.jpg  \n",
            "  inflating: /datasets/detrac/train-dataset-augmented/image0220.txt  \n",
            "  inflating: /datasets/detrac/train-dataset-augmented/image0108.jpg  \n",
            "  inflating: /datasets/detrac/train-dataset-augmented/image0234.txt  \n",
            "  inflating: /datasets/detrac/train-dataset-augmented/image0120.jpg  \n",
            "  inflating: /datasets/detrac/train-dataset-augmented/image0208.txt  \n",
            "  inflating: /datasets/detrac/train-dataset-augmented/image0134.jpg  \n",
            "  inflating: /datasets/detrac/train-dataset-augmented/image0397.txt  \n",
            "  inflating: /datasets/detrac/train-dataset-augmented/image0383.txt  \n",
            "  inflating: /datasets/detrac/train-dataset-augmented/image0097.jpg  \n",
            "  inflating: /datasets/detrac/train-dataset-augmented/image0083.jpg  \n",
            "  inflating: /datasets/detrac/train-dataset-augmented/image0354.txt  \n",
            "  inflating: /datasets/detrac/train-dataset-augmented/image0068.jpg  \n",
            "  inflating: /datasets/detrac/train-dataset-augmented/image0432.txt  \n",
            "  inflating: /datasets/detrac/train-dataset-augmented/image0426.txt  \n",
            "  inflating: /datasets/detrac/train-dataset-augmented/image0340.txt  \n",
            "  inflating: /datasets/detrac/train-dataset-augmented/image0054.jpg  \n",
            "  inflating: /datasets/detrac/train-dataset-augmented/image0368.txt  \n",
            "  inflating: /datasets/detrac/train-dataset-augmented/image0040.jpg  \n",
            "  inflating: /datasets/detrac/train-dataset-augmented/image0195.txt  \n",
            "  inflating: /datasets/detrac/train-dataset-augmented/image0181.txt  \n",
            "  inflating: /datasets/detrac/train-dataset-augmented/image0295.jpg  \n",
            "  inflating: /datasets/detrac/train-dataset-augmented/image0281.jpg  \n",
            "  inflating: /datasets/detrac/train-dataset-augmented/image0156.txt  \n",
            "  inflating: /datasets/detrac/train-dataset-augmented/image0142.txt  \n",
            "  inflating: /datasets/detrac/train-dataset-augmented/image0256.jpg  \n",
            "  inflating: /datasets/detrac/train-dataset-augmented/image0242.jpg  \n",
            "  inflating: /datasets/detrac/train-dataset-augmented/image0243.jpg  \n",
            "  inflating: /datasets/detrac/train-dataset-augmented/image0257.jpg  \n",
            "  inflating: /datasets/detrac/train-dataset-augmented/image0143.txt  \n",
            "  inflating: /datasets/detrac/train-dataset-augmented/image0157.txt  \n",
            "  inflating: /datasets/detrac/train-dataset-augmented/image0280.jpg  \n",
            "  inflating: /datasets/detrac/train-dataset-augmented/image0294.jpg  \n",
            "  inflating: /datasets/detrac/train-dataset-augmented/image0180.txt  \n",
            "  inflating: /datasets/detrac/train-dataset-augmented/image0194.txt  \n",
            "  inflating: /datasets/detrac/train-dataset-augmented/image0041.jpg  \n",
            "  inflating: /datasets/detrac/train-dataset-augmented/image0369.txt  \n",
            "  inflating: /datasets/detrac/train-dataset-augmented/image0055.jpg  \n",
            "  inflating: /datasets/detrac/train-dataset-augmented/image0427.txt  \n",
            "  inflating: /datasets/detrac/train-dataset-augmented/image0341.txt  \n",
            "  inflating: /datasets/detrac/train-dataset-augmented/image0069.jpg  \n",
            "  inflating: /datasets/detrac/train-dataset-augmented/image0355.txt  \n",
            "  inflating: /datasets/detrac/train-dataset-augmented/image0433.txt  \n",
            "  inflating: /datasets/detrac/train-dataset-augmented/image0082.jpg  \n",
            "  inflating: /datasets/detrac/train-dataset-augmented/image0096.jpg  \n",
            "  inflating: /datasets/detrac/train-dataset-augmented/image0382.txt  \n",
            "  inflating: /datasets/detrac/train-dataset-augmented/image0396.txt  \n",
            "  inflating: /datasets/detrac/train-dataset-augmented/image0135.jpg  \n",
            "  inflating: /datasets/detrac/train-dataset-augmented/image0209.txt  \n",
            "  inflating: /datasets/detrac/train-dataset-augmented/image0121.jpg  \n",
            "  inflating: /datasets/detrac/train-dataset-augmented/image0235.txt  \n",
            "  inflating: /datasets/detrac/train-dataset-augmented/image0109.jpg  \n",
            "  inflating: /datasets/detrac/train-dataset-augmented/image0221.txt  \n",
            "  inflating: /datasets/detrac/train-dataset-augmented/image0337.jpg  \n",
            "  inflating: /datasets/detrac/train-dataset-augmented/image0451.jpg  \n",
            "  inflating: /datasets/detrac/train-dataset-augmented/image0445.jpg  \n",
            "  inflating: /datasets/detrac/train-dataset-augmented/image0323.jpg  \n",
            "  inflating: /datasets/detrac/train-dataset-augmented/image0037.txt  \n",
            "  inflating: /datasets/detrac/train-dataset-augmented/image0479.jpg  \n",
            "  inflating: /datasets/detrac/train-dataset-augmented/image0023.txt  \n",
            "  inflating: /datasets/detrac/train-dataset-augmented/image0492.jpg  \n",
            "  inflating: /datasets/detrac/train-dataset-augmented/image0486.jpg  \n",
            "   creating: /datasets/detrac/validation-dataset-augmented/\n",
            "  inflating: /datasets/detrac/validation-dataset-augmented/image0006.txt  \n",
            "  inflating: /datasets/detrac/validation-dataset-augmented/image0012.txt  \n",
            "  inflating: /datasets/detrac/validation-dataset-augmented/image0070.jpg  \n",
            "  inflating: /datasets/detrac/validation-dataset-augmented/image0064.jpg  \n",
            "  inflating: /datasets/detrac/validation-dataset-augmented/image0058.jpg  \n",
            "  inflating: /datasets/detrac/validation-dataset-augmented/image0059.jpg  \n",
            "  inflating: /datasets/detrac/validation-dataset-augmented/image0065.jpg  \n",
            "  inflating: /datasets/detrac/validation-dataset-augmented/image0071.jpg  \n",
            "  inflating: /datasets/detrac/validation-dataset-augmented/image0013.txt  \n",
            "  inflating: /datasets/detrac/validation-dataset-augmented/image0007.txt  \n",
            "  inflating: /datasets/detrac/validation-dataset-augmented/image0039.txt  \n",
            "  inflating: /datasets/detrac/validation-dataset-augmented/image0011.txt  \n",
            "  inflating: /datasets/detrac/validation-dataset-augmented/image0005.txt  \n",
            "  inflating: /datasets/detrac/validation-dataset-augmented/image0098.jpg  \n",
            "  inflating: /datasets/detrac/validation-dataset-augmented/image0067.jpg  \n",
            "  inflating: /datasets/detrac/validation-dataset-augmented/image0073.jpg  \n",
            "  inflating: /datasets/detrac/validation-dataset-augmented/image0072.jpg  \n",
            "  inflating: /datasets/detrac/validation-dataset-augmented/image0066.jpg  \n",
            "  inflating: /datasets/detrac/validation-dataset-augmented/image0099.jpg  \n",
            "  inflating: /datasets/detrac/validation-dataset-augmented/image0004.txt  \n",
            "  inflating: /datasets/detrac/validation-dataset-augmented/image0010.txt  \n",
            "  inflating: /datasets/detrac/validation-dataset-augmented/image0038.txt  \n",
            "  inflating: /datasets/detrac/validation-dataset-augmented/image0014.txt  \n",
            "  inflating: /datasets/detrac/validation-dataset-augmented/image0028.txt  \n",
            "  inflating: /datasets/detrac/validation-dataset-augmented/image0089.jpg  \n",
            "  inflating: /datasets/detrac/validation-dataset-augmented/image0062.jpg  \n",
            "  inflating: /datasets/detrac/validation-dataset-augmented/image0076.jpg  \n",
            "  inflating: /datasets/detrac/validation-dataset-augmented/image0077.jpg  \n",
            "  inflating: /datasets/detrac/validation-dataset-augmented/image0063.jpg  \n",
            "  inflating: /datasets/detrac/validation-dataset-augmented/image0088.jpg  \n",
            "  inflating: /datasets/detrac/validation-dataset-augmented/image0029.txt  \n",
            "  inflating: /datasets/detrac/validation-dataset-augmented/image0001.txt  \n",
            "  inflating: /datasets/detrac/validation-dataset-augmented/image0015.txt  \n",
            "  inflating: /datasets/detrac/validation-dataset-augmented/image0003.txt  \n",
            "  inflating: /datasets/detrac/validation-dataset-augmented/image0017.txt  \n",
            "  inflating: /datasets/detrac/validation-dataset-augmented/image0049.jpg  \n",
            "  inflating: /datasets/detrac/validation-dataset-augmented/image0075.jpg  \n",
            "  inflating: /datasets/detrac/validation-dataset-augmented/image0061.jpg  \n",
            "  inflating: /datasets/detrac/validation-dataset-augmented/image0060.jpg  \n",
            "  inflating: /datasets/detrac/validation-dataset-augmented/image0074.jpg  \n",
            "  inflating: /datasets/detrac/validation-dataset-augmented/image0048.jpg  \n",
            "  inflating: /datasets/detrac/validation-dataset-augmented/image0016.txt  \n",
            "  inflating: /datasets/detrac/validation-dataset-augmented/image0002.txt  \n",
            "  inflating: /datasets/detrac/validation-dataset-augmented/image0059.txt  \n",
            "  inflating: /datasets/detrac/validation-dataset-augmented/image0065.txt  \n",
            "  inflating: /datasets/detrac/validation-dataset-augmented/image0071.txt  \n",
            "  inflating: /datasets/detrac/validation-dataset-augmented/image0013.jpg  \n",
            "  inflating: /datasets/detrac/validation-dataset-augmented/image0007.jpg  \n",
            "  inflating: /datasets/detrac/validation-dataset-augmented/image0006.jpg  \n",
            "  inflating: /datasets/detrac/validation-dataset-augmented/image0012.jpg  \n",
            "  inflating: /datasets/detrac/validation-dataset-augmented/image0070.txt  \n",
            "  inflating: /datasets/detrac/validation-dataset-augmented/image0064.txt  \n",
            "  inflating: /datasets/detrac/validation-dataset-augmented/image0058.txt  \n",
            "  inflating: /datasets/detrac/validation-dataset-augmented/image0099.txt  \n",
            "  inflating: /datasets/detrac/validation-dataset-augmented/image0072.txt  \n",
            "  inflating: /datasets/detrac/validation-dataset-augmented/image0066.txt  \n",
            "  inflating: /datasets/detrac/validation-dataset-augmented/image0004.jpg  \n",
            "  inflating: /datasets/detrac/validation-dataset-augmented/image0010.jpg  \n",
            "  inflating: /datasets/detrac/validation-dataset-augmented/image0038.jpg  \n",
            "  inflating: /datasets/detrac/validation-dataset-augmented/image0039.jpg  \n",
            "  inflating: /datasets/detrac/validation-dataset-augmented/image0011.jpg  \n",
            "  inflating: /datasets/detrac/validation-dataset-augmented/image0005.jpg  \n",
            "  inflating: /datasets/detrac/validation-dataset-augmented/image0067.txt  \n",
            "  inflating: /datasets/detrac/validation-dataset-augmented/image0073.txt  \n",
            "  inflating: /datasets/detrac/validation-dataset-augmented/image0098.txt  \n",
            "  inflating: /datasets/detrac/validation-dataset-augmented/image0088.txt  \n",
            "  inflating: /datasets/detrac/validation-dataset-augmented/image0077.txt  \n",
            "  inflating: /datasets/detrac/validation-dataset-augmented/image0063.txt  \n",
            "  inflating: /datasets/detrac/validation-dataset-augmented/image0029.jpg  \n",
            "  inflating: /datasets/detrac/validation-dataset-augmented/image0001.jpg  \n",
            "  inflating: /datasets/detrac/validation-dataset-augmented/image0015.jpg  \n",
            "  inflating: /datasets/detrac/validation-dataset-augmented/image0014.jpg  \n",
            "  inflating: /datasets/detrac/validation-dataset-augmented/image0028.jpg  \n",
            "  inflating: /datasets/detrac/validation-dataset-augmented/image0062.txt  \n",
            "  inflating: /datasets/detrac/validation-dataset-augmented/image0076.txt  \n",
            "  inflating: /datasets/detrac/validation-dataset-augmented/image0089.txt  \n",
            "  inflating: /datasets/detrac/validation-dataset-augmented/image0060.txt  \n",
            "  inflating: /datasets/detrac/validation-dataset-augmented/image0074.txt  \n",
            "  inflating: /datasets/detrac/validation-dataset-augmented/image0048.txt  \n",
            "  inflating: /datasets/detrac/validation-dataset-augmented/image0016.jpg  \n",
            "  inflating: /datasets/detrac/validation-dataset-augmented/image0002.jpg  \n",
            "  inflating: /datasets/detrac/validation-dataset-augmented/image0003.jpg  \n",
            "  inflating: /datasets/detrac/validation-dataset-augmented/image0017.jpg  \n",
            "  inflating: /datasets/detrac/validation-dataset-augmented/image0049.txt  \n",
            "  inflating: /datasets/detrac/validation-dataset-augmented/image0075.txt  \n",
            "  inflating: /datasets/detrac/validation-dataset-augmented/image0061.txt  \n",
            "  inflating: /datasets/detrac/validation-dataset-augmented/image0087.txt  \n",
            "  inflating: /datasets/detrac/validation-dataset-augmented/image0093.txt  \n",
            "  inflating: /datasets/detrac/validation-dataset-augmented/image0078.txt  \n",
            "  inflating: /datasets/detrac/validation-dataset-augmented/image0044.txt  \n",
            "  inflating: /datasets/detrac/validation-dataset-augmented/image0050.txt  \n",
            "  inflating: /datasets/detrac/validation-dataset-augmented/image0032.jpg  \n",
            "  inflating: /datasets/detrac/validation-dataset-augmented/image0026.jpg  \n",
            "  inflating: /datasets/detrac/validation-dataset-augmented/image0027.jpg  \n",
            "  inflating: /datasets/detrac/validation-dataset-augmented/image0033.jpg  \n",
            "  inflating: /datasets/detrac/validation-dataset-augmented/image0051.txt  \n",
            "  inflating: /datasets/detrac/validation-dataset-augmented/image0045.txt  \n",
            "  inflating: /datasets/detrac/validation-dataset-augmented/image0079.txt  \n",
            "  inflating: /datasets/detrac/validation-dataset-augmented/image0092.txt  \n",
            "  inflating: /datasets/detrac/validation-dataset-augmented/image0086.txt  \n",
            "  inflating: /datasets/detrac/validation-dataset-augmented/image0090.txt  \n",
            "  inflating: /datasets/detrac/validation-dataset-augmented/image0084.txt  \n",
            "  inflating: /datasets/detrac/validation-dataset-augmented/image0053.txt  \n",
            "  inflating: /datasets/detrac/validation-dataset-augmented/image0047.txt  \n",
            "  inflating: /datasets/detrac/validation-dataset-augmented/image0025.jpg  \n",
            "  inflating: /datasets/detrac/validation-dataset-augmented/image0031.jpg  \n",
            "  inflating: /datasets/detrac/validation-dataset-augmented/image0019.jpg  \n",
            "  inflating: /datasets/detrac/validation-dataset-augmented/image0018.jpg  \n",
            "  inflating: /datasets/detrac/validation-dataset-augmented/image0030.jpg  \n",
            "  inflating: /datasets/detrac/validation-dataset-augmented/image0024.jpg  \n",
            "  inflating: /datasets/detrac/validation-dataset-augmented/image0046.txt  \n",
            "  inflating: /datasets/detrac/validation-dataset-augmented/image0052.txt  \n",
            "  inflating: /datasets/detrac/validation-dataset-augmented/image0085.txt  \n",
            "  inflating: /datasets/detrac/validation-dataset-augmented/image0091.txt  \n",
            "  inflating: /datasets/detrac/validation-dataset-augmented/image0095.txt  \n",
            "  inflating: /datasets/detrac/validation-dataset-augmented/image0081.txt  \n",
            "  inflating: /datasets/detrac/validation-dataset-augmented/image0056.txt  \n",
            "  inflating: /datasets/detrac/validation-dataset-augmented/image0042.txt  \n",
            "  inflating: /datasets/detrac/validation-dataset-augmented/image0008.jpg  \n",
            "  inflating: /datasets/detrac/validation-dataset-augmented/image0020.jpg  \n",
            "  inflating: /datasets/detrac/validation-dataset-augmented/image0034.jpg  \n",
            "  inflating: /datasets/detrac/validation-dataset-augmented/image0035.jpg  \n",
            "  inflating: /datasets/detrac/validation-dataset-augmented/image0021.jpg  \n",
            "  inflating: /datasets/detrac/validation-dataset-augmented/image0009.jpg  \n",
            "  inflating: /datasets/detrac/validation-dataset-augmented/image0043.txt  \n",
            "  inflating: /datasets/detrac/validation-dataset-augmented/image0057.txt  \n",
            "  inflating: /datasets/detrac/validation-dataset-augmented/image0080.txt  \n",
            "  inflating: /datasets/detrac/validation-dataset-augmented/image0094.txt  \n",
            "  inflating: /datasets/detrac/validation-dataset-augmented/image0082.txt  \n",
            "  inflating: /datasets/detrac/validation-dataset-augmented/image0096.txt  \n",
            "  inflating: /datasets/detrac/validation-dataset-augmented/image0041.txt  \n",
            "  inflating: /datasets/detrac/validation-dataset-augmented/image0055.txt  \n",
            "  inflating: /datasets/detrac/validation-dataset-augmented/image0069.txt  \n",
            "  inflating: /datasets/detrac/validation-dataset-augmented/image0037.jpg  \n",
            "  inflating: /datasets/detrac/validation-dataset-augmented/image0023.jpg  \n",
            "  inflating: /datasets/detrac/validation-dataset-augmented/image0022.jpg  \n",
            "  inflating: /datasets/detrac/validation-dataset-augmented/image0036.jpg  \n",
            "  inflating: /datasets/detrac/validation-dataset-augmented/image0068.txt  \n",
            "  inflating: /datasets/detrac/validation-dataset-augmented/image0054.txt  \n",
            "  inflating: /datasets/detrac/validation-dataset-augmented/image0040.txt  \n",
            "  inflating: /datasets/detrac/validation-dataset-augmented/image0097.txt  \n",
            "  inflating: /datasets/detrac/validation-dataset-augmented/image0083.txt  \n",
            "  inflating: /datasets/detrac/validation-dataset-augmented/image0027.txt  \n",
            "  inflating: /datasets/detrac/validation-dataset-augmented/image0033.txt  \n",
            "  inflating: /datasets/detrac/validation-dataset-augmented/image0092.jpg  \n",
            "  inflating: /datasets/detrac/validation-dataset-augmented/image0086.jpg  \n",
            "  inflating: /datasets/detrac/validation-dataset-augmented/image0051.jpg  \n",
            "  inflating: /datasets/detrac/validation-dataset-augmented/image0045.jpg  \n",
            "  inflating: /datasets/detrac/validation-dataset-augmented/image0079.jpg  \n",
            "  inflating: /datasets/detrac/validation-dataset-augmented/image0078.jpg  \n",
            "  inflating: /datasets/detrac/validation-dataset-augmented/image0044.jpg  \n",
            "  inflating: /datasets/detrac/validation-dataset-augmented/image0050.jpg  \n",
            "  inflating: /datasets/detrac/validation-dataset-augmented/image0087.jpg  \n",
            "  inflating: /datasets/detrac/validation-dataset-augmented/image0093.jpg  \n",
            "  inflating: /datasets/detrac/validation-dataset-augmented/image0032.txt  \n",
            "  inflating: /datasets/detrac/validation-dataset-augmented/image0026.txt  \n",
            "  inflating: /datasets/detrac/validation-dataset-augmented/image0018.txt  \n",
            "  inflating: /datasets/detrac/validation-dataset-augmented/image0030.txt  \n",
            "  inflating: /datasets/detrac/validation-dataset-augmented/image0024.txt  \n",
            "  inflating: /datasets/detrac/validation-dataset-augmented/image0085.jpg  \n",
            "  inflating: /datasets/detrac/validation-dataset-augmented/image0091.jpg  \n",
            "  inflating: /datasets/detrac/validation-dataset-augmented/image0046.jpg  \n",
            "  inflating: /datasets/detrac/validation-dataset-augmented/image0052.jpg  \n",
            "  inflating: /datasets/detrac/validation-dataset-augmented/image0053.jpg  \n",
            "  inflating: /datasets/detrac/validation-dataset-augmented/image0047.jpg  \n",
            "  inflating: /datasets/detrac/validation-dataset-augmented/image0090.jpg  \n",
            "  inflating: /datasets/detrac/validation-dataset-augmented/image0084.jpg  \n",
            "  inflating: /datasets/detrac/validation-dataset-augmented/image0025.txt  \n",
            "  inflating: /datasets/detrac/validation-dataset-augmented/image0031.txt  \n",
            "  inflating: /datasets/detrac/validation-dataset-augmented/image0019.txt  \n",
            "  inflating: /datasets/detrac/validation-dataset-augmented/image0035.txt  \n",
            "  inflating: /datasets/detrac/validation-dataset-augmented/image0021.txt  \n",
            "  inflating: /datasets/detrac/validation-dataset-augmented/image0009.txt  \n",
            "  inflating: /datasets/detrac/validation-dataset-augmented/image0080.jpg  \n",
            "  inflating: /datasets/detrac/validation-dataset-augmented/image0094.jpg  \n",
            "  inflating: /datasets/detrac/validation-dataset-augmented/image0043.jpg  \n",
            "  inflating: /datasets/detrac/validation-dataset-augmented/image0057.jpg  \n",
            "  inflating: /datasets/detrac/validation-dataset-augmented/image0056.jpg  \n",
            "  inflating: /datasets/detrac/validation-dataset-augmented/image0042.jpg  \n",
            "  inflating: /datasets/detrac/validation-dataset-augmented/image0095.jpg  \n",
            "  inflating: /datasets/detrac/validation-dataset-augmented/image0081.jpg  \n",
            "  inflating: /datasets/detrac/validation-dataset-augmented/image0008.txt  \n",
            "  inflating: /datasets/detrac/validation-dataset-augmented/image0020.txt  \n",
            "  inflating: /datasets/detrac/validation-dataset-augmented/image0034.txt  \n",
            "  inflating: /datasets/detrac/validation-dataset-augmented/image0022.txt  \n",
            "  inflating: /datasets/detrac/validation-dataset-augmented/image0036.txt  \n",
            "  inflating: /datasets/detrac/validation-dataset-augmented/image0097.jpg  \n",
            "  inflating: /datasets/detrac/validation-dataset-augmented/image0083.jpg  \n",
            "  inflating: /datasets/detrac/validation-dataset-augmented/image0068.jpg  \n",
            "  inflating: /datasets/detrac/validation-dataset-augmented/image0054.jpg  \n",
            "  inflating: /datasets/detrac/validation-dataset-augmented/image0040.jpg  \n",
            "  inflating: /datasets/detrac/validation-dataset-augmented/image0041.jpg  \n",
            "  inflating: /datasets/detrac/validation-dataset-augmented/image0055.jpg  \n",
            "  inflating: /datasets/detrac/validation-dataset-augmented/image0069.jpg  \n",
            "  inflating: /datasets/detrac/validation-dataset-augmented/image0082.jpg  \n",
            "  inflating: /datasets/detrac/validation-dataset-augmented/image0096.jpg  \n",
            "  inflating: /datasets/detrac/validation-dataset-augmented/image0037.txt  \n",
            "  inflating: /datasets/detrac/validation-dataset-augmented/image0023.txt  \n",
            "  inflating: /datasets/detrac/detrac-train-dataset-colab.yml  \n",
            "total 8.5K\n",
            "-rw------- 1 root root  147 Dec 22 14:42 detrac-train-dataset-colab.yml\n",
            "drwx------ 2 root root 4.0K Dec 22 14:43 train-dataset-augmented\n",
            "drwx------ 2 root root 4.0K Dec 22 14:44 validation-dataset-augmented\n"
          ]
        }
      ]
    },
    {
      "cell_type": "code",
      "source": [
        "!pip install ultralytics"
      ],
      "metadata": {
        "colab": {
          "base_uri": "https://localhost:8080/"
        },
        "id": "xw19KzSmN_JP",
        "outputId": "4bf741ed-4026-4fe5-af1f-29ef72911d85"
      },
      "id": "xw19KzSmN_JP",
      "execution_count": 3,
      "outputs": [
        {
          "output_type": "stream",
          "name": "stdout",
          "text": [
            "Collecting ultralytics\n",
            "  Downloading ultralytics-8.0.229-py3-none-any.whl (663 kB)\n",
            "\u001b[2K     \u001b[90m━━━━━━━━━━━━━━━━━━━━━━━━━━━━━━━━━━━━━━━━\u001b[0m \u001b[32m663.2/663.2 kB\u001b[0m \u001b[31m3.9 MB/s\u001b[0m eta \u001b[36m0:00:00\u001b[0m\n",
            "\u001b[?25hRequirement already satisfied: matplotlib>=3.3.0 in /usr/local/lib/python3.10/dist-packages (from ultralytics) (3.7.1)\n",
            "Requirement already satisfied: numpy>=1.22.2 in /usr/local/lib/python3.10/dist-packages (from ultralytics) (1.23.5)\n",
            "Requirement already satisfied: opencv-python>=4.6.0 in /usr/local/lib/python3.10/dist-packages (from ultralytics) (4.8.0.76)\n",
            "Requirement already satisfied: pillow>=7.1.2 in /usr/local/lib/python3.10/dist-packages (from ultralytics) (9.4.0)\n",
            "Requirement already satisfied: pyyaml>=5.3.1 in /usr/local/lib/python3.10/dist-packages (from ultralytics) (6.0.1)\n",
            "Requirement already satisfied: requests>=2.23.0 in /usr/local/lib/python3.10/dist-packages (from ultralytics) (2.31.0)\n",
            "Requirement already satisfied: scipy>=1.4.1 in /usr/local/lib/python3.10/dist-packages (from ultralytics) (1.11.4)\n",
            "Requirement already satisfied: torch>=1.8.0 in /usr/local/lib/python3.10/dist-packages (from ultralytics) (2.1.0+cu121)\n",
            "Requirement already satisfied: torchvision>=0.9.0 in /usr/local/lib/python3.10/dist-packages (from ultralytics) (0.16.0+cu121)\n",
            "Requirement already satisfied: tqdm>=4.64.0 in /usr/local/lib/python3.10/dist-packages (from ultralytics) (4.66.1)\n",
            "Requirement already satisfied: pandas>=1.1.4 in /usr/local/lib/python3.10/dist-packages (from ultralytics) (1.5.3)\n",
            "Requirement already satisfied: seaborn>=0.11.0 in /usr/local/lib/python3.10/dist-packages (from ultralytics) (0.12.2)\n",
            "Requirement already satisfied: psutil in /usr/local/lib/python3.10/dist-packages (from ultralytics) (5.9.5)\n",
            "Requirement already satisfied: py-cpuinfo in /usr/local/lib/python3.10/dist-packages (from ultralytics) (9.0.0)\n",
            "Collecting thop>=0.1.1 (from ultralytics)\n",
            "  Downloading thop-0.1.1.post2209072238-py3-none-any.whl (15 kB)\n",
            "Requirement already satisfied: contourpy>=1.0.1 in /usr/local/lib/python3.10/dist-packages (from matplotlib>=3.3.0->ultralytics) (1.2.0)\n",
            "Requirement already satisfied: cycler>=0.10 in /usr/local/lib/python3.10/dist-packages (from matplotlib>=3.3.0->ultralytics) (0.12.1)\n",
            "Requirement already satisfied: fonttools>=4.22.0 in /usr/local/lib/python3.10/dist-packages (from matplotlib>=3.3.0->ultralytics) (4.46.0)\n",
            "Requirement already satisfied: kiwisolver>=1.0.1 in /usr/local/lib/python3.10/dist-packages (from matplotlib>=3.3.0->ultralytics) (1.4.5)\n",
            "Requirement already satisfied: packaging>=20.0 in /usr/local/lib/python3.10/dist-packages (from matplotlib>=3.3.0->ultralytics) (23.2)\n",
            "Requirement already satisfied: pyparsing>=2.3.1 in /usr/local/lib/python3.10/dist-packages (from matplotlib>=3.3.0->ultralytics) (3.1.1)\n",
            "Requirement already satisfied: python-dateutil>=2.7 in /usr/local/lib/python3.10/dist-packages (from matplotlib>=3.3.0->ultralytics) (2.8.2)\n",
            "Requirement already satisfied: pytz>=2020.1 in /usr/local/lib/python3.10/dist-packages (from pandas>=1.1.4->ultralytics) (2023.3.post1)\n",
            "Requirement already satisfied: charset-normalizer<4,>=2 in /usr/local/lib/python3.10/dist-packages (from requests>=2.23.0->ultralytics) (3.3.2)\n",
            "Requirement already satisfied: idna<4,>=2.5 in /usr/local/lib/python3.10/dist-packages (from requests>=2.23.0->ultralytics) (3.6)\n",
            "Requirement already satisfied: urllib3<3,>=1.21.1 in /usr/local/lib/python3.10/dist-packages (from requests>=2.23.0->ultralytics) (2.0.7)\n",
            "Requirement already satisfied: certifi>=2017.4.17 in /usr/local/lib/python3.10/dist-packages (from requests>=2.23.0->ultralytics) (2023.11.17)\n",
            "Requirement already satisfied: filelock in /usr/local/lib/python3.10/dist-packages (from torch>=1.8.0->ultralytics) (3.13.1)\n",
            "Requirement already satisfied: typing-extensions in /usr/local/lib/python3.10/dist-packages (from torch>=1.8.0->ultralytics) (4.5.0)\n",
            "Requirement already satisfied: sympy in /usr/local/lib/python3.10/dist-packages (from torch>=1.8.0->ultralytics) (1.12)\n",
            "Requirement already satisfied: networkx in /usr/local/lib/python3.10/dist-packages (from torch>=1.8.0->ultralytics) (3.2.1)\n",
            "Requirement already satisfied: jinja2 in /usr/local/lib/python3.10/dist-packages (from torch>=1.8.0->ultralytics) (3.1.2)\n",
            "Requirement already satisfied: fsspec in /usr/local/lib/python3.10/dist-packages (from torch>=1.8.0->ultralytics) (2023.6.0)\n",
            "Requirement already satisfied: triton==2.1.0 in /usr/local/lib/python3.10/dist-packages (from torch>=1.8.0->ultralytics) (2.1.0)\n",
            "Requirement already satisfied: six>=1.5 in /usr/local/lib/python3.10/dist-packages (from python-dateutil>=2.7->matplotlib>=3.3.0->ultralytics) (1.16.0)\n",
            "Requirement already satisfied: MarkupSafe>=2.0 in /usr/local/lib/python3.10/dist-packages (from jinja2->torch>=1.8.0->ultralytics) (2.1.3)\n",
            "Requirement already satisfied: mpmath>=0.19 in /usr/local/lib/python3.10/dist-packages (from sympy->torch>=1.8.0->ultralytics) (1.3.0)\n",
            "Installing collected packages: thop, ultralytics\n",
            "Successfully installed thop-0.1.1.post2209072238 ultralytics-8.0.229\n"
          ]
        }
      ]
    },
    {
      "cell_type": "code",
      "source": [
        "from ultralytics import YOLO\n",
        "\n",
        "print(\"training scenario2\")\n",
        "# the yaml describes the config of the yolo model (which backbone to use, ...), the pt are the pretrained weights\n",
        "model = YOLO(\"yolov8.yaml\").load(\"yolov8n.pt\")\n",
        "# the data yaml describes training and validation datasets\n",
        "results = model.train(data=\"/datasets/detrac/detrac-train-dataset-colab.yml\", epochs=100, imgsz=640, verbose=True, plots=True)\n",
        "print(results)\n"
      ],
      "metadata": {
        "colab": {
          "base_uri": "https://localhost:8080/"
        },
        "id": "u70LrNtNOEOr",
        "outputId": "2b8d4b6a-db83-4327-cc4a-0ca59e9e43b9"
      },
      "id": "u70LrNtNOEOr",
      "execution_count": 4,
      "outputs": [
        {
          "output_type": "stream",
          "name": "stdout",
          "text": [
            "training scenario2\n",
            "WARNING ⚠️ no model scale passed. Assuming scale='n'.\n",
            "\n",
            "                   from  n    params  module                                       arguments                     \n",
            "  0                  -1  1       464  ultralytics.nn.modules.conv.Conv             [3, 16, 3, 2]                 \n",
            "  1                  -1  1      4672  ultralytics.nn.modules.conv.Conv             [16, 32, 3, 2]                \n",
            "  2                  -1  1      7360  ultralytics.nn.modules.block.C2f             [32, 32, 1, True]             \n",
            "  3                  -1  1     18560  ultralytics.nn.modules.conv.Conv             [32, 64, 3, 2]                \n",
            "  4                  -1  2     49664  ultralytics.nn.modules.block.C2f             [64, 64, 2, True]             \n",
            "  5                  -1  1     73984  ultralytics.nn.modules.conv.Conv             [64, 128, 3, 2]               \n",
            "  6                  -1  2    197632  ultralytics.nn.modules.block.C2f             [128, 128, 2, True]           \n",
            "  7                  -1  1    295424  ultralytics.nn.modules.conv.Conv             [128, 256, 3, 2]              \n",
            "  8                  -1  1    460288  ultralytics.nn.modules.block.C2f             [256, 256, 1, True]           \n",
            "  9                  -1  1    164608  ultralytics.nn.modules.block.SPPF            [256, 256, 5]                 \n",
            " 10                  -1  1         0  torch.nn.modules.upsampling.Upsample         [None, 2, 'nearest']          \n",
            " 11             [-1, 6]  1         0  ultralytics.nn.modules.conv.Concat           [1]                           \n",
            " 12                  -1  1    148224  ultralytics.nn.modules.block.C2f             [384, 128, 1]                 \n",
            " 13                  -1  1         0  torch.nn.modules.upsampling.Upsample         [None, 2, 'nearest']          \n",
            " 14             [-1, 4]  1         0  ultralytics.nn.modules.conv.Concat           [1]                           \n",
            " 15                  -1  1     37248  ultralytics.nn.modules.block.C2f             [192, 64, 1]                  \n",
            " 16                  -1  1     36992  ultralytics.nn.modules.conv.Conv             [64, 64, 3, 2]                \n",
            " 17            [-1, 12]  1         0  ultralytics.nn.modules.conv.Concat           [1]                           \n",
            " 18                  -1  1    123648  ultralytics.nn.modules.block.C2f             [192, 128, 1]                 \n",
            " 19                  -1  1    147712  ultralytics.nn.modules.conv.Conv             [128, 128, 3, 2]              \n",
            " 20             [-1, 9]  1         0  ultralytics.nn.modules.conv.Concat           [1]                           \n",
            " 21                  -1  1    493056  ultralytics.nn.modules.block.C2f             [384, 256, 1]                 \n",
            " 22        [15, 18, 21]  1    897664  ultralytics.nn.modules.head.Detect           [80, [64, 128, 256]]          \n",
            "YOLOv8 summary: 225 layers, 3157200 parameters, 3157184 gradients, 8.9 GFLOPs\n",
            "\n",
            "Downloading https://github.com/ultralytics/assets/releases/download/v0.0.0/yolov8n.pt to 'yolov8n.pt'...\n"
          ]
        },
        {
          "output_type": "stream",
          "name": "stderr",
          "text": [
            "100%|██████████| 6.23M/6.23M [00:00<00:00, 87.6MB/s]"
          ]
        },
        {
          "output_type": "stream",
          "name": "stdout",
          "text": [
            "Transferred 355/355 items from pretrained weights\n"
          ]
        },
        {
          "output_type": "stream",
          "name": "stderr",
          "text": [
            "\n"
          ]
        },
        {
          "output_type": "stream",
          "name": "stdout",
          "text": [
            "Ultralytics YOLOv8.0.229 🚀 Python-3.10.12 torch-2.1.0+cu121 CUDA:0 (Tesla T4, 15102MiB)\n",
            "\u001b[34m\u001b[1mengine/trainer: \u001b[0mtask=detect, mode=train, model=yolov8.yaml, data=/datasets/detrac/detrac-train-dataset-colab.yml, epochs=100, time=None, patience=50, batch=16, imgsz=640, save=True, save_period=-1, cache=False, device=None, workers=8, project=None, name=train, exist_ok=False, pretrained=True, optimizer=auto, verbose=True, seed=0, deterministic=True, single_cls=False, rect=False, cos_lr=False, close_mosaic=10, resume=False, amp=True, fraction=1.0, profile=False, freeze=None, overlap_mask=True, mask_ratio=4, dropout=0.0, val=True, split=val, save_json=False, save_hybrid=False, conf=None, iou=0.7, max_det=300, half=False, dnn=False, plots=True, source=None, vid_stride=1, stream_buffer=False, visualize=False, augment=False, agnostic_nms=False, classes=None, retina_masks=False, embed=None, show=False, save_frames=False, save_txt=False, save_conf=False, save_crop=False, show_labels=True, show_conf=True, show_boxes=True, line_width=None, format=torchscript, keras=False, optimize=False, int8=False, dynamic=False, simplify=False, opset=None, workspace=4, nms=False, lr0=0.01, lrf=0.01, momentum=0.937, weight_decay=0.0005, warmup_epochs=3.0, warmup_momentum=0.8, warmup_bias_lr=0.1, box=7.5, cls=0.5, dfl=1.5, pose=12.0, kobj=1.0, label_smoothing=0.0, nbs=64, hsv_h=0.015, hsv_s=0.7, hsv_v=0.4, degrees=0.0, translate=0.1, scale=0.5, shear=0.0, perspective=0.0, flipud=0.0, fliplr=0.5, mosaic=1.0, mixup=0.0, copy_paste=0.0, cfg=None, tracker=botsort.yaml, save_dir=runs/detect/train\n",
            "Downloading https://ultralytics.com/assets/Arial.ttf to '/root/.config/Ultralytics/Arial.ttf'...\n"
          ]
        },
        {
          "output_type": "stream",
          "name": "stderr",
          "text": [
            "100%|██████████| 755k/755k [00:00<00:00, 16.3MB/s]\n"
          ]
        },
        {
          "output_type": "stream",
          "name": "stdout",
          "text": [
            "Overriding model.yaml nc=80 with nc=2\n",
            "WARNING ⚠️ no model scale passed. Assuming scale='n'.\n",
            "\n",
            "                   from  n    params  module                                       arguments                     \n",
            "  0                  -1  1       464  ultralytics.nn.modules.conv.Conv             [3, 16, 3, 2]                 \n",
            "  1                  -1  1      4672  ultralytics.nn.modules.conv.Conv             [16, 32, 3, 2]                \n",
            "  2                  -1  1      7360  ultralytics.nn.modules.block.C2f             [32, 32, 1, True]             \n",
            "  3                  -1  1     18560  ultralytics.nn.modules.conv.Conv             [32, 64, 3, 2]                \n",
            "  4                  -1  2     49664  ultralytics.nn.modules.block.C2f             [64, 64, 2, True]             \n",
            "  5                  -1  1     73984  ultralytics.nn.modules.conv.Conv             [64, 128, 3, 2]               \n",
            "  6                  -1  2    197632  ultralytics.nn.modules.block.C2f             [128, 128, 2, True]           \n",
            "  7                  -1  1    295424  ultralytics.nn.modules.conv.Conv             [128, 256, 3, 2]              \n",
            "  8                  -1  1    460288  ultralytics.nn.modules.block.C2f             [256, 256, 1, True]           \n",
            "  9                  -1  1    164608  ultralytics.nn.modules.block.SPPF            [256, 256, 5]                 \n",
            " 10                  -1  1         0  torch.nn.modules.upsampling.Upsample         [None, 2, 'nearest']          \n",
            " 11             [-1, 6]  1         0  ultralytics.nn.modules.conv.Concat           [1]                           \n",
            " 12                  -1  1    148224  ultralytics.nn.modules.block.C2f             [384, 128, 1]                 \n",
            " 13                  -1  1         0  torch.nn.modules.upsampling.Upsample         [None, 2, 'nearest']          \n",
            " 14             [-1, 4]  1         0  ultralytics.nn.modules.conv.Concat           [1]                           \n",
            " 15                  -1  1     37248  ultralytics.nn.modules.block.C2f             [192, 64, 1]                  \n",
            " 16                  -1  1     36992  ultralytics.nn.modules.conv.Conv             [64, 64, 3, 2]                \n",
            " 17            [-1, 12]  1         0  ultralytics.nn.modules.conv.Concat           [1]                           \n",
            " 18                  -1  1    123648  ultralytics.nn.modules.block.C2f             [192, 128, 1]                 \n",
            " 19                  -1  1    147712  ultralytics.nn.modules.conv.Conv             [128, 128, 3, 2]              \n",
            " 20             [-1, 9]  1         0  ultralytics.nn.modules.conv.Concat           [1]                           \n",
            " 21                  -1  1    493056  ultralytics.nn.modules.block.C2f             [384, 256, 1]                 \n",
            " 22        [15, 18, 21]  1    751702  ultralytics.nn.modules.head.Detect           [2, [64, 128, 256]]           \n",
            "YOLOv8 summary: 225 layers, 3011238 parameters, 3011222 gradients, 8.2 GFLOPs\n",
            "\n",
            "Transferred 319/355 items from pretrained weights\n",
            "\u001b[34m\u001b[1mTensorBoard: \u001b[0mStart with 'tensorboard --logdir runs/detect/train', view at http://localhost:6006/\n",
            "Freezing layer 'model.22.dfl.conv.weight'\n",
            "\u001b[34m\u001b[1mAMP: \u001b[0mrunning Automatic Mixed Precision (AMP) checks with YOLOv8n...\n",
            "\u001b[34m\u001b[1mAMP: \u001b[0mchecks passed ✅\n"
          ]
        },
        {
          "output_type": "stream",
          "name": "stderr",
          "text": [
            "\u001b[34m\u001b[1mtrain: \u001b[0mScanning /content/gdrive/My Drive/datasets/detrac/train-dataset-augmented... 501 images, 0 backgrounds, 0 corrupt: 100%|██████████| 501/501 [00:02<00:00, 224.38it/s]\n"
          ]
        },
        {
          "output_type": "stream",
          "name": "stdout",
          "text": [
            "\u001b[34m\u001b[1mtrain: \u001b[0mNew cache created: /content/gdrive/My Drive/datasets/detrac/train-dataset-augmented.cache\n",
            "\u001b[34m\u001b[1malbumentations: \u001b[0mBlur(p=0.01, blur_limit=(3, 7)), MedianBlur(p=0.01, blur_limit=(3, 7)), ToGray(p=0.01), CLAHE(p=0.01, clip_limit=(1, 4.0), tile_grid_size=(8, 8))\n"
          ]
        },
        {
          "output_type": "stream",
          "name": "stderr",
          "text": [
            "\u001b[34m\u001b[1mval: \u001b[0mScanning /content/gdrive/My Drive/datasets/detrac/validation-dataset-augmented... 99 images, 0 backgrounds, 0 corrupt: 100%|██████████| 99/99 [00:00<00:00, 143.48it/s]\n"
          ]
        },
        {
          "output_type": "stream",
          "name": "stdout",
          "text": [
            "\u001b[34m\u001b[1mval: \u001b[0mNew cache created: /content/gdrive/My Drive/datasets/detrac/validation-dataset-augmented.cache\n",
            "Plotting labels to runs/detect/train/labels.jpg... \n",
            "\u001b[34m\u001b[1moptimizer:\u001b[0m 'optimizer=auto' found, ignoring 'lr0=0.01' and 'momentum=0.937' and determining best 'optimizer', 'lr0' and 'momentum' automatically... \n",
            "\u001b[34m\u001b[1moptimizer:\u001b[0m AdamW(lr=0.001667, momentum=0.9) with parameter groups 57 weight(decay=0.0), 64 weight(decay=0.0005), 63 bias(decay=0.0)\n",
            "100 epochs...\n",
            "\n",
            "      Epoch    GPU_mem   box_loss   cls_loss   dfl_loss  Instances       Size\n"
          ]
        },
        {
          "output_type": "stream",
          "name": "stderr",
          "text": [
            "      1/100      2.64G      1.233      2.165      1.001         60        640: 100%|██████████| 32/32 [00:19<00:00,  1.63it/s]\n",
            "                 Class     Images  Instances      Box(P          R      mAP50  mAP50-95): 100%|██████████| 4/4 [00:02<00:00,  1.40it/s]"
          ]
        },
        {
          "output_type": "stream",
          "name": "stdout",
          "text": [
            "                   all         99        750      0.906      0.179       0.63      0.448\n"
          ]
        },
        {
          "output_type": "stream",
          "name": "stderr",
          "text": [
            "\n"
          ]
        },
        {
          "output_type": "stream",
          "name": "stdout",
          "text": [
            "\n",
            "      Epoch    GPU_mem   box_loss   cls_loss   dfl_loss  Instances       Size\n"
          ]
        },
        {
          "output_type": "stream",
          "name": "stderr",
          "text": [
            "      2/100      2.37G      1.128      1.129     0.9833         48        640: 100%|██████████| 32/32 [00:14<00:00,  2.17it/s]\n",
            "                 Class     Images  Instances      Box(P          R      mAP50  mAP50-95): 100%|██████████| 4/4 [00:01<00:00,  2.14it/s]"
          ]
        },
        {
          "output_type": "stream",
          "name": "stdout",
          "text": [
            "                   all         99        750      0.917      0.454      0.659      0.467\n"
          ]
        },
        {
          "output_type": "stream",
          "name": "stderr",
          "text": [
            "\n"
          ]
        },
        {
          "output_type": "stream",
          "name": "stdout",
          "text": [
            "\n",
            "      Epoch    GPU_mem   box_loss   cls_loss   dfl_loss  Instances       Size\n"
          ]
        },
        {
          "output_type": "stream",
          "name": "stderr",
          "text": [
            "      3/100      2.46G      1.088     0.9911       0.96         94        640: 100%|██████████| 32/32 [00:13<00:00,  2.29it/s]\n",
            "                 Class     Images  Instances      Box(P          R      mAP50  mAP50-95): 100%|██████████| 4/4 [00:01<00:00,  2.45it/s]"
          ]
        },
        {
          "output_type": "stream",
          "name": "stdout",
          "text": [
            "                   all         99        750      0.883      0.563      0.758      0.528\n"
          ]
        },
        {
          "output_type": "stream",
          "name": "stderr",
          "text": [
            "\n"
          ]
        },
        {
          "output_type": "stream",
          "name": "stdout",
          "text": [
            "\n",
            "      Epoch    GPU_mem   box_loss   cls_loss   dfl_loss  Instances       Size\n"
          ]
        },
        {
          "output_type": "stream",
          "name": "stderr",
          "text": [
            "      4/100      2.29G      1.055     0.9382     0.9593         46        640: 100%|██████████| 32/32 [00:14<00:00,  2.18it/s]\n",
            "                 Class     Images  Instances      Box(P          R      mAP50  mAP50-95): 100%|██████████| 4/4 [00:01<00:00,  2.27it/s]"
          ]
        },
        {
          "output_type": "stream",
          "name": "stdout",
          "text": [
            "                   all         99        750      0.826      0.768      0.846      0.577\n"
          ]
        },
        {
          "output_type": "stream",
          "name": "stderr",
          "text": [
            "\n"
          ]
        },
        {
          "output_type": "stream",
          "name": "stdout",
          "text": [
            "\n",
            "      Epoch    GPU_mem   box_loss   cls_loss   dfl_loss  Instances       Size\n"
          ]
        },
        {
          "output_type": "stream",
          "name": "stderr",
          "text": [
            "      5/100      2.37G       1.03     0.8645     0.9416         41        640: 100%|██████████| 32/32 [00:13<00:00,  2.35it/s]\n",
            "                 Class     Images  Instances      Box(P          R      mAP50  mAP50-95): 100%|██████████| 4/4 [00:01<00:00,  2.10it/s]"
          ]
        },
        {
          "output_type": "stream",
          "name": "stdout",
          "text": [
            "                   all         99        750      0.787      0.781      0.829      0.598\n"
          ]
        },
        {
          "output_type": "stream",
          "name": "stderr",
          "text": [
            "\n"
          ]
        },
        {
          "output_type": "stream",
          "name": "stdout",
          "text": [
            "\n",
            "      Epoch    GPU_mem   box_loss   cls_loss   dfl_loss  Instances       Size\n"
          ]
        },
        {
          "output_type": "stream",
          "name": "stderr",
          "text": [
            "      6/100      2.36G      1.023     0.8402     0.9474         45        640: 100%|██████████| 32/32 [00:14<00:00,  2.25it/s]\n",
            "                 Class     Images  Instances      Box(P          R      mAP50  mAP50-95): 100%|██████████| 4/4 [00:01<00:00,  2.23it/s]"
          ]
        },
        {
          "output_type": "stream",
          "name": "stdout",
          "text": [
            "                   all         99        750      0.789      0.763      0.828      0.593\n"
          ]
        },
        {
          "output_type": "stream",
          "name": "stderr",
          "text": [
            "\n"
          ]
        },
        {
          "output_type": "stream",
          "name": "stdout",
          "text": [
            "\n",
            "      Epoch    GPU_mem   box_loss   cls_loss   dfl_loss  Instances       Size\n"
          ]
        },
        {
          "output_type": "stream",
          "name": "stderr",
          "text": [
            "      7/100      2.36G     0.9951     0.7927     0.9317         56        640: 100%|██████████| 32/32 [00:13<00:00,  2.36it/s]\n",
            "                 Class     Images  Instances      Box(P          R      mAP50  mAP50-95): 100%|██████████| 4/4 [00:02<00:00,  1.84it/s]\n"
          ]
        },
        {
          "output_type": "stream",
          "name": "stdout",
          "text": [
            "                   all         99        750      0.825      0.757      0.844      0.605\n",
            "\n",
            "      Epoch    GPU_mem   box_loss   cls_loss   dfl_loss  Instances       Size\n"
          ]
        },
        {
          "output_type": "stream",
          "name": "stderr",
          "text": [
            "      8/100      2.32G     0.9748     0.7505     0.9217        103        640: 100%|██████████| 32/32 [00:13<00:00,  2.33it/s]\n",
            "                 Class     Images  Instances      Box(P          R      mAP50  mAP50-95): 100%|██████████| 4/4 [00:01<00:00,  2.14it/s]"
          ]
        },
        {
          "output_type": "stream",
          "name": "stdout",
          "text": [
            "                   all         99        750      0.844      0.832      0.896      0.642\n"
          ]
        },
        {
          "output_type": "stream",
          "name": "stderr",
          "text": [
            "\n"
          ]
        },
        {
          "output_type": "stream",
          "name": "stdout",
          "text": [
            "\n",
            "      Epoch    GPU_mem   box_loss   cls_loss   dfl_loss  Instances       Size\n"
          ]
        },
        {
          "output_type": "stream",
          "name": "stderr",
          "text": [
            "      9/100      2.35G     0.9488      0.716      0.918         68        640: 100%|██████████| 32/32 [00:13<00:00,  2.37it/s]\n",
            "                 Class     Images  Instances      Box(P          R      mAP50  mAP50-95): 100%|██████████| 4/4 [00:02<00:00,  1.86it/s]"
          ]
        },
        {
          "output_type": "stream",
          "name": "stdout",
          "text": [
            "                   all         99        750      0.806      0.833      0.882      0.645\n"
          ]
        },
        {
          "output_type": "stream",
          "name": "stderr",
          "text": [
            "\n"
          ]
        },
        {
          "output_type": "stream",
          "name": "stdout",
          "text": [
            "\n",
            "      Epoch    GPU_mem   box_loss   cls_loss   dfl_loss  Instances       Size\n"
          ]
        },
        {
          "output_type": "stream",
          "name": "stderr",
          "text": [
            "     10/100      2.35G     0.9648     0.7208     0.9287         56        640: 100%|██████████| 32/32 [00:12<00:00,  2.46it/s]\n",
            "                 Class     Images  Instances      Box(P          R      mAP50  mAP50-95): 100%|██████████| 4/4 [00:01<00:00,  2.04it/s]\n"
          ]
        },
        {
          "output_type": "stream",
          "name": "stdout",
          "text": [
            "                   all         99        750      0.846      0.805      0.883      0.653\n",
            "\n",
            "      Epoch    GPU_mem   box_loss   cls_loss   dfl_loss  Instances       Size\n"
          ]
        },
        {
          "output_type": "stream",
          "name": "stderr",
          "text": [
            "     11/100      2.38G     0.9477     0.7029     0.9175         28        640: 100%|██████████| 32/32 [00:12<00:00,  2.49it/s]\n",
            "                 Class     Images  Instances      Box(P          R      mAP50  mAP50-95): 100%|██████████| 4/4 [00:02<00:00,  1.79it/s]"
          ]
        },
        {
          "output_type": "stream",
          "name": "stdout",
          "text": [
            "                   all         99        750      0.827      0.804      0.868       0.62\n"
          ]
        },
        {
          "output_type": "stream",
          "name": "stderr",
          "text": [
            "\n"
          ]
        },
        {
          "output_type": "stream",
          "name": "stdout",
          "text": [
            "\n",
            "      Epoch    GPU_mem   box_loss   cls_loss   dfl_loss  Instances       Size\n"
          ]
        },
        {
          "output_type": "stream",
          "name": "stderr",
          "text": [
            "     12/100       2.3G     0.9288     0.6702     0.9137         43        640: 100%|██████████| 32/32 [00:13<00:00,  2.42it/s]\n",
            "                 Class     Images  Instances      Box(P          R      mAP50  mAP50-95): 100%|██████████| 4/4 [00:02<00:00,  1.92it/s]"
          ]
        },
        {
          "output_type": "stream",
          "name": "stdout",
          "text": [
            "                   all         99        750       0.86      0.829      0.901      0.656\n"
          ]
        },
        {
          "output_type": "stream",
          "name": "stderr",
          "text": [
            "\n"
          ]
        },
        {
          "output_type": "stream",
          "name": "stdout",
          "text": [
            "\n",
            "      Epoch    GPU_mem   box_loss   cls_loss   dfl_loss  Instances       Size\n"
          ]
        },
        {
          "output_type": "stream",
          "name": "stderr",
          "text": [
            "     13/100      2.34G     0.9051      0.637     0.9012         65        640: 100%|██████████| 32/32 [00:12<00:00,  2.48it/s]\n",
            "                 Class     Images  Instances      Box(P          R      mAP50  mAP50-95): 100%|██████████| 4/4 [00:02<00:00,  1.75it/s]"
          ]
        },
        {
          "output_type": "stream",
          "name": "stdout",
          "text": [
            "                   all         99        750      0.833      0.851      0.901      0.662\n"
          ]
        },
        {
          "output_type": "stream",
          "name": "stderr",
          "text": [
            "\n"
          ]
        },
        {
          "output_type": "stream",
          "name": "stdout",
          "text": [
            "\n",
            "      Epoch    GPU_mem   box_loss   cls_loss   dfl_loss  Instances       Size\n"
          ]
        },
        {
          "output_type": "stream",
          "name": "stderr",
          "text": [
            "     14/100      2.37G     0.9071     0.6399     0.9055         83        640: 100%|██████████| 32/32 [00:12<00:00,  2.51it/s]\n",
            "                 Class     Images  Instances      Box(P          R      mAP50  mAP50-95): 100%|██████████| 4/4 [00:02<00:00,  1.76it/s]"
          ]
        },
        {
          "output_type": "stream",
          "name": "stdout",
          "text": [
            "                   all         99        750      0.843      0.848      0.908      0.656\n"
          ]
        },
        {
          "output_type": "stream",
          "name": "stderr",
          "text": [
            "\n"
          ]
        },
        {
          "output_type": "stream",
          "name": "stdout",
          "text": [
            "\n",
            "      Epoch    GPU_mem   box_loss   cls_loss   dfl_loss  Instances       Size\n"
          ]
        },
        {
          "output_type": "stream",
          "name": "stderr",
          "text": [
            "     15/100      2.37G     0.9001     0.6234     0.9066         64        640: 100%|██████████| 32/32 [00:13<00:00,  2.46it/s]\n",
            "                 Class     Images  Instances      Box(P          R      mAP50  mAP50-95): 100%|██████████| 4/4 [00:01<00:00,  2.28it/s]"
          ]
        },
        {
          "output_type": "stream",
          "name": "stdout",
          "text": [
            "                   all         99        750      0.854      0.844      0.891      0.659\n"
          ]
        },
        {
          "output_type": "stream",
          "name": "stderr",
          "text": [
            "\n"
          ]
        },
        {
          "output_type": "stream",
          "name": "stdout",
          "text": [
            "\n",
            "      Epoch    GPU_mem   box_loss   cls_loss   dfl_loss  Instances       Size\n"
          ]
        },
        {
          "output_type": "stream",
          "name": "stderr",
          "text": [
            "     16/100      2.37G     0.8865     0.6086        0.9         44        640: 100%|██████████| 32/32 [00:13<00:00,  2.45it/s]\n",
            "                 Class     Images  Instances      Box(P          R      mAP50  mAP50-95): 100%|██████████| 4/4 [00:01<00:00,  2.04it/s]"
          ]
        },
        {
          "output_type": "stream",
          "name": "stdout",
          "text": [
            "                   all         99        750      0.889      0.836      0.905      0.664\n"
          ]
        },
        {
          "output_type": "stream",
          "name": "stderr",
          "text": [
            "\n"
          ]
        },
        {
          "output_type": "stream",
          "name": "stdout",
          "text": [
            "\n",
            "      Epoch    GPU_mem   box_loss   cls_loss   dfl_loss  Instances       Size\n"
          ]
        },
        {
          "output_type": "stream",
          "name": "stderr",
          "text": [
            "     17/100      2.38G     0.8821     0.6096     0.8974         46        640: 100%|██████████| 32/32 [00:13<00:00,  2.35it/s]\n",
            "                 Class     Images  Instances      Box(P          R      mAP50  mAP50-95): 100%|██████████| 4/4 [00:01<00:00,  2.03it/s]"
          ]
        },
        {
          "output_type": "stream",
          "name": "stdout",
          "text": [
            "                   all         99        750      0.811      0.819      0.863      0.612\n"
          ]
        },
        {
          "output_type": "stream",
          "name": "stderr",
          "text": [
            "\n"
          ]
        },
        {
          "output_type": "stream",
          "name": "stdout",
          "text": [
            "\n",
            "      Epoch    GPU_mem   box_loss   cls_loss   dfl_loss  Instances       Size\n"
          ]
        },
        {
          "output_type": "stream",
          "name": "stderr",
          "text": [
            "     18/100      2.35G     0.8944     0.6042      0.904         79        640: 100%|██████████| 32/32 [00:13<00:00,  2.43it/s]\n",
            "                 Class     Images  Instances      Box(P          R      mAP50  mAP50-95): 100%|██████████| 4/4 [00:02<00:00,  1.70it/s]"
          ]
        },
        {
          "output_type": "stream",
          "name": "stdout",
          "text": [
            "                   all         99        750      0.859      0.785      0.869       0.63\n"
          ]
        },
        {
          "output_type": "stream",
          "name": "stderr",
          "text": [
            "\n"
          ]
        },
        {
          "output_type": "stream",
          "name": "stdout",
          "text": [
            "\n",
            "      Epoch    GPU_mem   box_loss   cls_loss   dfl_loss  Instances       Size\n"
          ]
        },
        {
          "output_type": "stream",
          "name": "stderr",
          "text": [
            "     19/100      2.38G     0.8702     0.5918     0.9032         74        640: 100%|██████████| 32/32 [00:12<00:00,  2.47it/s]\n",
            "                 Class     Images  Instances      Box(P          R      mAP50  mAP50-95): 100%|██████████| 4/4 [00:02<00:00,  1.95it/s]"
          ]
        },
        {
          "output_type": "stream",
          "name": "stdout",
          "text": [
            "                   all         99        750      0.848      0.839      0.907      0.659\n"
          ]
        },
        {
          "output_type": "stream",
          "name": "stderr",
          "text": [
            "\n"
          ]
        },
        {
          "output_type": "stream",
          "name": "stdout",
          "text": [
            "\n",
            "      Epoch    GPU_mem   box_loss   cls_loss   dfl_loss  Instances       Size\n"
          ]
        },
        {
          "output_type": "stream",
          "name": "stderr",
          "text": [
            "     20/100      2.38G     0.8535     0.5759     0.8891         48        640: 100%|██████████| 32/32 [00:13<00:00,  2.43it/s]\n",
            "                 Class     Images  Instances      Box(P          R      mAP50  mAP50-95): 100%|██████████| 4/4 [00:02<00:00,  1.89it/s]\n"
          ]
        },
        {
          "output_type": "stream",
          "name": "stdout",
          "text": [
            "                   all         99        750      0.869      0.799      0.892      0.653\n",
            "\n",
            "      Epoch    GPU_mem   box_loss   cls_loss   dfl_loss  Instances       Size\n"
          ]
        },
        {
          "output_type": "stream",
          "name": "stderr",
          "text": [
            "     21/100      2.37G     0.8524     0.5724     0.8897         76        640: 100%|██████████| 32/32 [00:12<00:00,  2.46it/s]\n",
            "                 Class     Images  Instances      Box(P          R      mAP50  mAP50-95): 100%|██████████| 4/4 [00:02<00:00,  1.90it/s]"
          ]
        },
        {
          "output_type": "stream",
          "name": "stdout",
          "text": [
            "                   all         99        750       0.86      0.819      0.879      0.644\n"
          ]
        },
        {
          "output_type": "stream",
          "name": "stderr",
          "text": [
            "\n"
          ]
        },
        {
          "output_type": "stream",
          "name": "stdout",
          "text": [
            "\n",
            "      Epoch    GPU_mem   box_loss   cls_loss   dfl_loss  Instances       Size\n"
          ]
        },
        {
          "output_type": "stream",
          "name": "stderr",
          "text": [
            "     22/100      2.46G     0.8485     0.5745     0.8946         77        640: 100%|██████████| 32/32 [00:13<00:00,  2.34it/s]\n",
            "                 Class     Images  Instances      Box(P          R      mAP50  mAP50-95): 100%|██████████| 4/4 [00:02<00:00,  1.67it/s]"
          ]
        },
        {
          "output_type": "stream",
          "name": "stdout",
          "text": [
            "                   all         99        750      0.871      0.864       0.91      0.674\n"
          ]
        },
        {
          "output_type": "stream",
          "name": "stderr",
          "text": [
            "\n"
          ]
        },
        {
          "output_type": "stream",
          "name": "stdout",
          "text": [
            "\n",
            "      Epoch    GPU_mem   box_loss   cls_loss   dfl_loss  Instances       Size\n"
          ]
        },
        {
          "output_type": "stream",
          "name": "stderr",
          "text": [
            "     23/100      2.47G     0.8374     0.5531     0.8833        102        640: 100%|██████████| 32/32 [00:13<00:00,  2.40it/s]\n",
            "                 Class     Images  Instances      Box(P          R      mAP50  mAP50-95): 100%|██████████| 4/4 [00:03<00:00,  1.31it/s]\n"
          ]
        },
        {
          "output_type": "stream",
          "name": "stdout",
          "text": [
            "                   all         99        750      0.846      0.847      0.908      0.661\n",
            "\n",
            "      Epoch    GPU_mem   box_loss   cls_loss   dfl_loss  Instances       Size\n"
          ]
        },
        {
          "output_type": "stream",
          "name": "stderr",
          "text": [
            "     24/100      2.34G     0.8142     0.5445      0.877         59        640: 100%|██████████| 32/32 [00:12<00:00,  2.63it/s]\n",
            "                 Class     Images  Instances      Box(P          R      mAP50  mAP50-95): 100%|██████████| 4/4 [00:02<00:00,  1.36it/s]"
          ]
        },
        {
          "output_type": "stream",
          "name": "stdout",
          "text": [
            "                   all         99        750      0.861      0.852      0.902      0.673\n"
          ]
        },
        {
          "output_type": "stream",
          "name": "stderr",
          "text": [
            "\n"
          ]
        },
        {
          "output_type": "stream",
          "name": "stdout",
          "text": [
            "\n",
            "      Epoch    GPU_mem   box_loss   cls_loss   dfl_loss  Instances       Size\n"
          ]
        },
        {
          "output_type": "stream",
          "name": "stderr",
          "text": [
            "     25/100      2.26G     0.8325     0.5471     0.8877         83        640: 100%|██████████| 32/32 [00:14<00:00,  2.26it/s]\n",
            "                 Class     Images  Instances      Box(P          R      mAP50  mAP50-95): 100%|██████████| 4/4 [00:03<00:00,  1.17it/s]\n"
          ]
        },
        {
          "output_type": "stream",
          "name": "stdout",
          "text": [
            "                   all         99        750      0.894      0.833      0.915       0.67\n",
            "\n",
            "      Epoch    GPU_mem   box_loss   cls_loss   dfl_loss  Instances       Size\n"
          ]
        },
        {
          "output_type": "stream",
          "name": "stderr",
          "text": [
            "     26/100      2.28G     0.8279     0.5375     0.8834         38        640: 100%|██████████| 32/32 [00:12<00:00,  2.65it/s]\n",
            "                 Class     Images  Instances      Box(P          R      mAP50  mAP50-95): 100%|██████████| 4/4 [00:02<00:00,  1.45it/s]\n"
          ]
        },
        {
          "output_type": "stream",
          "name": "stdout",
          "text": [
            "                   all         99        750        0.9      0.759      0.871      0.625\n",
            "\n",
            "      Epoch    GPU_mem   box_loss   cls_loss   dfl_loss  Instances       Size\n"
          ]
        },
        {
          "output_type": "stream",
          "name": "stderr",
          "text": [
            "     27/100      2.36G     0.8207     0.5334     0.8828         47        640: 100%|██████████| 32/32 [00:12<00:00,  2.66it/s]\n",
            "                 Class     Images  Instances      Box(P          R      mAP50  mAP50-95): 100%|██████████| 4/4 [00:02<00:00,  1.43it/s]"
          ]
        },
        {
          "output_type": "stream",
          "name": "stdout",
          "text": [
            "                   all         99        750      0.905      0.816      0.909      0.678\n"
          ]
        },
        {
          "output_type": "stream",
          "name": "stderr",
          "text": [
            "\n"
          ]
        },
        {
          "output_type": "stream",
          "name": "stdout",
          "text": [
            "\n",
            "      Epoch    GPU_mem   box_loss   cls_loss   dfl_loss  Instances       Size\n"
          ]
        },
        {
          "output_type": "stream",
          "name": "stderr",
          "text": [
            "     28/100      2.39G     0.8346     0.5309     0.8826         75        640: 100%|██████████| 32/32 [00:11<00:00,  2.67it/s]\n",
            "                 Class     Images  Instances      Box(P          R      mAP50  mAP50-95): 100%|██████████| 4/4 [00:02<00:00,  1.40it/s]"
          ]
        },
        {
          "output_type": "stream",
          "name": "stdout",
          "text": [
            "                   all         99        750      0.866      0.864      0.912      0.675\n"
          ]
        },
        {
          "output_type": "stream",
          "name": "stderr",
          "text": [
            "\n"
          ]
        },
        {
          "output_type": "stream",
          "name": "stdout",
          "text": [
            "\n",
            "      Epoch    GPU_mem   box_loss   cls_loss   dfl_loss  Instances       Size\n"
          ]
        },
        {
          "output_type": "stream",
          "name": "stderr",
          "text": [
            "     29/100      2.27G     0.8032     0.5074     0.8761         68        640: 100%|██████████| 32/32 [00:12<00:00,  2.56it/s]\n",
            "                 Class     Images  Instances      Box(P          R      mAP50  mAP50-95): 100%|██████████| 4/4 [00:02<00:00,  1.58it/s]"
          ]
        },
        {
          "output_type": "stream",
          "name": "stdout",
          "text": [
            "                   all         99        750       0.87      0.873       0.91      0.683\n"
          ]
        },
        {
          "output_type": "stream",
          "name": "stderr",
          "text": [
            "\n"
          ]
        },
        {
          "output_type": "stream",
          "name": "stdout",
          "text": [
            "\n",
            "      Epoch    GPU_mem   box_loss   cls_loss   dfl_loss  Instances       Size\n"
          ]
        },
        {
          "output_type": "stream",
          "name": "stderr",
          "text": [
            "     30/100      2.36G     0.7874     0.5105     0.8795         40        640: 100%|██████████| 32/32 [00:12<00:00,  2.66it/s]\n",
            "                 Class     Images  Instances      Box(P          R      mAP50  mAP50-95): 100%|██████████| 4/4 [00:02<00:00,  1.49it/s]"
          ]
        },
        {
          "output_type": "stream",
          "name": "stdout",
          "text": [
            "                   all         99        750      0.875       0.86      0.922      0.689\n"
          ]
        },
        {
          "output_type": "stream",
          "name": "stderr",
          "text": [
            "\n"
          ]
        },
        {
          "output_type": "stream",
          "name": "stdout",
          "text": [
            "\n",
            "      Epoch    GPU_mem   box_loss   cls_loss   dfl_loss  Instances       Size\n"
          ]
        },
        {
          "output_type": "stream",
          "name": "stderr",
          "text": [
            "     31/100      2.38G      0.801      0.513     0.8776         99        640: 100%|██████████| 32/32 [00:11<00:00,  2.70it/s]\n",
            "                 Class     Images  Instances      Box(P          R      mAP50  mAP50-95): 100%|██████████| 4/4 [00:03<00:00,  1.29it/s]"
          ]
        },
        {
          "output_type": "stream",
          "name": "stdout",
          "text": [
            "                   all         99        750      0.858      0.871      0.921      0.696\n"
          ]
        },
        {
          "output_type": "stream",
          "name": "stderr",
          "text": [
            "\n"
          ]
        },
        {
          "output_type": "stream",
          "name": "stdout",
          "text": [
            "\n",
            "      Epoch    GPU_mem   box_loss   cls_loss   dfl_loss  Instances       Size\n"
          ]
        },
        {
          "output_type": "stream",
          "name": "stderr",
          "text": [
            "     32/100      2.31G     0.7824      0.502     0.8792         66        640: 100%|██████████| 32/32 [00:11<00:00,  2.80it/s]\n",
            "                 Class     Images  Instances      Box(P          R      mAP50  mAP50-95): 100%|██████████| 4/4 [00:03<00:00,  1.31it/s]"
          ]
        },
        {
          "output_type": "stream",
          "name": "stdout",
          "text": [
            "                   all         99        750      0.883      0.823      0.889       0.65\n"
          ]
        },
        {
          "output_type": "stream",
          "name": "stderr",
          "text": [
            "\n"
          ]
        },
        {
          "output_type": "stream",
          "name": "stdout",
          "text": [
            "\n",
            "      Epoch    GPU_mem   box_loss   cls_loss   dfl_loss  Instances       Size\n"
          ]
        },
        {
          "output_type": "stream",
          "name": "stderr",
          "text": [
            "     33/100      2.34G     0.8062     0.5039      0.879         46        640: 100%|██████████| 32/32 [00:12<00:00,  2.61it/s]\n",
            "                 Class     Images  Instances      Box(P          R      mAP50  mAP50-95): 100%|██████████| 4/4 [00:02<00:00,  1.42it/s]"
          ]
        },
        {
          "output_type": "stream",
          "name": "stdout",
          "text": [
            "                   all         99        750      0.862      0.809      0.869      0.646\n"
          ]
        },
        {
          "output_type": "stream",
          "name": "stderr",
          "text": [
            "\n"
          ]
        },
        {
          "output_type": "stream",
          "name": "stdout",
          "text": [
            "\n",
            "      Epoch    GPU_mem   box_loss   cls_loss   dfl_loss  Instances       Size\n"
          ]
        },
        {
          "output_type": "stream",
          "name": "stderr",
          "text": [
            "     34/100      2.25G     0.7833     0.4977     0.8735         37        640: 100%|██████████| 32/32 [00:11<00:00,  2.68it/s]\n",
            "                 Class     Images  Instances      Box(P          R      mAP50  mAP50-95): 100%|██████████| 4/4 [00:03<00:00,  1.32it/s]"
          ]
        },
        {
          "output_type": "stream",
          "name": "stdout",
          "text": [
            "                   all         99        750      0.861      0.848       0.91       0.69\n"
          ]
        },
        {
          "output_type": "stream",
          "name": "stderr",
          "text": [
            "\n"
          ]
        },
        {
          "output_type": "stream",
          "name": "stdout",
          "text": [
            "\n",
            "      Epoch    GPU_mem   box_loss   cls_loss   dfl_loss  Instances       Size\n"
          ]
        },
        {
          "output_type": "stream",
          "name": "stderr",
          "text": [
            "     35/100      2.37G     0.7846     0.4994     0.8751        114        640: 100%|██████████| 32/32 [00:12<00:00,  2.63it/s]\n",
            "                 Class     Images  Instances      Box(P          R      mAP50  mAP50-95): 100%|██████████| 4/4 [00:02<00:00,  1.34it/s]"
          ]
        },
        {
          "output_type": "stream",
          "name": "stdout",
          "text": [
            "                   all         99        750      0.839      0.877      0.899      0.662\n"
          ]
        },
        {
          "output_type": "stream",
          "name": "stderr",
          "text": [
            "\n"
          ]
        },
        {
          "output_type": "stream",
          "name": "stdout",
          "text": [
            "\n",
            "      Epoch    GPU_mem   box_loss   cls_loss   dfl_loss  Instances       Size\n"
          ]
        },
        {
          "output_type": "stream",
          "name": "stderr",
          "text": [
            "     36/100      2.31G     0.7615     0.4879     0.8715         69        640: 100%|██████████| 32/32 [00:12<00:00,  2.56it/s]\n",
            "                 Class     Images  Instances      Box(P          R      mAP50  mAP50-95): 100%|██████████| 4/4 [00:03<00:00,  1.30it/s]"
          ]
        },
        {
          "output_type": "stream",
          "name": "stdout",
          "text": [
            "                   all         99        750      0.874      0.816      0.887      0.667\n"
          ]
        },
        {
          "output_type": "stream",
          "name": "stderr",
          "text": [
            "\n"
          ]
        },
        {
          "output_type": "stream",
          "name": "stdout",
          "text": [
            "\n",
            "      Epoch    GPU_mem   box_loss   cls_loss   dfl_loss  Instances       Size\n"
          ]
        },
        {
          "output_type": "stream",
          "name": "stderr",
          "text": [
            "     37/100      2.36G     0.7563     0.4844     0.8663         59        640: 100%|██████████| 32/32 [00:12<00:00,  2.65it/s]\n",
            "                 Class     Images  Instances      Box(P          R      mAP50  mAP50-95): 100%|██████████| 4/4 [00:02<00:00,  1.42it/s]"
          ]
        },
        {
          "output_type": "stream",
          "name": "stdout",
          "text": [
            "                   all         99        750      0.872       0.85      0.915      0.688\n"
          ]
        },
        {
          "output_type": "stream",
          "name": "stderr",
          "text": [
            "\n"
          ]
        },
        {
          "output_type": "stream",
          "name": "stdout",
          "text": [
            "\n",
            "      Epoch    GPU_mem   box_loss   cls_loss   dfl_loss  Instances       Size\n"
          ]
        },
        {
          "output_type": "stream",
          "name": "stderr",
          "text": [
            "     38/100      2.28G     0.7708     0.4929     0.8766         68        640: 100%|██████████| 32/32 [00:12<00:00,  2.62it/s]\n",
            "                 Class     Images  Instances      Box(P          R      mAP50  mAP50-95): 100%|██████████| 4/4 [00:02<00:00,  1.47it/s]"
          ]
        },
        {
          "output_type": "stream",
          "name": "stdout",
          "text": [
            "                   all         99        750      0.865      0.827      0.906      0.663\n"
          ]
        },
        {
          "output_type": "stream",
          "name": "stderr",
          "text": [
            "\n"
          ]
        },
        {
          "output_type": "stream",
          "name": "stdout",
          "text": [
            "\n",
            "      Epoch    GPU_mem   box_loss   cls_loss   dfl_loss  Instances       Size\n"
          ]
        },
        {
          "output_type": "stream",
          "name": "stderr",
          "text": [
            "     39/100      2.28G     0.7719     0.4775     0.8717         48        640: 100%|██████████| 32/32 [00:12<00:00,  2.62it/s]\n",
            "                 Class     Images  Instances      Box(P          R      mAP50  mAP50-95): 100%|██████████| 4/4 [00:02<00:00,  1.84it/s]\n"
          ]
        },
        {
          "output_type": "stream",
          "name": "stdout",
          "text": [
            "                   all         99        750      0.879      0.836      0.913      0.692\n",
            "\n",
            "      Epoch    GPU_mem   box_loss   cls_loss   dfl_loss  Instances       Size\n"
          ]
        },
        {
          "output_type": "stream",
          "name": "stderr",
          "text": [
            "     40/100      2.35G     0.7604     0.4796     0.8716         50        640: 100%|██████████| 32/32 [00:12<00:00,  2.49it/s]\n",
            "                 Class     Images  Instances      Box(P          R      mAP50  mAP50-95): 100%|██████████| 4/4 [00:01<00:00,  2.02it/s]\n"
          ]
        },
        {
          "output_type": "stream",
          "name": "stdout",
          "text": [
            "                   all         99        750      0.883      0.836       0.92      0.698\n",
            "\n",
            "      Epoch    GPU_mem   box_loss   cls_loss   dfl_loss  Instances       Size\n"
          ]
        },
        {
          "output_type": "stream",
          "name": "stderr",
          "text": [
            "     41/100      2.41G     0.7374     0.4671     0.8653         76        640: 100%|██████████| 32/32 [00:12<00:00,  2.50it/s]\n",
            "                 Class     Images  Instances      Box(P          R      mAP50  mAP50-95): 100%|██████████| 4/4 [00:02<00:00,  1.72it/s]"
          ]
        },
        {
          "output_type": "stream",
          "name": "stdout",
          "text": [
            "                   all         99        750       0.88      0.832      0.912      0.686\n"
          ]
        },
        {
          "output_type": "stream",
          "name": "stderr",
          "text": [
            "\n"
          ]
        },
        {
          "output_type": "stream",
          "name": "stdout",
          "text": [
            "\n",
            "      Epoch    GPU_mem   box_loss   cls_loss   dfl_loss  Instances       Size\n"
          ]
        },
        {
          "output_type": "stream",
          "name": "stderr",
          "text": [
            "     42/100      2.47G     0.7391      0.467     0.8614         44        640: 100%|██████████| 32/32 [00:12<00:00,  2.50it/s]\n",
            "                 Class     Images  Instances      Box(P          R      mAP50  mAP50-95): 100%|██████████| 4/4 [00:02<00:00,  1.71it/s]"
          ]
        },
        {
          "output_type": "stream",
          "name": "stdout",
          "text": [
            "                   all         99        750      0.884      0.857       0.92      0.694\n"
          ]
        },
        {
          "output_type": "stream",
          "name": "stderr",
          "text": [
            "\n"
          ]
        },
        {
          "output_type": "stream",
          "name": "stdout",
          "text": [
            "\n",
            "      Epoch    GPU_mem   box_loss   cls_loss   dfl_loss  Instances       Size\n"
          ]
        },
        {
          "output_type": "stream",
          "name": "stderr",
          "text": [
            "     43/100      2.37G     0.7239     0.4508     0.8583         48        640: 100%|██████████| 32/32 [00:12<00:00,  2.53it/s]\n",
            "                 Class     Images  Instances      Box(P          R      mAP50  mAP50-95): 100%|██████████| 4/4 [00:01<00:00,  2.06it/s]\n"
          ]
        },
        {
          "output_type": "stream",
          "name": "stdout",
          "text": [
            "                   all         99        750      0.867      0.857       0.92      0.694\n",
            "\n",
            "      Epoch    GPU_mem   box_loss   cls_loss   dfl_loss  Instances       Size\n"
          ]
        },
        {
          "output_type": "stream",
          "name": "stderr",
          "text": [
            "     44/100      2.39G     0.7226     0.4585     0.8591         76        640: 100%|██████████| 32/32 [00:13<00:00,  2.45it/s]\n",
            "                 Class     Images  Instances      Box(P          R      mAP50  mAP50-95): 100%|██████████| 4/4 [00:01<00:00,  2.22it/s]\n"
          ]
        },
        {
          "output_type": "stream",
          "name": "stdout",
          "text": [
            "                   all         99        750      0.865      0.872      0.922      0.705\n",
            "\n",
            "      Epoch    GPU_mem   box_loss   cls_loss   dfl_loss  Instances       Size\n"
          ]
        },
        {
          "output_type": "stream",
          "name": "stderr",
          "text": [
            "     45/100      2.36G     0.7437     0.4591     0.8625         74        640: 100%|██████████| 32/32 [00:12<00:00,  2.47it/s]\n",
            "                 Class     Images  Instances      Box(P          R      mAP50  mAP50-95): 100%|██████████| 4/4 [00:01<00:00,  2.41it/s]"
          ]
        },
        {
          "output_type": "stream",
          "name": "stdout",
          "text": [
            "                   all         99        750      0.873      0.882      0.923      0.692\n"
          ]
        },
        {
          "output_type": "stream",
          "name": "stderr",
          "text": [
            "\n"
          ]
        },
        {
          "output_type": "stream",
          "name": "stdout",
          "text": [
            "\n",
            "      Epoch    GPU_mem   box_loss   cls_loss   dfl_loss  Instances       Size\n"
          ]
        },
        {
          "output_type": "stream",
          "name": "stderr",
          "text": [
            "     46/100      2.26G     0.7163     0.4498     0.8547         43        640: 100%|██████████| 32/32 [00:13<00:00,  2.37it/s]\n",
            "                 Class     Images  Instances      Box(P          R      mAP50  mAP50-95): 100%|██████████| 4/4 [00:01<00:00,  2.43it/s]"
          ]
        },
        {
          "output_type": "stream",
          "name": "stdout",
          "text": [
            "                   all         99        750      0.889      0.857       0.93      0.711\n"
          ]
        },
        {
          "output_type": "stream",
          "name": "stderr",
          "text": [
            "\n"
          ]
        },
        {
          "output_type": "stream",
          "name": "stdout",
          "text": [
            "\n",
            "      Epoch    GPU_mem   box_loss   cls_loss   dfl_loss  Instances       Size\n"
          ]
        },
        {
          "output_type": "stream",
          "name": "stderr",
          "text": [
            "     47/100      2.38G     0.7192      0.448     0.8598         29        640: 100%|██████████| 32/32 [00:13<00:00,  2.35it/s]\n",
            "                 Class     Images  Instances      Box(P          R      mAP50  mAP50-95): 100%|██████████| 4/4 [00:01<00:00,  2.34it/s]"
          ]
        },
        {
          "output_type": "stream",
          "name": "stdout",
          "text": [
            "                   all         99        750      0.871      0.863      0.921      0.682\n"
          ]
        },
        {
          "output_type": "stream",
          "name": "stderr",
          "text": [
            "\n"
          ]
        },
        {
          "output_type": "stream",
          "name": "stdout",
          "text": [
            "\n",
            "      Epoch    GPU_mem   box_loss   cls_loss   dfl_loss  Instances       Size\n"
          ]
        },
        {
          "output_type": "stream",
          "name": "stderr",
          "text": [
            "     48/100      2.26G     0.7084     0.4433     0.8571         49        640: 100%|██████████| 32/32 [00:13<00:00,  2.38it/s]\n",
            "                 Class     Images  Instances      Box(P          R      mAP50  mAP50-95): 100%|██████████| 4/4 [00:01<00:00,  2.28it/s]"
          ]
        },
        {
          "output_type": "stream",
          "name": "stdout",
          "text": [
            "                   all         99        750      0.887      0.836      0.904      0.686\n"
          ]
        },
        {
          "output_type": "stream",
          "name": "stderr",
          "text": [
            "\n"
          ]
        },
        {
          "output_type": "stream",
          "name": "stdout",
          "text": [
            "\n",
            "      Epoch    GPU_mem   box_loss   cls_loss   dfl_loss  Instances       Size\n"
          ]
        },
        {
          "output_type": "stream",
          "name": "stderr",
          "text": [
            "     49/100      2.34G     0.7095     0.4436     0.8539         56        640: 100%|██████████| 32/32 [00:13<00:00,  2.33it/s]\n",
            "                 Class     Images  Instances      Box(P          R      mAP50  mAP50-95): 100%|██████████| 4/4 [00:01<00:00,  2.38it/s]"
          ]
        },
        {
          "output_type": "stream",
          "name": "stdout",
          "text": [
            "                   all         99        750      0.891      0.863      0.927      0.698\n"
          ]
        },
        {
          "output_type": "stream",
          "name": "stderr",
          "text": [
            "\n"
          ]
        },
        {
          "output_type": "stream",
          "name": "stdout",
          "text": [
            "\n",
            "      Epoch    GPU_mem   box_loss   cls_loss   dfl_loss  Instances       Size\n"
          ]
        },
        {
          "output_type": "stream",
          "name": "stderr",
          "text": [
            "     50/100      2.27G      0.709      0.438     0.8587         55        640: 100%|██████████| 32/32 [00:13<00:00,  2.37it/s]\n",
            "                 Class     Images  Instances      Box(P          R      mAP50  mAP50-95): 100%|██████████| 4/4 [00:01<00:00,  2.09it/s]"
          ]
        },
        {
          "output_type": "stream",
          "name": "stdout",
          "text": [
            "                   all         99        750      0.895      0.857      0.927      0.698\n"
          ]
        },
        {
          "output_type": "stream",
          "name": "stderr",
          "text": [
            "\n"
          ]
        },
        {
          "output_type": "stream",
          "name": "stdout",
          "text": [
            "\n",
            "      Epoch    GPU_mem   box_loss   cls_loss   dfl_loss  Instances       Size\n"
          ]
        },
        {
          "output_type": "stream",
          "name": "stderr",
          "text": [
            "     51/100      2.27G     0.7213     0.4419     0.8588         19        640: 100%|██████████| 32/32 [00:13<00:00,  2.36it/s]\n",
            "                 Class     Images  Instances      Box(P          R      mAP50  mAP50-95): 100%|██████████| 4/4 [00:01<00:00,  2.52it/s]"
          ]
        },
        {
          "output_type": "stream",
          "name": "stdout",
          "text": [
            "                   all         99        750      0.897       0.86      0.922      0.693\n"
          ]
        },
        {
          "output_type": "stream",
          "name": "stderr",
          "text": [
            "\n"
          ]
        },
        {
          "output_type": "stream",
          "name": "stdout",
          "text": [
            "\n",
            "      Epoch    GPU_mem   box_loss   cls_loss   dfl_loss  Instances       Size\n"
          ]
        },
        {
          "output_type": "stream",
          "name": "stderr",
          "text": [
            "     52/100      2.27G     0.6996     0.4327     0.8549         46        640: 100%|██████████| 32/32 [00:13<00:00,  2.30it/s]\n",
            "                 Class     Images  Instances      Box(P          R      mAP50  mAP50-95): 100%|██████████| 4/4 [00:01<00:00,  2.03it/s]"
          ]
        },
        {
          "output_type": "stream",
          "name": "stdout",
          "text": [
            "                   all         99        750      0.875      0.873      0.928      0.705\n"
          ]
        },
        {
          "output_type": "stream",
          "name": "stderr",
          "text": [
            "\n"
          ]
        },
        {
          "output_type": "stream",
          "name": "stdout",
          "text": [
            "\n",
            "      Epoch    GPU_mem   box_loss   cls_loss   dfl_loss  Instances       Size\n"
          ]
        },
        {
          "output_type": "stream",
          "name": "stderr",
          "text": [
            "     53/100      2.36G     0.6962     0.4357     0.8495         86        640: 100%|██████████| 32/32 [00:13<00:00,  2.40it/s]\n",
            "                 Class     Images  Instances      Box(P          R      mAP50  mAP50-95): 100%|██████████| 4/4 [00:01<00:00,  2.22it/s]"
          ]
        },
        {
          "output_type": "stream",
          "name": "stdout",
          "text": [
            "                   all         99        750      0.868      0.873      0.916      0.699\n"
          ]
        },
        {
          "output_type": "stream",
          "name": "stderr",
          "text": [
            "\n"
          ]
        },
        {
          "output_type": "stream",
          "name": "stdout",
          "text": [
            "\n",
            "      Epoch    GPU_mem   box_loss   cls_loss   dfl_loss  Instances       Size\n"
          ]
        },
        {
          "output_type": "stream",
          "name": "stderr",
          "text": [
            "     54/100      2.37G     0.7123     0.4424     0.8586         55        640: 100%|██████████| 32/32 [00:14<00:00,  2.20it/s]\n",
            "                 Class     Images  Instances      Box(P          R      mAP50  mAP50-95): 100%|██████████| 4/4 [00:03<00:00,  1.18it/s]"
          ]
        },
        {
          "output_type": "stream",
          "name": "stdout",
          "text": [
            "                   all         99        750      0.879       0.82      0.897      0.689\n"
          ]
        },
        {
          "output_type": "stream",
          "name": "stderr",
          "text": [
            "\n"
          ]
        },
        {
          "output_type": "stream",
          "name": "stdout",
          "text": [
            "\n",
            "      Epoch    GPU_mem   box_loss   cls_loss   dfl_loss  Instances       Size\n"
          ]
        },
        {
          "output_type": "stream",
          "name": "stderr",
          "text": [
            "     55/100      2.26G     0.6915      0.427     0.8504         41        640: 100%|██████████| 32/32 [00:12<00:00,  2.46it/s]\n",
            "                 Class     Images  Instances      Box(P          R      mAP50  mAP50-95): 100%|██████████| 4/4 [00:01<00:00,  2.33it/s]"
          ]
        },
        {
          "output_type": "stream",
          "name": "stdout",
          "text": [
            "                   all         99        750      0.908      0.827      0.922       0.71\n"
          ]
        },
        {
          "output_type": "stream",
          "name": "stderr",
          "text": [
            "\n"
          ]
        },
        {
          "output_type": "stream",
          "name": "stdout",
          "text": [
            "\n",
            "      Epoch    GPU_mem   box_loss   cls_loss   dfl_loss  Instances       Size\n"
          ]
        },
        {
          "output_type": "stream",
          "name": "stderr",
          "text": [
            "     56/100      2.35G     0.6781     0.4241     0.8551         37        640: 100%|██████████| 32/32 [00:12<00:00,  2.51it/s]\n",
            "                 Class     Images  Instances      Box(P          R      mAP50  mAP50-95): 100%|██████████| 4/4 [00:01<00:00,  2.07it/s]"
          ]
        },
        {
          "output_type": "stream",
          "name": "stdout",
          "text": [
            "                   all         99        750      0.884      0.829      0.909      0.697\n"
          ]
        },
        {
          "output_type": "stream",
          "name": "stderr",
          "text": [
            "\n"
          ]
        },
        {
          "output_type": "stream",
          "name": "stdout",
          "text": [
            "\n",
            "      Epoch    GPU_mem   box_loss   cls_loss   dfl_loss  Instances       Size\n"
          ]
        },
        {
          "output_type": "stream",
          "name": "stderr",
          "text": [
            "     57/100      2.37G     0.6918     0.4254     0.8507         48        640: 100%|██████████| 32/32 [00:13<00:00,  2.37it/s]\n",
            "                 Class     Images  Instances      Box(P          R      mAP50  mAP50-95): 100%|██████████| 4/4 [00:01<00:00,  2.46it/s]"
          ]
        },
        {
          "output_type": "stream",
          "name": "stdout",
          "text": [
            "                   all         99        750      0.896      0.831      0.908      0.683\n"
          ]
        },
        {
          "output_type": "stream",
          "name": "stderr",
          "text": [
            "\n"
          ]
        },
        {
          "output_type": "stream",
          "name": "stdout",
          "text": [
            "\n",
            "      Epoch    GPU_mem   box_loss   cls_loss   dfl_loss  Instances       Size\n"
          ]
        },
        {
          "output_type": "stream",
          "name": "stderr",
          "text": [
            "     58/100      2.36G     0.6842     0.4286     0.8499         38        640: 100%|██████████| 32/32 [00:13<00:00,  2.39it/s]\n",
            "                 Class     Images  Instances      Box(P          R      mAP50  mAP50-95): 100%|██████████| 4/4 [00:01<00:00,  2.40it/s]"
          ]
        },
        {
          "output_type": "stream",
          "name": "stdout",
          "text": [
            "                   all         99        750      0.877      0.856      0.915      0.707\n"
          ]
        },
        {
          "output_type": "stream",
          "name": "stderr",
          "text": [
            "\n"
          ]
        },
        {
          "output_type": "stream",
          "name": "stdout",
          "text": [
            "\n",
            "      Epoch    GPU_mem   box_loss   cls_loss   dfl_loss  Instances       Size\n"
          ]
        },
        {
          "output_type": "stream",
          "name": "stderr",
          "text": [
            "     59/100      2.41G     0.6736     0.4165      0.847         63        640: 100%|██████████| 32/32 [00:13<00:00,  2.39it/s]\n",
            "                 Class     Images  Instances      Box(P          R      mAP50  mAP50-95): 100%|██████████| 4/4 [00:01<00:00,  2.21it/s]"
          ]
        },
        {
          "output_type": "stream",
          "name": "stdout",
          "text": [
            "                   all         99        750      0.913      0.825      0.933      0.702\n"
          ]
        },
        {
          "output_type": "stream",
          "name": "stderr",
          "text": [
            "\n"
          ]
        },
        {
          "output_type": "stream",
          "name": "stdout",
          "text": [
            "\n",
            "      Epoch    GPU_mem   box_loss   cls_loss   dfl_loss  Instances       Size\n"
          ]
        },
        {
          "output_type": "stream",
          "name": "stderr",
          "text": [
            "     60/100      2.26G     0.6647      0.408     0.8451         57        640: 100%|██████████| 32/32 [00:13<00:00,  2.33it/s]\n",
            "                 Class     Images  Instances      Box(P          R      mAP50  mAP50-95): 100%|██████████| 4/4 [00:01<00:00,  2.31it/s]"
          ]
        },
        {
          "output_type": "stream",
          "name": "stdout",
          "text": [
            "                   all         99        750      0.887      0.861      0.927      0.714\n"
          ]
        },
        {
          "output_type": "stream",
          "name": "stderr",
          "text": [
            "\n"
          ]
        },
        {
          "output_type": "stream",
          "name": "stdout",
          "text": [
            "\n",
            "      Epoch    GPU_mem   box_loss   cls_loss   dfl_loss  Instances       Size\n"
          ]
        },
        {
          "output_type": "stream",
          "name": "stderr",
          "text": [
            "     61/100      2.28G     0.6652     0.4124     0.8476         64        640: 100%|██████████| 32/32 [00:13<00:00,  2.39it/s]\n",
            "                 Class     Images  Instances      Box(P          R      mAP50  mAP50-95): 100%|██████████| 4/4 [00:01<00:00,  2.21it/s]"
          ]
        },
        {
          "output_type": "stream",
          "name": "stdout",
          "text": [
            "                   all         99        750       0.87      0.881      0.929      0.718\n"
          ]
        },
        {
          "output_type": "stream",
          "name": "stderr",
          "text": [
            "\n"
          ]
        },
        {
          "output_type": "stream",
          "name": "stdout",
          "text": [
            "\n",
            "      Epoch    GPU_mem   box_loss   cls_loss   dfl_loss  Instances       Size\n"
          ]
        },
        {
          "output_type": "stream",
          "name": "stderr",
          "text": [
            "     62/100      2.28G     0.6566     0.4005     0.8408         77        640: 100%|██████████| 32/32 [00:13<00:00,  2.34it/s]\n",
            "                 Class     Images  Instances      Box(P          R      mAP50  mAP50-95): 100%|██████████| 4/4 [00:01<00:00,  2.15it/s]"
          ]
        },
        {
          "output_type": "stream",
          "name": "stdout",
          "text": [
            "                   all         99        750      0.909      0.855      0.931      0.706\n"
          ]
        },
        {
          "output_type": "stream",
          "name": "stderr",
          "text": [
            "\n"
          ]
        },
        {
          "output_type": "stream",
          "name": "stdout",
          "text": [
            "\n",
            "      Epoch    GPU_mem   box_loss   cls_loss   dfl_loss  Instances       Size\n"
          ]
        },
        {
          "output_type": "stream",
          "name": "stderr",
          "text": [
            "     63/100      2.37G     0.6588      0.405      0.846         82        640: 100%|██████████| 32/32 [00:13<00:00,  2.39it/s]\n",
            "                 Class     Images  Instances      Box(P          R      mAP50  mAP50-95): 100%|██████████| 4/4 [00:01<00:00,  2.07it/s]"
          ]
        },
        {
          "output_type": "stream",
          "name": "stdout",
          "text": [
            "                   all         99        750      0.908      0.857      0.923       0.72\n"
          ]
        },
        {
          "output_type": "stream",
          "name": "stderr",
          "text": [
            "\n"
          ]
        },
        {
          "output_type": "stream",
          "name": "stdout",
          "text": [
            "\n",
            "      Epoch    GPU_mem   box_loss   cls_loss   dfl_loss  Instances       Size\n"
          ]
        },
        {
          "output_type": "stream",
          "name": "stderr",
          "text": [
            "     64/100      2.37G     0.6433     0.3997     0.8429         61        640: 100%|██████████| 32/32 [00:13<00:00,  2.34it/s]\n",
            "                 Class     Images  Instances      Box(P          R      mAP50  mAP50-95): 100%|██████████| 4/4 [00:01<00:00,  2.22it/s]"
          ]
        },
        {
          "output_type": "stream",
          "name": "stdout",
          "text": [
            "                   all         99        750      0.882       0.88      0.923      0.716\n"
          ]
        },
        {
          "output_type": "stream",
          "name": "stderr",
          "text": [
            "\n"
          ]
        },
        {
          "output_type": "stream",
          "name": "stdout",
          "text": [
            "\n",
            "      Epoch    GPU_mem   box_loss   cls_loss   dfl_loss  Instances       Size\n"
          ]
        },
        {
          "output_type": "stream",
          "name": "stderr",
          "text": [
            "     65/100      2.37G     0.6525     0.4009     0.8404         69        640: 100%|██████████| 32/32 [00:13<00:00,  2.35it/s]\n",
            "                 Class     Images  Instances      Box(P          R      mAP50  mAP50-95): 100%|██████████| 4/4 [00:01<00:00,  2.29it/s]"
          ]
        },
        {
          "output_type": "stream",
          "name": "stdout",
          "text": [
            "                   all         99        750      0.893      0.891      0.934      0.725\n"
          ]
        },
        {
          "output_type": "stream",
          "name": "stderr",
          "text": [
            "\n"
          ]
        },
        {
          "output_type": "stream",
          "name": "stdout",
          "text": [
            "\n",
            "      Epoch    GPU_mem   box_loss   cls_loss   dfl_loss  Instances       Size\n"
          ]
        },
        {
          "output_type": "stream",
          "name": "stderr",
          "text": [
            "     66/100      2.28G     0.6305     0.3894     0.8375         54        640: 100%|██████████| 32/32 [00:13<00:00,  2.35it/s]\n",
            "                 Class     Images  Instances      Box(P          R      mAP50  mAP50-95): 100%|██████████| 4/4 [00:01<00:00,  2.53it/s]"
          ]
        },
        {
          "output_type": "stream",
          "name": "stdout",
          "text": [
            "                   all         99        750      0.919      0.835      0.925      0.702\n"
          ]
        },
        {
          "output_type": "stream",
          "name": "stderr",
          "text": [
            "\n"
          ]
        },
        {
          "output_type": "stream",
          "name": "stdout",
          "text": [
            "\n",
            "      Epoch    GPU_mem   box_loss   cls_loss   dfl_loss  Instances       Size\n"
          ]
        },
        {
          "output_type": "stream",
          "name": "stderr",
          "text": [
            "     67/100      2.37G     0.6468     0.3971     0.8438         35        640: 100%|██████████| 32/32 [00:13<00:00,  2.36it/s]\n",
            "                 Class     Images  Instances      Box(P          R      mAP50  mAP50-95): 100%|██████████| 4/4 [00:01<00:00,  2.24it/s]"
          ]
        },
        {
          "output_type": "stream",
          "name": "stdout",
          "text": [
            "                   all         99        750      0.885      0.872      0.922       0.71\n"
          ]
        },
        {
          "output_type": "stream",
          "name": "stderr",
          "text": [
            "\n"
          ]
        },
        {
          "output_type": "stream",
          "name": "stdout",
          "text": [
            "\n",
            "      Epoch    GPU_mem   box_loss   cls_loss   dfl_loss  Instances       Size\n"
          ]
        },
        {
          "output_type": "stream",
          "name": "stderr",
          "text": [
            "     68/100      2.38G     0.6393     0.3939     0.8399         34        640: 100%|██████████| 32/32 [00:13<00:00,  2.32it/s]\n",
            "                 Class     Images  Instances      Box(P          R      mAP50  mAP50-95): 100%|██████████| 4/4 [00:01<00:00,  2.24it/s]"
          ]
        },
        {
          "output_type": "stream",
          "name": "stdout",
          "text": [
            "                   all         99        750      0.905      0.873      0.926      0.708\n"
          ]
        },
        {
          "output_type": "stream",
          "name": "stderr",
          "text": [
            "\n"
          ]
        },
        {
          "output_type": "stream",
          "name": "stdout",
          "text": [
            "\n",
            "      Epoch    GPU_mem   box_loss   cls_loss   dfl_loss  Instances       Size\n"
          ]
        },
        {
          "output_type": "stream",
          "name": "stderr",
          "text": [
            "     69/100      2.36G      0.632     0.3909     0.8408         40        640: 100%|██████████| 32/32 [00:13<00:00,  2.34it/s]\n",
            "                 Class     Images  Instances      Box(P          R      mAP50  mAP50-95): 100%|██████████| 4/4 [00:01<00:00,  2.23it/s]"
          ]
        },
        {
          "output_type": "stream",
          "name": "stdout",
          "text": [
            "                   all         99        750      0.904      0.875      0.923      0.707\n"
          ]
        },
        {
          "output_type": "stream",
          "name": "stderr",
          "text": [
            "\n"
          ]
        },
        {
          "output_type": "stream",
          "name": "stdout",
          "text": [
            "\n",
            "      Epoch    GPU_mem   box_loss   cls_loss   dfl_loss  Instances       Size\n"
          ]
        },
        {
          "output_type": "stream",
          "name": "stderr",
          "text": [
            "     70/100      2.35G     0.6136     0.3826     0.8371         61        640: 100%|██████████| 32/32 [00:13<00:00,  2.35it/s]\n",
            "                 Class     Images  Instances      Box(P          R      mAP50  mAP50-95): 100%|██████████| 4/4 [00:01<00:00,  2.21it/s]"
          ]
        },
        {
          "output_type": "stream",
          "name": "stdout",
          "text": [
            "                   all         99        750      0.893      0.864      0.922      0.707\n"
          ]
        },
        {
          "output_type": "stream",
          "name": "stderr",
          "text": [
            "\n"
          ]
        },
        {
          "output_type": "stream",
          "name": "stdout",
          "text": [
            "\n",
            "      Epoch    GPU_mem   box_loss   cls_loss   dfl_loss  Instances       Size\n"
          ]
        },
        {
          "output_type": "stream",
          "name": "stderr",
          "text": [
            "     71/100      2.37G     0.6241     0.3896     0.8421         23        640: 100%|██████████| 32/32 [00:13<00:00,  2.30it/s]\n",
            "                 Class     Images  Instances      Box(P          R      mAP50  mAP50-95): 100%|██████████| 4/4 [00:01<00:00,  2.48it/s]"
          ]
        },
        {
          "output_type": "stream",
          "name": "stdout",
          "text": [
            "                   all         99        750      0.902      0.891       0.93      0.722\n"
          ]
        },
        {
          "output_type": "stream",
          "name": "stderr",
          "text": [
            "\n"
          ]
        },
        {
          "output_type": "stream",
          "name": "stdout",
          "text": [
            "\n",
            "      Epoch    GPU_mem   box_loss   cls_loss   dfl_loss  Instances       Size\n"
          ]
        },
        {
          "output_type": "stream",
          "name": "stderr",
          "text": [
            "     72/100      2.37G     0.6242     0.3809      0.842         60        640: 100%|██████████| 32/32 [00:13<00:00,  2.32it/s]\n",
            "                 Class     Images  Instances      Box(P          R      mAP50  mAP50-95): 100%|██████████| 4/4 [00:01<00:00,  2.33it/s]"
          ]
        },
        {
          "output_type": "stream",
          "name": "stdout",
          "text": [
            "                   all         99        750      0.893      0.865      0.927      0.711\n"
          ]
        },
        {
          "output_type": "stream",
          "name": "stderr",
          "text": [
            "\n"
          ]
        },
        {
          "output_type": "stream",
          "name": "stdout",
          "text": [
            "\n",
            "      Epoch    GPU_mem   box_loss   cls_loss   dfl_loss  Instances       Size\n"
          ]
        },
        {
          "output_type": "stream",
          "name": "stderr",
          "text": [
            "     73/100      2.34G      0.609     0.3818     0.8338         52        640: 100%|██████████| 32/32 [00:13<00:00,  2.36it/s]\n",
            "                 Class     Images  Instances      Box(P          R      mAP50  mAP50-95): 100%|██████████| 4/4 [00:01<00:00,  2.55it/s]"
          ]
        },
        {
          "output_type": "stream",
          "name": "stdout",
          "text": [
            "                   all         99        750      0.893      0.845      0.916      0.711\n"
          ]
        },
        {
          "output_type": "stream",
          "name": "stderr",
          "text": [
            "\n"
          ]
        },
        {
          "output_type": "stream",
          "name": "stdout",
          "text": [
            "\n",
            "      Epoch    GPU_mem   box_loss   cls_loss   dfl_loss  Instances       Size\n"
          ]
        },
        {
          "output_type": "stream",
          "name": "stderr",
          "text": [
            "     74/100      2.38G     0.6134     0.3776     0.8392         33        640: 100%|██████████| 32/32 [00:13<00:00,  2.38it/s]\n",
            "                 Class     Images  Instances      Box(P          R      mAP50  mAP50-95): 100%|██████████| 4/4 [00:01<00:00,  2.00it/s]"
          ]
        },
        {
          "output_type": "stream",
          "name": "stdout",
          "text": [
            "                   all         99        750      0.917      0.864      0.927      0.717\n"
          ]
        },
        {
          "output_type": "stream",
          "name": "stderr",
          "text": [
            "\n"
          ]
        },
        {
          "output_type": "stream",
          "name": "stdout",
          "text": [
            "\n",
            "      Epoch    GPU_mem   box_loss   cls_loss   dfl_loss  Instances       Size\n"
          ]
        },
        {
          "output_type": "stream",
          "name": "stderr",
          "text": [
            "     75/100       2.4G     0.6258     0.3869     0.8384         69        640: 100%|██████████| 32/32 [00:13<00:00,  2.36it/s]\n",
            "                 Class     Images  Instances      Box(P          R      mAP50  mAP50-95): 100%|██████████| 4/4 [00:01<00:00,  2.33it/s]"
          ]
        },
        {
          "output_type": "stream",
          "name": "stdout",
          "text": [
            "                   all         99        750        0.9      0.884      0.927       0.71\n"
          ]
        },
        {
          "output_type": "stream",
          "name": "stderr",
          "text": [
            "\n"
          ]
        },
        {
          "output_type": "stream",
          "name": "stdout",
          "text": [
            "\n",
            "      Epoch    GPU_mem   box_loss   cls_loss   dfl_loss  Instances       Size\n"
          ]
        },
        {
          "output_type": "stream",
          "name": "stderr",
          "text": [
            "     76/100      2.36G     0.6133     0.3798     0.8373         66        640: 100%|██████████| 32/32 [00:13<00:00,  2.32it/s]\n",
            "                 Class     Images  Instances      Box(P          R      mAP50  mAP50-95): 100%|██████████| 4/4 [00:01<00:00,  2.12it/s]\n"
          ]
        },
        {
          "output_type": "stream",
          "name": "stdout",
          "text": [
            "                   all         99        750      0.876      0.895      0.934      0.721\n",
            "\n",
            "      Epoch    GPU_mem   box_loss   cls_loss   dfl_loss  Instances       Size\n"
          ]
        },
        {
          "output_type": "stream",
          "name": "stderr",
          "text": [
            "     77/100      2.33G      0.616     0.3736     0.8362         60        640: 100%|██████████| 32/32 [00:13<00:00,  2.34it/s]\n",
            "                 Class     Images  Instances      Box(P          R      mAP50  mAP50-95): 100%|██████████| 4/4 [00:01<00:00,  2.31it/s]"
          ]
        },
        {
          "output_type": "stream",
          "name": "stdout",
          "text": [
            "                   all         99        750       0.88      0.869      0.925      0.717\n"
          ]
        },
        {
          "output_type": "stream",
          "name": "stderr",
          "text": [
            "\n"
          ]
        },
        {
          "output_type": "stream",
          "name": "stdout",
          "text": [
            "\n",
            "      Epoch    GPU_mem   box_loss   cls_loss   dfl_loss  Instances       Size\n"
          ]
        },
        {
          "output_type": "stream",
          "name": "stderr",
          "text": [
            "     78/100      2.28G     0.6048     0.3696     0.8348         64        640: 100%|██████████| 32/32 [00:13<00:00,  2.32it/s]\n",
            "                 Class     Images  Instances      Box(P          R      mAP50  mAP50-95): 100%|██████████| 4/4 [00:01<00:00,  2.47it/s]"
          ]
        },
        {
          "output_type": "stream",
          "name": "stdout",
          "text": [
            "                   all         99        750      0.909      0.852      0.936      0.725\n"
          ]
        },
        {
          "output_type": "stream",
          "name": "stderr",
          "text": [
            "\n"
          ]
        },
        {
          "output_type": "stream",
          "name": "stdout",
          "text": [
            "\n",
            "      Epoch    GPU_mem   box_loss   cls_loss   dfl_loss  Instances       Size\n"
          ]
        },
        {
          "output_type": "stream",
          "name": "stderr",
          "text": [
            "     79/100      2.39G     0.6027     0.3725     0.8259         67        640: 100%|██████████| 32/32 [00:13<00:00,  2.35it/s]\n",
            "                 Class     Images  Instances      Box(P          R      mAP50  mAP50-95): 100%|██████████| 4/4 [00:01<00:00,  2.14it/s]"
          ]
        },
        {
          "output_type": "stream",
          "name": "stdout",
          "text": [
            "                   all         99        750      0.883      0.856      0.929      0.723\n"
          ]
        },
        {
          "output_type": "stream",
          "name": "stderr",
          "text": [
            "\n"
          ]
        },
        {
          "output_type": "stream",
          "name": "stdout",
          "text": [
            "\n",
            "      Epoch    GPU_mem   box_loss   cls_loss   dfl_loss  Instances       Size\n"
          ]
        },
        {
          "output_type": "stream",
          "name": "stderr",
          "text": [
            "     80/100      2.28G      0.584     0.3624      0.827         40        640: 100%|██████████| 32/32 [00:13<00:00,  2.34it/s]\n",
            "                 Class     Images  Instances      Box(P          R      mAP50  mAP50-95): 100%|██████████| 4/4 [00:01<00:00,  2.37it/s]"
          ]
        },
        {
          "output_type": "stream",
          "name": "stdout",
          "text": [
            "                   all         99        750      0.887      0.883      0.931      0.722\n"
          ]
        },
        {
          "output_type": "stream",
          "name": "stderr",
          "text": [
            "\n"
          ]
        },
        {
          "output_type": "stream",
          "name": "stdout",
          "text": [
            "\n",
            "      Epoch    GPU_mem   box_loss   cls_loss   dfl_loss  Instances       Size\n"
          ]
        },
        {
          "output_type": "stream",
          "name": "stderr",
          "text": [
            "     81/100      2.35G     0.6087     0.3733     0.8366         84        640: 100%|██████████| 32/32 [00:13<00:00,  2.33it/s]\n",
            "                 Class     Images  Instances      Box(P          R      mAP50  mAP50-95): 100%|██████████| 4/4 [00:01<00:00,  2.24it/s]\n"
          ]
        },
        {
          "output_type": "stream",
          "name": "stdout",
          "text": [
            "                   all         99        750      0.876      0.872       0.93      0.725\n",
            "\n",
            "      Epoch    GPU_mem   box_loss   cls_loss   dfl_loss  Instances       Size\n"
          ]
        },
        {
          "output_type": "stream",
          "name": "stderr",
          "text": [
            "     82/100      2.27G     0.5826     0.3584     0.8297         58        640: 100%|██████████| 32/32 [00:13<00:00,  2.32it/s]\n",
            "                 Class     Images  Instances      Box(P          R      mAP50  mAP50-95): 100%|██████████| 4/4 [00:01<00:00,  2.45it/s]"
          ]
        },
        {
          "output_type": "stream",
          "name": "stdout",
          "text": [
            "                   all         99        750      0.892      0.905      0.936      0.726\n"
          ]
        },
        {
          "output_type": "stream",
          "name": "stderr",
          "text": [
            "\n"
          ]
        },
        {
          "output_type": "stream",
          "name": "stdout",
          "text": [
            "\n",
            "      Epoch    GPU_mem   box_loss   cls_loss   dfl_loss  Instances       Size\n"
          ]
        },
        {
          "output_type": "stream",
          "name": "stderr",
          "text": [
            "     83/100      2.47G     0.5757     0.3531     0.8241         29        640: 100%|██████████| 32/32 [00:13<00:00,  2.31it/s]\n",
            "                 Class     Images  Instances      Box(P          R      mAP50  mAP50-95): 100%|██████████| 4/4 [00:02<00:00,  1.75it/s]\n"
          ]
        },
        {
          "output_type": "stream",
          "name": "stdout",
          "text": [
            "                   all         99        750        0.9      0.879      0.936      0.728\n",
            "\n",
            "      Epoch    GPU_mem   box_loss   cls_loss   dfl_loss  Instances       Size\n"
          ]
        },
        {
          "output_type": "stream",
          "name": "stderr",
          "text": [
            "     84/100      2.46G     0.5834     0.3602     0.8318         42        640: 100%|██████████| 32/32 [00:15<00:00,  2.07it/s]\n",
            "                 Class     Images  Instances      Box(P          R      mAP50  mAP50-95): 100%|██████████| 4/4 [00:01<00:00,  2.13it/s]"
          ]
        },
        {
          "output_type": "stream",
          "name": "stdout",
          "text": [
            "                   all         99        750      0.899      0.906      0.938      0.726\n"
          ]
        },
        {
          "output_type": "stream",
          "name": "stderr",
          "text": [
            "\n"
          ]
        },
        {
          "output_type": "stream",
          "name": "stdout",
          "text": [
            "\n",
            "      Epoch    GPU_mem   box_loss   cls_loss   dfl_loss  Instances       Size\n"
          ]
        },
        {
          "output_type": "stream",
          "name": "stderr",
          "text": [
            "     85/100       2.4G     0.5753     0.3558     0.8302         60        640: 100%|██████████| 32/32 [00:13<00:00,  2.31it/s]\n",
            "                 Class     Images  Instances      Box(P          R      mAP50  mAP50-95): 100%|██████████| 4/4 [00:01<00:00,  2.30it/s]"
          ]
        },
        {
          "output_type": "stream",
          "name": "stdout",
          "text": [
            "                   all         99        750      0.888      0.897       0.94      0.727\n"
          ]
        },
        {
          "output_type": "stream",
          "name": "stderr",
          "text": [
            "\n"
          ]
        },
        {
          "output_type": "stream",
          "name": "stdout",
          "text": [
            "\n",
            "      Epoch    GPU_mem   box_loss   cls_loss   dfl_loss  Instances       Size\n"
          ]
        },
        {
          "output_type": "stream",
          "name": "stderr",
          "text": [
            "     86/100      2.36G     0.5637     0.3508     0.8248         45        640: 100%|██████████| 32/32 [00:13<00:00,  2.36it/s]\n",
            "                 Class     Images  Instances      Box(P          R      mAP50  mAP50-95): 100%|██████████| 4/4 [00:01<00:00,  2.17it/s]"
          ]
        },
        {
          "output_type": "stream",
          "name": "stdout",
          "text": [
            "                   all         99        750      0.887      0.865      0.925      0.722\n"
          ]
        },
        {
          "output_type": "stream",
          "name": "stderr",
          "text": [
            "\n"
          ]
        },
        {
          "output_type": "stream",
          "name": "stdout",
          "text": [
            "\n",
            "      Epoch    GPU_mem   box_loss   cls_loss   dfl_loss  Instances       Size\n"
          ]
        },
        {
          "output_type": "stream",
          "name": "stderr",
          "text": [
            "     87/100      2.38G     0.5795     0.3579     0.8328         62        640: 100%|██████████| 32/32 [00:13<00:00,  2.32it/s]\n",
            "                 Class     Images  Instances      Box(P          R      mAP50  mAP50-95): 100%|██████████| 4/4 [00:01<00:00,  2.11it/s]"
          ]
        },
        {
          "output_type": "stream",
          "name": "stdout",
          "text": [
            "                   all         99        750      0.906      0.884      0.932       0.72\n"
          ]
        },
        {
          "output_type": "stream",
          "name": "stderr",
          "text": [
            "\n"
          ]
        },
        {
          "output_type": "stream",
          "name": "stdout",
          "text": [
            "\n",
            "      Epoch    GPU_mem   box_loss   cls_loss   dfl_loss  Instances       Size\n"
          ]
        },
        {
          "output_type": "stream",
          "name": "stderr",
          "text": [
            "     88/100      2.39G     0.5692     0.3513     0.8252         47        640: 100%|██████████| 32/32 [00:13<00:00,  2.38it/s]\n",
            "                 Class     Images  Instances      Box(P          R      mAP50  mAP50-95): 100%|██████████| 4/4 [00:01<00:00,  2.18it/s]"
          ]
        },
        {
          "output_type": "stream",
          "name": "stdout",
          "text": [
            "                   all         99        750      0.895      0.889      0.933      0.726\n"
          ]
        },
        {
          "output_type": "stream",
          "name": "stderr",
          "text": [
            "\n"
          ]
        },
        {
          "output_type": "stream",
          "name": "stdout",
          "text": [
            "\n",
            "      Epoch    GPU_mem   box_loss   cls_loss   dfl_loss  Instances       Size\n"
          ]
        },
        {
          "output_type": "stream",
          "name": "stderr",
          "text": [
            "     89/100      2.26G     0.5603     0.3445     0.8272         61        640: 100%|██████████| 32/32 [00:13<00:00,  2.33it/s]\n",
            "                 Class     Images  Instances      Box(P          R      mAP50  mAP50-95): 100%|██████████| 4/4 [00:01<00:00,  2.19it/s]"
          ]
        },
        {
          "output_type": "stream",
          "name": "stdout",
          "text": [
            "                   all         99        750      0.922      0.892      0.936       0.73\n"
          ]
        },
        {
          "output_type": "stream",
          "name": "stderr",
          "text": [
            "\n"
          ]
        },
        {
          "output_type": "stream",
          "name": "stdout",
          "text": [
            "\n",
            "      Epoch    GPU_mem   box_loss   cls_loss   dfl_loss  Instances       Size\n"
          ]
        },
        {
          "output_type": "stream",
          "name": "stderr",
          "text": [
            "     90/100      2.36G     0.5657     0.3473     0.8271         61        640: 100%|██████████| 32/32 [00:13<00:00,  2.34it/s]\n",
            "                 Class     Images  Instances      Box(P          R      mAP50  mAP50-95): 100%|██████████| 4/4 [00:01<00:00,  2.48it/s]"
          ]
        },
        {
          "output_type": "stream",
          "name": "stdout",
          "text": [
            "                   all         99        750      0.911      0.879      0.935      0.731\n"
          ]
        },
        {
          "output_type": "stream",
          "name": "stderr",
          "text": [
            "\n"
          ]
        },
        {
          "output_type": "stream",
          "name": "stdout",
          "text": [
            "Closing dataloader mosaic\n",
            "\u001b[34m\u001b[1malbumentations: \u001b[0mBlur(p=0.01, blur_limit=(3, 7)), MedianBlur(p=0.01, blur_limit=(3, 7)), ToGray(p=0.01), CLAHE(p=0.01, clip_limit=(1, 4.0), tile_grid_size=(8, 8))\n",
            "\n",
            "      Epoch    GPU_mem   box_loss   cls_loss   dfl_loss  Instances       Size\n"
          ]
        },
        {
          "output_type": "stream",
          "name": "stderr",
          "text": [
            "     91/100      2.56G     0.5631     0.3411     0.8146         33        640: 100%|██████████| 32/32 [00:16<00:00,  1.94it/s]\n",
            "                 Class     Images  Instances      Box(P          R      mAP50  mAP50-95): 100%|██████████| 4/4 [00:01<00:00,  2.60it/s]"
          ]
        },
        {
          "output_type": "stream",
          "name": "stdout",
          "text": [
            "                   all         99        750      0.899      0.881      0.931      0.722\n"
          ]
        },
        {
          "output_type": "stream",
          "name": "stderr",
          "text": [
            "\n"
          ]
        },
        {
          "output_type": "stream",
          "name": "stdout",
          "text": [
            "\n",
            "      Epoch    GPU_mem   box_loss   cls_loss   dfl_loss  Instances       Size\n"
          ]
        },
        {
          "output_type": "stream",
          "name": "stderr",
          "text": [
            "     92/100      2.37G     0.5369     0.3257      0.818         46        640: 100%|██████████| 32/32 [00:12<00:00,  2.54it/s]\n",
            "                 Class     Images  Instances      Box(P          R      mAP50  mAP50-95): 100%|██████████| 4/4 [00:01<00:00,  2.36it/s]"
          ]
        },
        {
          "output_type": "stream",
          "name": "stdout",
          "text": [
            "                   all         99        750        0.9      0.896      0.933      0.728\n"
          ]
        },
        {
          "output_type": "stream",
          "name": "stderr",
          "text": [
            "\n"
          ]
        },
        {
          "output_type": "stream",
          "name": "stdout",
          "text": [
            "\n",
            "      Epoch    GPU_mem   box_loss   cls_loss   dfl_loss  Instances       Size\n"
          ]
        },
        {
          "output_type": "stream",
          "name": "stderr",
          "text": [
            "     93/100      2.34G      0.531      0.321     0.8092         29        640: 100%|██████████| 32/32 [00:12<00:00,  2.51it/s]\n",
            "                 Class     Images  Instances      Box(P          R      mAP50  mAP50-95): 100%|██████████| 4/4 [00:01<00:00,  2.48it/s]"
          ]
        },
        {
          "output_type": "stream",
          "name": "stdout",
          "text": [
            "                   all         99        750      0.888      0.896      0.939      0.729\n"
          ]
        },
        {
          "output_type": "stream",
          "name": "stderr",
          "text": [
            "\n"
          ]
        },
        {
          "output_type": "stream",
          "name": "stdout",
          "text": [
            "\n",
            "      Epoch    GPU_mem   box_loss   cls_loss   dfl_loss  Instances       Size\n"
          ]
        },
        {
          "output_type": "stream",
          "name": "stderr",
          "text": [
            "     94/100      2.35G      0.542     0.3201     0.8246         48        640: 100%|██████████| 32/32 [00:13<00:00,  2.46it/s]\n",
            "                 Class     Images  Instances      Box(P          R      mAP50  mAP50-95): 100%|██████████| 4/4 [00:01<00:00,  2.30it/s]"
          ]
        },
        {
          "output_type": "stream",
          "name": "stdout",
          "text": [
            "                   all         99        750      0.892      0.894      0.935      0.727\n"
          ]
        },
        {
          "output_type": "stream",
          "name": "stderr",
          "text": [
            "\n"
          ]
        },
        {
          "output_type": "stream",
          "name": "stdout",
          "text": [
            "\n",
            "      Epoch    GPU_mem   box_loss   cls_loss   dfl_loss  Instances       Size\n"
          ]
        },
        {
          "output_type": "stream",
          "name": "stderr",
          "text": [
            "     95/100      2.37G     0.5113     0.3144     0.8164         22        640: 100%|██████████| 32/32 [00:12<00:00,  2.49it/s]\n",
            "                 Class     Images  Instances      Box(P          R      mAP50  mAP50-95): 100%|██████████| 4/4 [00:01<00:00,  2.54it/s]"
          ]
        },
        {
          "output_type": "stream",
          "name": "stdout",
          "text": [
            "                   all         99        750      0.892      0.879      0.933      0.727\n"
          ]
        },
        {
          "output_type": "stream",
          "name": "stderr",
          "text": [
            "\n"
          ]
        },
        {
          "output_type": "stream",
          "name": "stdout",
          "text": [
            "\n",
            "      Epoch    GPU_mem   box_loss   cls_loss   dfl_loss  Instances       Size\n"
          ]
        },
        {
          "output_type": "stream",
          "name": "stderr",
          "text": [
            "     96/100      2.37G     0.5258      0.318     0.8162         35        640: 100%|██████████| 32/32 [00:12<00:00,  2.51it/s]\n",
            "                 Class     Images  Instances      Box(P          R      mAP50  mAP50-95): 100%|██████████| 4/4 [00:01<00:00,  2.16it/s]"
          ]
        },
        {
          "output_type": "stream",
          "name": "stdout",
          "text": [
            "                   all         99        750      0.891       0.88      0.933      0.724\n"
          ]
        },
        {
          "output_type": "stream",
          "name": "stderr",
          "text": [
            "\n"
          ]
        },
        {
          "output_type": "stream",
          "name": "stdout",
          "text": [
            "\n",
            "      Epoch    GPU_mem   box_loss   cls_loss   dfl_loss  Instances       Size\n"
          ]
        },
        {
          "output_type": "stream",
          "name": "stderr",
          "text": [
            "     97/100      2.37G     0.5217     0.3118     0.8163         41        640: 100%|██████████| 32/32 [00:12<00:00,  2.53it/s]\n",
            "                 Class     Images  Instances      Box(P          R      mAP50  mAP50-95): 100%|██████████| 4/4 [00:01<00:00,  2.36it/s]"
          ]
        },
        {
          "output_type": "stream",
          "name": "stdout",
          "text": [
            "                   all         99        750      0.899       0.88      0.933      0.732\n"
          ]
        },
        {
          "output_type": "stream",
          "name": "stderr",
          "text": [
            "\n"
          ]
        },
        {
          "output_type": "stream",
          "name": "stdout",
          "text": [
            "\n",
            "      Epoch    GPU_mem   box_loss   cls_loss   dfl_loss  Instances       Size\n"
          ]
        },
        {
          "output_type": "stream",
          "name": "stderr",
          "text": [
            "     98/100      2.34G     0.5089     0.3121     0.8116         35        640: 100%|██████████| 32/32 [00:12<00:00,  2.51it/s]\n",
            "                 Class     Images  Instances      Box(P          R      mAP50  mAP50-95): 100%|██████████| 4/4 [00:01<00:00,  2.29it/s]"
          ]
        },
        {
          "output_type": "stream",
          "name": "stdout",
          "text": [
            "                   all         99        750      0.912      0.882      0.937      0.733\n"
          ]
        },
        {
          "output_type": "stream",
          "name": "stderr",
          "text": [
            "\n"
          ]
        },
        {
          "output_type": "stream",
          "name": "stdout",
          "text": [
            "\n",
            "      Epoch    GPU_mem   box_loss   cls_loss   dfl_loss  Instances       Size\n"
          ]
        },
        {
          "output_type": "stream",
          "name": "stderr",
          "text": [
            "     99/100      2.34G     0.5098     0.3082     0.8116         41        640: 100%|██████████| 32/32 [00:12<00:00,  2.54it/s]\n",
            "                 Class     Images  Instances      Box(P          R      mAP50  mAP50-95): 100%|██████████| 4/4 [00:02<00:00,  1.93it/s]"
          ]
        },
        {
          "output_type": "stream",
          "name": "stdout",
          "text": [
            "                   all         99        750       0.91      0.881      0.935       0.73\n"
          ]
        },
        {
          "output_type": "stream",
          "name": "stderr",
          "text": [
            "\n"
          ]
        },
        {
          "output_type": "stream",
          "name": "stdout",
          "text": [
            "\n",
            "      Epoch    GPU_mem   box_loss   cls_loss   dfl_loss  Instances       Size\n"
          ]
        },
        {
          "output_type": "stream",
          "name": "stderr",
          "text": [
            "    100/100      2.34G      0.504     0.3065     0.8068         27        640: 100%|██████████| 32/32 [00:12<00:00,  2.63it/s]\n",
            "                 Class     Images  Instances      Box(P          R      mAP50  mAP50-95): 100%|██████████| 4/4 [00:02<00:00,  1.78it/s]"
          ]
        },
        {
          "output_type": "stream",
          "name": "stdout",
          "text": [
            "                   all         99        750      0.905      0.881      0.937      0.733\n"
          ]
        },
        {
          "output_type": "stream",
          "name": "stderr",
          "text": [
            "\n"
          ]
        },
        {
          "output_type": "stream",
          "name": "stdout",
          "text": [
            "\n",
            "100 epochs completed in 0.453 hours.\n",
            "Optimizer stripped from runs/detect/train/weights/last.pt, 6.2MB\n",
            "Optimizer stripped from runs/detect/train/weights/best.pt, 6.2MB\n",
            "\n",
            "Validating runs/detect/train/weights/best.pt...\n",
            "Ultralytics YOLOv8.0.229 🚀 Python-3.10.12 torch-2.1.0+cu121 CUDA:0 (Tesla T4, 15102MiB)\n",
            "YOLOv8 summary (fused): 168 layers, 3006038 parameters, 0 gradients, 8.1 GFLOPs\n"
          ]
        },
        {
          "output_type": "stream",
          "name": "stderr",
          "text": [
            "                 Class     Images  Instances      Box(P          R      mAP50  mAP50-95): 100%|██████████| 4/4 [00:04<00:00,  1.10s/it]\n"
          ]
        },
        {
          "output_type": "stream",
          "name": "stdout",
          "text": [
            "                   all         99        750      0.912      0.883      0.937      0.733\n",
            "                   car         99        750      0.912      0.883      0.937      0.733\n",
            "Speed: 0.4ms preprocess, 3.5ms inference, 0.0ms loss, 4.8ms postprocess per image\n",
            "Results saved to \u001b[1mruns/detect/train\u001b[0m\n",
            "ultralytics.utils.metrics.DetMetrics object with attributes:\n",
            "\n",
            "ap_class_index: array([0])\n",
            "box: ultralytics.utils.metrics.Metric object\n",
            "confusion_matrix: <ultralytics.utils.metrics.ConfusionMatrix object at 0x7ad0eeb44ca0>\n",
            "curves: ['Precision-Recall(B)', 'F1-Confidence(B)', 'Precision-Confidence(B)', 'Recall-Confidence(B)']\n",
            "curves_results: [[array([          0,    0.001001,    0.002002,    0.003003,    0.004004,    0.005005,    0.006006,    0.007007,    0.008008,    0.009009,     0.01001,    0.011011,    0.012012,    0.013013,    0.014014,    0.015015,    0.016016,    0.017017,    0.018018,    0.019019,     0.02002,    0.021021,    0.022022,    0.023023,\n",
            "          0.024024,    0.025025,    0.026026,    0.027027,    0.028028,    0.029029,     0.03003,    0.031031,    0.032032,    0.033033,    0.034034,    0.035035,    0.036036,    0.037037,    0.038038,    0.039039,     0.04004,    0.041041,    0.042042,    0.043043,    0.044044,    0.045045,    0.046046,    0.047047,\n",
            "          0.048048,    0.049049,     0.05005,    0.051051,    0.052052,    0.053053,    0.054054,    0.055055,    0.056056,    0.057057,    0.058058,    0.059059,     0.06006,    0.061061,    0.062062,    0.063063,    0.064064,    0.065065,    0.066066,    0.067067,    0.068068,    0.069069,     0.07007,    0.071071,\n",
            "          0.072072,    0.073073,    0.074074,    0.075075,    0.076076,    0.077077,    0.078078,    0.079079,     0.08008,    0.081081,    0.082082,    0.083083,    0.084084,    0.085085,    0.086086,    0.087087,    0.088088,    0.089089,     0.09009,    0.091091,    0.092092,    0.093093,    0.094094,    0.095095,\n",
            "          0.096096,    0.097097,    0.098098,    0.099099,      0.1001,      0.1011,      0.1021,      0.1031,      0.1041,     0.10511,     0.10611,     0.10711,     0.10811,     0.10911,     0.11011,     0.11111,     0.11211,     0.11311,     0.11411,     0.11512,     0.11612,     0.11712,     0.11812,     0.11912,\n",
            "           0.12012,     0.12112,     0.12212,     0.12312,     0.12412,     0.12513,     0.12613,     0.12713,     0.12813,     0.12913,     0.13013,     0.13113,     0.13213,     0.13313,     0.13413,     0.13514,     0.13614,     0.13714,     0.13814,     0.13914,     0.14014,     0.14114,     0.14214,     0.14314,\n",
            "           0.14414,     0.14515,     0.14615,     0.14715,     0.14815,     0.14915,     0.15015,     0.15115,     0.15215,     0.15315,     0.15415,     0.15516,     0.15616,     0.15716,     0.15816,     0.15916,     0.16016,     0.16116,     0.16216,     0.16316,     0.16416,     0.16517,     0.16617,     0.16717,\n",
            "           0.16817,     0.16917,     0.17017,     0.17117,     0.17217,     0.17317,     0.17417,     0.17518,     0.17618,     0.17718,     0.17818,     0.17918,     0.18018,     0.18118,     0.18218,     0.18318,     0.18418,     0.18519,     0.18619,     0.18719,     0.18819,     0.18919,     0.19019,     0.19119,\n",
            "           0.19219,     0.19319,     0.19419,      0.1952,      0.1962,      0.1972,      0.1982,      0.1992,      0.2002,      0.2012,      0.2022,      0.2032,      0.2042,     0.20521,     0.20621,     0.20721,     0.20821,     0.20921,     0.21021,     0.21121,     0.21221,     0.21321,     0.21421,     0.21522,\n",
            "           0.21622,     0.21722,     0.21822,     0.21922,     0.22022,     0.22122,     0.22222,     0.22322,     0.22422,     0.22523,     0.22623,     0.22723,     0.22823,     0.22923,     0.23023,     0.23123,     0.23223,     0.23323,     0.23423,     0.23524,     0.23624,     0.23724,     0.23824,     0.23924,\n",
            "           0.24024,     0.24124,     0.24224,     0.24324,     0.24424,     0.24525,     0.24625,     0.24725,     0.24825,     0.24925,     0.25025,     0.25125,     0.25225,     0.25325,     0.25425,     0.25526,     0.25626,     0.25726,     0.25826,     0.25926,     0.26026,     0.26126,     0.26226,     0.26326,\n",
            "           0.26426,     0.26527,     0.26627,     0.26727,     0.26827,     0.26927,     0.27027,     0.27127,     0.27227,     0.27327,     0.27427,     0.27528,     0.27628,     0.27728,     0.27828,     0.27928,     0.28028,     0.28128,     0.28228,     0.28328,     0.28428,     0.28529,     0.28629,     0.28729,\n",
            "           0.28829,     0.28929,     0.29029,     0.29129,     0.29229,     0.29329,     0.29429,      0.2953,      0.2963,      0.2973,      0.2983,      0.2993,      0.3003,      0.3013,      0.3023,      0.3033,      0.3043,     0.30531,     0.30631,     0.30731,     0.30831,     0.30931,     0.31031,     0.31131,\n",
            "           0.31231,     0.31331,     0.31431,     0.31532,     0.31632,     0.31732,     0.31832,     0.31932,     0.32032,     0.32132,     0.32232,     0.32332,     0.32432,     0.32533,     0.32633,     0.32733,     0.32833,     0.32933,     0.33033,     0.33133,     0.33233,     0.33333,     0.33433,     0.33534,\n",
            "           0.33634,     0.33734,     0.33834,     0.33934,     0.34034,     0.34134,     0.34234,     0.34334,     0.34434,     0.34535,     0.34635,     0.34735,     0.34835,     0.34935,     0.35035,     0.35135,     0.35235,     0.35335,     0.35435,     0.35536,     0.35636,     0.35736,     0.35836,     0.35936,\n",
            "           0.36036,     0.36136,     0.36236,     0.36336,     0.36436,     0.36537,     0.36637,     0.36737,     0.36837,     0.36937,     0.37037,     0.37137,     0.37237,     0.37337,     0.37437,     0.37538,     0.37638,     0.37738,     0.37838,     0.37938,     0.38038,     0.38138,     0.38238,     0.38338,\n",
            "           0.38438,     0.38539,     0.38639,     0.38739,     0.38839,     0.38939,     0.39039,     0.39139,     0.39239,     0.39339,     0.39439,      0.3954,      0.3964,      0.3974,      0.3984,      0.3994,      0.4004,      0.4014,      0.4024,      0.4034,      0.4044,     0.40541,     0.40641,     0.40741,\n",
            "           0.40841,     0.40941,     0.41041,     0.41141,     0.41241,     0.41341,     0.41441,     0.41542,     0.41642,     0.41742,     0.41842,     0.41942,     0.42042,     0.42142,     0.42242,     0.42342,     0.42442,     0.42543,     0.42643,     0.42743,     0.42843,     0.42943,     0.43043,     0.43143,\n",
            "           0.43243,     0.43343,     0.43443,     0.43544,     0.43644,     0.43744,     0.43844,     0.43944,     0.44044,     0.44144,     0.44244,     0.44344,     0.44444,     0.44545,     0.44645,     0.44745,     0.44845,     0.44945,     0.45045,     0.45145,     0.45245,     0.45345,     0.45445,     0.45546,\n",
            "           0.45646,     0.45746,     0.45846,     0.45946,     0.46046,     0.46146,     0.46246,     0.46346,     0.46446,     0.46547,     0.46647,     0.46747,     0.46847,     0.46947,     0.47047,     0.47147,     0.47247,     0.47347,     0.47447,     0.47548,     0.47648,     0.47748,     0.47848,     0.47948,\n",
            "           0.48048,     0.48148,     0.48248,     0.48348,     0.48448,     0.48549,     0.48649,     0.48749,     0.48849,     0.48949,     0.49049,     0.49149,     0.49249,     0.49349,     0.49449,      0.4955,      0.4965,      0.4975,      0.4985,      0.4995,      0.5005,      0.5015,      0.5025,      0.5035,\n",
            "            0.5045,     0.50551,     0.50651,     0.50751,     0.50851,     0.50951,     0.51051,     0.51151,     0.51251,     0.51351,     0.51451,     0.51552,     0.51652,     0.51752,     0.51852,     0.51952,     0.52052,     0.52152,     0.52252,     0.52352,     0.52452,     0.52553,     0.52653,     0.52753,\n",
            "           0.52853,     0.52953,     0.53053,     0.53153,     0.53253,     0.53353,     0.53453,     0.53554,     0.53654,     0.53754,     0.53854,     0.53954,     0.54054,     0.54154,     0.54254,     0.54354,     0.54454,     0.54555,     0.54655,     0.54755,     0.54855,     0.54955,     0.55055,     0.55155,\n",
            "           0.55255,     0.55355,     0.55455,     0.55556,     0.55656,     0.55756,     0.55856,     0.55956,     0.56056,     0.56156,     0.56256,     0.56356,     0.56456,     0.56557,     0.56657,     0.56757,     0.56857,     0.56957,     0.57057,     0.57157,     0.57257,     0.57357,     0.57457,     0.57558,\n",
            "           0.57658,     0.57758,     0.57858,     0.57958,     0.58058,     0.58158,     0.58258,     0.58358,     0.58458,     0.58559,     0.58659,     0.58759,     0.58859,     0.58959,     0.59059,     0.59159,     0.59259,     0.59359,     0.59459,      0.5956,      0.5966,      0.5976,      0.5986,      0.5996,\n",
            "            0.6006,      0.6016,      0.6026,      0.6036,      0.6046,     0.60561,     0.60661,     0.60761,     0.60861,     0.60961,     0.61061,     0.61161,     0.61261,     0.61361,     0.61461,     0.61562,     0.61662,     0.61762,     0.61862,     0.61962,     0.62062,     0.62162,     0.62262,     0.62362,\n",
            "           0.62462,     0.62563,     0.62663,     0.62763,     0.62863,     0.62963,     0.63063,     0.63163,     0.63263,     0.63363,     0.63463,     0.63564,     0.63664,     0.63764,     0.63864,     0.63964,     0.64064,     0.64164,     0.64264,     0.64364,     0.64464,     0.64565,     0.64665,     0.64765,\n",
            "           0.64865,     0.64965,     0.65065,     0.65165,     0.65265,     0.65365,     0.65465,     0.65566,     0.65666,     0.65766,     0.65866,     0.65966,     0.66066,     0.66166,     0.66266,     0.66366,     0.66466,     0.66567,     0.66667,     0.66767,     0.66867,     0.66967,     0.67067,     0.67167,\n",
            "           0.67267,     0.67367,     0.67467,     0.67568,     0.67668,     0.67768,     0.67868,     0.67968,     0.68068,     0.68168,     0.68268,     0.68368,     0.68468,     0.68569,     0.68669,     0.68769,     0.68869,     0.68969,     0.69069,     0.69169,     0.69269,     0.69369,     0.69469,      0.6957,\n",
            "            0.6967,      0.6977,      0.6987,      0.6997,      0.7007,      0.7017,      0.7027,      0.7037,      0.7047,     0.70571,     0.70671,     0.70771,     0.70871,     0.70971,     0.71071,     0.71171,     0.71271,     0.71371,     0.71471,     0.71572,     0.71672,     0.71772,     0.71872,     0.71972,\n",
            "           0.72072,     0.72172,     0.72272,     0.72372,     0.72472,     0.72573,     0.72673,     0.72773,     0.72873,     0.72973,     0.73073,     0.73173,     0.73273,     0.73373,     0.73473,     0.73574,     0.73674,     0.73774,     0.73874,     0.73974,     0.74074,     0.74174,     0.74274,     0.74374,\n",
            "           0.74474,     0.74575,     0.74675,     0.74775,     0.74875,     0.74975,     0.75075,     0.75175,     0.75275,     0.75375,     0.75475,     0.75576,     0.75676,     0.75776,     0.75876,     0.75976,     0.76076,     0.76176,     0.76276,     0.76376,     0.76476,     0.76577,     0.76677,     0.76777,\n",
            "           0.76877,     0.76977,     0.77077,     0.77177,     0.77277,     0.77377,     0.77477,     0.77578,     0.77678,     0.77778,     0.77878,     0.77978,     0.78078,     0.78178,     0.78278,     0.78378,     0.78478,     0.78579,     0.78679,     0.78779,     0.78879,     0.78979,     0.79079,     0.79179,\n",
            "           0.79279,     0.79379,     0.79479,      0.7958,      0.7968,      0.7978,      0.7988,      0.7998,      0.8008,      0.8018,      0.8028,      0.8038,      0.8048,     0.80581,     0.80681,     0.80781,     0.80881,     0.80981,     0.81081,     0.81181,     0.81281,     0.81381,     0.81481,     0.81582,\n",
            "           0.81682,     0.81782,     0.81882,     0.81982,     0.82082,     0.82182,     0.82282,     0.82382,     0.82482,     0.82583,     0.82683,     0.82783,     0.82883,     0.82983,     0.83083,     0.83183,     0.83283,     0.83383,     0.83483,     0.83584,     0.83684,     0.83784,     0.83884,     0.83984,\n",
            "           0.84084,     0.84184,     0.84284,     0.84384,     0.84484,     0.84585,     0.84685,     0.84785,     0.84885,     0.84985,     0.85085,     0.85185,     0.85285,     0.85385,     0.85485,     0.85586,     0.85686,     0.85786,     0.85886,     0.85986,     0.86086,     0.86186,     0.86286,     0.86386,\n",
            "           0.86486,     0.86587,     0.86687,     0.86787,     0.86887,     0.86987,     0.87087,     0.87187,     0.87287,     0.87387,     0.87487,     0.87588,     0.87688,     0.87788,     0.87888,     0.87988,     0.88088,     0.88188,     0.88288,     0.88388,     0.88488,     0.88589,     0.88689,     0.88789,\n",
            "           0.88889,     0.88989,     0.89089,     0.89189,     0.89289,     0.89389,     0.89489,      0.8959,      0.8969,      0.8979,      0.8989,      0.8999,      0.9009,      0.9019,      0.9029,      0.9039,      0.9049,     0.90591,     0.90691,     0.90791,     0.90891,     0.90991,     0.91091,     0.91191,\n",
            "           0.91291,     0.91391,     0.91491,     0.91592,     0.91692,     0.91792,     0.91892,     0.91992,     0.92092,     0.92192,     0.92292,     0.92392,     0.92492,     0.92593,     0.92693,     0.92793,     0.92893,     0.92993,     0.93093,     0.93193,     0.93293,     0.93393,     0.93493,     0.93594,\n",
            "           0.93694,     0.93794,     0.93894,     0.93994,     0.94094,     0.94194,     0.94294,     0.94394,     0.94494,     0.94595,     0.94695,     0.94795,     0.94895,     0.94995,     0.95095,     0.95195,     0.95295,     0.95395,     0.95495,     0.95596,     0.95696,     0.95796,     0.95896,     0.95996,\n",
            "           0.96096,     0.96196,     0.96296,     0.96396,     0.96496,     0.96597,     0.96697,     0.96797,     0.96897,     0.96997,     0.97097,     0.97197,     0.97297,     0.97397,     0.97497,     0.97598,     0.97698,     0.97798,     0.97898,     0.97998,     0.98098,     0.98198,     0.98298,     0.98398,\n",
            "           0.98498,     0.98599,     0.98699,     0.98799,     0.98899,     0.98999,     0.99099,     0.99199,     0.99299,     0.99399,     0.99499,       0.996,       0.997,       0.998,       0.999,           1]), array([[          1,           1,           1,           1,           1,           1,           1,     0.99057,     0.99057,     0.99057,     0.99057,     0.99057,     0.99057,     0.99057,     0.99057,     0.99057,     0.99057,     0.99057,     0.99057,     0.99057,     0.99057,     0.99057,     0.99057,\n",
            "            0.99057,     0.99057,     0.99057,     0.99057,     0.99057,     0.99057,     0.99057,     0.99057,     0.99057,     0.99057,     0.99057,     0.99057,     0.99057,     0.99057,     0.99057,     0.99057,     0.99057,     0.99057,     0.99057,     0.99057,     0.99057,     0.99057,     0.99057,\n",
            "            0.99057,     0.99057,     0.99057,     0.99057,     0.99057,     0.99057,     0.99057,     0.99057,     0.99057,     0.99057,     0.99057,     0.99057,     0.99057,     0.99057,     0.99057,     0.99057,     0.99057,     0.99057,     0.99057,     0.99057,     0.99057,     0.99057,     0.99057,\n",
            "            0.99057,     0.99057,     0.99057,     0.99057,     0.99057,     0.99057,     0.99057,     0.99057,     0.99057,     0.99057,     0.99057,     0.99057,     0.99057,     0.99057,     0.99057,     0.99057,     0.99057,     0.99057,     0.99057,     0.99057,     0.99057,     0.99057,     0.99057,\n",
            "            0.99057,     0.99057,     0.99057,     0.99057,     0.99057,     0.99057,     0.99057,     0.99057,     0.99057,     0.99057,     0.99057,     0.99057,     0.99057,     0.99057,     0.99057,     0.99057,     0.99057,     0.99057,     0.99057,     0.99057,     0.99057,     0.99057,     0.99057,\n",
            "            0.99057,     0.99057,     0.99057,     0.99057,     0.99057,     0.99057,     0.99057,     0.99057,     0.99057,     0.99057,     0.99057,     0.99057,     0.99057,     0.99057,     0.99057,     0.99057,     0.99057,     0.99057,     0.99057,     0.99057,     0.99057,     0.99057,     0.99057,\n",
            "            0.99057,     0.99057,     0.99057,     0.99057,     0.99057,     0.99057,     0.99057,     0.99057,     0.99057,     0.99057,     0.99057,     0.99057,     0.99057,     0.99057,     0.99057,     0.99057,     0.99057,     0.99057,     0.99057,     0.99057,     0.99057,     0.99057,     0.99057,\n",
            "            0.99057,     0.99057,     0.99057,     0.99057,     0.99057,     0.99057,     0.99057,     0.99057,     0.99057,     0.99057,     0.99057,     0.99057,     0.99057,     0.99057,     0.99057,     0.99057,     0.99057,     0.99057,     0.99057,     0.99057,     0.99057,     0.99057,     0.99057,\n",
            "            0.99057,     0.99057,     0.99057,     0.99057,     0.99057,     0.99057,     0.99057,     0.99057,     0.99057,     0.99057,     0.99057,     0.99057,     0.99057,     0.99057,     0.99057,     0.99057,     0.99057,     0.99057,     0.99057,     0.99057,     0.99057,     0.99057,     0.99057,\n",
            "            0.99057,     0.99057,     0.99057,     0.99057,     0.99057,     0.99057,     0.99057,     0.99057,     0.99057,     0.99057,     0.99057,     0.99057,     0.99057,     0.99057,     0.99057,     0.99057,     0.99057,     0.99057,     0.99057,     0.99057,     0.99057,     0.99057,     0.99057,\n",
            "            0.99057,     0.99057,     0.99057,     0.99057,     0.99057,     0.99057,     0.99057,     0.99057,     0.99057,     0.99057,     0.99057,     0.99057,     0.99057,     0.99057,     0.99057,     0.99057,     0.99057,     0.99057,     0.99057,     0.99057,     0.99057,     0.99057,     0.99057,\n",
            "            0.99057,     0.99057,     0.99057,     0.99057,     0.99057,     0.99057,     0.99057,     0.99057,     0.99057,     0.99057,     0.99057,     0.99057,     0.99057,     0.99057,     0.99057,     0.99057,     0.99057,     0.99057,     0.99057,     0.99057,     0.99057,     0.99057,     0.99057,\n",
            "            0.99057,     0.99057,     0.99057,     0.99057,     0.99057,     0.99057,     0.99057,     0.99057,     0.99057,     0.99057,     0.99057,     0.99057,     0.99057,     0.99057,     0.99057,     0.99057,     0.99057,     0.99057,     0.99057,     0.99057,     0.99057,     0.99057,     0.99057,\n",
            "            0.99057,     0.99057,     0.99057,     0.99057,     0.99057,     0.99057,     0.99057,     0.99057,     0.99057,     0.99057,     0.99057,     0.99057,     0.99057,     0.99057,     0.99057,     0.99057,     0.99057,     0.99057,     0.99057,     0.99057,     0.99057,     0.99057,     0.99057,\n",
            "            0.99057,     0.99057,     0.99057,     0.99057,     0.99057,     0.99057,     0.99057,     0.99057,     0.99057,     0.99057,     0.99057,     0.99057,     0.99057,     0.99057,     0.99057,     0.99057,     0.99057,     0.99057,     0.99057,     0.99057,     0.99057,     0.99057,     0.99057,\n",
            "            0.99057,     0.99057,     0.99057,     0.99057,     0.99057,     0.99057,     0.99057,     0.99057,     0.99057,     0.99057,     0.99057,     0.99057,     0.99057,     0.99057,     0.99057,     0.99057,     0.99057,     0.99057,     0.99057,     0.99057,     0.99057,     0.99057,     0.99057,\n",
            "            0.99057,     0.99057,     0.99057,     0.99057,     0.99057,     0.99057,     0.99057,     0.99057,     0.99057,     0.99057,     0.99057,     0.99057,     0.99057,     0.99057,     0.99057,     0.99057,     0.99057,     0.99057,     0.99057,     0.99057,     0.99057,     0.99057,     0.99057,\n",
            "            0.99057,     0.99057,     0.99057,     0.99057,     0.99057,     0.99057,     0.99057,     0.99057,     0.99057,     0.99057,     0.99057,     0.99057,     0.99057,     0.99057,     0.99057,     0.99057,     0.99057,     0.99057,     0.99057,     0.99057,     0.99057,     0.99057,     0.99057,\n",
            "            0.99057,     0.99057,     0.99057,     0.99057,     0.99057,     0.99057,     0.98841,     0.98841,     0.98841,     0.98841,     0.98841,     0.98841,     0.98841,     0.98841,     0.98841,     0.98841,     0.98841,     0.98841,     0.98841,     0.98841,     0.98841,     0.98841,     0.98841,\n",
            "            0.98841,     0.98841,     0.98841,     0.98841,     0.98841,     0.98841,     0.98841,     0.98841,     0.98841,     0.98841,     0.98841,     0.98841,     0.98841,     0.98841,     0.98841,     0.98841,     0.98841,     0.98841,     0.98638,     0.98638,     0.98638,     0.98638,     0.98638,\n",
            "            0.98638,     0.98638,     0.98638,     0.98638,     0.98638,     0.98638,     0.98638,     0.98638,     0.98638,     0.98638,     0.98638,     0.98638,     0.98638,     0.98638,     0.98638,     0.98638,     0.98638,     0.98638,     0.98638,     0.98638,     0.98638,     0.98638,     0.98638,\n",
            "            0.98465,     0.98465,     0.98465,     0.98465,     0.98465,     0.98465,     0.98465,     0.98465,     0.98465,     0.98465,     0.98465,     0.98465,     0.98465,     0.98465,     0.98465,     0.98465,     0.98465,     0.98465,     0.98465,     0.98465,     0.98465,     0.98465,     0.98465,\n",
            "            0.98465,     0.98465,     0.98465,     0.98465,     0.98465,     0.98465,     0.98465,     0.98297,     0.98297,     0.98297,     0.98297,     0.98297,     0.98297,     0.98297,     0.98297,     0.98297,     0.98297,     0.98297,     0.98297,     0.98297,     0.98297,     0.98297,     0.98297,\n",
            "            0.98297,     0.98297,     0.98297,     0.98297,     0.98297,     0.98297,     0.98297,     0.98297,     0.98297,     0.98297,     0.98077,     0.98077,     0.98077,     0.98077,     0.98077,     0.97912,     0.97912,     0.97912,     0.97912,     0.97912,     0.97912,     0.97912,     0.97912,\n",
            "            0.97912,     0.97912,     0.97912,     0.97912,     0.97912,     0.97912,     0.97912,     0.97912,     0.97912,     0.97912,     0.97912,     0.97783,     0.97783,     0.97783,     0.97783,     0.97783,     0.97783,     0.97783,     0.97783,     0.97783,     0.97783,     0.97783,     0.97783,\n",
            "            0.97783,     0.97783,     0.97783,     0.97783,     0.97783,     0.97783,     0.97783,     0.97783,     0.97783,     0.97783,     0.97783,     0.97783,     0.97783,     0.97629,     0.97629,     0.97629,     0.97629,     0.97629,     0.97629,     0.97629,     0.97629,     0.97629,     0.97629,\n",
            "            0.97629,     0.97629,     0.97629,     0.97629,     0.97629,     0.97629,     0.97505,     0.97505,     0.97505,     0.97505,     0.97505,     0.97505,     0.97505,     0.97505,     0.97505,     0.97505,     0.97505,     0.97505,     0.97505,     0.97505,     0.97505,     0.97505,     0.97505,\n",
            "            0.97505,     0.97505,     0.97505,     0.97505,     0.97441,     0.97441,     0.97441,     0.97441,     0.97441,     0.97441,     0.97441,     0.97441,     0.97441,     0.97441,     0.97441,     0.97441,     0.97441,     0.97441,     0.97441,     0.97441,     0.97441,     0.97441,     0.97441,\n",
            "            0.97441,     0.97441,     0.97441,     0.97441,     0.97441,     0.97441,     0.97441,     0.97441,     0.97441,     0.97441,     0.97441,     0.97441,     0.97441,     0.97441,     0.97441,     0.97441,     0.97348,     0.97348,     0.97348,     0.97348,     0.97348,     0.97348,     0.97348,\n",
            "            0.97348,     0.97348,     0.97348,     0.97348,     0.97348,     0.97348,     0.97348,     0.97348,     0.97348,     0.97348,     0.97348,     0.97348,     0.97348,     0.97348,     0.97348,     0.97348,     0.97348,     0.97348,      0.9718,      0.9718,      0.9718,      0.9718,     0.97009,\n",
            "            0.97009,     0.97009,     0.96869,     0.96869,     0.96869,     0.96869,     0.96869,     0.96869,     0.96869,     0.96869,     0.96869,     0.96842,     0.96842,     0.96842,     0.96842,     0.96842,     0.96842,     0.96842,     0.96842,     0.96842,     0.96842,     0.96842,     0.96842,\n",
            "            0.96842,     0.96842,     0.96842,     0.96842,     0.96842,     0.96842,     0.96842,     0.96842,     0.96842,     0.96842,     0.96842,     0.96842,     0.96842,     0.96842,     0.96842,     0.96842,     0.96842,     0.96842,     0.96842,     0.96842,     0.96842,     0.96842,     0.96842,\n",
            "            0.96696,     0.96696,     0.96696,     0.96696,     0.96696,     0.96587,     0.96587,     0.96587,     0.96587,     0.96587,     0.96587,     0.96587,     0.96587,     0.96587,     0.96587,     0.96587,     0.96587,     0.96587,     0.96327,     0.96327,     0.96327,     0.96327,     0.96327,\n",
            "            0.96327,     0.96327,     0.96327,     0.96327,     0.96327,     0.96327,     0.96327,     0.96327,     0.96327,     0.96327,     0.95881,     0.95881,     0.95881,     0.95881,     0.95881,     0.95881,     0.95881,     0.95752,     0.95752,     0.95752,     0.95752,     0.95752,      0.9561,\n",
            "             0.9561,      0.9561,     0.95338,     0.95338,     0.95338,     0.95338,     0.95338,     0.95338,      0.9504,      0.9504,     0.94913,     0.94913,     0.94913,     0.94913,     0.94646,     0.94646,     0.94646,     0.94646,     0.94646,     0.94523,     0.94523,     0.94523,     0.94523,\n",
            "            0.94237,     0.94127,     0.94127,     0.94127,     0.94127,     0.94127,     0.94127,     0.93893,     0.93893,     0.93893,     0.93893,     0.93893,     0.93893,     0.93893,     0.93893,     0.93769,     0.93769,     0.93665,     0.93665,     0.93665,     0.93665,     0.93665,     0.93665,\n",
            "            0.93544,     0.93544,     0.93134,     0.93134,     0.92931,     0.92931,     0.92931,     0.92931,     0.92931,     0.92931,     0.92931,     0.92931,     0.92931,     0.92836,     0.92836,     0.92836,     0.92836,     0.92836,     0.92587,     0.92587,     0.92587,     0.92496,     0.92496,\n",
            "            0.92496,     0.92496,     0.92496,      0.9245,      0.9245,      0.9245,      0.9245,      0.9245,      0.9245,      0.9245,      0.9245,      0.9245,      0.9245,      0.9245,     0.92351,     0.92351,     0.92351,     0.92351,     0.92254,     0.92254,     0.92254,     0.92254,     0.92135,\n",
            "            0.91888,     0.91888,     0.91643,     0.91286,     0.91286,     0.91286,     0.91197,     0.91197,     0.91197,     0.91197,     0.91084,     0.90599,     0.90379,     0.90379,     0.90379,      0.9027,     0.89919,     0.89919,     0.89692,       0.896,       0.896,       0.896,     0.88904,\n",
            "            0.88366,     0.88366,     0.88366,     0.88366,     0.87922,     0.87613,     0.87613,     0.87613,     0.87516,     0.86862,     0.86862,     0.86548,     0.85912,     0.85393,     0.85393,     0.83946,     0.83557,     0.83475,     0.83475,     0.82416,     0.82416,     0.82339,     0.82339,\n",
            "            0.82067,     0.81722,     0.81722,     0.81722,     0.81647,     0.81573,     0.80649,     0.80649,     0.80207,     0.80046,     0.78983,     0.78983,     0.78918,     0.77288,     0.76638,     0.76638,     0.75836,     0.75618,        0.75,        0.75,     0.74551,     0.73877,     0.73368,\n",
            "            0.73368,     0.72569,     0.72256,     0.72256,     0.72256,     0.69736,     0.67455,     0.67105,     0.67105,     0.66265,     0.65568,     0.65479,     0.65479,     0.65095,     0.63348,     0.62827,     0.62827,     0.58052,     0.57714,     0.55873,     0.55873,     0.55778,     0.54104,\n",
            "            0.49187,     0.49187,     0.48694,     0.47365,     0.44424,     0.44424,      0.3812,     0.35043,       0.346,     0.33216,     0.31832,     0.30448,     0.29064,      0.2768,     0.26296,     0.24912,     0.23528,     0.22144,      0.2076,     0.19376,     0.17992,     0.16608,     0.15224,\n",
            "             0.1384,     0.12456,     0.11072,     0.09688,     0.08304,      0.0692,     0.05536,     0.04152,     0.02768,     0.01384,           0]]), 'Recall', 'Precision'], [array([          0,    0.001001,    0.002002,    0.003003,    0.004004,    0.005005,    0.006006,    0.007007,    0.008008,    0.009009,     0.01001,    0.011011,    0.012012,    0.013013,    0.014014,    0.015015,    0.016016,    0.017017,    0.018018,    0.019019,     0.02002,    0.021021,    0.022022,    0.023023,\n",
            "          0.024024,    0.025025,    0.026026,    0.027027,    0.028028,    0.029029,     0.03003,    0.031031,    0.032032,    0.033033,    0.034034,    0.035035,    0.036036,    0.037037,    0.038038,    0.039039,     0.04004,    0.041041,    0.042042,    0.043043,    0.044044,    0.045045,    0.046046,    0.047047,\n",
            "          0.048048,    0.049049,     0.05005,    0.051051,    0.052052,    0.053053,    0.054054,    0.055055,    0.056056,    0.057057,    0.058058,    0.059059,     0.06006,    0.061061,    0.062062,    0.063063,    0.064064,    0.065065,    0.066066,    0.067067,    0.068068,    0.069069,     0.07007,    0.071071,\n",
            "          0.072072,    0.073073,    0.074074,    0.075075,    0.076076,    0.077077,    0.078078,    0.079079,     0.08008,    0.081081,    0.082082,    0.083083,    0.084084,    0.085085,    0.086086,    0.087087,    0.088088,    0.089089,     0.09009,    0.091091,    0.092092,    0.093093,    0.094094,    0.095095,\n",
            "          0.096096,    0.097097,    0.098098,    0.099099,      0.1001,      0.1011,      0.1021,      0.1031,      0.1041,     0.10511,     0.10611,     0.10711,     0.10811,     0.10911,     0.11011,     0.11111,     0.11211,     0.11311,     0.11411,     0.11512,     0.11612,     0.11712,     0.11812,     0.11912,\n",
            "           0.12012,     0.12112,     0.12212,     0.12312,     0.12412,     0.12513,     0.12613,     0.12713,     0.12813,     0.12913,     0.13013,     0.13113,     0.13213,     0.13313,     0.13413,     0.13514,     0.13614,     0.13714,     0.13814,     0.13914,     0.14014,     0.14114,     0.14214,     0.14314,\n",
            "           0.14414,     0.14515,     0.14615,     0.14715,     0.14815,     0.14915,     0.15015,     0.15115,     0.15215,     0.15315,     0.15415,     0.15516,     0.15616,     0.15716,     0.15816,     0.15916,     0.16016,     0.16116,     0.16216,     0.16316,     0.16416,     0.16517,     0.16617,     0.16717,\n",
            "           0.16817,     0.16917,     0.17017,     0.17117,     0.17217,     0.17317,     0.17417,     0.17518,     0.17618,     0.17718,     0.17818,     0.17918,     0.18018,     0.18118,     0.18218,     0.18318,     0.18418,     0.18519,     0.18619,     0.18719,     0.18819,     0.18919,     0.19019,     0.19119,\n",
            "           0.19219,     0.19319,     0.19419,      0.1952,      0.1962,      0.1972,      0.1982,      0.1992,      0.2002,      0.2012,      0.2022,      0.2032,      0.2042,     0.20521,     0.20621,     0.20721,     0.20821,     0.20921,     0.21021,     0.21121,     0.21221,     0.21321,     0.21421,     0.21522,\n",
            "           0.21622,     0.21722,     0.21822,     0.21922,     0.22022,     0.22122,     0.22222,     0.22322,     0.22422,     0.22523,     0.22623,     0.22723,     0.22823,     0.22923,     0.23023,     0.23123,     0.23223,     0.23323,     0.23423,     0.23524,     0.23624,     0.23724,     0.23824,     0.23924,\n",
            "           0.24024,     0.24124,     0.24224,     0.24324,     0.24424,     0.24525,     0.24625,     0.24725,     0.24825,     0.24925,     0.25025,     0.25125,     0.25225,     0.25325,     0.25425,     0.25526,     0.25626,     0.25726,     0.25826,     0.25926,     0.26026,     0.26126,     0.26226,     0.26326,\n",
            "           0.26426,     0.26527,     0.26627,     0.26727,     0.26827,     0.26927,     0.27027,     0.27127,     0.27227,     0.27327,     0.27427,     0.27528,     0.27628,     0.27728,     0.27828,     0.27928,     0.28028,     0.28128,     0.28228,     0.28328,     0.28428,     0.28529,     0.28629,     0.28729,\n",
            "           0.28829,     0.28929,     0.29029,     0.29129,     0.29229,     0.29329,     0.29429,      0.2953,      0.2963,      0.2973,      0.2983,      0.2993,      0.3003,      0.3013,      0.3023,      0.3033,      0.3043,     0.30531,     0.30631,     0.30731,     0.30831,     0.30931,     0.31031,     0.31131,\n",
            "           0.31231,     0.31331,     0.31431,     0.31532,     0.31632,     0.31732,     0.31832,     0.31932,     0.32032,     0.32132,     0.32232,     0.32332,     0.32432,     0.32533,     0.32633,     0.32733,     0.32833,     0.32933,     0.33033,     0.33133,     0.33233,     0.33333,     0.33433,     0.33534,\n",
            "           0.33634,     0.33734,     0.33834,     0.33934,     0.34034,     0.34134,     0.34234,     0.34334,     0.34434,     0.34535,     0.34635,     0.34735,     0.34835,     0.34935,     0.35035,     0.35135,     0.35235,     0.35335,     0.35435,     0.35536,     0.35636,     0.35736,     0.35836,     0.35936,\n",
            "           0.36036,     0.36136,     0.36236,     0.36336,     0.36436,     0.36537,     0.36637,     0.36737,     0.36837,     0.36937,     0.37037,     0.37137,     0.37237,     0.37337,     0.37437,     0.37538,     0.37638,     0.37738,     0.37838,     0.37938,     0.38038,     0.38138,     0.38238,     0.38338,\n",
            "           0.38438,     0.38539,     0.38639,     0.38739,     0.38839,     0.38939,     0.39039,     0.39139,     0.39239,     0.39339,     0.39439,      0.3954,      0.3964,      0.3974,      0.3984,      0.3994,      0.4004,      0.4014,      0.4024,      0.4034,      0.4044,     0.40541,     0.40641,     0.40741,\n",
            "           0.40841,     0.40941,     0.41041,     0.41141,     0.41241,     0.41341,     0.41441,     0.41542,     0.41642,     0.41742,     0.41842,     0.41942,     0.42042,     0.42142,     0.42242,     0.42342,     0.42442,     0.42543,     0.42643,     0.42743,     0.42843,     0.42943,     0.43043,     0.43143,\n",
            "           0.43243,     0.43343,     0.43443,     0.43544,     0.43644,     0.43744,     0.43844,     0.43944,     0.44044,     0.44144,     0.44244,     0.44344,     0.44444,     0.44545,     0.44645,     0.44745,     0.44845,     0.44945,     0.45045,     0.45145,     0.45245,     0.45345,     0.45445,     0.45546,\n",
            "           0.45646,     0.45746,     0.45846,     0.45946,     0.46046,     0.46146,     0.46246,     0.46346,     0.46446,     0.46547,     0.46647,     0.46747,     0.46847,     0.46947,     0.47047,     0.47147,     0.47247,     0.47347,     0.47447,     0.47548,     0.47648,     0.47748,     0.47848,     0.47948,\n",
            "           0.48048,     0.48148,     0.48248,     0.48348,     0.48448,     0.48549,     0.48649,     0.48749,     0.48849,     0.48949,     0.49049,     0.49149,     0.49249,     0.49349,     0.49449,      0.4955,      0.4965,      0.4975,      0.4985,      0.4995,      0.5005,      0.5015,      0.5025,      0.5035,\n",
            "            0.5045,     0.50551,     0.50651,     0.50751,     0.50851,     0.50951,     0.51051,     0.51151,     0.51251,     0.51351,     0.51451,     0.51552,     0.51652,     0.51752,     0.51852,     0.51952,     0.52052,     0.52152,     0.52252,     0.52352,     0.52452,     0.52553,     0.52653,     0.52753,\n",
            "           0.52853,     0.52953,     0.53053,     0.53153,     0.53253,     0.53353,     0.53453,     0.53554,     0.53654,     0.53754,     0.53854,     0.53954,     0.54054,     0.54154,     0.54254,     0.54354,     0.54454,     0.54555,     0.54655,     0.54755,     0.54855,     0.54955,     0.55055,     0.55155,\n",
            "           0.55255,     0.55355,     0.55455,     0.55556,     0.55656,     0.55756,     0.55856,     0.55956,     0.56056,     0.56156,     0.56256,     0.56356,     0.56456,     0.56557,     0.56657,     0.56757,     0.56857,     0.56957,     0.57057,     0.57157,     0.57257,     0.57357,     0.57457,     0.57558,\n",
            "           0.57658,     0.57758,     0.57858,     0.57958,     0.58058,     0.58158,     0.58258,     0.58358,     0.58458,     0.58559,     0.58659,     0.58759,     0.58859,     0.58959,     0.59059,     0.59159,     0.59259,     0.59359,     0.59459,      0.5956,      0.5966,      0.5976,      0.5986,      0.5996,\n",
            "            0.6006,      0.6016,      0.6026,      0.6036,      0.6046,     0.60561,     0.60661,     0.60761,     0.60861,     0.60961,     0.61061,     0.61161,     0.61261,     0.61361,     0.61461,     0.61562,     0.61662,     0.61762,     0.61862,     0.61962,     0.62062,     0.62162,     0.62262,     0.62362,\n",
            "           0.62462,     0.62563,     0.62663,     0.62763,     0.62863,     0.62963,     0.63063,     0.63163,     0.63263,     0.63363,     0.63463,     0.63564,     0.63664,     0.63764,     0.63864,     0.63964,     0.64064,     0.64164,     0.64264,     0.64364,     0.64464,     0.64565,     0.64665,     0.64765,\n",
            "           0.64865,     0.64965,     0.65065,     0.65165,     0.65265,     0.65365,     0.65465,     0.65566,     0.65666,     0.65766,     0.65866,     0.65966,     0.66066,     0.66166,     0.66266,     0.66366,     0.66466,     0.66567,     0.66667,     0.66767,     0.66867,     0.66967,     0.67067,     0.67167,\n",
            "           0.67267,     0.67367,     0.67467,     0.67568,     0.67668,     0.67768,     0.67868,     0.67968,     0.68068,     0.68168,     0.68268,     0.68368,     0.68468,     0.68569,     0.68669,     0.68769,     0.68869,     0.68969,     0.69069,     0.69169,     0.69269,     0.69369,     0.69469,      0.6957,\n",
            "            0.6967,      0.6977,      0.6987,      0.6997,      0.7007,      0.7017,      0.7027,      0.7037,      0.7047,     0.70571,     0.70671,     0.70771,     0.70871,     0.70971,     0.71071,     0.71171,     0.71271,     0.71371,     0.71471,     0.71572,     0.71672,     0.71772,     0.71872,     0.71972,\n",
            "           0.72072,     0.72172,     0.72272,     0.72372,     0.72472,     0.72573,     0.72673,     0.72773,     0.72873,     0.72973,     0.73073,     0.73173,     0.73273,     0.73373,     0.73473,     0.73574,     0.73674,     0.73774,     0.73874,     0.73974,     0.74074,     0.74174,     0.74274,     0.74374,\n",
            "           0.74474,     0.74575,     0.74675,     0.74775,     0.74875,     0.74975,     0.75075,     0.75175,     0.75275,     0.75375,     0.75475,     0.75576,     0.75676,     0.75776,     0.75876,     0.75976,     0.76076,     0.76176,     0.76276,     0.76376,     0.76476,     0.76577,     0.76677,     0.76777,\n",
            "           0.76877,     0.76977,     0.77077,     0.77177,     0.77277,     0.77377,     0.77477,     0.77578,     0.77678,     0.77778,     0.77878,     0.77978,     0.78078,     0.78178,     0.78278,     0.78378,     0.78478,     0.78579,     0.78679,     0.78779,     0.78879,     0.78979,     0.79079,     0.79179,\n",
            "           0.79279,     0.79379,     0.79479,      0.7958,      0.7968,      0.7978,      0.7988,      0.7998,      0.8008,      0.8018,      0.8028,      0.8038,      0.8048,     0.80581,     0.80681,     0.80781,     0.80881,     0.80981,     0.81081,     0.81181,     0.81281,     0.81381,     0.81481,     0.81582,\n",
            "           0.81682,     0.81782,     0.81882,     0.81982,     0.82082,     0.82182,     0.82282,     0.82382,     0.82482,     0.82583,     0.82683,     0.82783,     0.82883,     0.82983,     0.83083,     0.83183,     0.83283,     0.83383,     0.83483,     0.83584,     0.83684,     0.83784,     0.83884,     0.83984,\n",
            "           0.84084,     0.84184,     0.84284,     0.84384,     0.84484,     0.84585,     0.84685,     0.84785,     0.84885,     0.84985,     0.85085,     0.85185,     0.85285,     0.85385,     0.85485,     0.85586,     0.85686,     0.85786,     0.85886,     0.85986,     0.86086,     0.86186,     0.86286,     0.86386,\n",
            "           0.86486,     0.86587,     0.86687,     0.86787,     0.86887,     0.86987,     0.87087,     0.87187,     0.87287,     0.87387,     0.87487,     0.87588,     0.87688,     0.87788,     0.87888,     0.87988,     0.88088,     0.88188,     0.88288,     0.88388,     0.88488,     0.88589,     0.88689,     0.88789,\n",
            "           0.88889,     0.88989,     0.89089,     0.89189,     0.89289,     0.89389,     0.89489,      0.8959,      0.8969,      0.8979,      0.8989,      0.8999,      0.9009,      0.9019,      0.9029,      0.9039,      0.9049,     0.90591,     0.90691,     0.90791,     0.90891,     0.90991,     0.91091,     0.91191,\n",
            "           0.91291,     0.91391,     0.91491,     0.91592,     0.91692,     0.91792,     0.91892,     0.91992,     0.92092,     0.92192,     0.92292,     0.92392,     0.92492,     0.92593,     0.92693,     0.92793,     0.92893,     0.92993,     0.93093,     0.93193,     0.93293,     0.93393,     0.93493,     0.93594,\n",
            "           0.93694,     0.93794,     0.93894,     0.93994,     0.94094,     0.94194,     0.94294,     0.94394,     0.94494,     0.94595,     0.94695,     0.94795,     0.94895,     0.94995,     0.95095,     0.95195,     0.95295,     0.95395,     0.95495,     0.95596,     0.95696,     0.95796,     0.95896,     0.95996,\n",
            "           0.96096,     0.96196,     0.96296,     0.96396,     0.96496,     0.96597,     0.96697,     0.96797,     0.96897,     0.96997,     0.97097,     0.97197,     0.97297,     0.97397,     0.97497,     0.97598,     0.97698,     0.97798,     0.97898,     0.97998,     0.98098,     0.98198,     0.98298,     0.98398,\n",
            "           0.98498,     0.98599,     0.98699,     0.98799,     0.98899,     0.98999,     0.99099,     0.99199,     0.99299,     0.99399,     0.99499,       0.996,       0.997,       0.998,       0.999,           1]), array([[    0.51533,     0.51533,     0.58978,     0.62957,     0.65519,     0.67148,      0.6856,     0.69546,     0.70502,     0.71316,     0.71852,     0.72371,     0.72987,     0.73411,     0.74046,     0.74438,     0.74881,     0.75171,     0.75746,     0.75912,     0.76246,     0.76552,      0.7683,\n",
            "            0.77184,     0.77447,     0.77637,     0.77694,     0.77867,     0.78058,     0.78125,     0.78209,     0.78362,     0.78641,      0.7866,     0.78893,      0.7909,     0.79283,     0.79525,     0.79785,     0.79966,     0.80014,     0.80197,     0.80387,     0.80436,      0.8053,     0.80797,\n",
            "            0.80843,     0.80907,     0.81049,     0.81374,     0.81473,     0.81602,     0.81741,      0.8177,     0.81835,     0.81855,      0.8193,     0.81982,     0.81922,     0.82022,     0.82053,     0.82094,     0.82126,     0.82162,     0.82237,     0.82331,     0.82361,     0.82492,     0.82529,\n",
            "            0.82535,     0.82599,     0.82623,     0.82649,     0.82679,     0.82796,     0.82807,     0.82776,     0.82837,     0.82945,     0.83096,     0.83138,     0.83149,     0.83266,     0.83354,      0.8341,     0.83375,     0.83427,     0.83551,     0.83666,     0.83698,     0.83727,     0.83696,\n",
            "            0.83713,      0.8373,     0.83753,     0.83783,     0.83777,     0.83841,     0.83947,     0.84033,     0.84051,     0.84069,     0.84134,     0.84203,     0.84256,     0.84221,     0.84249,     0.84307,     0.84334,     0.84379,      0.8456,     0.84582,     0.84604,     0.84586,     0.84551,\n",
            "            0.84688,     0.84736,     0.84844,     0.84934,     0.84982,      0.8507,     0.85191,     0.85261,     0.85338,     0.85413,     0.85489,     0.85494,     0.85476,     0.85498,     0.85458,     0.85495,     0.85507,     0.85519,      0.8553,     0.85605,      0.8565,     0.85667,     0.85683,\n",
            "            0.85718,     0.85763,     0.85782,       0.858,     0.85827,     0.85854,     0.85958,     0.85996,     0.86048,     0.86012,     0.86012,     0.86039,     0.86093,      0.8604,     0.86091,     0.86125,     0.86154,      0.8618,     0.86205,     0.86231,     0.86255,     0.86275,     0.86296,\n",
            "            0.86269,     0.86235,     0.86321,     0.86359,     0.86395,     0.86498,     0.86532,      0.8659,     0.86645,     0.86719,     0.86687,     0.86733,     0.86723,     0.86714,     0.86704,     0.86695,     0.86685,     0.86676,     0.86666,     0.86603,     0.86669,     0.86733,     0.86791,\n",
            "            0.86775,     0.86834,     0.86887,     0.86882,     0.86853,     0.86838,      0.8687,     0.86825,     0.86799,     0.86804,      0.8681,     0.86816,     0.86821,     0.86827,     0.86832,     0.86838,     0.86843,     0.86849,     0.86858,     0.86873,     0.86887,     0.86902,     0.86955,\n",
            "            0.87058,     0.87156,     0.87198,     0.87248,     0.87305,     0.87333,     0.87318,     0.87278,     0.87337,     0.87377,     0.87405,     0.87434,     0.87463,     0.87475,     0.87441,     0.87419,     0.87461,     0.87503,     0.87534,     0.87555,     0.87576,     0.87602,     0.87629,\n",
            "            0.87646,     0.87659,     0.87672,     0.87685,       0.877,     0.87717,     0.87733,      0.8775,     0.87769,     0.87788,      0.8781,     0.87852,     0.87876,     0.87896,     0.87915,     0.88041,     0.88162,     0.88147,     0.88175,     0.88207,     0.88243,     0.88282,     0.88314,\n",
            "             0.8834,     0.88362,     0.88375,     0.88388,     0.88401,     0.88414,     0.88401,     0.88388,     0.88374,     0.88361,     0.88347,     0.88459,     0.88463,     0.88467,     0.88471,     0.88476,      0.8848,     0.88484,     0.88488,     0.88492,     0.88496,       0.885,     0.88504,\n",
            "            0.88509,     0.88513,     0.88532,     0.88558,     0.88575,     0.88584,     0.88592,       0.886,     0.88608,     0.88616,     0.88624,     0.88643,     0.88677,     0.88673,     0.88655,     0.88636,     0.88618,     0.88624,     0.88636,     0.88647,     0.88659,     0.88671,     0.88682,\n",
            "            0.88694,     0.88705,     0.88716,     0.88728,     0.88738,     0.88748,     0.88759,     0.88769,     0.88779,     0.88779,     0.88736,     0.88744,      0.8878,     0.88794,     0.88808,     0.88822,     0.88835,     0.88846,     0.88858,     0.88869,      0.8888,     0.88895,     0.88919,\n",
            "            0.88943,     0.88996,     0.89053,     0.89041,     0.89028,     0.89016,     0.89003,     0.88991,     0.89049,     0.89031,     0.89014,     0.88996,     0.88979,     0.88953,     0.88926,      0.8891,     0.88944,     0.88972,     0.88994,     0.89016,     0.89038,     0.89059,     0.89077,\n",
            "            0.89055,     0.89034,     0.89013,     0.89021,     0.89043,     0.89065,     0.89081,     0.89097,     0.89113,     0.89144,     0.89195,     0.89229,     0.89191,     0.89149,     0.89122,     0.89094,     0.89051,     0.89026,     0.89042,     0.89058,     0.89074,     0.89178,      0.8921,\n",
            "            0.89227,     0.89244,     0.89261,     0.89278,     0.89294,      0.8931,     0.89305,     0.89285,     0.89264,     0.89244,     0.89321,     0.89342,     0.89362,     0.89425,     0.89441,     0.89456,     0.89471,     0.89511,      0.8956,     0.89591,     0.89581,     0.89554,     0.89526,\n",
            "            0.89501,     0.89476,     0.89454,     0.89467,     0.89479,     0.89492,     0.89505,     0.89507,     0.89496,     0.89485,     0.89474,     0.89462,     0.89451,      0.8944,     0.89458,      0.8948,     0.89509,     0.89543,     0.89491,     0.89522,     0.89607,     0.89618,     0.89629,\n",
            "            0.89639,      0.8965,     0.89661,     0.89604,     0.89625,     0.89645,     0.89594,     0.89555,     0.89527,     0.89505,     0.89535,     0.89565,     0.89586,     0.89606,     0.89621,     0.89612,     0.89603,     0.89595,     0.89586,     0.89577,     0.89569,      0.8956,     0.89551,\n",
            "            0.89612,     0.89617,     0.89621,     0.89626,     0.89631,     0.89636,      0.8964,     0.89645,      0.8965,     0.89655,      0.8966,     0.89664,     0.89669,       0.897,      0.8973,     0.89738,     0.89746,     0.89754,     0.89762,      0.8977,     0.89778,     0.89786,     0.89754,\n",
            "            0.89747,     0.89767,     0.89747,     0.89728,     0.89709,     0.89678,      0.8964,      0.8962,     0.89609,     0.89598,     0.89587,     0.89576,     0.89565,     0.89554,     0.89605,      0.8958,     0.89541,     0.89552,     0.89584,     0.89635,     0.89624,     0.89613,     0.89602,\n",
            "            0.89591,      0.8958,     0.89579,     0.89634,      0.8965,     0.89665,     0.89681,     0.89689,     0.89673,     0.89658,     0.89643,     0.89627,     0.89621,     0.89632,     0.89642,     0.89653,     0.89663,     0.89674,      0.8969,     0.89711,     0.89732,     0.89725,     0.89699,\n",
            "            0.89673,     0.89679,       0.897,     0.89721,     0.89712,     0.89692,     0.89673,     0.89654,     0.89526,     0.89557,     0.89547,     0.89531,     0.89515,       0.895,     0.89408,     0.89399,     0.89389,     0.89379,     0.89369,      0.8936,      0.8935,      0.8934,     0.89339,\n",
            "            0.89371,     0.89384,     0.89345,     0.89237,     0.89224,     0.89211,     0.89198,     0.89185,     0.89172,     0.89147,     0.89108,     0.89069,     0.89029,     0.89008,     0.89002,     0.88995,     0.88988,     0.88982,     0.88975,     0.88969,     0.88962,     0.88956,     0.88949,\n",
            "            0.88943,     0.88936,     0.88916,     0.88894,     0.88871,      0.8885,      0.8883,      0.8881,     0.88791,     0.88789,     0.88805,     0.88821,     0.88837,     0.88793,     0.88749,     0.88722,     0.88696,     0.88631,     0.88599,     0.88583,     0.88568,     0.88552,     0.88536,\n",
            "            0.88547,     0.88563,     0.88579,     0.88595,     0.88557,     0.88441,     0.88483,     0.88556,     0.88543,      0.8853,     0.88516,     0.88503,      0.8849,     0.88326,     0.88321,     0.88316,     0.88311,     0.88306,       0.883,     0.88295,      0.8829,     0.88285,      0.8828,\n",
            "            0.88275,     0.88269,     0.88264,     0.88259,     0.88254,     0.88257,     0.88265,     0.88273,     0.88282,      0.8829,     0.88299,     0.88307,     0.88312,     0.88305,     0.88298,     0.88291,     0.88284,     0.88277,      0.8827,     0.88263,     0.88256,     0.88249,     0.88242,\n",
            "            0.88234,     0.88194,     0.88156,     0.88147,     0.88138,     0.88129,      0.8812,     0.88112,     0.88103,     0.88094,     0.88085,     0.88072,     0.88052,     0.88032,     0.88012,     0.87996,     0.87985,     0.87974,     0.87963,     0.87953,     0.87942,     0.87931,     0.87921,\n",
            "            0.87914,     0.87908,     0.87901,     0.87895,     0.87888,     0.87882,     0.87876,     0.87869,     0.87863,     0.87856,      0.8785,     0.87843,     0.87835,     0.87826,     0.87817,     0.87808,     0.87799,      0.8779,     0.87781,     0.87772,     0.87767,     0.87792,     0.87817,\n",
            "             0.8784,     0.87861,     0.87882,     0.87847,     0.87817,     0.87849,     0.87876,     0.87894,     0.87913,     0.87931,     0.87944,     0.87957,     0.87969,     0.87982,     0.87993,     0.87952,      0.8784,     0.87882,     0.87884,      0.8786,     0.87837,     0.87736,     0.87719,\n",
            "            0.87703,     0.87687,      0.8767,      0.8759,     0.87622,     0.87552,     0.87524,     0.87497,     0.87534,      0.8751,     0.87487,     0.87463,      0.8744,     0.87416,     0.87393,      0.8735,     0.87295,      0.8724,     0.87218,     0.87211,     0.87204,     0.87197,      0.8719,\n",
            "            0.87182,     0.87175,     0.87168,     0.87161,     0.87154,     0.87147,     0.87123,     0.87082,     0.87085,     0.87127,      0.8717,     0.87154,     0.87104,     0.87087,     0.87071,     0.87054,     0.87037,     0.86937,     0.86909,     0.86881,     0.86907,     0.86851,     0.86881,\n",
            "            0.86924,     0.86967,     0.86943,     0.86915,     0.86805,     0.86749,     0.86735,     0.86753,     0.86771,     0.86783,     0.86755,     0.86727,     0.86693,     0.86637,     0.86499,     0.86463,     0.86477,     0.86492,     0.86506,      0.8652,     0.86579,     0.86424,     0.86397,\n",
            "            0.86373,     0.86349,     0.86385,     0.86357,     0.86329,     0.86343,     0.86435,     0.86379,     0.86239,     0.86108,     0.86092,     0.86077,     0.86061,     0.86046,      0.8603,     0.86064,     0.86132,     0.86075,     0.86011,     0.86037,     0.86036,     0.86008,     0.85979,\n",
            "            0.85918,     0.85849,     0.85792,     0.85734,     0.85757,     0.85654,     0.85596,     0.85539,     0.85414,     0.85379,     0.85369,     0.85412,      0.8544,     0.85466,     0.85361,     0.85326,     0.85291,      0.8517,     0.85135,     0.85088,     0.85028,     0.84942,     0.84884,\n",
            "            0.84751,     0.84632,      0.8468,     0.84723,     0.84688,     0.84652,      0.8453,     0.84495,     0.84376,      0.8435,     0.84325,     0.84299,     0.84243,      0.8417,      0.8408,     0.84006,     0.83863,     0.83895,     0.83831,     0.83771,     0.83604,     0.83616,     0.83258,\n",
            "            0.83222,     0.83189,     0.83169,     0.83149,     0.83128,     0.83108,     0.83027,     0.82847,     0.82733,     0.82716,       0.827,     0.82683,     0.82666,      0.8225,     0.82092,     0.82046,     0.81641,     0.81604,     0.81476,     0.81445,     0.81414,     0.81382,     0.81351,\n",
            "             0.8132,     0.81319,     0.81329,     0.81235,     0.81141,     0.80954,     0.80767,     0.80663,     0.80616,     0.80653,     0.80378,     0.80338,     0.80248,     0.80216,     0.80184,     0.80141,     0.79837,     0.79522,     0.79424,     0.79268,     0.79219,     0.78891,     0.78793,\n",
            "            0.78564,     0.78426,      0.7822,     0.77925,     0.77629,     0.77183,     0.76685,     0.76193,     0.75989,     0.75775,     0.75223,      0.7481,     0.74508,     0.74382,     0.73931,     0.73615,     0.73199,     0.73059,     0.72609,     0.72016,     0.71541,     0.71367,     0.70762,\n",
            "            0.70046,     0.69926,     0.69539,     0.68799,     0.68514,     0.67995,     0.67462,     0.66887,     0.66514,     0.65877,     0.64781,      0.6412,     0.62915,     0.62568,     0.61956,     0.61483,     0.60796,     0.59624,     0.59079,     0.58213,     0.56858,     0.56575,     0.55748,\n",
            "             0.5307,     0.52194,     0.51311,     0.49671,     0.48453,     0.47471,       0.458,     0.44197,     0.42724,     0.41224,     0.40204,     0.37786,     0.36367,     0.34742,     0.33269,     0.32145,     0.31005,     0.29078,     0.28674,     0.25493,      0.2323,     0.21755,     0.19609,\n",
            "            0.16967,     0.14931,      0.1195,     0.11196,     0.10471,    0.095003,    0.085302,    0.067962,    0.060362,    0.045109,    0.034763,    0.019129,    0.013759,    0.012129,   0.0098201,    0.008014,   0.0047896,   0.0037008,           0,           0,           0,           0,           0,\n",
            "                  0,           0,           0,           0,           0,           0,           0,           0,           0,           0,           0,           0,           0,           0,           0,           0,           0,           0,           0,           0,           0,           0,           0,\n",
            "                  0,           0,           0,           0,           0,           0,           0,           0,           0,           0,           0]]), 'Confidence', 'F1'], [array([          0,    0.001001,    0.002002,    0.003003,    0.004004,    0.005005,    0.006006,    0.007007,    0.008008,    0.009009,     0.01001,    0.011011,    0.012012,    0.013013,    0.014014,    0.015015,    0.016016,    0.017017,    0.018018,    0.019019,     0.02002,    0.021021,    0.022022,    0.023023,\n",
            "          0.024024,    0.025025,    0.026026,    0.027027,    0.028028,    0.029029,     0.03003,    0.031031,    0.032032,    0.033033,    0.034034,    0.035035,    0.036036,    0.037037,    0.038038,    0.039039,     0.04004,    0.041041,    0.042042,    0.043043,    0.044044,    0.045045,    0.046046,    0.047047,\n",
            "          0.048048,    0.049049,     0.05005,    0.051051,    0.052052,    0.053053,    0.054054,    0.055055,    0.056056,    0.057057,    0.058058,    0.059059,     0.06006,    0.061061,    0.062062,    0.063063,    0.064064,    0.065065,    0.066066,    0.067067,    0.068068,    0.069069,     0.07007,    0.071071,\n",
            "          0.072072,    0.073073,    0.074074,    0.075075,    0.076076,    0.077077,    0.078078,    0.079079,     0.08008,    0.081081,    0.082082,    0.083083,    0.084084,    0.085085,    0.086086,    0.087087,    0.088088,    0.089089,     0.09009,    0.091091,    0.092092,    0.093093,    0.094094,    0.095095,\n",
            "          0.096096,    0.097097,    0.098098,    0.099099,      0.1001,      0.1011,      0.1021,      0.1031,      0.1041,     0.10511,     0.10611,     0.10711,     0.10811,     0.10911,     0.11011,     0.11111,     0.11211,     0.11311,     0.11411,     0.11512,     0.11612,     0.11712,     0.11812,     0.11912,\n",
            "           0.12012,     0.12112,     0.12212,     0.12312,     0.12412,     0.12513,     0.12613,     0.12713,     0.12813,     0.12913,     0.13013,     0.13113,     0.13213,     0.13313,     0.13413,     0.13514,     0.13614,     0.13714,     0.13814,     0.13914,     0.14014,     0.14114,     0.14214,     0.14314,\n",
            "           0.14414,     0.14515,     0.14615,     0.14715,     0.14815,     0.14915,     0.15015,     0.15115,     0.15215,     0.15315,     0.15415,     0.15516,     0.15616,     0.15716,     0.15816,     0.15916,     0.16016,     0.16116,     0.16216,     0.16316,     0.16416,     0.16517,     0.16617,     0.16717,\n",
            "           0.16817,     0.16917,     0.17017,     0.17117,     0.17217,     0.17317,     0.17417,     0.17518,     0.17618,     0.17718,     0.17818,     0.17918,     0.18018,     0.18118,     0.18218,     0.18318,     0.18418,     0.18519,     0.18619,     0.18719,     0.18819,     0.18919,     0.19019,     0.19119,\n",
            "           0.19219,     0.19319,     0.19419,      0.1952,      0.1962,      0.1972,      0.1982,      0.1992,      0.2002,      0.2012,      0.2022,      0.2032,      0.2042,     0.20521,     0.20621,     0.20721,     0.20821,     0.20921,     0.21021,     0.21121,     0.21221,     0.21321,     0.21421,     0.21522,\n",
            "           0.21622,     0.21722,     0.21822,     0.21922,     0.22022,     0.22122,     0.22222,     0.22322,     0.22422,     0.22523,     0.22623,     0.22723,     0.22823,     0.22923,     0.23023,     0.23123,     0.23223,     0.23323,     0.23423,     0.23524,     0.23624,     0.23724,     0.23824,     0.23924,\n",
            "           0.24024,     0.24124,     0.24224,     0.24324,     0.24424,     0.24525,     0.24625,     0.24725,     0.24825,     0.24925,     0.25025,     0.25125,     0.25225,     0.25325,     0.25425,     0.25526,     0.25626,     0.25726,     0.25826,     0.25926,     0.26026,     0.26126,     0.26226,     0.26326,\n",
            "           0.26426,     0.26527,     0.26627,     0.26727,     0.26827,     0.26927,     0.27027,     0.27127,     0.27227,     0.27327,     0.27427,     0.27528,     0.27628,     0.27728,     0.27828,     0.27928,     0.28028,     0.28128,     0.28228,     0.28328,     0.28428,     0.28529,     0.28629,     0.28729,\n",
            "           0.28829,     0.28929,     0.29029,     0.29129,     0.29229,     0.29329,     0.29429,      0.2953,      0.2963,      0.2973,      0.2983,      0.2993,      0.3003,      0.3013,      0.3023,      0.3033,      0.3043,     0.30531,     0.30631,     0.30731,     0.30831,     0.30931,     0.31031,     0.31131,\n",
            "           0.31231,     0.31331,     0.31431,     0.31532,     0.31632,     0.31732,     0.31832,     0.31932,     0.32032,     0.32132,     0.32232,     0.32332,     0.32432,     0.32533,     0.32633,     0.32733,     0.32833,     0.32933,     0.33033,     0.33133,     0.33233,     0.33333,     0.33433,     0.33534,\n",
            "           0.33634,     0.33734,     0.33834,     0.33934,     0.34034,     0.34134,     0.34234,     0.34334,     0.34434,     0.34535,     0.34635,     0.34735,     0.34835,     0.34935,     0.35035,     0.35135,     0.35235,     0.35335,     0.35435,     0.35536,     0.35636,     0.35736,     0.35836,     0.35936,\n",
            "           0.36036,     0.36136,     0.36236,     0.36336,     0.36436,     0.36537,     0.36637,     0.36737,     0.36837,     0.36937,     0.37037,     0.37137,     0.37237,     0.37337,     0.37437,     0.37538,     0.37638,     0.37738,     0.37838,     0.37938,     0.38038,     0.38138,     0.38238,     0.38338,\n",
            "           0.38438,     0.38539,     0.38639,     0.38739,     0.38839,     0.38939,     0.39039,     0.39139,     0.39239,     0.39339,     0.39439,      0.3954,      0.3964,      0.3974,      0.3984,      0.3994,      0.4004,      0.4014,      0.4024,      0.4034,      0.4044,     0.40541,     0.40641,     0.40741,\n",
            "           0.40841,     0.40941,     0.41041,     0.41141,     0.41241,     0.41341,     0.41441,     0.41542,     0.41642,     0.41742,     0.41842,     0.41942,     0.42042,     0.42142,     0.42242,     0.42342,     0.42442,     0.42543,     0.42643,     0.42743,     0.42843,     0.42943,     0.43043,     0.43143,\n",
            "           0.43243,     0.43343,     0.43443,     0.43544,     0.43644,     0.43744,     0.43844,     0.43944,     0.44044,     0.44144,     0.44244,     0.44344,     0.44444,     0.44545,     0.44645,     0.44745,     0.44845,     0.44945,     0.45045,     0.45145,     0.45245,     0.45345,     0.45445,     0.45546,\n",
            "           0.45646,     0.45746,     0.45846,     0.45946,     0.46046,     0.46146,     0.46246,     0.46346,     0.46446,     0.46547,     0.46647,     0.46747,     0.46847,     0.46947,     0.47047,     0.47147,     0.47247,     0.47347,     0.47447,     0.47548,     0.47648,     0.47748,     0.47848,     0.47948,\n",
            "           0.48048,     0.48148,     0.48248,     0.48348,     0.48448,     0.48549,     0.48649,     0.48749,     0.48849,     0.48949,     0.49049,     0.49149,     0.49249,     0.49349,     0.49449,      0.4955,      0.4965,      0.4975,      0.4985,      0.4995,      0.5005,      0.5015,      0.5025,      0.5035,\n",
            "            0.5045,     0.50551,     0.50651,     0.50751,     0.50851,     0.50951,     0.51051,     0.51151,     0.51251,     0.51351,     0.51451,     0.51552,     0.51652,     0.51752,     0.51852,     0.51952,     0.52052,     0.52152,     0.52252,     0.52352,     0.52452,     0.52553,     0.52653,     0.52753,\n",
            "           0.52853,     0.52953,     0.53053,     0.53153,     0.53253,     0.53353,     0.53453,     0.53554,     0.53654,     0.53754,     0.53854,     0.53954,     0.54054,     0.54154,     0.54254,     0.54354,     0.54454,     0.54555,     0.54655,     0.54755,     0.54855,     0.54955,     0.55055,     0.55155,\n",
            "           0.55255,     0.55355,     0.55455,     0.55556,     0.55656,     0.55756,     0.55856,     0.55956,     0.56056,     0.56156,     0.56256,     0.56356,     0.56456,     0.56557,     0.56657,     0.56757,     0.56857,     0.56957,     0.57057,     0.57157,     0.57257,     0.57357,     0.57457,     0.57558,\n",
            "           0.57658,     0.57758,     0.57858,     0.57958,     0.58058,     0.58158,     0.58258,     0.58358,     0.58458,     0.58559,     0.58659,     0.58759,     0.58859,     0.58959,     0.59059,     0.59159,     0.59259,     0.59359,     0.59459,      0.5956,      0.5966,      0.5976,      0.5986,      0.5996,\n",
            "            0.6006,      0.6016,      0.6026,      0.6036,      0.6046,     0.60561,     0.60661,     0.60761,     0.60861,     0.60961,     0.61061,     0.61161,     0.61261,     0.61361,     0.61461,     0.61562,     0.61662,     0.61762,     0.61862,     0.61962,     0.62062,     0.62162,     0.62262,     0.62362,\n",
            "           0.62462,     0.62563,     0.62663,     0.62763,     0.62863,     0.62963,     0.63063,     0.63163,     0.63263,     0.63363,     0.63463,     0.63564,     0.63664,     0.63764,     0.63864,     0.63964,     0.64064,     0.64164,     0.64264,     0.64364,     0.64464,     0.64565,     0.64665,     0.64765,\n",
            "           0.64865,     0.64965,     0.65065,     0.65165,     0.65265,     0.65365,     0.65465,     0.65566,     0.65666,     0.65766,     0.65866,     0.65966,     0.66066,     0.66166,     0.66266,     0.66366,     0.66466,     0.66567,     0.66667,     0.66767,     0.66867,     0.66967,     0.67067,     0.67167,\n",
            "           0.67267,     0.67367,     0.67467,     0.67568,     0.67668,     0.67768,     0.67868,     0.67968,     0.68068,     0.68168,     0.68268,     0.68368,     0.68468,     0.68569,     0.68669,     0.68769,     0.68869,     0.68969,     0.69069,     0.69169,     0.69269,     0.69369,     0.69469,      0.6957,\n",
            "            0.6967,      0.6977,      0.6987,      0.6997,      0.7007,      0.7017,      0.7027,      0.7037,      0.7047,     0.70571,     0.70671,     0.70771,     0.70871,     0.70971,     0.71071,     0.71171,     0.71271,     0.71371,     0.71471,     0.71572,     0.71672,     0.71772,     0.71872,     0.71972,\n",
            "           0.72072,     0.72172,     0.72272,     0.72372,     0.72472,     0.72573,     0.72673,     0.72773,     0.72873,     0.72973,     0.73073,     0.73173,     0.73273,     0.73373,     0.73473,     0.73574,     0.73674,     0.73774,     0.73874,     0.73974,     0.74074,     0.74174,     0.74274,     0.74374,\n",
            "           0.74474,     0.74575,     0.74675,     0.74775,     0.74875,     0.74975,     0.75075,     0.75175,     0.75275,     0.75375,     0.75475,     0.75576,     0.75676,     0.75776,     0.75876,     0.75976,     0.76076,     0.76176,     0.76276,     0.76376,     0.76476,     0.76577,     0.76677,     0.76777,\n",
            "           0.76877,     0.76977,     0.77077,     0.77177,     0.77277,     0.77377,     0.77477,     0.77578,     0.77678,     0.77778,     0.77878,     0.77978,     0.78078,     0.78178,     0.78278,     0.78378,     0.78478,     0.78579,     0.78679,     0.78779,     0.78879,     0.78979,     0.79079,     0.79179,\n",
            "           0.79279,     0.79379,     0.79479,      0.7958,      0.7968,      0.7978,      0.7988,      0.7998,      0.8008,      0.8018,      0.8028,      0.8038,      0.8048,     0.80581,     0.80681,     0.80781,     0.80881,     0.80981,     0.81081,     0.81181,     0.81281,     0.81381,     0.81481,     0.81582,\n",
            "           0.81682,     0.81782,     0.81882,     0.81982,     0.82082,     0.82182,     0.82282,     0.82382,     0.82482,     0.82583,     0.82683,     0.82783,     0.82883,     0.82983,     0.83083,     0.83183,     0.83283,     0.83383,     0.83483,     0.83584,     0.83684,     0.83784,     0.83884,     0.83984,\n",
            "           0.84084,     0.84184,     0.84284,     0.84384,     0.84484,     0.84585,     0.84685,     0.84785,     0.84885,     0.84985,     0.85085,     0.85185,     0.85285,     0.85385,     0.85485,     0.85586,     0.85686,     0.85786,     0.85886,     0.85986,     0.86086,     0.86186,     0.86286,     0.86386,\n",
            "           0.86486,     0.86587,     0.86687,     0.86787,     0.86887,     0.86987,     0.87087,     0.87187,     0.87287,     0.87387,     0.87487,     0.87588,     0.87688,     0.87788,     0.87888,     0.87988,     0.88088,     0.88188,     0.88288,     0.88388,     0.88488,     0.88589,     0.88689,     0.88789,\n",
            "           0.88889,     0.88989,     0.89089,     0.89189,     0.89289,     0.89389,     0.89489,      0.8959,      0.8969,      0.8979,      0.8989,      0.8999,      0.9009,      0.9019,      0.9029,      0.9039,      0.9049,     0.90591,     0.90691,     0.90791,     0.90891,     0.90991,     0.91091,     0.91191,\n",
            "           0.91291,     0.91391,     0.91491,     0.91592,     0.91692,     0.91792,     0.91892,     0.91992,     0.92092,     0.92192,     0.92292,     0.92392,     0.92492,     0.92593,     0.92693,     0.92793,     0.92893,     0.92993,     0.93093,     0.93193,     0.93293,     0.93393,     0.93493,     0.93594,\n",
            "           0.93694,     0.93794,     0.93894,     0.93994,     0.94094,     0.94194,     0.94294,     0.94394,     0.94494,     0.94595,     0.94695,     0.94795,     0.94895,     0.94995,     0.95095,     0.95195,     0.95295,     0.95395,     0.95495,     0.95596,     0.95696,     0.95796,     0.95896,     0.95996,\n",
            "           0.96096,     0.96196,     0.96296,     0.96396,     0.96496,     0.96597,     0.96697,     0.96797,     0.96897,     0.96997,     0.97097,     0.97197,     0.97297,     0.97397,     0.97497,     0.97598,     0.97698,     0.97798,     0.97898,     0.97998,     0.98098,     0.98198,     0.98298,     0.98398,\n",
            "           0.98498,     0.98599,     0.98699,     0.98799,     0.98899,     0.98999,     0.99099,     0.99199,     0.99299,     0.99399,     0.99499,       0.996,       0.997,       0.998,       0.999,           1]), array([[    0.35026,     0.35026,     0.42332,     0.46586,     0.49553,      0.5144,     0.53116,     0.54351,     0.55528,     0.56637,     0.57316,     0.58042,     0.58873,     0.59428,     0.60265,     0.60785,     0.61379,     0.61769,      0.6255,     0.62833,     0.63293,     0.63774,      0.6416,\n",
            "            0.64657,     0.65072,     0.65357,     0.65501,      0.6581,     0.66082,     0.66179,     0.66365,     0.66585,     0.66989,     0.67083,     0.67422,     0.67778,     0.68063,      0.6842,     0.68805,     0.69075,     0.69147,     0.69421,     0.69707,     0.69853,     0.69995,     0.70398,\n",
            "            0.70468,     0.70565,     0.70781,      0.7128,     0.71431,      0.7163,     0.71845,     0.71889,      0.7199,      0.7202,     0.72137,     0.72218,     0.72279,     0.72435,     0.72483,     0.72626,     0.72677,     0.72733,     0.72851,     0.72998,     0.73046,     0.73252,     0.73353,\n",
            "              0.734,     0.73502,      0.7354,      0.7358,     0.73629,     0.73814,     0.73865,     0.73864,     0.73962,     0.74133,     0.74376,     0.74442,     0.74543,     0.74732,     0.74874,     0.74964,     0.74993,     0.75076,     0.75278,     0.75466,     0.75517,     0.75605,     0.75601,\n",
            "            0.75628,     0.75656,     0.75693,     0.75742,     0.75821,     0.75925,     0.76099,     0.76241,      0.7627,       0.763,     0.76407,     0.76521,     0.76608,      0.7664,     0.76686,     0.76782,     0.76827,     0.76901,     0.77203,     0.77239,     0.77276,     0.77279,     0.77266,\n",
            "            0.77508,     0.77589,     0.77771,     0.77922,     0.78002,     0.78151,     0.78355,     0.78474,     0.78604,     0.78732,     0.78861,     0.78908,     0.78935,     0.78981,        0.79,     0.79063,     0.79083,     0.79103,     0.79123,     0.79252,     0.79329,     0.79357,     0.79386,\n",
            "            0.79445,     0.79522,     0.79554,     0.79586,     0.79632,     0.79678,     0.79859,     0.79924,      0.8004,     0.80028,      0.8005,     0.80097,     0.80204,     0.80199,     0.80287,     0.80345,     0.80396,     0.80441,     0.80486,     0.80531,     0.80572,     0.80608,     0.80645,\n",
            "            0.80639,     0.80629,     0.80789,     0.80856,     0.80919,     0.81099,     0.81158,     0.81261,     0.81359,     0.81558,     0.81639,     0.81722,     0.81719,     0.81716,     0.81713,      0.8171,     0.81707,     0.81704,     0.81701,     0.81699,     0.81816,     0.81931,     0.82034,\n",
            "            0.82056,     0.82217,     0.82312,     0.82333,     0.82325,     0.82331,     0.82388,     0.82398,     0.82476,     0.82486,     0.82496,     0.82506,     0.82516,     0.82526,     0.82536,     0.82546,     0.82556,     0.82566,     0.82583,     0.82609,     0.82636,     0.82662,     0.82758,\n",
            "            0.82945,     0.83123,     0.83201,      0.8329,     0.83394,     0.83446,     0.83529,     0.83568,     0.83676,     0.83749,     0.83801,     0.83854,     0.83907,     0.83944,     0.83934,      0.8394,     0.84017,     0.84094,     0.84152,     0.84191,     0.84229,     0.84277,     0.84327,\n",
            "            0.84358,     0.84383,     0.84407,     0.84431,     0.84459,     0.84489,      0.8452,     0.84551,     0.84587,     0.84622,     0.84663,     0.84742,     0.84787,     0.84823,     0.84858,     0.85093,     0.85383,     0.85409,     0.85461,     0.85522,     0.85589,     0.85663,     0.85723,\n",
            "            0.85772,     0.85813,     0.85837,     0.85862,     0.85886,     0.85911,     0.85909,     0.85905,     0.85902,     0.85899,     0.85896,     0.86116,     0.86124,     0.86131,     0.86139,     0.86147,     0.86155,     0.86163,     0.86171,     0.86178,     0.86186,     0.86194,     0.86202,\n",
            "             0.8621,     0.86218,     0.86254,     0.86304,     0.86337,     0.86352,     0.86368,     0.86383,     0.86399,     0.86414,      0.8643,     0.86466,      0.8653,     0.86545,     0.86541,     0.86536,     0.86532,     0.86549,     0.86572,     0.86595,     0.86617,      0.8664,     0.86661,\n",
            "            0.86683,     0.86704,     0.86726,     0.86748,     0.86768,     0.86787,     0.86807,     0.86827,     0.86847,      0.8686,      0.8685,     0.86902,      0.8697,     0.86997,     0.87024,     0.87051,     0.87076,     0.87098,      0.8712,     0.87141,     0.87163,     0.87191,     0.87237,\n",
            "            0.87283,     0.87385,     0.87514,     0.87511,     0.87508,     0.87506,     0.87503,       0.875,     0.87613,     0.87609,     0.87605,     0.87601,     0.87597,     0.87592,     0.87586,     0.87593,     0.87659,     0.87714,     0.87757,     0.87799,     0.87842,     0.87884,     0.87922,\n",
            "            0.87917,     0.87912,     0.87908,     0.87936,     0.87979,     0.88021,     0.88052,     0.88084,     0.88115,     0.88177,     0.88276,     0.88344,     0.88356,     0.88347,     0.88341,     0.88335,     0.88326,      0.8833,     0.88361,     0.88393,     0.88425,      0.8863,     0.88692,\n",
            "            0.88726,     0.88761,     0.88794,     0.88826,     0.88859,     0.88891,     0.88901,     0.88897,     0.88893,     0.88889,     0.89044,     0.89085,     0.89126,     0.89251,     0.89282,     0.89312,     0.89343,     0.89423,      0.8952,     0.89581,     0.89596,     0.89591,     0.89586,\n",
            "            0.89581,     0.89577,     0.89574,       0.896,     0.89626,     0.89652,     0.89678,     0.89691,     0.89689,     0.89687,     0.89685,     0.89683,     0.89681,     0.89679,     0.89717,     0.89762,     0.89821,     0.89917,      0.8992,     0.89982,     0.90154,     0.90176,     0.90198,\n",
            "             0.9022,     0.90241,     0.90263,     0.90285,     0.90327,     0.90369,     0.90369,     0.90363,     0.90358,     0.90359,     0.90422,     0.90482,     0.90524,     0.90566,     0.90599,     0.90598,     0.90596,     0.90595,     0.90593,     0.90592,      0.9059,     0.90589,     0.90587,\n",
            "            0.90717,     0.90727,     0.90736,     0.90746,     0.90756,     0.90766,     0.90776,     0.90785,     0.90795,     0.90805,     0.90815,     0.90825,     0.90834,     0.90897,     0.90959,     0.90976,     0.90992,     0.91009,     0.91025,     0.91042,     0.91059,     0.91075,     0.91078,\n",
            "            0.91136,     0.91195,     0.91192,     0.91189,     0.91186,     0.91181,     0.91174,     0.91171,     0.91169,     0.91168,     0.91166,     0.91164,     0.91162,     0.91161,     0.91269,     0.91281,     0.91275,     0.91448,     0.91514,     0.91642,      0.9164,     0.91638,     0.91637,\n",
            "            0.91635,     0.91633,     0.91649,     0.91765,     0.91798,     0.91831,     0.91864,     0.91888,     0.91885,     0.91883,     0.91881,     0.91878,     0.91885,     0.91907,     0.91929,     0.91951,     0.91973,     0.91995,     0.92029,     0.92073,     0.92117,     0.92133,     0.92129,\n",
            "            0.92125,     0.92154,     0.92198,     0.92242,     0.92251,     0.92249,     0.92246,     0.92243,     0.92277,     0.92344,     0.92349,     0.92347,     0.92345,     0.92343,      0.9233,     0.92328,     0.92327,     0.92325,     0.92324,     0.92323,     0.92321,      0.9232,     0.92333,\n",
            "              0.924,     0.92449,     0.92443,     0.92428,     0.92426,     0.92424,     0.92422,     0.92421,     0.92419,     0.92415,      0.9241,     0.92404,     0.92398,     0.92395,     0.92395,     0.92394,     0.92393,     0.92392,     0.92391,      0.9239,     0.92389,     0.92388,     0.92387,\n",
            "            0.92386,     0.92385,     0.92382,     0.92379,     0.92376,     0.92373,      0.9237,     0.92367,     0.92364,     0.92381,     0.92415,     0.92449,     0.92484,     0.92489,     0.92483,     0.92479,     0.92476,     0.92467,     0.92462,      0.9246,     0.92458,     0.92455,     0.92453,\n",
            "            0.92483,     0.92517,     0.92552,     0.92586,     0.92582,     0.92567,     0.92659,     0.92835,     0.92833,     0.92832,      0.9283,     0.92828,     0.92826,     0.92804,     0.92804,     0.92803,     0.92802,     0.92801,     0.92801,       0.928,     0.92799,     0.92799,     0.92798,\n",
            "            0.92797,     0.92797,     0.92796,     0.92795,     0.92794,     0.92805,     0.92824,     0.92842,     0.92861,      0.9288,     0.92898,     0.92917,     0.92931,      0.9293,     0.92929,     0.92928,     0.92927,     0.92926,     0.92925,     0.92924,     0.92923,     0.92922,     0.92921,\n",
            "             0.9292,     0.92915,      0.9291,     0.92909,     0.92907,     0.92906,     0.92905,     0.92904,     0.92903,     0.92901,       0.929,     0.92899,     0.92896,     0.92893,      0.9289,     0.92888,     0.92887,     0.92885,     0.92884,     0.92883,     0.92881,      0.9288,     0.92878,\n",
            "            0.92877,     0.92877,     0.92876,     0.92875,     0.92874,     0.92873,     0.92872,     0.92871,      0.9287,      0.9287,     0.92869,     0.92868,     0.92867,     0.92865,     0.92864,     0.92863,     0.92862,     0.92861,     0.92859,     0.92858,     0.92864,      0.9292,     0.92977,\n",
            "            0.93028,     0.93075,     0.93122,     0.93129,     0.93144,     0.93216,     0.93277,     0.93318,     0.93359,       0.934,      0.9343,     0.93458,     0.93487,     0.93516,     0.93543,     0.93538,     0.93533,     0.93629,     0.93663,     0.93661,     0.93658,     0.93646,     0.93644,\n",
            "            0.93642,      0.9364,     0.93638,     0.93651,     0.93724,     0.93758,     0.93755,     0.93752,     0.93892,     0.93889,     0.93886,     0.93884,     0.93881,     0.93878,     0.93875,      0.9387,     0.93864,     0.93858,     0.93855,     0.93854,     0.93853,     0.93852,     0.93852,\n",
            "            0.93851,      0.9385,     0.93849,     0.93848,     0.93847,     0.93847,     0.93844,     0.93839,     0.93889,     0.93988,     0.94087,     0.94123,     0.94117,     0.94116,     0.94114,     0.94112,      0.9411,     0.94099,     0.94095,     0.94092,     0.94235,     0.94229,     0.94315,\n",
            "            0.94416,     0.94517,      0.9452,     0.94517,     0.94505,     0.94499,     0.94521,     0.94565,     0.94608,     0.94645,     0.94642,     0.94639,     0.94636,      0.9463,     0.94616,     0.94622,     0.94656,      0.9469,     0.94724,     0.94758,       0.949,     0.94897,     0.94894,\n",
            "            0.94892,     0.94889,     0.95039,     0.95036,     0.95033,     0.95095,     0.95337,     0.95332,     0.95319,     0.95307,     0.95306,     0.95304,     0.95303,     0.95301,       0.953,      0.9539,     0.95608,     0.95603,     0.95654,     0.95718,      0.9575,     0.95748,     0.95746,\n",
            "            0.95741,     0.95735,      0.9573,     0.95725,     0.95829,     0.95871,     0.95867,     0.95862,     0.95852,     0.95849,     0.95881,      0.9599,     0.96062,     0.96128,     0.96314,     0.96311,     0.96309,       0.963,     0.96297,     0.96294,      0.9629,     0.96283,     0.96279,\n",
            "            0.96269,     0.96332,     0.96455,     0.96587,     0.96584,     0.96582,     0.96573,     0.96571,     0.96563,     0.96561,      0.9656,     0.96558,     0.96554,     0.96549,     0.96543,     0.96538,     0.96532,     0.96618,      0.9669,     0.96686,     0.96675,     0.96786,     0.96818,\n",
            "            0.96816,     0.96814,     0.96813,     0.96811,      0.9681,     0.96809,     0.96804,     0.96792,     0.96785,     0.96784,     0.96783,     0.96782,      0.9678,     0.96754,     0.96743,      0.9674,     0.96714,     0.96711,     0.96703,     0.96701,     0.96699,     0.96697,     0.96695,\n",
            "            0.96693,     0.96748,     0.96867,     0.96861,     0.96855,     0.96844,     0.96832,     0.97002,        0.97,      0.9718,     0.97173,     0.97343,     0.97338,     0.97337,     0.97335,     0.97332,     0.97316,     0.97299,     0.97293,     0.97285,     0.97282,     0.97264,     0.97258,\n",
            "            0.97434,     0.97427,     0.97416,       0.974,     0.97384,      0.9736,     0.97333,     0.97505,     0.97494,     0.97483,     0.97454,     0.97432,     0.97623,     0.97617,     0.97594,     0.97578,     0.97771,     0.97765,     0.97744,     0.97715,     0.97692,     0.97907,      0.9788,\n",
            "            0.97847,     0.97842,     0.98295,     0.98267,     0.98256,     0.98236,     0.98465,     0.98445,     0.98432,      0.9841,     0.98476,     0.98616,     0.98578,     0.98566,     0.98832,     0.98819,       0.988,     0.98766,      0.9875,     0.99039,     0.99007,        0.99,      0.9898,\n",
            "            0.98909,     0.98884,     0.98859,     0.98809,     0.98769,     0.98736,     0.98676,     0.98615,     0.98555,     0.98489,     0.98441,     0.98318,     0.98239,      0.9814,     0.98042,     0.97962,     0.97875,     0.97712,     0.97675,     0.97345,     0.97057,     0.96839,     0.96464,\n",
            "            0.95879,     0.95294,       0.941,     0.93704,     0.93273,     0.92601,     0.94365,     0.92969,     0.92124,     0.89659,     0.86919,      0.8785,     0.83815,           1,           1,           1,           1,           1,           1,           1,           1,           1,           1,\n",
            "                  1,           1,           1,           1,           1,           1,           1,           1,           1,           1,           1,           1,           1,           1,           1,           1,           1,           1,           1,           1,           1,           1,           1,\n",
            "                  1,           1,           1,           1,           1,           1,           1,           1,           1,           1,           1]]), 'Confidence', 'Precision'], [array([          0,    0.001001,    0.002002,    0.003003,    0.004004,    0.005005,    0.006006,    0.007007,    0.008008,    0.009009,     0.01001,    0.011011,    0.012012,    0.013013,    0.014014,    0.015015,    0.016016,    0.017017,    0.018018,    0.019019,     0.02002,    0.021021,    0.022022,    0.023023,\n",
            "          0.024024,    0.025025,    0.026026,    0.027027,    0.028028,    0.029029,     0.03003,    0.031031,    0.032032,    0.033033,    0.034034,    0.035035,    0.036036,    0.037037,    0.038038,    0.039039,     0.04004,    0.041041,    0.042042,    0.043043,    0.044044,    0.045045,    0.046046,    0.047047,\n",
            "          0.048048,    0.049049,     0.05005,    0.051051,    0.052052,    0.053053,    0.054054,    0.055055,    0.056056,    0.057057,    0.058058,    0.059059,     0.06006,    0.061061,    0.062062,    0.063063,    0.064064,    0.065065,    0.066066,    0.067067,    0.068068,    0.069069,     0.07007,    0.071071,\n",
            "          0.072072,    0.073073,    0.074074,    0.075075,    0.076076,    0.077077,    0.078078,    0.079079,     0.08008,    0.081081,    0.082082,    0.083083,    0.084084,    0.085085,    0.086086,    0.087087,    0.088088,    0.089089,     0.09009,    0.091091,    0.092092,    0.093093,    0.094094,    0.095095,\n",
            "          0.096096,    0.097097,    0.098098,    0.099099,      0.1001,      0.1011,      0.1021,      0.1031,      0.1041,     0.10511,     0.10611,     0.10711,     0.10811,     0.10911,     0.11011,     0.11111,     0.11211,     0.11311,     0.11411,     0.11512,     0.11612,     0.11712,     0.11812,     0.11912,\n",
            "           0.12012,     0.12112,     0.12212,     0.12312,     0.12412,     0.12513,     0.12613,     0.12713,     0.12813,     0.12913,     0.13013,     0.13113,     0.13213,     0.13313,     0.13413,     0.13514,     0.13614,     0.13714,     0.13814,     0.13914,     0.14014,     0.14114,     0.14214,     0.14314,\n",
            "           0.14414,     0.14515,     0.14615,     0.14715,     0.14815,     0.14915,     0.15015,     0.15115,     0.15215,     0.15315,     0.15415,     0.15516,     0.15616,     0.15716,     0.15816,     0.15916,     0.16016,     0.16116,     0.16216,     0.16316,     0.16416,     0.16517,     0.16617,     0.16717,\n",
            "           0.16817,     0.16917,     0.17017,     0.17117,     0.17217,     0.17317,     0.17417,     0.17518,     0.17618,     0.17718,     0.17818,     0.17918,     0.18018,     0.18118,     0.18218,     0.18318,     0.18418,     0.18519,     0.18619,     0.18719,     0.18819,     0.18919,     0.19019,     0.19119,\n",
            "           0.19219,     0.19319,     0.19419,      0.1952,      0.1962,      0.1972,      0.1982,      0.1992,      0.2002,      0.2012,      0.2022,      0.2032,      0.2042,     0.20521,     0.20621,     0.20721,     0.20821,     0.20921,     0.21021,     0.21121,     0.21221,     0.21321,     0.21421,     0.21522,\n",
            "           0.21622,     0.21722,     0.21822,     0.21922,     0.22022,     0.22122,     0.22222,     0.22322,     0.22422,     0.22523,     0.22623,     0.22723,     0.22823,     0.22923,     0.23023,     0.23123,     0.23223,     0.23323,     0.23423,     0.23524,     0.23624,     0.23724,     0.23824,     0.23924,\n",
            "           0.24024,     0.24124,     0.24224,     0.24324,     0.24424,     0.24525,     0.24625,     0.24725,     0.24825,     0.24925,     0.25025,     0.25125,     0.25225,     0.25325,     0.25425,     0.25526,     0.25626,     0.25726,     0.25826,     0.25926,     0.26026,     0.26126,     0.26226,     0.26326,\n",
            "           0.26426,     0.26527,     0.26627,     0.26727,     0.26827,     0.26927,     0.27027,     0.27127,     0.27227,     0.27327,     0.27427,     0.27528,     0.27628,     0.27728,     0.27828,     0.27928,     0.28028,     0.28128,     0.28228,     0.28328,     0.28428,     0.28529,     0.28629,     0.28729,\n",
            "           0.28829,     0.28929,     0.29029,     0.29129,     0.29229,     0.29329,     0.29429,      0.2953,      0.2963,      0.2973,      0.2983,      0.2993,      0.3003,      0.3013,      0.3023,      0.3033,      0.3043,     0.30531,     0.30631,     0.30731,     0.30831,     0.30931,     0.31031,     0.31131,\n",
            "           0.31231,     0.31331,     0.31431,     0.31532,     0.31632,     0.31732,     0.31832,     0.31932,     0.32032,     0.32132,     0.32232,     0.32332,     0.32432,     0.32533,     0.32633,     0.32733,     0.32833,     0.32933,     0.33033,     0.33133,     0.33233,     0.33333,     0.33433,     0.33534,\n",
            "           0.33634,     0.33734,     0.33834,     0.33934,     0.34034,     0.34134,     0.34234,     0.34334,     0.34434,     0.34535,     0.34635,     0.34735,     0.34835,     0.34935,     0.35035,     0.35135,     0.35235,     0.35335,     0.35435,     0.35536,     0.35636,     0.35736,     0.35836,     0.35936,\n",
            "           0.36036,     0.36136,     0.36236,     0.36336,     0.36436,     0.36537,     0.36637,     0.36737,     0.36837,     0.36937,     0.37037,     0.37137,     0.37237,     0.37337,     0.37437,     0.37538,     0.37638,     0.37738,     0.37838,     0.37938,     0.38038,     0.38138,     0.38238,     0.38338,\n",
            "           0.38438,     0.38539,     0.38639,     0.38739,     0.38839,     0.38939,     0.39039,     0.39139,     0.39239,     0.39339,     0.39439,      0.3954,      0.3964,      0.3974,      0.3984,      0.3994,      0.4004,      0.4014,      0.4024,      0.4034,      0.4044,     0.40541,     0.40641,     0.40741,\n",
            "           0.40841,     0.40941,     0.41041,     0.41141,     0.41241,     0.41341,     0.41441,     0.41542,     0.41642,     0.41742,     0.41842,     0.41942,     0.42042,     0.42142,     0.42242,     0.42342,     0.42442,     0.42543,     0.42643,     0.42743,     0.42843,     0.42943,     0.43043,     0.43143,\n",
            "           0.43243,     0.43343,     0.43443,     0.43544,     0.43644,     0.43744,     0.43844,     0.43944,     0.44044,     0.44144,     0.44244,     0.44344,     0.44444,     0.44545,     0.44645,     0.44745,     0.44845,     0.44945,     0.45045,     0.45145,     0.45245,     0.45345,     0.45445,     0.45546,\n",
            "           0.45646,     0.45746,     0.45846,     0.45946,     0.46046,     0.46146,     0.46246,     0.46346,     0.46446,     0.46547,     0.46647,     0.46747,     0.46847,     0.46947,     0.47047,     0.47147,     0.47247,     0.47347,     0.47447,     0.47548,     0.47648,     0.47748,     0.47848,     0.47948,\n",
            "           0.48048,     0.48148,     0.48248,     0.48348,     0.48448,     0.48549,     0.48649,     0.48749,     0.48849,     0.48949,     0.49049,     0.49149,     0.49249,     0.49349,     0.49449,      0.4955,      0.4965,      0.4975,      0.4985,      0.4995,      0.5005,      0.5015,      0.5025,      0.5035,\n",
            "            0.5045,     0.50551,     0.50651,     0.50751,     0.50851,     0.50951,     0.51051,     0.51151,     0.51251,     0.51351,     0.51451,     0.51552,     0.51652,     0.51752,     0.51852,     0.51952,     0.52052,     0.52152,     0.52252,     0.52352,     0.52452,     0.52553,     0.52653,     0.52753,\n",
            "           0.52853,     0.52953,     0.53053,     0.53153,     0.53253,     0.53353,     0.53453,     0.53554,     0.53654,     0.53754,     0.53854,     0.53954,     0.54054,     0.54154,     0.54254,     0.54354,     0.54454,     0.54555,     0.54655,     0.54755,     0.54855,     0.54955,     0.55055,     0.55155,\n",
            "           0.55255,     0.55355,     0.55455,     0.55556,     0.55656,     0.55756,     0.55856,     0.55956,     0.56056,     0.56156,     0.56256,     0.56356,     0.56456,     0.56557,     0.56657,     0.56757,     0.56857,     0.56957,     0.57057,     0.57157,     0.57257,     0.57357,     0.57457,     0.57558,\n",
            "           0.57658,     0.57758,     0.57858,     0.57958,     0.58058,     0.58158,     0.58258,     0.58358,     0.58458,     0.58559,     0.58659,     0.58759,     0.58859,     0.58959,     0.59059,     0.59159,     0.59259,     0.59359,     0.59459,      0.5956,      0.5966,      0.5976,      0.5986,      0.5996,\n",
            "            0.6006,      0.6016,      0.6026,      0.6036,      0.6046,     0.60561,     0.60661,     0.60761,     0.60861,     0.60961,     0.61061,     0.61161,     0.61261,     0.61361,     0.61461,     0.61562,     0.61662,     0.61762,     0.61862,     0.61962,     0.62062,     0.62162,     0.62262,     0.62362,\n",
            "           0.62462,     0.62563,     0.62663,     0.62763,     0.62863,     0.62963,     0.63063,     0.63163,     0.63263,     0.63363,     0.63463,     0.63564,     0.63664,     0.63764,     0.63864,     0.63964,     0.64064,     0.64164,     0.64264,     0.64364,     0.64464,     0.64565,     0.64665,     0.64765,\n",
            "           0.64865,     0.64965,     0.65065,     0.65165,     0.65265,     0.65365,     0.65465,     0.65566,     0.65666,     0.65766,     0.65866,     0.65966,     0.66066,     0.66166,     0.66266,     0.66366,     0.66466,     0.66567,     0.66667,     0.66767,     0.66867,     0.66967,     0.67067,     0.67167,\n",
            "           0.67267,     0.67367,     0.67467,     0.67568,     0.67668,     0.67768,     0.67868,     0.67968,     0.68068,     0.68168,     0.68268,     0.68368,     0.68468,     0.68569,     0.68669,     0.68769,     0.68869,     0.68969,     0.69069,     0.69169,     0.69269,     0.69369,     0.69469,      0.6957,\n",
            "            0.6967,      0.6977,      0.6987,      0.6997,      0.7007,      0.7017,      0.7027,      0.7037,      0.7047,     0.70571,     0.70671,     0.70771,     0.70871,     0.70971,     0.71071,     0.71171,     0.71271,     0.71371,     0.71471,     0.71572,     0.71672,     0.71772,     0.71872,     0.71972,\n",
            "           0.72072,     0.72172,     0.72272,     0.72372,     0.72472,     0.72573,     0.72673,     0.72773,     0.72873,     0.72973,     0.73073,     0.73173,     0.73273,     0.73373,     0.73473,     0.73574,     0.73674,     0.73774,     0.73874,     0.73974,     0.74074,     0.74174,     0.74274,     0.74374,\n",
            "           0.74474,     0.74575,     0.74675,     0.74775,     0.74875,     0.74975,     0.75075,     0.75175,     0.75275,     0.75375,     0.75475,     0.75576,     0.75676,     0.75776,     0.75876,     0.75976,     0.76076,     0.76176,     0.76276,     0.76376,     0.76476,     0.76577,     0.76677,     0.76777,\n",
            "           0.76877,     0.76977,     0.77077,     0.77177,     0.77277,     0.77377,     0.77477,     0.77578,     0.77678,     0.77778,     0.77878,     0.77978,     0.78078,     0.78178,     0.78278,     0.78378,     0.78478,     0.78579,     0.78679,     0.78779,     0.78879,     0.78979,     0.79079,     0.79179,\n",
            "           0.79279,     0.79379,     0.79479,      0.7958,      0.7968,      0.7978,      0.7988,      0.7998,      0.8008,      0.8018,      0.8028,      0.8038,      0.8048,     0.80581,     0.80681,     0.80781,     0.80881,     0.80981,     0.81081,     0.81181,     0.81281,     0.81381,     0.81481,     0.81582,\n",
            "           0.81682,     0.81782,     0.81882,     0.81982,     0.82082,     0.82182,     0.82282,     0.82382,     0.82482,     0.82583,     0.82683,     0.82783,     0.82883,     0.82983,     0.83083,     0.83183,     0.83283,     0.83383,     0.83483,     0.83584,     0.83684,     0.83784,     0.83884,     0.83984,\n",
            "           0.84084,     0.84184,     0.84284,     0.84384,     0.84484,     0.84585,     0.84685,     0.84785,     0.84885,     0.84985,     0.85085,     0.85185,     0.85285,     0.85385,     0.85485,     0.85586,     0.85686,     0.85786,     0.85886,     0.85986,     0.86086,     0.86186,     0.86286,     0.86386,\n",
            "           0.86486,     0.86587,     0.86687,     0.86787,     0.86887,     0.86987,     0.87087,     0.87187,     0.87287,     0.87387,     0.87487,     0.87588,     0.87688,     0.87788,     0.87888,     0.87988,     0.88088,     0.88188,     0.88288,     0.88388,     0.88488,     0.88589,     0.88689,     0.88789,\n",
            "           0.88889,     0.88989,     0.89089,     0.89189,     0.89289,     0.89389,     0.89489,      0.8959,      0.8969,      0.8979,      0.8989,      0.8999,      0.9009,      0.9019,      0.9029,      0.9039,      0.9049,     0.90591,     0.90691,     0.90791,     0.90891,     0.90991,     0.91091,     0.91191,\n",
            "           0.91291,     0.91391,     0.91491,     0.91592,     0.91692,     0.91792,     0.91892,     0.91992,     0.92092,     0.92192,     0.92292,     0.92392,     0.92492,     0.92593,     0.92693,     0.92793,     0.92893,     0.92993,     0.93093,     0.93193,     0.93293,     0.93393,     0.93493,     0.93594,\n",
            "           0.93694,     0.93794,     0.93894,     0.93994,     0.94094,     0.94194,     0.94294,     0.94394,     0.94494,     0.94595,     0.94695,     0.94795,     0.94895,     0.94995,     0.95095,     0.95195,     0.95295,     0.95395,     0.95495,     0.95596,     0.95696,     0.95796,     0.95896,     0.95996,\n",
            "           0.96096,     0.96196,     0.96296,     0.96396,     0.96496,     0.96597,     0.96697,     0.96797,     0.96897,     0.96997,     0.97097,     0.97197,     0.97297,     0.97397,     0.97497,     0.97598,     0.97698,     0.97798,     0.97898,     0.97998,     0.98098,     0.98198,     0.98298,     0.98398,\n",
            "           0.98498,     0.98599,     0.98699,     0.98799,     0.98899,     0.98999,     0.99099,     0.99199,     0.99299,     0.99399,     0.99499,       0.996,       0.997,       0.998,       0.999,           1]), array([[    0.97467,     0.97467,       0.972,     0.97067,     0.96667,     0.96667,     0.96667,     0.96533,     0.96533,     0.96267,     0.96267,     0.96094,        0.96,        0.96,        0.96,        0.96,        0.96,        0.96,        0.96,     0.95867,     0.95867,     0.95733,     0.95733,\n",
            "            0.95733,     0.95635,       0.956,     0.95467,     0.95333,     0.95333,     0.95333,       0.952,       0.952,       0.952,     0.95067,     0.95067,     0.94933,     0.94933,     0.94933,     0.94933,     0.94933,     0.94933,     0.94933,     0.94933,       0.948,       0.948,       0.948,\n",
            "              0.948,       0.948,       0.948,       0.948,       0.948,       0.948,       0.948,       0.948,       0.948,       0.948,       0.948,       0.948,     0.94533,     0.94533,     0.94533,       0.944,       0.944,       0.944,       0.944,       0.944,       0.944,       0.944,      0.9433,\n",
            "            0.94267,     0.94267,     0.94267,     0.94267,     0.94267,     0.94267,     0.94212,     0.94133,     0.94133,     0.94133,     0.94133,     0.94133,        0.94,        0.94,        0.94,        0.94,     0.93867,     0.93867,     0.93867,     0.93867,     0.93867,     0.93803,     0.93733,\n",
            "            0.93733,     0.93733,     0.93733,     0.93733,       0.936,       0.936,       0.936,       0.936,       0.936,       0.936,       0.936,       0.936,       0.936,     0.93467,     0.93467,     0.93467,     0.93467,     0.93467,     0.93467,     0.93467,     0.93467,      0.9342,     0.93351,\n",
            "            0.93333,     0.93333,     0.93333,     0.93333,     0.93333,     0.93333,     0.93333,     0.93333,     0.93333,     0.93333,     0.93333,     0.93279,       0.932,     0.93188,     0.93067,     0.93067,     0.93067,     0.93067,     0.93067,     0.93067,     0.93067,     0.93067,     0.93067,\n",
            "            0.93067,     0.93067,     0.93067,     0.93067,     0.93067,     0.93067,     0.93067,     0.93067,     0.93031,     0.92963,     0.92933,     0.92933,     0.92916,       0.928,       0.928,       0.928,       0.928,       0.928,       0.928,       0.928,       0.928,       0.928,       0.928,\n",
            "            0.92743,     0.92679,     0.92667,     0.92667,     0.92667,     0.92667,     0.92667,     0.92667,     0.92667,     0.92577,       0.924,     0.92399,     0.92381,     0.92363,     0.92345,     0.92327,     0.92309,     0.92292,     0.92274,     0.92133,     0.92133,     0.92133,     0.92133,\n",
            "            0.92069,        0.92,        0.92,     0.91964,     0.91909,     0.91867,     0.91867,     0.91754,       0.916,       0.916,       0.916,       0.916,       0.916,       0.916,       0.916,       0.916,       0.916,       0.916,       0.916,       0.916,       0.916,       0.916,       0.916,\n",
            "              0.916,       0.916,       0.916,       0.916,       0.916,       0.916,     0.91467,     0.91333,     0.91333,     0.91333,     0.91333,     0.91333,     0.91333,     0.91317,     0.91253,       0.912,       0.912,       0.912,       0.912,       0.912,       0.912,       0.912,       0.912,\n",
            "              0.912,       0.912,       0.912,       0.912,       0.912,       0.912,       0.912,       0.912,       0.912,       0.912,       0.912,       0.912,       0.912,       0.912,       0.912,       0.912,     0.91128,     0.91067,     0.91067,     0.91067,     0.91067,     0.91067,     0.91067,\n",
            "            0.91067,     0.91067,     0.91067,     0.91067,     0.91067,     0.91067,     0.91043,     0.91018,     0.90993,     0.90968,     0.90943,     0.90933,     0.90933,     0.90933,     0.90933,     0.90933,     0.90933,     0.90933,     0.90933,     0.90933,     0.90933,     0.90933,     0.90933,\n",
            "            0.90933,     0.90933,     0.90933,     0.90933,     0.90933,     0.90933,     0.90933,     0.90933,     0.90933,     0.90933,     0.90933,     0.90933,     0.90933,     0.90909,     0.90875,     0.90841,     0.90806,       0.908,       0.908,       0.908,       0.908,       0.908,       0.908,\n",
            "              0.908,       0.908,       0.908,       0.908,       0.908,       0.908,       0.908,       0.908,       0.908,     0.90784,     0.90706,     0.90667,     0.90667,     0.90667,     0.90667,     0.90667,     0.90667,     0.90667,     0.90667,     0.90667,     0.90667,     0.90667,     0.90667,\n",
            "            0.90667,     0.90667,     0.90648,     0.90625,     0.90602,     0.90579,     0.90556,     0.90534,     0.90533,     0.90501,     0.90469,     0.90437,     0.90404,     0.90357,     0.90307,     0.90267,     0.90267,     0.90267,     0.90267,     0.90267,     0.90267,     0.90267,     0.90263,\n",
            "            0.90223,     0.90184,     0.90145,     0.90133,     0.90133,     0.90133,     0.90133,     0.90133,     0.90133,     0.90133,     0.90133,     0.90133,     0.90042,     0.89966,     0.89916,     0.89866,     0.89788,     0.89733,     0.89733,     0.89733,     0.89733,     0.89733,     0.89733,\n",
            "            0.89733,     0.89733,     0.89733,     0.89733,     0.89733,     0.89733,     0.89712,     0.89675,     0.89639,     0.89602,       0.896,       0.896,       0.896,       0.896,       0.896,       0.896,       0.896,       0.896,       0.896,       0.896,     0.89566,     0.89516,     0.89466,\n",
            "            0.89421,     0.89375,     0.89333,     0.89333,     0.89333,     0.89333,     0.89333,     0.89324,     0.89304,     0.89284,     0.89264,     0.89243,     0.89223,     0.89203,       0.892,       0.892,       0.892,     0.89172,     0.89067,     0.89067,     0.89067,     0.89067,     0.89067,\n",
            "            0.89067,     0.89067,     0.89067,     0.88933,     0.88933,     0.88933,     0.88832,     0.88762,     0.88712,     0.88667,     0.88667,     0.88667,     0.88667,     0.88667,     0.88663,     0.88648,     0.88632,     0.88617,     0.88601,     0.88585,      0.8857,     0.88554,     0.88539,\n",
            "            0.88533,     0.88533,     0.88533,     0.88533,     0.88533,     0.88533,     0.88533,     0.88533,     0.88533,     0.88533,     0.88533,     0.88533,     0.88533,     0.88533,     0.88533,     0.88533,     0.88533,     0.88533,     0.88533,     0.88533,     0.88533,     0.88533,     0.88468,\n",
            "              0.884,     0.88382,     0.88348,     0.88314,      0.8828,     0.88224,     0.88156,      0.8812,     0.88101,     0.88081,     0.88062,     0.88042,     0.88023,     0.88003,        0.88,     0.87941,     0.87873,     0.87733,     0.87733,     0.87715,     0.87695,     0.87675,     0.87656,\n",
            "            0.87636,     0.87617,       0.876,       0.876,       0.876,       0.876,       0.876,     0.87593,     0.87566,     0.87538,     0.87511,     0.87484,     0.87467,     0.87467,     0.87467,     0.87467,     0.87467,     0.87467,     0.87467,     0.87467,     0.87467,     0.87439,     0.87394,\n",
            "            0.87348,     0.87333,     0.87333,     0.87333,     0.87308,     0.87274,      0.8724,     0.87205,     0.86933,     0.86933,     0.86909,     0.86882,     0.86854,     0.86827,     0.86666,     0.86649,     0.86632,     0.86615,     0.86598,     0.86581,     0.86564,     0.86547,     0.86533,\n",
            "            0.86533,     0.86516,     0.86447,      0.8626,     0.86237,     0.86214,     0.86191,     0.86169,     0.86146,     0.86102,     0.86034,     0.85966,     0.85897,      0.8586,     0.85849,     0.85838,     0.85826,     0.85815,     0.85803,     0.85792,     0.85781,     0.85769,     0.85758,\n",
            "            0.85747,     0.85735,       0.857,     0.85661,     0.85622,     0.85585,     0.85551,     0.85517,     0.85483,     0.85467,     0.85467,     0.85467,     0.85467,     0.85381,     0.85304,     0.85258,     0.85213,     0.85101,     0.85046,     0.85019,     0.84992,     0.84964,     0.84937,\n",
            "            0.84933,     0.84933,     0.84933,     0.84933,     0.84867,     0.84667,     0.84667,     0.84654,     0.84631,     0.84609,     0.84586,     0.84563,      0.8454,     0.84261,     0.84252,     0.84243,     0.84234,     0.84225,     0.84216,     0.84208,     0.84199,      0.8419,     0.84181,\n",
            "            0.84172,     0.84164,     0.84155,     0.84146,     0.84137,     0.84133,     0.84133,     0.84133,     0.84133,     0.84133,     0.84133,     0.84133,      0.8413,     0.84118,     0.84106,     0.84095,     0.84083,     0.84071,     0.84059,     0.84047,     0.84035,     0.84023,     0.84011,\n",
            "            0.83997,     0.83929,     0.83865,      0.8385,     0.83835,      0.8382,     0.83805,     0.83789,     0.83774,     0.83759,     0.83744,     0.83723,     0.83689,     0.83654,      0.8362,     0.83593,     0.83574,     0.83556,     0.83538,      0.8352,     0.83501,     0.83483,     0.83466,\n",
            "            0.83455,     0.83444,     0.83433,     0.83422,     0.83411,       0.834,     0.83389,     0.83378,     0.83367,     0.83356,     0.83345,     0.83334,      0.8332,     0.83305,     0.83289,     0.83274,     0.83259,     0.83244,     0.83229,     0.83213,       0.832,       0.832,       0.832,\n",
            "              0.832,       0.832,       0.832,     0.83132,     0.83067,     0.83067,     0.83067,     0.83067,     0.83067,     0.83067,     0.83067,     0.83067,     0.83067,     0.83067,     0.83064,     0.82996,       0.828,       0.828,     0.82776,     0.82736,     0.82697,     0.82528,       0.825,\n",
            "            0.82473,     0.82446,     0.82418,     0.82267,     0.82267,     0.82116,      0.8207,     0.82025,     0.81982,     0.81943,     0.81904,     0.81865,     0.81826,     0.81787,     0.81748,     0.81676,     0.81585,     0.81494,     0.81458,     0.81446,     0.81435,     0.81423,     0.81411,\n",
            "            0.81399,     0.81387,     0.81375,     0.81363,     0.81351,      0.8134,       0.813,     0.81232,       0.812,       0.812,       0.812,     0.81145,     0.81063,     0.81036,     0.81008,     0.80981,     0.80954,     0.80788,     0.80743,     0.80697,     0.80636,     0.80545,     0.80533,\n",
            "            0.80533,     0.80533,      0.8049,     0.80445,     0.80265,     0.80174,     0.80133,     0.80133,     0.80133,     0.80127,     0.80081,     0.80036,     0.79981,     0.79889,     0.79665,       0.796,       0.796,       0.796,       0.796,       0.796,       0.796,     0.79341,     0.79296,\n",
            "            0.79257,     0.79218,     0.79176,      0.7913,     0.79085,     0.79067,     0.79054,     0.78963,     0.78738,     0.78528,     0.78503,     0.78478,     0.78453,     0.78429,     0.78404,       0.784,     0.78365,     0.78274,     0.78133,     0.78133,     0.78111,     0.78066,      0.7802,\n",
            "            0.77924,     0.77814,     0.77723,     0.77632,       0.776,     0.77405,     0.77314,     0.77223,     0.77026,     0.76971,     0.76933,     0.76933,     0.76933,     0.76933,     0.76644,      0.7659,     0.76535,     0.76347,     0.76292,     0.76218,     0.76124,     0.75992,       0.759,\n",
            "            0.75695,     0.75467,     0.75467,     0.75455,       0.754,     0.75346,     0.75158,     0.75103,      0.7492,     0.74881,     0.74842,     0.74803,     0.74716,     0.74604,     0.74467,     0.74354,     0.74133,     0.74133,     0.73992,       0.739,     0.73647,       0.736,      0.7303,\n",
            "            0.72975,     0.72926,     0.72896,     0.72865,     0.72835,     0.72805,     0.72684,     0.72414,     0.72244,     0.72219,     0.72195,      0.7217,     0.72145,     0.71527,     0.71295,     0.71227,     0.70634,     0.70579,     0.70392,     0.70347,     0.70301,     0.70256,      0.7021,\n",
            "            0.70165,     0.70133,     0.70087,      0.6995,     0.69814,     0.69544,     0.69274,     0.69035,     0.68967,      0.6893,     0.68533,      0.6839,     0.68262,     0.68217,     0.68171,      0.6811,     0.67681,     0.67237,       0.671,     0.66882,     0.66814,     0.66357,      0.6622,\n",
            "            0.65817,     0.65627,     0.65344,      0.6494,     0.64537,     0.63934,     0.63264,     0.62527,     0.62257,     0.61974,      0.6125,     0.60714,     0.60244,     0.60081,     0.59504,       0.591,     0.58497,     0.58321,     0.57757,      0.5702,     0.56434,     0.56147,      0.5541,\n",
            "            0.54547,     0.54404,       0.538,     0.52927,     0.52594,      0.5199,     0.51307,      0.5065,     0.50227,      0.4951,     0.48267,     0.47504,     0.46201,      0.4583,     0.45121,     0.44624,     0.43907,     0.42701,     0.42147,     0.41221,     0.39881,     0.39604,     0.38801,\n",
            "            0.36264,     0.35454,     0.34647,     0.33174,     0.32101,     0.31247,      0.2982,      0.2848,     0.27274,     0.26067,      0.2526,     0.23387,     0.22314,     0.21107,     0.20034,     0.19227,      0.1842,      0.1708,     0.16804,     0.14667,     0.13194,     0.12254,     0.10914,\n",
            "            0.09307,    0.081004,    0.063802,    0.059537,     0.05547,     0.05007,     0.04467,     0.03527,    0.031203,    0.023136,    0.017736,   0.0096697,   0.0069363,   0.0061014,   0.0049343,   0.0040231,   0.0024005,   0.0018539,           0,           0,           0,           0,           0,\n",
            "                  0,           0,           0,           0,           0,           0,           0,           0,           0,           0,           0,           0,           0,           0,           0,           0,           0,           0,           0,           0,           0,           0,           0,\n",
            "                  0,           0,           0,           0,           0,           0,           0,           0,           0,           0,           0]]), 'Confidence', 'Recall']]\n",
            "fitness: 0.7536778891847259\n",
            "keys: ['metrics/precision(B)', 'metrics/recall(B)', 'metrics/mAP50(B)', 'metrics/mAP50-95(B)']\n",
            "maps: array([    0.73328,     0.73328])\n",
            "names: {0: 'car', 1: 'bus'}\n",
            "plot: True\n",
            "results_dict: {'metrics/precision(B)': 0.911888576804587, 'metrics/recall(B)': 0.8831378044711379, 'metrics/mAP50(B)': 0.9372649193343705, 'metrics/mAP50-95(B)': 0.7332793302792098, 'fitness': 0.7536778891847259}\n",
            "save_dir: PosixPath('runs/detect/train')\n",
            "speed: {'preprocess': 0.4070166385535038, 'inference': 3.461811277601454, 'loss': 0.0009608991218335701, 'postprocess': 4.820982615152995}\n",
            "task: 'detect'\n"
          ]
        }
      ]
    },
    {
      "cell_type": "code",
      "source": [
        "import locale\n",
        "locale.getpreferredencoding = lambda: \"UTF-8\"\n",
        "!cp -r runs/ /datasets\n",
        "!ls -ahl runs/detect/train\n",
        "!ls -ahl /datasets"
      ],
      "metadata": {
        "id": "33qi5PBjSAz8",
        "outputId": "d1534499-4abc-45d7-8b2e-0b8e48eeb839",
        "colab": {
          "base_uri": "https://localhost:8080/"
        }
      },
      "id": "33qi5PBjSAz8",
      "execution_count": 5,
      "outputs": [
        {
          "output_type": "stream",
          "name": "stdout",
          "text": [
            "total 6.8M\n",
            "drwxr-xr-x 3 root root 4.0K Dec 22 16:00 .\n",
            "drwxr-xr-x 3 root root 4.0K Dec 22 15:33 ..\n",
            "-rw-r--r-- 1 root root 1.5K Dec 22 15:33 args.yaml\n",
            "-rw-r--r-- 1 root root  90K Dec 22 16:00 confusion_matrix_normalized.png\n",
            "-rw-r--r-- 1 root root  90K Dec 22 16:00 confusion_matrix.png\n",
            "-rw-r--r-- 1 root root 371K Dec 22 16:01 events.out.tfevents.1703259198.4a85aa347d98.1657.0\n",
            "-rw-r--r-- 1 root root  92K Dec 22 16:00 F1_curve.png\n",
            "-rw-r--r-- 1 root root 225K Dec 22 15:33 labels_correlogram.jpg\n",
            "-rw-r--r-- 1 root root 142K Dec 22 15:33 labels.jpg\n",
            "-rw-r--r-- 1 root root  92K Dec 22 16:00 P_curve.png\n",
            "-rw-r--r-- 1 root root  84K Dec 22 16:00 PR_curve.png\n",
            "-rw-r--r-- 1 root root  93K Dec 22 16:00 R_curve.png\n",
            "-rw-r--r-- 1 root root  34K Dec 22 16:00 results.csv\n",
            "-rw-r--r-- 1 root root 307K Dec 22 16:00 results.png\n",
            "-rw-r--r-- 1 root root 484K Dec 22 15:33 train_batch0.jpg\n",
            "-rw-r--r-- 1 root root 534K Dec 22 15:33 train_batch1.jpg\n",
            "-rw-r--r-- 1 root root 448K Dec 22 15:58 train_batch2880.jpg\n",
            "-rw-r--r-- 1 root root 445K Dec 22 15:58 train_batch2881.jpg\n",
            "-rw-r--r-- 1 root root 419K Dec 22 15:58 train_batch2882.jpg\n",
            "-rw-r--r-- 1 root root 518K Dec 22 15:33 train_batch2.jpg\n",
            "-rw-r--r-- 1 root root 380K Dec 22 16:00 val_batch0_labels.jpg\n",
            "-rw-r--r-- 1 root root 403K Dec 22 16:00 val_batch0_pred.jpg\n",
            "-rw-r--r-- 1 root root 379K Dec 22 16:00 val_batch1_labels.jpg\n",
            "-rw-r--r-- 1 root root 390K Dec 22 16:00 val_batch1_pred.jpg\n",
            "-rw-r--r-- 1 root root 412K Dec 22 16:00 val_batch2_labels.jpg\n",
            "-rw-r--r-- 1 root root 442K Dec 22 16:00 val_batch2_pred.jpg\n",
            "drwxr-xr-x 2 root root 4.0K Dec 22 15:33 weights\n",
            "lrwxrwxrwx 1 root root 33 Dec 22 15:32 /datasets -> '/content/gdrive/My Drive/datasets'\n"
          ]
        }
      ]
    }
  ],
  "metadata": {
    "kernelspec": {
      "display_name": "Python 3",
      "name": "python3"
    },
    "language_info": {
      "codemirror_mode": {
        "name": "ipython",
        "version": 2
      },
      "file_extension": ".py",
      "mimetype": "text/x-python",
      "name": "python",
      "nbconvert_exporter": "python",
      "pygments_lexer": "ipython2",
      "version": "2.7.6"
    },
    "colab": {
      "provenance": [],
      "gpuType": "T4"
    },
    "accelerator": "GPU"
  },
  "nbformat": 4,
  "nbformat_minor": 5
}